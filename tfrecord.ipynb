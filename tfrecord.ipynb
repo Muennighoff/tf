{
  "nbformat": 4,
  "nbformat_minor": 0,
  "metadata": {
    "colab": {
      "name": "tfrecord.ipynb",
      "provenance": [],
      "collapsed_sections": [
        "pL--_KGdYoBz"
      ],
      "toc_visible": true
    },
    "kernelspec": {
      "display_name": "Python 3",
      "name": "python3"
    }
  },
  "cells": [
    {
      "cell_type": "markdown",
      "metadata": {
        "id": "pL--_KGdYoBz"
      },
      "source": [
        "##### Copyright 2019 The TensorFlow Authors."
      ]
    },
    {
      "cell_type": "code",
      "metadata": {
        "cellView": "form",
        "id": "uBDvXpYzYnGj"
      },
      "source": [
        "#@title Licensed under the Apache License, Version 2.0 (the \"License\");\n",
        "# you may not use this file except in compliance with the License.\n",
        "# You may obtain a copy of the License at\n",
        "#\n",
        "# https://www.apache.org/licenses/LICENSE-2.0\n",
        "#\n",
        "# Unless required by applicable law or agreed to in writing, software\n",
        "# distributed under the License is distributed on an \"AS IS\" BASIS,\n",
        "# WITHOUT WARRANTIES OR CONDITIONS OF ANY KIND, either express or implied.\n",
        "# See the License for the specific language governing permissions and\n",
        "# limitations under the License."
      ],
      "execution_count": null,
      "outputs": []
    },
    {
      "cell_type": "markdown",
      "metadata": {
        "id": "HQzaEQuJiW_d"
      },
      "source": [
        "# TFRecord and tf.train.Example\n",
        "\n",
        "<table class=\"tfo-notebook-buttons\" align=\"left\">\n",
        "  <td>\n",
        "    <a target=\"_blank\" href=\"https://www.tensorflow.org/tutorials/load_data/tfrecord\"><img src=\"https://www.tensorflow.org/images/tf_logo_32px.png\" />View on TensorFlow.org</a>\n",
        "  </td>\n",
        "  <td>\n",
        "    <a target=\"_blank\" href=\"https://colab.research.google.com/github/tensorflow/docs/blob/master/site/en/tutorials/load_data/tfrecord.ipynb\"><img src=\"https://www.tensorflow.org/images/colab_logo_32px.png\" />Run in Google Colab</a>\n",
        "  </td>\n",
        "  <td>\n",
        "    <a target=\"_blank\" href=\"https://github.com/tensorflow/docs/blob/master/site/en/tutorials/load_data/tfrecord.ipynb\"><img src=\"https://www.tensorflow.org/images/GitHub-Mark-32px.png\" />View source on GitHub</a>\n",
        "  </td>\n",
        "  <td>\n",
        "    <a href=\"https://storage.googleapis.com/tensorflow_docs/docs/site/en/tutorials/load_data/tfrecord.ipynb\"><img src=\"https://www.tensorflow.org/images/download_logo_32px.png\" />Download notebook</a>\n",
        "  </td>\n",
        "</table>"
      ]
    },
    {
      "cell_type": "markdown",
      "metadata": {
        "id": "3pkUd_9IZCFO"
      },
      "source": [
        "The TFRecord format is a simple format for storing a sequence of binary records.\n",
        "\n",
        "[Protocol buffers](https://developers.google.com/protocol-buffers/) are a cross-platform, cross-language library for efficient serialization of structured data.\n",
        "\n",
        "Protocol messages are defined by `.proto` files, these are often the easiest way to understand a message type.\n",
        "\n",
        "The `tf.train.Example` message (or protobuf) is a flexible message type that represents a `{\"string\": value}` mapping. It is designed for use with TensorFlow and is used throughout the higher-level APIs such as [TFX](https://www.tensorflow.org/tfx/)."
      ]
    },
    {
      "cell_type": "code",
      "metadata": {
        "id": "haddpZkRRLPe"
      },
      "source": [
        "### > TFX == TensorFlow for Production - \"An extended TF for end-to-end pipelines\"\r\n",
        "\r\n",
        "### tf.train.Example  seems to be a type of protocal buffer, i.e. file cross-prog.language file format"
      ],
      "execution_count": null,
      "outputs": []
    },
    {
      "cell_type": "markdown",
      "metadata": {
        "id": "Ac83J0QxjhFt"
      },
      "source": [
        "This notebook will demonstrate how to create, parse, and use the `tf.train.Example` message, and then serialize, write, and read `tf.train.Example` messages to and from `.tfrecord` files.\n",
        "\n",
        "Note: While useful, these structures are optional. There is no need to convert existing code to use TFRecords, unless you are using [`tf.data`](https://www.tensorflow.org/guide/datasets) and reading data is still the bottleneck to training. See [Data Input Pipeline Performance](https://www.tensorflow.org/guide/performance/datasets) for dataset performance tips.\n",
        "\n",
        "Note: In general, you should shard your data across multiple files so that you can parallelize I/O (within a single host or across multiple hosts). The rule of thumb is to have at least 10 times as many files as there will be hosts reading data. At the same time, each file should be large enough (at least 10+MB and ideally 100MB+) so that you benefit from I/O prefetching. For example, say you have `X` GBs of data and you plan to train on up to `N` hosts. Ideally, you should shard the data to ~`10*N` files, as long as ~`X/(10*N)` is 10+ MBs (and ideally 100+ MBs). If it is less than that, you might need to create fewer shards to trade off parallelism benefits and I/O prefetching benefits."
      ]
    },
    {
      "cell_type": "code",
      "metadata": {
        "id": "Lkz4d72eS8f9"
      },
      "source": [
        "### > 10 * N files & X / (10 * N) > 10 MB (ideally 100 MB)"
      ],
      "execution_count": null,
      "outputs": []
    },
    {
      "cell_type": "markdown",
      "metadata": {
        "id": "WkRreBf1eDVc"
      },
      "source": [
        "## Setup"
      ]
    },
    {
      "cell_type": "code",
      "metadata": {
        "id": "Ja7sezsmnXph"
      },
      "source": [
        "import tensorflow as tf\n",
        "\n",
        "import numpy as np\n",
        "import IPython.display as display"
      ],
      "execution_count": 3,
      "outputs": []
    },
    {
      "cell_type": "markdown",
      "metadata": {
        "id": "e5Kq88ccUWQV"
      },
      "source": [
        "## `tf.train.Example`"
      ]
    },
    {
      "cell_type": "markdown",
      "metadata": {
        "id": "VrdQHgvNijTi"
      },
      "source": [
        "### Data types for `tf.train.Example`"
      ]
    },
    {
      "cell_type": "markdown",
      "metadata": {
        "id": "lZw57Qrn4CTE"
      },
      "source": [
        "Fundamentally, a `tf.train.Example` is a `{\"string\": tf.train.Feature}` mapping.\n",
        "\n",
        "The `tf.train.Feature` message type can accept one of the following three types (See the [`.proto` file](https://github.com/tensorflow/tensorflow/blob/master/tensorflow/core/example/feature.proto) for reference). Most other generic types can be coerced into one of these:\n",
        "\n",
        "1. `tf.train.BytesList` (the following types can be coerced)\n",
        "\n",
        "  - `string`\n",
        "  - `byte`\n",
        "\n",
        "1. `tf.train.FloatList` (the following types can be coerced)\n",
        "\n",
        "  - `float` (`float32`)\n",
        "  - `double` (`float64`)\n",
        "\n",
        "1. `tf.train.Int64List` (the following types can be coerced)\n",
        "\n",
        "  - `bool`\n",
        "  - `enum`\n",
        "  - `int32`\n",
        "  - `uint32`\n",
        "  - `int64`\n",
        "  - `uint64`"
      ]
    },
    {
      "cell_type": "markdown",
      "metadata": {
        "id": "_e3g9ExathXP"
      },
      "source": [
        "In order to convert a standard TensorFlow type to a `tf.train.Example`-compatible `tf.train.Feature`, you can use the shortcut functions below. Note that each function takes a scalar input value and returns a `tf.train.Feature` containing one of the three `list` types above:"
      ]
    },
    {
      "cell_type": "code",
      "metadata": {
        "id": "mbsPOUpVtYxA"
      },
      "source": [
        "# The following functions can be used to convert a value to a type compatible\n",
        "# with tf.train.Example.\n",
        "\n",
        "def _bytes_feature(value):\n",
        "  \"\"\"Returns a bytes_list from a string / byte.\"\"\"\n",
        "  if isinstance(value, type(tf.constant(0))):\n",
        "    value = value.numpy() # BytesList won't unpack a string from an EagerTensor.\n",
        "  return tf.train.Feature(bytes_list=tf.train.BytesList(value=[value]))\n",
        "\n",
        "def _float_feature(value):\n",
        "  \"\"\"Returns a float_list from a float / double.\"\"\"\n",
        "  return tf.train.Feature(float_list=tf.train.FloatList(value=[value]))\n",
        "\n",
        "def _int64_feature(value):\n",
        "  \"\"\"Returns an int64_list from a bool / enum / int / uint.\"\"\"\n",
        "  return tf.train.Feature(int64_list=tf.train.Int64List(value=[value]))"
      ],
      "execution_count": 4,
      "outputs": []
    },
    {
      "cell_type": "markdown",
      "metadata": {
        "id": "Wst0v9O8hgzy"
      },
      "source": [
        "Note: To stay simple, this example only uses scalar inputs. The simplest way to handle non-scalar features is to use `tf.io.serialize_tensor` to convert tensors to binary-strings. Strings are scalars in tensorflow. Use `tf.io.parse_tensor` to convert the binary-string back to a tensor."
      ]
    },
    {
      "cell_type": "markdown",
      "metadata": {
        "id": "vsMbkkC8xxtB"
      },
      "source": [
        "Below are some examples of how these functions work. Note the varying input types and the standardized output types. If the input type for a function does not match one of the coercible types stated above, the function will raise an exception (e.g. `_int64_feature(1.0)` will error out, since `1.0` is a float, so should be used with the `_float_feature` function instead):"
      ]
    },
    {
      "cell_type": "code",
      "metadata": {
        "id": "hZzyLGr0u73y",
        "outputId": "58676105-0229-4906-c6db-d63fc205537a",
        "colab": {
          "base_uri": "https://localhost:8080/"
        }
      },
      "source": [
        "print(_bytes_feature(b'test_string')) # > b means byte\n",
        "print(_bytes_feature(u'test_bytes'.encode('utf-8'))) # > u means unicode\n",
        "\n",
        "print(_float_feature(np.exp(1)))\n",
        "\n",
        "print(_int64_feature(True))\n",
        "print(_int64_feature(1))"
      ],
      "execution_count": 5,
      "outputs": [
        {
          "output_type": "stream",
          "text": [
            "bytes_list {\n",
            "  value: \"test_string\"\n",
            "}\n",
            "\n",
            "bytes_list {\n",
            "  value: \"test_bytes\"\n",
            "}\n",
            "\n",
            "float_list {\n",
            "  value: 2.7182817459106445\n",
            "}\n",
            "\n",
            "int64_list {\n",
            "  value: 1\n",
            "}\n",
            "\n",
            "int64_list {\n",
            "  value: 1\n",
            "}\n",
            "\n"
          ],
          "name": "stdout"
        }
      ]
    },
    {
      "cell_type": "markdown",
      "metadata": {
        "id": "nj1qpfQU5qmi"
      },
      "source": [
        "All proto messages can be serialized to a binary-string using the `.SerializeToString` method:"
      ]
    },
    {
      "cell_type": "code",
      "metadata": {
        "id": "5afZkORT5pjm",
        "outputId": "452492a3-7edf-4695-c951-15e3e4a9f581",
        "colab": {
          "base_uri": "https://localhost:8080/"
        }
      },
      "source": [
        "feature = _float_feature(np.exp(1))\n",
        "\n",
        "feature.SerializeToString()"
      ],
      "execution_count": 6,
      "outputs": [
        {
          "output_type": "execute_result",
          "data": {
            "text/plain": [
              "b'\\x12\\x06\\n\\x04T\\xf8-@'"
            ]
          },
          "metadata": {
            "tags": []
          },
          "execution_count": 6
        }
      ]
    },
    {
      "cell_type": "markdown",
      "metadata": {
        "id": "laKnw9F3hL-W"
      },
      "source": [
        "### Creating a `tf.train.Example` message"
      ]
    },
    {
      "cell_type": "markdown",
      "metadata": {
        "id": "b_MEnhxchQPC"
      },
      "source": [
        "Suppose you want to create a `tf.train.Example` message from existing data. In practice, the dataset may come from anywhere, but the procedure of creating the `tf.train.Example` message from a single observation will be the same:\n",
        "\n",
        "1. Within each observation, each value needs to be converted to a `tf.train.Feature` containing one of the 3 compatible types, using one of the functions above.\n",
        "\n",
        "1. You create a map (dictionary) from the feature name string to the encoded feature value produced in #1.\n",
        "\n",
        "1. The map produced in step 2 is converted to a [`Features` message](https://github.com/tensorflow/tensorflow/blob/master/tensorflow/core/example/feature.proto#L85)."
      ]
    },
    {
      "cell_type": "markdown",
      "metadata": {
        "id": "4EgFQ2uHtchc"
      },
      "source": [
        "In this notebook, you will create a dataset using NumPy.\n",
        "\n",
        "This dataset will have 4 features:\n",
        "\n",
        "* a boolean feature, `False` or `True` with equal probability\n",
        "* an integer feature uniformly randomly chosen from `[0, 5]`\n",
        "* a string feature generated from a string table by using the integer feature as an index\n",
        "* a float feature from a standard normal distribution\n",
        "\n",
        "Consider a sample consisting of 10,000 independently and identically distributed observations from each of the above distributions:"
      ]
    },
    {
      "cell_type": "code",
      "metadata": {
        "id": "CnrguFAy3YQv"
      },
      "source": [
        "# The number of observations in the dataset.\n",
        "n_observations = int(1e4)\n",
        "\n",
        "# Boolean feature, encoded as False or True.\n",
        "feature0 = np.random.choice([False, True], n_observations)\n",
        "\n",
        "# Integer feature, random from 0 to 4.\n",
        "feature1 = np.random.randint(0, 5, n_observations)\n",
        "\n",
        "# String feature\n",
        "strings = np.array([b'cat', b'dog', b'chicken', b'horse', b'goat'])\n",
        "feature2 = strings[feature1]\n",
        "\n",
        "# Float feature, from a standard normal distribution\n",
        "feature3 = np.random.randn(n_observations)"
      ],
      "execution_count": 7,
      "outputs": []
    },
    {
      "cell_type": "code",
      "metadata": {
        "id": "2PnmeBAf6LHn",
        "outputId": "24fea873-5907-42be-ce65-f485327cb1fd",
        "colab": {
          "base_uri": "https://localhost:8080/"
        }
      },
      "source": [
        "x = np.random.randint(0, 1, 1000)\r\n",
        "y = np.array([1])\r\n",
        "z = y[x]\r\n",
        "z.shape # > Broadcasts it to be 1000 1's"
      ],
      "execution_count": 11,
      "outputs": [
        {
          "output_type": "execute_result",
          "data": {
            "text/plain": [
              "(1000,)"
            ]
          },
          "metadata": {
            "tags": []
          },
          "execution_count": 11
        }
      ]
    },
    {
      "cell_type": "code",
      "metadata": {
        "id": "L-wdpbAc6CCP",
        "outputId": "c35a5d1a-4e6e-4aae-8fa8-9a10e528e0b9",
        "colab": {
          "base_uri": "https://localhost:8080/"
        }
      },
      "source": [
        "feature2.shape"
      ],
      "execution_count": 12,
      "outputs": [
        {
          "output_type": "execute_result",
          "data": {
            "text/plain": [
              "(10000,)"
            ]
          },
          "metadata": {
            "tags": []
          },
          "execution_count": 12
        }
      ]
    },
    {
      "cell_type": "markdown",
      "metadata": {
        "id": "aGrscehJr7Jd"
      },
      "source": [
        "Each of these features can be coerced into a `tf.train.Example`-compatible type using one of `_bytes_feature`, `_float_feature`, `_int64_feature`. You can then create a `tf.train.Example` message from these encoded features:"
      ]
    },
    {
      "cell_type": "code",
      "metadata": {
        "id": "RTCS49Ij_kUw"
      },
      "source": [
        "def serialize_example(feature0, feature1, feature2, feature3):\n",
        "  \"\"\"\n",
        "  Creates a tf.train.Example message ready to be written to a file.\n",
        "  \"\"\"\n",
        "  # Create a dictionary mapping the feature name to the tf.train.Example-compatible\n",
        "  # data type.\n",
        "  feature = {\n",
        "      'feature0': _int64_feature(feature0),\n",
        "      'feature1': _int64_feature(feature1),\n",
        "      'feature2': _bytes_feature(feature2),\n",
        "      'feature3': _float_feature(feature3),\n",
        "  }\n",
        "\n",
        "  # Create a Features message using tf.train.Example.\n",
        "\n",
        "  example_proto = tf.train.Example(features=tf.train.Features(feature=feature))\n",
        "  return example_proto.SerializeToString()"
      ],
      "execution_count": 13,
      "outputs": []
    },
    {
      "cell_type": "markdown",
      "metadata": {
        "id": "XftzX9CN_uGT"
      },
      "source": [
        "For example, suppose you have a single observation from the dataset, `[False, 4, bytes('goat'), 0.9876]`. You can create and print the `tf.train.Example` message for this observation using `create_message()`. Each single observation will be written as a `Features` message as per the above. Note that the `tf.train.Example` [message](https://github.com/tensorflow/tensorflow/blob/master/tensorflow/core/example/example.proto#L88) is just a wrapper around the `Features` message:"
      ]
    },
    {
      "cell_type": "code",
      "metadata": {
        "id": "N8BtSx2RjYcb",
        "outputId": "0edc911a-0529-4272-e4d6-1ebc95091c71",
        "colab": {
          "base_uri": "https://localhost:8080/"
        }
      },
      "source": [
        "# This is an example observation from the dataset.\n",
        "\n",
        "example_observation = []\n",
        "\n",
        "serialized_example = serialize_example(False, 4, b'goat', 0.9876)\n",
        "serialized_example"
      ],
      "execution_count": 14,
      "outputs": [
        {
          "output_type": "execute_result",
          "data": {
            "text/plain": [
              "b'\\nR\\n\\x11\\n\\x08feature1\\x12\\x05\\x1a\\x03\\n\\x01\\x04\\n\\x14\\n\\x08feature2\\x12\\x08\\n\\x06\\n\\x04goat\\n\\x14\\n\\x08feature3\\x12\\x08\\x12\\x06\\n\\x04[\\xd3|?\\n\\x11\\n\\x08feature0\\x12\\x05\\x1a\\x03\\n\\x01\\x00'"
            ]
          },
          "metadata": {
            "tags": []
          },
          "execution_count": 14
        }
      ]
    },
    {
      "cell_type": "markdown",
      "metadata": {
        "id": "_pbGATlG6u-4"
      },
      "source": [
        "To decode the message use the `tf.train.Example.FromString` method."
      ]
    },
    {
      "cell_type": "code",
      "metadata": {
        "id": "dGim-mEm6vit",
        "outputId": "d5bec4de-73d9-4dc2-df3d-6e4aa82f0df4",
        "colab": {
          "base_uri": "https://localhost:8080/"
        }
      },
      "source": [
        "example_proto = tf.train.Example.FromString(serialized_example)\n",
        "example_proto"
      ],
      "execution_count": 15,
      "outputs": [
        {
          "output_type": "execute_result",
          "data": {
            "text/plain": [
              "features {\n",
              "  feature {\n",
              "    key: \"feature0\"\n",
              "    value {\n",
              "      int64_list {\n",
              "        value: 0\n",
              "      }\n",
              "    }\n",
              "  }\n",
              "  feature {\n",
              "    key: \"feature1\"\n",
              "    value {\n",
              "      int64_list {\n",
              "        value: 4\n",
              "      }\n",
              "    }\n",
              "  }\n",
              "  feature {\n",
              "    key: \"feature2\"\n",
              "    value {\n",
              "      bytes_list {\n",
              "        value: \"goat\"\n",
              "      }\n",
              "    }\n",
              "  }\n",
              "  feature {\n",
              "    key: \"feature3\"\n",
              "    value {\n",
              "      float_list {\n",
              "        value: 0.9876000285148621\n",
              "      }\n",
              "    }\n",
              "  }\n",
              "}"
            ]
          },
          "metadata": {
            "tags": []
          },
          "execution_count": 15
        }
      ]
    },
    {
      "cell_type": "markdown",
      "metadata": {
        "id": "o6qxofy89obI"
      },
      "source": [
        "## TFRecords format details\n",
        "\n",
        "A TFRecord file contains a sequence of records. The file can only be read sequentially.\n",
        "\n",
        "Each record contains a byte-string, for the data-payload, plus the data-length, and  CRC32C (32-bit CRC using the Castagnoli polynomial) hashes for integrity checking.\n",
        "\n",
        "Each record is stored in the following formats:\n",
        "\n",
        "    uint64 length\n",
        "    uint32 masked_crc32_of_length\n",
        "    byte   data[length]\n",
        "    uint32 masked_crc32_of_data\n",
        "\n",
        "The records are concatenated together to produce the file. CRCs are\n",
        "[described here](https://en.wikipedia.org/wiki/Cyclic_redundancy_check), and\n",
        "the mask of a CRC is:\n",
        "\n",
        "    masked_crc = ((crc >> 15) | (crc << 17)) + 0xa282ead8ul\n"
      ]
    },
    {
      "cell_type": "markdown",
      "metadata": {
        "id": "-0iHagLQCJv6"
      },
      "source": [
        "Note: There is no requirement to use `tf.train.Example` in TFRecord files. `tf.train.Example` is just a method of serializing dictionaries to byte-strings. Any byte-string that can be decoded in TensorFlow could be stored in a TFRecord file. Examples include: Lines of text, JSON (using `tf.io.decode_json_example`), encoded image data, or serialized `tf.Tensors` (using `tf.io.serialize_tensor`/`tf.io.parse_tensor`). See the `tf.io` module for more options."
      ]
    },
    {
      "cell_type": "markdown",
      "metadata": {
        "id": "y-Hjmee-fbLH"
      },
      "source": [
        "## TFRecord files using `tf.data`"
      ]
    },
    {
      "cell_type": "markdown",
      "metadata": {
        "id": "GmehkCCT81Ez"
      },
      "source": [
        "The `tf.data` module also provides tools for reading and writing data in TensorFlow."
      ]
    },
    {
      "cell_type": "markdown",
      "metadata": {
        "id": "1FISEuz8ubu3"
      },
      "source": [
        "### Writing a TFRecord file\n",
        "\n",
        "The easiest way to get the data into a dataset is to use the `from_tensor_slices` method.\n",
        "\n",
        "Applied to an array, it returns a dataset of scalars:"
      ]
    },
    {
      "cell_type": "code",
      "metadata": {
        "id": "mXeaukvwu5_-",
        "outputId": "1470ea38-f4b7-41f5-b52f-5836edf06899",
        "colab": {
          "base_uri": "https://localhost:8080/"
        }
      },
      "source": [
        "tf.data.Dataset.from_tensor_slices(feature1)"
      ],
      "execution_count": 16,
      "outputs": [
        {
          "output_type": "execute_result",
          "data": {
            "text/plain": [
              "<TensorSliceDataset shapes: (), types: tf.int64>"
            ]
          },
          "metadata": {
            "tags": []
          },
          "execution_count": 16
        }
      ]
    },
    {
      "cell_type": "markdown",
      "metadata": {
        "id": "f-q0VKyZvcad"
      },
      "source": [
        "Applied to a tuple of arrays, it returns a dataset of tuples:"
      ]
    },
    {
      "cell_type": "code",
      "metadata": {
        "id": "H5sWyu1kxnvg",
        "outputId": "0c02fcd4-0888-416d-8c91-ba746a7746d7",
        "colab": {
          "base_uri": "https://localhost:8080/"
        }
      },
      "source": [
        "features_dataset = tf.data.Dataset.from_tensor_slices((feature0, feature1, feature2, feature3))\n",
        "features_dataset"
      ],
      "execution_count": 17,
      "outputs": [
        {
          "output_type": "execute_result",
          "data": {
            "text/plain": [
              "<TensorSliceDataset shapes: ((), (), (), ()), types: (tf.bool, tf.int64, tf.string, tf.float64)>"
            ]
          },
          "metadata": {
            "tags": []
          },
          "execution_count": 17
        }
      ]
    },
    {
      "cell_type": "code",
      "metadata": {
        "id": "m1C-t71Nywze",
        "outputId": "b7b266f6-176e-4c15-d348-9679bf5fa363",
        "colab": {
          "base_uri": "https://localhost:8080/"
        }
      },
      "source": [
        "# Use `take(1)` to only pull one example from the dataset.\n",
        "for f0,f1,f2,f3 in features_dataset.take(1):\n",
        "  print(f0)\n",
        "  print(f1)\n",
        "  print(f2)\n",
        "  print(f3)"
      ],
      "execution_count": 18,
      "outputs": [
        {
          "output_type": "stream",
          "text": [
            "tf.Tensor(False, shape=(), dtype=bool)\n",
            "tf.Tensor(1, shape=(), dtype=int64)\n",
            "tf.Tensor(b'dog', shape=(), dtype=string)\n",
            "tf.Tensor(-0.6850024425420643, shape=(), dtype=float64)\n"
          ],
          "name": "stdout"
        }
      ]
    },
    {
      "cell_type": "markdown",
      "metadata": {
        "id": "mhIe63awyZYd"
      },
      "source": [
        "Use the `tf.data.Dataset.map` method to apply a function to each element of a `Dataset`.\n",
        "\n",
        "The mapped function must operate in TensorFlow graph mode—it must operate on and return `tf.Tensors`. A non-tensor function, like `serialize_example`, can be wrapped with `tf.py_function` to make it compatible.\n",
        "\n",
        "Using `tf.py_function` requires to specify the shape and type information that is otherwise unavailable:"
      ]
    },
    {
      "cell_type": "code",
      "metadata": {
        "id": "apB5KYrJzjPI"
      },
      "source": [
        "def tf_serialize_example(f0,f1,f2,f3):\n",
        "  tf_string = tf.py_function(\n",
        "    serialize_example,\n",
        "    (f0,f1,f2,f3),  # pass these args to the above function.\n",
        "    tf.string)      # the return type is `tf.string`.\n",
        "  return tf.reshape(tf_string, ()) # The result is a scalar"
      ],
      "execution_count": 20,
      "outputs": []
    },
    {
      "cell_type": "code",
      "metadata": {
        "id": "lHFjW4u4Npz9",
        "outputId": "edf77bda-e42d-40b4-bc16-696898c3901b",
        "colab": {
          "base_uri": "https://localhost:8080/"
        }
      },
      "source": [
        "tf_serialize_example(f0,f1,f2,f3)"
      ],
      "execution_count": 21,
      "outputs": [
        {
          "output_type": "execute_result",
          "data": {
            "text/plain": [
              "<tf.Tensor: shape=(), dtype=string, numpy=b'\\nQ\\n\\x11\\n\\x08feature0\\x12\\x05\\x1a\\x03\\n\\x01\\x00\\n\\x11\\n\\x08feature1\\x12\\x05\\x1a\\x03\\n\\x01\\x01\\n\\x13\\n\\x08feature2\\x12\\x07\\n\\x05\\n\\x03dog\\n\\x14\\n\\x08feature3\\x12\\x08\\x12\\x06\\n\\x04R\\\\/\\xbf'>"
            ]
          },
          "metadata": {
            "tags": []
          },
          "execution_count": 21
        }
      ]
    },
    {
      "cell_type": "markdown",
      "metadata": {
        "id": "CrFZ9avE3HUF"
      },
      "source": [
        "Apply this function to each element in the dataset:"
      ]
    },
    {
      "cell_type": "code",
      "metadata": {
        "id": "VDeqYVbW3ww9",
        "outputId": "686a43e1-49f6-42f2-d184-7b77e1c03893",
        "colab": {
          "base_uri": "https://localhost:8080/"
        }
      },
      "source": [
        "serialized_features_dataset = features_dataset.map(tf_serialize_example)\n",
        "serialized_features_dataset"
      ],
      "execution_count": 22,
      "outputs": [
        {
          "output_type": "execute_result",
          "data": {
            "text/plain": [
              "<MapDataset shapes: (), types: tf.string>"
            ]
          },
          "metadata": {
            "tags": []
          },
          "execution_count": 22
        }
      ]
    },
    {
      "cell_type": "code",
      "metadata": {
        "id": "DlDfuh46bRf6"
      },
      "source": [
        "def generator():\n",
        "  for features in features_dataset:\n",
        "    yield serialize_example(*features)"
      ],
      "execution_count": 23,
      "outputs": []
    },
    {
      "cell_type": "code",
      "metadata": {
        "id": "iv9oXKrcbhvX"
      },
      "source": [
        "serialized_features_dataset = tf.data.Dataset.from_generator(\n",
        "    generator, output_types=tf.string, output_shapes=())"
      ],
      "execution_count": 24,
      "outputs": []
    },
    {
      "cell_type": "code",
      "metadata": {
        "id": "Dqz8C4D5cIj9",
        "outputId": "ff3a2cf6-afec-4c31-a2f6-cc542af997d7",
        "colab": {
          "base_uri": "https://localhost:8080/"
        }
      },
      "source": [
        "serialized_features_dataset"
      ],
      "execution_count": 25,
      "outputs": [
        {
          "output_type": "execute_result",
          "data": {
            "text/plain": [
              "<FlatMapDataset shapes: (), types: tf.string>"
            ]
          },
          "metadata": {
            "tags": []
          },
          "execution_count": 25
        }
      ]
    },
    {
      "cell_type": "markdown",
      "metadata": {
        "id": "p6lw5VYpjZZC"
      },
      "source": [
        "And write them to a TFRecord file:"
      ]
    },
    {
      "cell_type": "code",
      "metadata": {
        "id": "vP1VgTO44UIE"
      },
      "source": [
        "filename = 'test.tfrecord'\n",
        "writer = tf.data.experimental.TFRecordWriter(filename)\n",
        "writer.write(serialized_features_dataset)"
      ],
      "execution_count": 27,
      "outputs": []
    },
    {
      "cell_type": "markdown",
      "metadata": {
        "id": "6aV0GQhV8tmp"
      },
      "source": [
        "### Reading a TFRecord file"
      ]
    },
    {
      "cell_type": "markdown",
      "metadata": {
        "id": "o3J5D4gcSy8N"
      },
      "source": [
        "You can also read the TFRecord file using the `tf.data.TFRecordDataset` class.\n",
        "\n",
        "More information on consuming TFRecord files using `tf.data` can be found [here](https://www.tensorflow.org/guide/datasets#consuming_tfrecord_data).\n",
        "\n",
        "Using `TFRecordDataset`s can be useful for standardizing input data and optimizing performance."
      ]
    },
    {
      "cell_type": "code",
      "metadata": {
        "id": "6OjX6UZl-bHC",
        "outputId": "9a2eae8c-f93f-47b0-922c-12c7f9ccdd8b",
        "colab": {
          "base_uri": "https://localhost:8080/"
        }
      },
      "source": [
        "filenames = [filename]\n",
        "raw_dataset = tf.data.TFRecordDataset(filenames)\n",
        "raw_dataset"
      ],
      "execution_count": 28,
      "outputs": [
        {
          "output_type": "execute_result",
          "data": {
            "text/plain": [
              "<TFRecordDatasetV2 shapes: (), types: tf.string>"
            ]
          },
          "metadata": {
            "tags": []
          },
          "execution_count": 28
        }
      ]
    },
    {
      "cell_type": "markdown",
      "metadata": {
        "id": "6_EQ9i2E_-Fz"
      },
      "source": [
        "At this point the dataset contains serialized `tf.train.Example` messages. When iterated over it returns these as scalar string tensors.\n",
        "\n",
        "Use the `.take` method to only show the first 10 records.\n",
        "\n",
        "Note: iterating over a `tf.data.Dataset` only works with eager execution enabled."
      ]
    },
    {
      "cell_type": "code",
      "metadata": {
        "id": "hxVXpLz_AJlm",
        "outputId": "274fbd1e-9ebb-44ff-f52e-9c4c60282e8a",
        "colab": {
          "base_uri": "https://localhost:8080/"
        }
      },
      "source": [
        "for raw_record in raw_dataset.take(10):\n",
        "  print(repr(raw_record))"
      ],
      "execution_count": 29,
      "outputs": [
        {
          "output_type": "stream",
          "text": [
            "<tf.Tensor: shape=(), dtype=string, numpy=b'\\nQ\\n\\x11\\n\\x08feature1\\x12\\x05\\x1a\\x03\\n\\x01\\x01\\n\\x13\\n\\x08feature2\\x12\\x07\\n\\x05\\n\\x03dog\\n\\x14\\n\\x08feature3\\x12\\x08\\x12\\x06\\n\\x04R\\\\/\\xbf\\n\\x11\\n\\x08feature0\\x12\\x05\\x1a\\x03\\n\\x01\\x00'>\n",
            "<tf.Tensor: shape=(), dtype=string, numpy=b'\\nR\\n\\x11\\n\\x08feature1\\x12\\x05\\x1a\\x03\\n\\x01\\x04\\n\\x14\\n\\x08feature2\\x12\\x08\\n\\x06\\n\\x04goat\\n\\x14\\n\\x08feature3\\x12\\x08\\x12\\x06\\n\\x04sk\\xbb?\\n\\x11\\n\\x08feature0\\x12\\x05\\x1a\\x03\\n\\x01\\x00'>\n",
            "<tf.Tensor: shape=(), dtype=string, numpy=b'\\nU\\n\\x17\\n\\x08feature2\\x12\\x0b\\n\\t\\n\\x07chicken\\n\\x14\\n\\x08feature3\\x12\\x08\\x12\\x06\\n\\x04\\xb8=\\x82?\\n\\x11\\n\\x08feature0\\x12\\x05\\x1a\\x03\\n\\x01\\x00\\n\\x11\\n\\x08feature1\\x12\\x05\\x1a\\x03\\n\\x01\\x02'>\n",
            "<tf.Tensor: shape=(), dtype=string, numpy=b'\\nU\\n\\x11\\n\\x08feature0\\x12\\x05\\x1a\\x03\\n\\x01\\x00\\n\\x11\\n\\x08feature1\\x12\\x05\\x1a\\x03\\n\\x01\\x02\\n\\x17\\n\\x08feature2\\x12\\x0b\\n\\t\\n\\x07chicken\\n\\x14\\n\\x08feature3\\x12\\x08\\x12\\x06\\n\\x04\\xbby\\xac>'>\n",
            "<tf.Tensor: shape=(), dtype=string, numpy=b'\\nQ\\n\\x11\\n\\x08feature0\\x12\\x05\\x1a\\x03\\n\\x01\\x01\\n\\x11\\n\\x08feature1\\x12\\x05\\x1a\\x03\\n\\x01\\x01\\n\\x13\\n\\x08feature2\\x12\\x07\\n\\x05\\n\\x03dog\\n\\x14\\n\\x08feature3\\x12\\x08\\x12\\x06\\n\\x04\\xa0z\\x92?'>\n",
            "<tf.Tensor: shape=(), dtype=string, numpy=b'\\nR\\n\\x11\\n\\x08feature0\\x12\\x05\\x1a\\x03\\n\\x01\\x00\\n\\x11\\n\\x08feature1\\x12\\x05\\x1a\\x03\\n\\x01\\x04\\n\\x14\\n\\x08feature2\\x12\\x08\\n\\x06\\n\\x04goat\\n\\x14\\n\\x08feature3\\x12\\x08\\x12\\x06\\n\\x04\\xa8\\xfa\\x9c?'>\n",
            "<tf.Tensor: shape=(), dtype=string, numpy=b'\\nU\\n\\x11\\n\\x08feature0\\x12\\x05\\x1a\\x03\\n\\x01\\x01\\n\\x11\\n\\x08feature1\\x12\\x05\\x1a\\x03\\n\\x01\\x02\\n\\x17\\n\\x08feature2\\x12\\x0b\\n\\t\\n\\x07chicken\\n\\x14\\n\\x08feature3\\x12\\x08\\x12\\x06\\n\\x04\\xc9\\xe4\\xfe?'>\n",
            "<tf.Tensor: shape=(), dtype=string, numpy=b'\\nS\\n\\x11\\n\\x08feature0\\x12\\x05\\x1a\\x03\\n\\x01\\x01\\n\\x11\\n\\x08feature1\\x12\\x05\\x1a\\x03\\n\\x01\\x03\\n\\x15\\n\\x08feature2\\x12\\t\\n\\x07\\n\\x05horse\\n\\x14\\n\\x08feature3\\x12\\x08\\x12\\x06\\n\\x04\\xc5\\x06\\x84\\xbf'>\n",
            "<tf.Tensor: shape=(), dtype=string, numpy=b'\\nU\\n\\x11\\n\\x08feature0\\x12\\x05\\x1a\\x03\\n\\x01\\x01\\n\\x11\\n\\x08feature1\\x12\\x05\\x1a\\x03\\n\\x01\\x02\\n\\x17\\n\\x08feature2\\x12\\x0b\\n\\t\\n\\x07chicken\\n\\x14\\n\\x08feature3\\x12\\x08\\x12\\x06\\n\\x04\\x03Z\\xa5\\xbb'>\n",
            "<tf.Tensor: shape=(), dtype=string, numpy=b'\\nQ\\n\\x11\\n\\x08feature1\\x12\\x05\\x1a\\x03\\n\\x01\\x01\\n\\x13\\n\\x08feature2\\x12\\x07\\n\\x05\\n\\x03dog\\n\\x14\\n\\x08feature3\\x12\\x08\\x12\\x06\\n\\x04\\x18r*=\\n\\x11\\n\\x08feature0\\x12\\x05\\x1a\\x03\\n\\x01\\x01'>\n"
          ],
          "name": "stdout"
        }
      ]
    },
    {
      "cell_type": "markdown",
      "metadata": {
        "id": "W-6oNzM4luFQ"
      },
      "source": [
        "These tensors can be parsed using the function below. Note that the `feature_description` is necessary here because datasets use graph-execution, and need this description to build their shape and type signature:"
      ]
    },
    {
      "cell_type": "code",
      "metadata": {
        "id": "zQjbIR1nleiy"
      },
      "source": [
        "# Create a description of the features.\n",
        "feature_description = {\n",
        "    'feature0': tf.io.FixedLenFeature([], tf.int64, default_value=0),\n",
        "    'feature1': tf.io.FixedLenFeature([], tf.int64, default_value=0),\n",
        "    'feature2': tf.io.FixedLenFeature([], tf.string, default_value=''),\n",
        "    'feature3': tf.io.FixedLenFeature([], tf.float32, default_value=0.0),\n",
        "}\n",
        "\n",
        "def _parse_function(example_proto):\n",
        "  # Parse the input `tf.train.Example` proto using the dictionary above.\n",
        "  return tf.io.parse_single_example(example_proto, feature_description)"
      ],
      "execution_count": 30,
      "outputs": []
    },
    {
      "cell_type": "markdown",
      "metadata": {
        "id": "gWETjUqhEQZf"
      },
      "source": [
        "Alternatively, use `tf.parse example` to parse the whole batch at once. Apply this function to each item in the dataset using the `tf.data.Dataset.map` method:"
      ]
    },
    {
      "cell_type": "code",
      "metadata": {
        "id": "6Ob7D-zmBm1w",
        "outputId": "b63bb8da-d708-4059-e759-0473734facb2",
        "colab": {
          "base_uri": "https://localhost:8080/"
        }
      },
      "source": [
        "parsed_dataset = raw_dataset.map(_parse_function)\n",
        "parsed_dataset"
      ],
      "execution_count": 31,
      "outputs": [
        {
          "output_type": "execute_result",
          "data": {
            "text/plain": [
              "<MapDataset shapes: {feature0: (), feature1: (), feature2: (), feature3: ()}, types: {feature0: tf.int64, feature1: tf.int64, feature2: tf.string, feature3: tf.float32}>"
            ]
          },
          "metadata": {
            "tags": []
          },
          "execution_count": 31
        }
      ]
    },
    {
      "cell_type": "markdown",
      "metadata": {
        "id": "sNV-XclGnOvn"
      },
      "source": [
        "Use eager execution to display the observations in the dataset. There are 10,000 observations in this dataset, but you will only display the first 10. The data is displayed as a dictionary of features. Each item is a `tf.Tensor`, and the `numpy` element of this tensor displays the value of the feature:"
      ]
    },
    {
      "cell_type": "code",
      "metadata": {
        "id": "x2LT2JCqhoD_",
        "outputId": "afaf53d0-0add-4725-b684-fe188c756708",
        "colab": {
          "base_uri": "https://localhost:8080/"
        }
      },
      "source": [
        "for parsed_record in parsed_dataset.take(10):\n",
        "  print(repr(parsed_record))"
      ],
      "execution_count": 32,
      "outputs": [
        {
          "output_type": "stream",
          "text": [
            "{'feature0': <tf.Tensor: shape=(), dtype=int64, numpy=0>, 'feature1': <tf.Tensor: shape=(), dtype=int64, numpy=1>, 'feature2': <tf.Tensor: shape=(), dtype=string, numpy=b'dog'>, 'feature3': <tf.Tensor: shape=(), dtype=float32, numpy=-0.68500245>}\n",
            "{'feature0': <tf.Tensor: shape=(), dtype=int64, numpy=0>, 'feature1': <tf.Tensor: shape=(), dtype=int64, numpy=4>, 'feature2': <tf.Tensor: shape=(), dtype=string, numpy=b'goat'>, 'feature3': <tf.Tensor: shape=(), dtype=float32, numpy=1.4642166>}\n",
            "{'feature0': <tf.Tensor: shape=(), dtype=int64, numpy=0>, 'feature1': <tf.Tensor: shape=(), dtype=int64, numpy=2>, 'feature2': <tf.Tensor: shape=(), dtype=string, numpy=b'chicken'>, 'feature3': <tf.Tensor: shape=(), dtype=float32, numpy=1.0175085>}\n",
            "{'feature0': <tf.Tensor: shape=(), dtype=int64, numpy=0>, 'feature1': <tf.Tensor: shape=(), dtype=int64, numpy=2>, 'feature2': <tf.Tensor: shape=(), dtype=string, numpy=b'chicken'>, 'feature3': <tf.Tensor: shape=(), dtype=float32, numpy=0.33686623>}\n",
            "{'feature0': <tf.Tensor: shape=(), dtype=int64, numpy=1>, 'feature1': <tf.Tensor: shape=(), dtype=int64, numpy=1>, 'feature2': <tf.Tensor: shape=(), dtype=string, numpy=b'dog'>, 'feature3': <tf.Tensor: shape=(), dtype=float32, numpy=1.1443672>}\n",
            "{'feature0': <tf.Tensor: shape=(), dtype=int64, numpy=0>, 'feature1': <tf.Tensor: shape=(), dtype=int64, numpy=4>, 'feature2': <tf.Tensor: shape=(), dtype=string, numpy=b'goat'>, 'feature3': <tf.Tensor: shape=(), dtype=float32, numpy=1.2263994>}\n",
            "{'feature0': <tf.Tensor: shape=(), dtype=int64, numpy=1>, 'feature1': <tf.Tensor: shape=(), dtype=int64, numpy=2>, 'feature2': <tf.Tensor: shape=(), dtype=string, numpy=b'chicken'>, 'feature3': <tf.Tensor: shape=(), dtype=float32, numpy=1.991357>}\n",
            "{'feature0': <tf.Tensor: shape=(), dtype=int64, numpy=1>, 'feature1': <tf.Tensor: shape=(), dtype=int64, numpy=3>, 'feature2': <tf.Tensor: shape=(), dtype=string, numpy=b'horse'>, 'feature3': <tf.Tensor: shape=(), dtype=float32, numpy=-1.0314566>}\n",
            "{'feature0': <tf.Tensor: shape=(), dtype=int64, numpy=1>, 'feature1': <tf.Tensor: shape=(), dtype=int64, numpy=2>, 'feature2': <tf.Tensor: shape=(), dtype=string, numpy=b'chicken'>, 'feature3': <tf.Tensor: shape=(), dtype=float32, numpy=-0.0050461306>}\n",
            "{'feature0': <tf.Tensor: shape=(), dtype=int64, numpy=1>, 'feature1': <tf.Tensor: shape=(), dtype=int64, numpy=1>, 'feature2': <tf.Tensor: shape=(), dtype=string, numpy=b'dog'>, 'feature3': <tf.Tensor: shape=(), dtype=float32, numpy=0.041612715>}\n"
          ],
          "name": "stdout"
        }
      ]
    },
    {
      "cell_type": "markdown",
      "metadata": {
        "id": "Cig9EodTlDmg"
      },
      "source": [
        "Here, the `tf.parse_example` function unpacks the `tf.train.Example` fields into standard tensors."
      ]
    },
    {
      "cell_type": "markdown",
      "metadata": {
        "id": "jyg1g3gU7DNn"
      },
      "source": [
        "## TFRecord files in Python"
      ]
    },
    {
      "cell_type": "markdown",
      "metadata": {
        "id": "3FXG3miA7Kf1"
      },
      "source": [
        "The `tf.io` module also contains pure-Python functions for reading and writing TFRecord files."
      ]
    },
    {
      "cell_type": "markdown",
      "metadata": {
        "id": "CKn5uql2lAaN"
      },
      "source": [
        "### Writing a TFRecord file"
      ]
    },
    {
      "cell_type": "markdown",
      "metadata": {
        "id": "LNW_FA-GQWXs"
      },
      "source": [
        "Next, write the 10,000 observations to the file `test.tfrecord`. Each observation is converted to a `tf.train.Example` message, then written to file. You can then verify that the file `test.tfrecord` has been created:"
      ]
    },
    {
      "cell_type": "code",
      "metadata": {
        "id": "MKPHzoGv7q44"
      },
      "source": [
        "# Write the `tf.train.Example` observations to the file.\n",
        "with tf.io.TFRecordWriter(filename) as writer:\n",
        "  for i in range(n_observations):\n",
        "    example = serialize_example(feature0[i], feature1[i], feature2[i], feature3[i])\n",
        "    writer.write(example)"
      ],
      "execution_count": 33,
      "outputs": []
    },
    {
      "cell_type": "code",
      "metadata": {
        "id": "EjdFHHJMpUUo",
        "outputId": "dfc3a4fe-72c1-4b0b-a710-ce51bf16c1dc",
        "colab": {
          "base_uri": "https://localhost:8080/"
        }
      },
      "source": [
        "!du -sh {filename}"
      ],
      "execution_count": 34,
      "outputs": [
        {
          "output_type": "stream",
          "text": [
            "984K\ttest.tfrecord\n"
          ],
          "name": "stdout"
        }
      ]
    },
    {
      "cell_type": "markdown",
      "metadata": {
        "id": "2osVRnYNni-E"
      },
      "source": [
        "### Reading a TFRecord file\n",
        "\n",
        "These serialized tensors can be easily parsed using `tf.train.Example.ParseFromString`:"
      ]
    },
    {
      "cell_type": "code",
      "metadata": {
        "id": "U3tnd3LerOtV",
        "outputId": "97c911d2-14a4-4c25-826b-78d59def6259",
        "colab": {
          "base_uri": "https://localhost:8080/"
        }
      },
      "source": [
        "filenames = [filename]\n",
        "raw_dataset = tf.data.TFRecordDataset(filenames)\n",
        "raw_dataset"
      ],
      "execution_count": 35,
      "outputs": [
        {
          "output_type": "execute_result",
          "data": {
            "text/plain": [
              "<TFRecordDatasetV2 shapes: (), types: tf.string>"
            ]
          },
          "metadata": {
            "tags": []
          },
          "execution_count": 35
        }
      ]
    },
    {
      "cell_type": "code",
      "metadata": {
        "id": "nsEAACHcnm3f",
        "outputId": "8aaa9d44-99af-416a-f793-8849f24ad24e",
        "colab": {
          "base_uri": "https://localhost:8080/"
        }
      },
      "source": [
        "for raw_record in raw_dataset.take(1):\n",
        "  example = tf.train.Example()\n",
        "  example.ParseFromString(raw_record.numpy())\n",
        "  print(example)"
      ],
      "execution_count": 36,
      "outputs": [
        {
          "output_type": "stream",
          "text": [
            "features {\n",
            "  feature {\n",
            "    key: \"feature0\"\n",
            "    value {\n",
            "      int64_list {\n",
            "        value: 0\n",
            "      }\n",
            "    }\n",
            "  }\n",
            "  feature {\n",
            "    key: \"feature1\"\n",
            "    value {\n",
            "      int64_list {\n",
            "        value: 1\n",
            "      }\n",
            "    }\n",
            "  }\n",
            "  feature {\n",
            "    key: \"feature2\"\n",
            "    value {\n",
            "      bytes_list {\n",
            "        value: \"dog\"\n",
            "      }\n",
            "    }\n",
            "  }\n",
            "  feature {\n",
            "    key: \"feature3\"\n",
            "    value {\n",
            "      float_list {\n",
            "        value: -0.6850024461746216\n",
            "      }\n",
            "    }\n",
            "  }\n",
            "}\n",
            "\n"
          ],
          "name": "stdout"
        }
      ]
    },
    {
      "cell_type": "markdown",
      "metadata": {
        "id": "S0tFDrwdoj3q"
      },
      "source": [
        "## Walkthrough: Reading and writing image data"
      ]
    },
    {
      "cell_type": "markdown",
      "metadata": {
        "id": "rjN2LFxFpcR9"
      },
      "source": [
        "This is an end-to-end example of how to read and write image data using TFRecords. Using an image as input data, you will write the data as a TFRecord file, then read the file back and display the image.\n",
        "\n",
        "This can be useful if, for example, you want to use several models on the same input dataset. Instead of storing the image data raw, it can be preprocessed into the TFRecords format, and that can be used in all further processing and modelling.\n",
        "\n",
        "First, let's download [this image](https://commons.wikimedia.org/wiki/File:Felis_catus-cat_on_snow.jpg) of a cat in the snow and [this photo](https://upload.wikimedia.org/wikipedia/commons/f/fe/New_East_River_Bridge_from_Brooklyn_det.4a09796u.jpg) of the Williamsburg Bridge, NYC under construction."
      ]
    },
    {
      "cell_type": "markdown",
      "metadata": {
        "id": "5Lk2qrKvN0yu"
      },
      "source": [
        "### Fetch the images"
      ]
    },
    {
      "cell_type": "code",
      "metadata": {
        "id": "3a0fmwg8lHdF",
        "outputId": "79368627-06c0-4403-9cf4-698263e604ea",
        "colab": {
          "base_uri": "https://localhost:8080/"
        }
      },
      "source": [
        "cat_in_snow  = tf.keras.utils.get_file('320px-Felis_catus-cat_on_snow.jpg', 'https://storage.googleapis.com/download.tensorflow.org/example_images/320px-Felis_catus-cat_on_snow.jpg')\n",
        "williamsburg_bridge = tf.keras.utils.get_file('194px-New_East_River_Bridge_from_Brooklyn_det.4a09796u.jpg','https://storage.googleapis.com/download.tensorflow.org/example_images/194px-New_East_River_Bridge_from_Brooklyn_det.4a09796u.jpg')"
      ],
      "execution_count": 37,
      "outputs": [
        {
          "output_type": "stream",
          "text": [
            "Downloading data from https://storage.googleapis.com/download.tensorflow.org/example_images/320px-Felis_catus-cat_on_snow.jpg\n",
            "24576/17858 [=========================================] - 0s 0us/step\n",
            "Downloading data from https://storage.googleapis.com/download.tensorflow.org/example_images/194px-New_East_River_Bridge_from_Brooklyn_det.4a09796u.jpg\n",
            "16384/15477 [===============================] - 0s 0us/step\n"
          ],
          "name": "stdout"
        }
      ]
    },
    {
      "cell_type": "code",
      "metadata": {
        "id": "7aJJh7vENeE4",
        "outputId": "3da4bf26-c2d0-4322-bc4f-7c20aabb5383",
        "colab": {
          "base_uri": "https://localhost:8080/",
          "height": 247
        }
      },
      "source": [
        "display.display(display.Image(filename=cat_in_snow))\n",
        "display.display(display.HTML('Image cc-by: <a \"href=https://commons.wikimedia.org/wiki/File:Felis_catus-cat_on_snow.jpg\">Von.grzanka</a>'))"
      ],
      "execution_count": 38,
      "outputs": [
        {
          "output_type": "display_data",
          "data": {
            "image/jpeg": "[encoded data removed]",
            "text/plain": [
              "<IPython.core.display.Image object>"
            ]
          },
          "metadata": {
            "tags": []
          }
        },
        {
          "output_type": "display_data",
          "data": {
            "text/html": [
              "Image cc-by: <a \"href=https://commons.wikimedia.org/wiki/File:Felis_catus-cat_on_snow.jpg\">Von.grzanka</a>"
            ],
            "text/plain": [
              "<IPython.core.display.HTML object>"
            ]
          },
          "metadata": {
            "tags": []
          }
        }
      ]
    },
    {
      "cell_type": "code",
      "metadata": {
        "id": "KkW0uuhcXZqA",
        "outputId": "6a1d286a-6a00-454c-bcd3-eca808898cba",
        "colab": {
          "base_uri": "https://localhost:8080/",
          "height": 273
        }
      },
      "source": [
        "display.display(display.Image(filename=williamsburg_bridge))\n",
        "display.display(display.HTML('<a \"href=https://commons.wikimedia.org/wiki/File:New_East_River_Bridge_from_Brooklyn_det.4a09796u.jpg\">From Wikimedia</a>'))"
      ],
      "execution_count": 39,
      "outputs": [
        {
          "output_type": "display_data",
          "data": {
            "image/jpeg": "[encoded data removed]",
            "text/plain": [
              "<IPython.core.display.Image object>"
            ]
          },
          "metadata": {
            "tags": []
          }
        },
        {
          "output_type": "display_data",
          "data": {
            "text/html": [
              "<a \"href=https://commons.wikimedia.org/wiki/File:New_East_River_Bridge_from_Brooklyn_det.4a09796u.jpg\">From Wikimedia</a>"
            ],
            "text/plain": [
              "<IPython.core.display.HTML object>"
            ]
          },
          "metadata": {
            "tags": []
          }
        }
      ]
    },
    {
      "cell_type": "markdown",
      "metadata": {
        "id": "VSOgJSwoN5TQ"
      },
      "source": [
        "### Write the TFRecord file"
      ]
    },
    {
      "cell_type": "markdown",
      "metadata": {
        "id": "Azx83ryQEU6T"
      },
      "source": [
        "As before, encode the features as types compatible with `tf.train.Example`. This stores the raw image string feature, as well as the height, width, depth, and arbitrary `label` feature. The latter is used when you write the file to distinguish between the cat image and the bridge image. Use `0` for the cat image, and `1` for the bridge image:"
      ]
    },
    {
      "cell_type": "code",
      "metadata": {
        "id": "kC4TS1ZEONHr"
      },
      "source": [
        "image_labels = {\n",
        "    cat_in_snow : 0,\n",
        "    williamsburg_bridge : 1,\n",
        "}"
      ],
      "execution_count": 41,
      "outputs": []
    },
    {
      "cell_type": "code",
      "metadata": {
        "id": "c5njMSYNEhNZ",
        "outputId": "aabd8e24-c899-45b2-b521-eee5269e1214",
        "colab": {
          "base_uri": "https://localhost:8080/"
        }
      },
      "source": [
        "# This is an example, just using the cat image.\n",
        "image_string = open(cat_in_snow, 'rb').read() # > rb == read-only in binary\n",
        "\n",
        "label = image_labels[cat_in_snow]\n",
        "\n",
        "# Create a dictionary with features that may be relevant.\n",
        "def image_example(image_string, label):\n",
        "  image_shape = tf.image.decode_jpeg(image_string).shape\n",
        "\n",
        "  feature = {\n",
        "      'height': _int64_feature(image_shape[0]),\n",
        "      'width': _int64_feature(image_shape[1]),\n",
        "      'depth': _int64_feature(image_shape[2]),\n",
        "      'label': _int64_feature(label),\n",
        "      'image_raw': _bytes_feature(image_string),\n",
        "  }\n",
        "\n",
        "  return tf.train.Example(features=tf.train.Features(feature=feature))\n",
        "\n",
        "for line in str(image_example(image_string, label)).split('\\n')[:15]:\n",
        "  print(line)\n",
        "print('...')"
      ],
      "execution_count": 53,
      "outputs": [
        {
          "output_type": "stream",
          "text": [
            "features {\n",
            "  feature {\n",
            "    key: \"depth\"\n",
            "    value {\n",
            "      int64_list {\n",
            "        value: 3\n",
            "      }\n",
            "    }\n",
            "  }\n",
            "  feature {\n",
            "    key: \"height\"\n",
            "    value {\n",
            "      int64_list {\n",
            "        value: 213\n",
            "      }\n",
            "...\n"
          ],
          "name": "stdout"
        }
      ]
    },
    {
      "cell_type": "code",
      "metadata": {
        "id": "EdwNNYQFH1KS",
        "outputId": "fcf81bcd-7262-41e5-d5f1-01791923c40d",
        "colab": {
          "base_uri": "https://localhost:8080/"
        }
      },
      "source": [
        "image_string"
      ],
      "execution_count": 45,
      "outputs": [
        {
          "output_type": "execute_result",
          "data": {
            "text/plain": [
              "b'\\xff\\xd8\\xff\\xe0\\x00\\x10JFIF\\x00\\x01\\x01\\x01\\x00H\\x00H\\x00\\x00\\xff\\xdb\\x00C\\x00\\x06\\x04\\x05\\x06\\x05\\x04\\x06\\x06\\x05\\x06\\x07\\x07\\x06\\x08\\n\\x10\\n\\n\\t\\t\\n\\x14\\x0e\\x0f\\x0c\\x10\\x17\\x14\\x18\\x18\\x17\\x14\\x16\\x16\\x1a\\x1d%\\x1f\\x1a\\x1b#\\x1c\\x16\\x16 , #&\\')*)\\x19\\x1f-0-(0%()(\\xff\\xdb\\x00C\\x01\\x07\\x07\\x07\\n\\x08\\n\\x13\\n\\n\\x13(\\x1a\\x16\\x1a((((((((((((((((((((((((((((((((((((((((((((((((((\\xff\\xc0\\x00\\x11\\x08\\x00\\xd5\\x01@\\x03\\x01\\x11\\x00\\x02\\x11\\x01\\x03\\x11\\x01\\xff\\xc4\\x00\\x1c\\x00\\x00\\x02\\x02\\x03\\x01\\x01\\x00\\x00\\x00\\x00\\x00\\x00\\x00\\x00\\x00\\x00\\x03\\x04\\x02\\x05\\x01\\x06\\x07\\x08\\x00\\xff\\xc4\\x00?\\x10\\x00\\x02\\x01\\x03\\x03\\x02\\x05\\x01\\x05\\x06\\x05\\x02\\x06\\x03\\x00\\x00\\x01\\x02\\x03\\x00\\x04\\x11\\x05\\x12!1A\\x06\\x13\"Qaq\\x07\\x142\\x81\\x91\\x08#B\\xa1\\xb1\\xf0\\x15R\\xc1\\xd1\\xf1b\\xe1\\x16$3Cr\\x824S\\xb2\\xff\\xc4\\x00\\x1a\\x01\\x00\\x03\\x01\\x01\\x01\\x01\\x00\\x00\\x00\\x00\\x00\\x00\\x00\\x00\\x00\\x00\\x00\\x01\\x02\\x03\\x04\\x05\\x06\\xff\\xc4\\x00\\'\\x11\\x00\\x02\\x02\\x02\\x02\\x02\\x02\\x03\\x01\\x01\\x00\\x03\\x00\\x00\\x00\\x00\\x00\\x01\\x02\\x11!1\\x03\\x12AQ\\x04a\\x13\"2q#3\\x81\\xb1\\xff\\xda\\x00\\x0c\\x03\\x01\\x00\\x02\\x11\\x03\\x11\\x00?\\x00\\xed,\\xb8\\xe9]G9\\x15M\\xc6\\x80\\x08\\x00QH`\\xe6\\x90t\\xa6\\x90\\x98\\xb2\\xfa\\x9a\\x98\\x89\\xe3\\'\\x14\\x00h\\x97\\x1d)\\r\\x0c\\x07\\n9\\xa5C\\x17\\x9a\\xe7\\x04\\x81M!6W\\xcb)f\\xabH\\x8b>\\x0b\\xbb\\xad0\\x08\\x91w\\xa9\\xb1\\xd0U\\x88\\x1e\\xb4\\xactg\\x1d\\x85\\x00\\x15\\x17\\x02\\x90\\x04\\x08\\x7f*,t\\x128\\x80\\xe6\\x93cH3\\x90\\x17\\x1d\\xe9\\x0c\\x80 \\x1c\\x9eh\\x11\\t\\\\\\x91\\xec=\\xa8H\\x18\\x8c\\x88\\xad\\xcfAVK\\x11\\xb9\\xfd\\xd9\\xcaw\\xabY%\\xe0\\x14\\x11\\xefr\\xcfM\\xb1$5\\x02\\xe1\\x88^\\x95,\\xa4?\\x0e\\x14f\\xa1\\x94\\x83\\x96\\xdc\\xb5%l\\xaf\\x99\\xd9d\\xf8\\xad\\x12!\\x98\\x04\\xb7&\\x81\\x04Q\\x91\\xedHd\\\\\\x85\\x18\\xceM\\x00S_\\xa1\\x91\\xf8\\x15\\xacL\\xda\\'g\\x0e\\x0e$\\x14\\xa4\\xc6\\x90\\xd4\\xb6\\xd1\\x9e\\x82\\xa51\\xf5*\\xae\\xa1\\n\\xc6\\xb4L\\x86\\x84\\x82\\x83(\\xaa\\x12Ad\\x90\\xa8\\xc0\\xa2\\x80\\x8cCs\\x8c\\xd2c6[1\\xfb\\xb5\\n:VR5C\\x1b\\xbdDg\\xa5H\\xc4\\xb5IW\\xca\\xc0\\xebW\\x05\\x939\\xb2\\xec\\x80:\\xd6F\\xc4\\x0b\\x054\\x08\\x84\\x8f\\xc51\\nI\\xc9\\xaaB\\t\\x12\\xe0\\xd2`\\x82\\x90)\\x0c\\xf8>\\x07Z\\x00\\x04\\x93\\x11\\x90\\rU\\n\\xc5\\xd8\\x96\\xe6\\x98\\x8c\\xa4t6\\x01\\xd2?\\x8cR\\xb1\\xd0tN:T\\x8c\\xce\\xca\\x00\\x89\\x18a\\x8ab\\x18\\x8d:f\\xa5\\xb2\\x90\\xc6\\xd0\\x16\\x90\\xc1\\x13\\x83@\\x19 \\xb0\\xe2\\x80$\\x17\\x03\\x9a\\x00\\x04\\xe4\\x0e\\xb4\\xd0\\x99]3\\x12}5h\\x86\\rT?\\xe2\\xe4\\xd3\\n&\\xd1\\x02\\x9cR\\xb0\\xa2)\\x958\\xa6\\xc1\\x0eG\\xc2\\xf3\\xd6\\xa4\\xa2\\x01\\xc8n\\xbcP\\x00.$\\x06\\xa9\"Y(\\x888\\xcd&4Jc\\x8e\\x17\\x8a\\x10\\xd8\\xab\\xab\\x1c\\x90j\\x91\\x007e\\xb0i\\x80\\xcd\\xb2\\x87$\\x11R\\xc6\\x86\\xc4ca\\x1e\\xd56U\\x14\\x9a\\x92\\x1d\\xe4\\x01Z\\xc0\\xcaE$\\xe2D\\x9b \\x1a\\xb2S\\'\\x9c\\x8c\\x9aaa\\xad\\x86\\xe6\\x18\\xa9cF\\xc9k H@\\xefX\\xb4j\\x89J@\\xf5\\x03\\xc9\\xa4\\x81\\x88^Y\\xcd9\\xca\\xa9\\xc1\\x15jI\\x10\\xe2\\xd9\\xb01\\xe6\\xb25\\x05#`S\\x06\\x05\\x98\\x9ab>\\x0b\\x9a\\x04\\x14\\x10\\xa2\\x90\\xc1\\xb4\\x82\\x9d\\x00\\x06r\\xdd)\\x88\\xc0B\\xd4X\\xa8CY\\xd5b\\xd2\\xe5\\xb6\\x80\\xc4f\\x9epYP8L(\\xe39?<b\\xb2\\xe4\\xe5P\\xfb5\\x87\\x1fb\\xcbM\\xb9\\x86\\xf6\\x01,\\r\\xc7FV\\xea\\xa7\\xd8\\xd1\\x0eH\\xf2+B\\x94\\x1c\\x1d1\\xed\\xab\\xee*\\xacTKr(\\xfcB\\x80\"f\\x8b\\x1f\\x88P\\x00\\x1e\\xea p\\r<\\x86\\x84o|Icc\\'\\x97!\\x91\\xdc~1\\x1a\\x82\\x13\\xeaI\\x1f\\xa0\\xc9\\xacy9\\xa1\\xc6\\xeaO&\\xb0\\xe2\\x94\\x95\\xa2\\xc3\\xef\\xeaT\\x10w\\x022\\x08\\xee+Z3\"oT\\x9e\\x94P\\x06K\\xc6\\xe0*\\xd2\\x196\\x95\\xe4>\\x81\\xd2\\x80\\x13\\x99\\x9d\\x9b\\x15H\\x96}\\x1c\\'\\xbd\\x16\\x14\\x11`\\x02\\x95\\x8d#>Z/,x\\xa3 \\x01\\xe4\\x8dNi\\xd3\\x0c\\x187\\x1e\\x93\\xb4\\x12\\x07\\xb0\\xa2\\x82\\xd1(\\xa2\\x9eq\\x90\\x98\\x07\\xde\\x8b\\xa1U\\x93{#\\x18%\\xcei\\xf6\\xb1u#e\\x0f\\x9c\\xe1;\\x93C`\\x91~\\x9a\\n\\xb4|\\xf5\\xac\\xbb\\x97\\xd4\\x87\\xfe\\x1c\\xdd\\x9fV\\x05\\x1f\\x90]\\x00I\\xe1l\\x1c\\xab\\x9f\\xd6\\x9a\\xe6\\x17\\xe3\\x16}!\\xed2Kf\\xab\\xbd\\x87Z3\\x1d\\x9b\\xb8\\xca\\x83\\x8a,t\\x02\\xe7F\\x91\\xd4\\xc8\\x0f?4\\xd7%\\x12\\xe0k\\xf7vL\\t\\x0c\\x00\"\\xb6S3q\\x10\\x8e\\xdc\\xb4\\xc1\\x00\\xcf5NX\\x12\\x8eM\\x9e-*8\\xe2C\\xb7\\xd5\\x8a\\xc1\\xcd\\x9btH*Y\\xe7\\xd2\\xa3\\x14\\xac(z\\xdbJH\\xf0\\xceK\\x1f\\x9a\\x97!\\xa46\\x125S\\x80\\x05!\\x959\\xc9\\xebVI\\x07\\xc0\\xeah\\x06\\x0f*;\\xd3\\x15\\x113\\x01\\xd2\\x80 \\x92\\x89\\x1b\\x9aL\\x11\\xf4\\xca\\x02\\xe5\\x0f4&6\\x85[\\xcf#\\xd29\\xaa\\xb2hb!\"\\xaf\\xab\\xad\"\\x91\\xa3x\\xc1\\xd8x\\x91%\\x98\\xfe\\xea\\x18\\xd1\\x7f\\x16\\x02\\x83\\x9es\\\\|\\xaf\\xfe\\x95\\xf4t\\xc1\\x7f\\xce\\xd7\\xb0\\xba~\\xa5%\\x85\\xdc\\x8f\\x1e%\\x89\\x86N\\xd69\\xda\\x07\\'\\xa628\\xef\\xcdd\\xee\\x0f\\xb4vR\\xa9.\\xb26h/\\x85\\xd4),2\\x96F\\x19\\x06\\xbb\\xf8\\xa7\\x1eX\\xf6\\x89\\xcb8\\xb8>\\xac.\\xe7\\x7f\\xe2&\\xb4\\xa4E\\xb2A8\\xe74\\x80\\xa7\\xd5\\xb5E\\x81\\xbe\\xedfC\\xdc\\xb7V^B\\x0f\\x7f\\xef\\xa7\\xd6\\xb9\\xbeG\\xc8\\xe9\\xfaC\\xfa\\xff\\x00\\xe1\\xbf\\x0f\\x0fo\\xdaZ(\\xaf\\xe3_\\xf0IK&fb0\\t\\xe4g\\xbe:\\xe2\\xb8\\xab\\x16\\xce\\xa4\\xff\\x00b\\xff\\x00\\xc3\\x9fx\\xb8\\xd1lKg\\x02=\\xb9?\\x07\\x1f\\xe9^\\x8f\\xc6w\\xc4\\xac\\xe3\\xf9\\n\\xb9ZE\\xf4\\x11\\x84$\\x13\\xb8\\xd6\\xac\\xc91\\xa8\\\\\\x02\\x14\\x8eMKE&Z[F\\x8a3\\x9eMC(\\x8c\\x96\\xa1\\x89+E\\x85\\n\\xb8\\xd8H\\xeaj\\x85DN\\xe3\\xd0\\x1c\\xfbP\\x00g\\xb5\\x9aO\\x81M4\\x84\\xd1Xm\\xa6\\x9a\\xe8F\\x9f\\x84\\x1eMii+#6m\\x1am\\x8cB-\\x85r{\\x93XJF\\xa9\\r\\xbci\\x12q\\xd0R\\xbb\\x19]s\\x1bN\\x01\\\\\\xe2\\xa9:%\\xab1\\xa6\\xdb\\x98\\xaf\\xd0\\x1e\\x94\\xe4\\xed\\x04VM\\xd10Tb\\xb9\\xd9\\xa92\\x05!\\x91lP\\x05&\\xad\\x1bH\\xe0/J\\xd2&l\\x86~\\xefl\\t\\x1d\\x05=\\xb1\\xe8\\xa6\\xbe\\xd4\\xdb\\x04\\'\\x15\\xac`e)\\x1a\\xcd\\xec\\xed#\\x9c\\x9c\\xe6\\xb6Q\\xa3;\\xb3:r\\x03r\\xa7\\xd8\\xd2\\x96\\x8a\\x8e\\xcd\\xe2\\x18D\\xb1\\xa8\\x1dq\\\\\\xcd\\xd1\\xb5\\n\\xba\\x88e\\xe7\\x03\\x14\\xc0h\\xca<\\xbc\\x8e\\x94\\xa8\\n\\xbb\\xeb\\xe4\\x88`r\\xdf\\x15j-\\x92\\xe4\\x91Y\\x86\\xff\\x005:\\x02\\x05[<\\xb1\\xa0,\\xc6\\xd1\\x9e\\xa4\\xd3\\x11\\xf6\\xd0?\\x84\\x9a,D\\xc2\\x13\\xdb\\x14\\xac(\\x90LP2\\\\P\\x07\\xc7\\x8eM\\x00i\\xbe4\\xb7[\\x9b\\xef*2\\x0c\\x8dj\\x1eEl\\x00\\xca\\x1c\\xa8\\xc1?\\xc4\\x0fj\\xe2\\xf9MG\\x92-\\xfa;>?\\xed\\xc6\\xd1\\xa8\\xc3|_O\\x84,\\xcc]_j+\\xb6X\\xf3\\x8cp9\\xcfLs\\xedQ6\\t\\x14\\x1f\\xe2\\x97\\xf0\\xe9\\xf3ZEq\\xf71\\x1d\\xd1d\\x9a)\\n\\xaa\\xa6\\xe2\\x19y\\xeb\\xf4\\xecq\\\\\\xcaR\\xe3}\\xa0\\xcdiMSF\\xb8u\\xff\\x00\\x13\\xda\\xb5\\xac\\x96\\x1e&\\xbe\\x9a\\xdel\\xac,_$\\x8e\\xc0\\xe4`\\x1c\\x123\\xf0MuG\\x9e^^Le\\xc6\\x8b\\xfbMw\\xc5z\\x84\\x89\\x1e\\xb7\\xad\\xcd\\xe4,\\xe4J\\x96j\\x88\\xe6%\\xc1a\\xb9@9\\xc9\\nH\\xe83\\xf5\\xa9\\xe4\\xf9\\x92J\\xa28\\xf0-\\xb3m\\xd0%I\\xe0\\xb9\\xba\\x89\\xca\\xa1\\x90\\x05X\\xc7\\n\\x80`\\x0e\\x84~G\\x15\\xc9\\xc7\\'y:\\xa5\\x15I\"\\xe3T\\x9d\\x9a<,XuB\\xc1N\\x00\\x0b\\xd4\\xb1\\xc7\\xeb\\x81\\xd6\\xb4\\x94\\xd5d\\\\|y7]*\\x04\\xb6\\xd0\\xb4\\xe4\\x89\\x99\\x93\\xee\\xc8\\xc1\\x98`\\xb6FrGl\\xe6\\xbd^\\x05\\xd6\\t\\x1eg3\\xed9?\\xb36\\xf2\\x8f8\\xee?\\x9dl\\xd6\\x0c\\x96\\xc2+\\x17\\xb8\\x1e_ u4\\xbc\\x07\\x92\\xe2\\x00\\\\\\x8a\\x86h\\x8b(#\\xc2\\x10\\xdd\\xea\\x19H\\x88\\xb3]\\xe4\\x91\\x93E\\x8a\\x89\\x88\\x13xP\\x06h\\xb1\\xd1\\x1b\\xf4\\t\\x19U\\xfcX\\xa2,L\\xad\\xb2\\x8c\"1#\\xd4MSbH\\xb0\\x85\\xc4\\x16\\xec\\xc4\\xf2j^G\\xa2\\xadn\\xda{\\xbd\\x99\\xf4U\\xd5\"n\\xd9s\\x84\\x11\\xedA\\x93PY+;<J%\\x93\\xaf\\xb5\\'/\\x00\\x91y\\x0fN+6Z\\x0b\\x9cu\\xa42\\x12\\x11\\xb0\\xd0\\x05L\\xc4\\xe4\\x96\\xabD\\x0b_\\x8f2\\xdc\\x81W\\x1c1KF\\xa1v\\x1b\\xcc*A\\x15\\xd0\\x99\\x83Ed\\xc8w\\x10kD\\xc91n\\xe69\\x05L\\x8a\\x89\\xb9\\xe8W\\xa1\\x90d\\xf4\\xaei\\xa3x\\xb0z\\xbaM+\\x99!\\\\\\xad\\x11\\xc0\\xa4\"\\xf7\\xd2-\\xb9\\x88\\xa9\\x0fV\\xa3d\\xb6!\"\\x85Q$\\x8d\\x96\\xad\\x11\\r\\x0cC\\x14\\x97\\x04\\x94\\x1cVm\\xd1h\\x92\\xd8\\xca\\xcd\\x82h\\xb0h\\xb5\\xb5\\xd2\\x95T\\x16\\xe4\\xd49\\x15C\\x06\\xce$\\xea\\xa2\\x95\\x81Q~\\xc0I\\xb20*\\xd2%\\xba%i\\x0f\\xff\\x00\\xb2\\x86\\x08a-Q\\xe4\\xcfjC%s\\x04j\\x98\\x03\\x9aC4?\\xb5Fm+\\xc2\\xf2^*)_\\xc1\\xb8\\xaeJ\\x93\\x929\\xfdk\\x97\\xe5\\xf1\\xb9\\xf5~\\x8e\\x9f\\x8b\\xc8\\xb8\\xdb8\\x8e\\x8dq\\x0f\\xdd\\x05\\xdc\\xb6\\xfed\\xd2\\x16\\x01\\xcf\\x01S\\xb8\\x198\\'<\\x81\\xc5D\\xb5A~K\\x9b\\x80\\x9a\\x8cS\\x99\\x122\\x04F\\t|\\xc6c\\xea \\x95\\x03\\x8e\\xa7\\x18\\xe3\\x92W>\\xf5\\x84\\x91\\xa4^J\\xdd&\\xde]?P\\xd0\\xf4\\xd3\\x1a\\'\\xdd\\xe4{\\x19\\x90\\x1f\\xdd\\t\\xd0\\xef\\xdc7t\\x0c\\x8d\\x93\\x9c\\xf2\\xbe\\xc4TI\\xdd\\xb2\\x92\\xd2.<?o\\x1e\\xfb\\xedA-\\x11\\x12\\xfa\\xe1\\xee\\xed\\xfc\\xc3\\xcaD\\xea\\x08c\\x9e\\x8cy8\\x1d\\x88\\xac\\xde\\x7f\\xf4i\\xfe\\x1b\\x86\\x9c\\xd0\\xcdi\\x15\\xa5\\xcd\\xbb-\\xa37\\x98R\\x06\\xdb\\x90zp?\\x17\\xb7\\xe5P\\x9d2\\xb4\\xb0k\\xb3M$Z\\xf9\\xd3\\xa1o[JWf1\\x95\\'\\x83\\xf01\\xd3\\xda\\xad\\xae\\xc8\\xd3\\xf2t\\xca;5\\xfc\\x8b\\x0cq\\xc2\\x9f\\xfbh\\x13\\xaez\\x0cW\\xbd\\xc7\\x1aI3\\xc3\\x9c\\xad\\x95@\\xbbI\\x85\\'&\\xb62/\\xac`\\x11D7\\x0eMc\\'f\\xb1T[Z \\xebP\\xcaC\\xc5\\x80^\\xb5%\\x18\\x9a\\xe5!\\x84\\x96#4\\x00\\x96\\x9bz\\x92\\xdc7\\x98\\xd8#\\xa59!&XN\\xa2l\\xed\\xf5RCd\\x1fO\\x0b\\x16\\xe5\\xebG`\\xa2\\x9a\\xe8\\xc8ABH\\x15h\\x96\\x02\\xcd6L\\x18\\x8e)\\xb7`\\x91\\xb1\\xdbM\\x0e\\x01\\x18\\xac\\x9d\\x96\\xa89\\x94\\x1fRv\\xa41\\xbb)\\xd5\\xc63\\xcdKCC2\\xb6\\x004\\x86\\xc8;zy<P\"\\xa7Q\\x99U\\x95W\\xf1V\\x91D\\xb2(\\xa5\\xc0\\xcf<S`!\\xa8Y\\xc4y\\xe0\\x1a\\xa8\\xc9\\x92\\xe2\\x8dgP\\x865c\\x86\\x1cV\\xf1\\x91\\x94\\x91T\\x08\\xdcs\\xd2\\xad\\x92\\x8b\\xbd\\t\\x1d\\xf1\\xc9\\x0bYN\\x8d`m\\xe8?t\\x10\\x8e+\\x06hW_Y#\\x82B\\xfeuI\\x92\\xd1\\xac\\xdf\\xdb8\\r\\x86\\xcf\\xb0\\xad\\xe2\\xec\\xc6I\\x97\\xban\\xd1l\\xaa\\xbdqX\\xcbf\\xb1\\xd1e\\x0c9\\xc1\\xc5Kc\\xa1\\xf0\\xb8\\x88\\xe0T\\xd9Bs\\x8c\\xa14\\xd0\\x8du\\xc8\\xfb\\xd1-\\xd0V\\xabFoc\\xb1\\r\\xe3\\xd3\\xd2\\xa5\\x94\\x99ci\\x0f\\xa7\\x9a\\x96\\xc6\\x85n\\x973\\x05\\xc7zh\\x19\\xce\\xbe\\xde\\xe6d\\xf0Lp)>T\\xb7q\\xac\\xd8#\\x05@\\'i\\xef\\x82B\\xf4\\xac\\xf9_\\xea_\\x1a\\xc9\\xc3\\xac\\xaeb\\xb7\\xb4\\x8e\\xeaft\\xb7\\x8dv\\xcc`]\\xee\\xb88U\\x00t>\\xdfZ\\xe5n\\xf0\\xcd\\x92\\xf2m63\\xe9\\x97B\\r\"u\\xd4\\xac\\xa7[\\xd8n\\x87\\xde\\xe2\\t\\x1b2\\x92\\x04{\\x94\\x9d\\xa5\\x8f\\x03=H\\xc7^\\x9c\\xea\\xdf\\xf2j\\xe9,\\xf9#\\xa9h\\xf0k\\xfa\\x94wn\\x85U\\xe5\\x95\\xaeb$\\x8c\\xe61\\x19\\xdd\\x8e\\x98\\x03\\xafZ\\xceM\\xc1\\xb4\\xcd\\x15IZ6\\xcf\\x11\\xe9\\xebo\\xf7\\x0b\\x80\\xde\\\\\\x0f`\\xf6\\xf1@\\xb1\\x19\\x19\\xf2\\xca\\x03*\\x0eJ\\xa8\\x04\\x0c\\xe0g\\x15\\x92\\xe4Q\\xcc\\x8a\\xea\\xde\\x11_\\xa5\\xc9\\x12+Z\\xc1%\\xca\\xdd[\\xc8\\xab=\\x9d\\xc4-\\x0b\\x85\\x7f\\xc2\\xc00\\xe5Olw\\xa4\\xfc5\\xa6R\\xcd\\x99\\xd5\\xd0\\xae\\xa93mCul\\x7fs \\xe5\\xd4\\x0c\\xb6>A$\\xf0jc\\xc8\\xe2\\xd1N\\t\\xa3y\\xd2\\xf5\\x15\\xd5\\xec\\xe1\\xba\\x8d\\x81\\xf3\\x14\\x16\\xc1\\x1c\\x1e\\xff\\x00\\xce\\xbe\\x9a\\x13RV\\x8f\\x0eqqt]\\xe9\\xd6Y\\x9dY\\x81\\x02\\x9c\\xa7\\x81F%\\xad\\xeb\\xc5m\\x18vu\\nzs\\xd6\\xb2\\xb3Z+d\\xf1V\\x95e\\x1c\\xadw\\xa8ZC\\x1cX\\xdc\\xd2J\\x00\\x1d\\xe964\\x99\\xcf\\xfcG\\xf6\\xf5\\xe1\\xfb\"\\xd1h\\xb1\\\\j\\xf7#\\x80#\\x1b#\\x1f%\\x8fo\\xa0<T9\\xa4R\\x83f\\x9d\\xab}\\xbe^\\xc9\\xff\\x00\\xe1\\xe8{\\xd0\\x1c\\t\\x1aC\\x87=\\xc8\\x03\\xa0\\xcex\\xebK\\xf2\\x8f\\xf1\\x94K\\xf6\\xe9\\xae\\xac\\xdb\\xbf\\xc1\\xed\\x04`r\\x04\\x8d\\x93\\x9e\\xdf_~(\\xfc\\xac:#a\\xd0\\xbfik\\x9b6\\x03Q\\xf0\\xda\\xcd\\x1f\\xf1<7$\\x1f\\xa0\\x05\\x7f\\x9ehs\\xb0QGD\\xb0\\xfd\\xa4<\\x0fw\\x1a\\xa5\\xe0\\xd5,d*\\x0b\\x17\\xb5\\xde\\x80\\x9e\\xc0\\x83\\x9f\\xcc\\x81I1\\xf5F\\xf9\\xa0\\xeb:?\\x88\\xe0[\\xad\\x1e\\xf6\\x0b\\xcbg<<N\\x0f?N\\xb5\\xa5\\xe0\\x87\\x1a,\\xc6\\x9c\\xad!\\xc1\\xf4\\xd2\\xb1Q9,\\xa2\\xb7M\\xe5\\xb0(V\\xc2\\xa8\\x8c\\x13\\xabHD\\x7f\\x87\\x1di\\xb8\\x82a\\xece\\x0f1\\t\\xc5&\\x86\\x99m\"\\x81\\x1f^j\\n\\x04\\xc0\\x94\\'4\\xc1\\x94\\xbb\\x1aK\\xc3\\x9a\\xd3H\\x8f#\\xeeR\\x08\\x89$g\\x15;\\x1b\\xc1\\xa7j\\xb772L\\xdbw\\x05\\xae\\x88EQ\\x84\\xa4\\xcdz\\xeeV\\xdcC\\x12\\x0f\\xcdn\\xa2\\x8c\\xec\\x85\\x84O4\\x87\\xa9QR\\xf0Trn\\x9a\\r\\xbe\\xd2\\xa3\\xde\\xb0\\x9b7\\x8a69#\\xd8\\x01\\xf6\\xacl\\xb0\\x17\\x04\\x18\\x8e\\x054&k^O\\x9ft\\xfb\\xf8T\\xadn\\x91\\x9dX-.\\xe3l\\xd8=(\\x92\\x14Y\\xb2E2\\xb1\\x01k*4\\xb2\\xc5W\\xd3\\xcfJ\\x91\\x95\\xf7\\xbc\\x02\\x07J\\xa4&k\\xd3@\\xc6bH\\xe2\\xb4O\\x06md\\xb2\\xb5\\x8fdC5-\\x94\\x90\\xed\\xac\\xea\\x06;\\xd4\\xb4Rg\\xd7\\xb1\\x00\\x9ee\\t\\x839\\x7f\\xda\\x9d\\xbc\\x9a\\xaf\\x86/\\xa2\\x86@\\x92\\xa0\\x12\\xc6H\\xca\\xeeS\\x9eG\\xb5T\\xe3pb\\x84\\xaaG\\x1c\\xf0\\xfd\\xb5\\x9e\\x8f\\x05\\xc6\\x9d\\xabD\\xd2i\\xba\\x94F\\t\\xee\\x11\\x80drC\\x07S\\xd9\\x81\\nF\\x7f\\xcb\\xf9W\\x9b\\xc8\\x9b\\xca\\xd9\\xd9\\x06\\xbc\\x83\\xf1\\xf6\\x9d\\xab\\r*\\x0b\\xf6\\xd5\\xb4[\\xa8L\\xe8\\xadqj\\x92,\\xf36Cnd#j\\x91\\x8epH\\xc9\\xe2\\xb2\\xe0P\\x8c\\x9d]\\x97\\xc9\\xdaI^\\x8d\\xc3\\xc37\\x16\\xf7s^]\\x90R)\\xae\\x1aGbx\\xc9<\\xaf\\xe4z\\xf6\\xac\\xfeO*\\xeci\\xc3\\xc6\\xe8gYMkY\\xf1\\x97\\x88\\xae\\xad--\\xaf\\xb4]\\x90X\\xac2\\xdd\\xad\\xbb\\xc6!\\x07i\\x8c\\xbf\\xa4\\x82\\xcc\\xe4\\xaeG,\\rc\\'\\x0eH\\xa5t\\xd1n.\\x1fi\\x87\\x9a\\xd2K\\xcbK\\xdf\\xf1\\xf8\\xa2\\x9a\\xefSx\\x91!\\x86}\\xe9o\\x1c`\\xedQ  \\xbc\\x8cY\\x8b\\x11\\xe9\\xe0\\x0c\\xd2iF*)\\xd8E\\xbe\\xd7\\xa1Y\\xfc3\\x7f\\xa1\\xe9n\\x06\\xa4\\xa9\\xa6\\x04i\\xd4;\\x134}w&\\xff\\x00\\xf2\\xfc\\xe34\\xef\\xb3M\\xa1\\xe5`\\xe2:\\x7f\\x8c\\xf5=7V{\\xcd:}\\xb1D\\x08\\x8a)\\x0eS?\\xe6\\xc7\\xbdz\\xb0n\\t#\\x8aiI\\xb6^O\\xf6\\x99\\xe3\\x0b\\xc8\\x00}D\\xc6\\xa7\\x07)\\x18U\\x1d\\xba\\xfbu\\xa6\\xf9_\\xb1(*\\xd1S\\xa8\\xebz\\xd6\\xa0\\xabq}\\xa8\\xdeM\\xbcc\\x99HUO\\xa0\\xe0\\x1e\\x9f\\xca\\xa7\\xf26\\xf67\\x04j\\xb7\\xbf\\xbf\\x98+9\\x90\\xb1\\xc6\\xe7bI$\\xf5\\xff\\x00\\xbdh\\x99\\x9d\\x161\\x11\\x04\\x06\\xd6 C\\x10N\\xe0O\\x1f?\\xdf\\xbdd\\xf2\\xec\\xd1`-\\xcc\\xb9X\\xa1M\\xc1\\x80\\xc0\\x0b\\xd4\\x0e\\xff\\x00\\xd6\\x9a@\\xdf\\xa1i\\xe2[I\\x02\\x9ev\\x8c\\xb7\\xab$\\x1fl\\xd3\\xbb\\x16\\x86\\x0cQ\\xbc;\\xa4\\x01\\x17\\x1c\\x0c\\xf2jm\\xa2\\xa91!b\\xbeIq\\x94\\\\\\xf5c\\xc9\\x15}\\xc8\\xe85\\xa3\\xddj\\xfe\\x1a\\xbf]GC\\xbc\\xb8\\xb3\\xbaN\\x8f\\x1e2F9\\xca\\x9c\\x82>\\xa2\\x9a\\xe4L\\x1c$\\x8e\\xf5\\xf6Q\\xfbA[\"\\x8b?\\x1eMr\\x93\\x1e\\x16\\xfbf\\xe4$\\xff\\x00\\x98(\\xc8\\x1f85\\xafb)3\\xba\\xbd\\xf4Z\\xcd\\x94Wv\\x171Og&\\x19$\\x8d\\xb2\\xae>\\x0fz\\xd64\\x8c\\xa4\\x9f\\x91\\xc5)\\xf7m\\xb0\\x8c694\\xbc\\x87\\x80iq\\xf7`\\xa19n\\xf4\\xea\\xc3E\\x88\\xbca\\x16\\xe9\\x0f\\xe5S\\xd4\\xab3\\x1d\\xe7\\x9a\\xa7o4u\\x0b\\x17\\x9aS\\x18,\\x17\\x9ai\\x12V\\xcd+\\xec23\\x93\\xf1W@\\xc1+\\tx#\\xd5\\xf4\\xa7\\xa1l\\xa5\\xd5tY\\x9c\\x97\\x84\\xf2{V\\x91\\xe4\\xf6e.7\\xe0\\x06\\x8fcy\\x01q\"\\x00\\xb9\\xa2rLpM\\x1bE\\x94\\x9eI\\x0ex\\xda:V/&\\xa9\\x8e\\xae\\xa2eB1\\x9a\\x9e\\xa3\\xb1[\\x8dC\\xcb\\x8d\\x8b\\xe0\\n\\xa5\\x1b\\x13tVi\\xd7^u\\xc9g\\x18\\\\\\xf4\\xabq\\xa4L]\\x81\\xfb\\xb9P\\x1d3\\x9a,\\x9a-4\\xb9\\x19@g\\xce~j$\\x8a\\x8b.\\xc5\\xe2\\x94\\xc1\\xe0\\xd6}M,\\x04\\x9bd\\xe78\\x14\\xf4!y\\xd5|\\xa2\\x00\\xe6\\xa8@\\x0b\\x11o\\x8cz\\xa8\\x11\\x9d1\\x1892w4H\\x11c\\xa9\\x10m\\x0e=\\xaa\\x16\\xcbz4;\\xa4Y7\\xa4\\x83*\\xd9\\x04\\x11]5h\\xc3G(\\xf17\\x85\\xe6\\xb0\\xbd\\x81\\r\\xeaC\\xa3H\\xf9\\xd8S\\x07\\x1dv\\x16\\xfa\\xf4\\xc8\\xae\\x0e^.\\xb2\\xfa:\\xe1\\xc9\\xd9}\\x89]xie\\xd4?\\xc3\\xc1\\xb8h\\x9cy\\x91M&=9\\xe7\\xa7\\xc7\\x1c\\xe2\\xb3|t\\xe9\\x15\\xdf\\x16\\xca\\r.}J\\xc1\\x17\\xc3\\x9fq\\x95u\\x84\\x98\\xc1\\xe4c\\x0e\\xc4\\x8c\\x86\\xc1\\xea\\xa7\\xae\\xec\\xf4\\xae.o\\x8f|\\x99=\\x0e.T\\xb8{\\xd9\\xdam\\xfc\\x1f%\\x95\\xbc:}\\xe4\\x8f%\\xd4\\x91 \\x99\\x95K(\\x90\\xa8\\x1b\\x8b|c\\x1e\\xc7\\x15\\xce\\xb8\\xe5\\x07\\xd4R\\xe4S]\\x80\\xea\\xfa\\x0e\\xa5\\xa2\\\\\\xc7&\\x99}g,\\xa1v\\xbf\\xdeca\\xbd\\xb1\\xc9@\\xb9\\xfeC&\\xae\\\\}H\\x8c\\xd3\\xda4o\\xb5]x\\xe9\\x9a\\x13\\xabN\\xa7Q\\x9e3\\x14k\\x10*\\x13=H\\xcfO\\xcf\\xde\\xab\\x8a\\x17$\\x13\\x96\\x0e\\x0f\\x0c^}\\xc4\\x11N\\x15\\xa4o\\xc4\\xf9\\xc1?\\xfc\\xbe\\x7f\\x9f\\x15\\xdc\\xe5\\x86\\xcee\\x1d#d\\xd4 U\\x82\\x18P\\x90\\xb9U\\xc9\\x041\\xff\\x00\\x8ek\\x9e.\\xdd\\x9d\\x12X\\x03\\xaeF\\xa6\\xdd`\\x87\\x85\\xc0\\x0cA\\xc1\\x00\\x0c\\xfey\\x18\\xab\\xe3y\"k\\x06\\xaa\\x15B\\xc7#\\x13\\x9d\\xc6F\\x18\\xfc q\\x8f\\x93]G1d\\xb2\\xb1\\xb7\\x0c\\xab\\xb5I\\x1c\\xf78\\xf6\\xff\\x00\\xb5J\\x8eF\\xd8;\"\"\\x98\\x17\\x19\\x91\\x86\\xe6?\\xf4\\xfbU1!\\xc3\"\\xbc\\x1eg\\x96\\xa4\\xb0\\x001\\\\\\xe0\\x03\\xed\\xefR\\x90\\xec\\x1c\\xb0\\xc6\\xf6\\xe2IL\\x84\\x11\\xb8\\x9e\\xd4\\xbc\\xd0\\xfcY\\x19%UU\\xdb\\x18\\xdc\\x08\\xce\\x07\\xf4\\xa5\\xd5\\xb2\\x94\\x92\\x1b\\x80}\\xea\\x00\\xc5O=0\\xa4\\xd6m\\xf54\\xae\\xc8\\xa9\\xd4,\\x95\\x0e\\xec2\\x91\\xd0\\xe3 \\xfeu\\xacy,\\xca\\\\tl\\x9fg\\xdfh:\\xf7\\x82\\xee\\x87\\xdc\\xaed\\x92\\xc4\\xb7\\xef\\xac\\xdd\\x81I\\x07\\xc7\\x1c\\x1e\\x9d+U.\\xba\"\\xbba\\x9e\\xbf\\xf0W\\x8b4\\x9f\\x14x}5\\x1d\\x1a\\xe5&\\x00\\x014c!\\xa1|r\\xac\\x08\\xe3\\xfdkt\\xd4\\xb4e(\\xb8\\xec~\\xdeO6g`sV\\xd5\"\\x16C\\xb6\\xf9\\x9c\\x03\\xd2\\x90\\xcb\\x8b\\x08\\x95\" \\x8eqQ&R*\\xee\\xaf3raA\\x9a\\xb4\\xb0M\\x99[p\\xf8-\\xfaQaA\\xa1\\xb7\\x01\\xcf\\x14\\x9b\\x00\\xc6 \\x01\\xcd+\\x1d\\x0b\\xc3\\x1b>N8\\x06\\x9d\\x81\\x9b\\xb8T\\xc6q\\xc3b\\x84\\xc4SE9\\x84\\xb2\\x7f\\x15]Y)\\x89\\xea\\x97@\\xc6T\\x9fVzU\\xc29&l\\x16\\x98\\xc5F\\xf3\\xd0ULQ6\\xf8\\xecTF\\xa5\\x85sv5\\xa2.\\x8a\\xaav\\x80\\x00\\xa0\\x04\\xdeR\\xd9\\x03\\xa8\\xaa\\x1187\\xbb\\x0c\\xe7\\x14\\x98\\x0f\\xbcXL\\xd2\\xb1\\x80A\\xb9\\xf0q\\x8a`\\x16B\\x91\\xaeGZ@$\\xf3\\xb3d7\\xe1\\xaa\\xa0\\x11KT\\x9a\\xe3%x\\x15WH\\x8a\\xb6X\\xcf\\xa4\\xdb\\xddY\\xbc2\\xc6\\x1a6\\x1c\\xa9\\xf7\\xedY\\xb6ZG2\\xd5\\xf4\\x93\\xe1\\xeb\\x95\\x82W-\\t\\'\\xcapI`;\\x92O\\xc9\\xe9\\xf1Y\\x7f&\\x9b\\x12\\xd3\\xb4\\xc5:\\xfc\\x1a\\xdd\\xbe\\xac\\xc3P\\x82\\xdd\\xad\\xd0H\\x8aG\\x96[v\\x0f~\\xbf5\\x9c\\xa9\\xe4\\xa5f\\xeb\\x16\\xbb\\x15\\xd2fb\\x8fr\\x9f\\x8b`8\\xe3\\xae\\t\\xeb\\xef\\x8a\\xe7\\x92\\x8d\\xd9\\xaan\\xa8\\xd5|S\\xe2\\x0b}?\\xcd\\x96gQu\\xc0\\x8eC\\xca\\xb6\\xee\\x9c{c\\xdb\\x9f\\xd2\\xb9f\\xd5\\x9d\\x10N\\x8e\\x15\\xe3{\\x99u=P\\x9b\\xf3\\xb6PwJ\\x84\\xf0\\xa0\\x0e\\x08=\\xc6:U\\xf1\\xe3#\\x9a5\\xcbxe\\xb8\\xbf\\xf3\"\\x8c\\xe5\\x8eJ\\xe3\\xb7c\\x8e\\xf5\\xac\\x9dG&qV\\xc7\\xaf\\xa4Y\\x02\\x8d\\xfb\\x10L\\x15I9\\x07\\xe7\\xf3\\xe6\\xb3\\x8a.L\\x0e\\xad/\\xee\\xae\\x11O\\xe1\\x1c\\xb3s\\xb8\\x9e\\x7f\\xbe\\xd5\\xac\\x11\\x9c\\xde\\n\\x1b\\xdbm\\xb6\\x91\\xa8U%\\xb6\\xaam>\\xddEt&s\\xb4\\x1c)[\\xabx\\x80\\x03j\\xe4\\xe0pi\\x80\\x0b\\x88\\x8a<\\xd2\\x0e\\x00\\\\\\x05\\xe9\\x8f\\xf7\\xfa\\xd0\\x07\\xcc\\x1cA\\x1ca\\x89f\\x00\\xb1\\xc8$\\x0fl~\\x9f4\\x08\\x17\\xdf\\x1c\\x89\"a\\x95\\x18\\n\\xa7\\xf9\\x7f?\\xe9Ey\\x0b,,QDr\\x99\\xce\\xd0\\xa7k0=Op>=\\xf1\\xfd*95\\x83N5\\xec\\xbd\\xd2\\xe1_\\xb9\\t\\xa5B\\x89\\xbfh\\\\\\x11\\xc7N\\xbf\\xeb\\xfd+\\x92wgTj\\x8a\\xfdQ\\x98\\\\4\\x19\\x04\\x13\\x93\\x93\\xdf\\xebZA\\xe2\\xc8\\x96pk\\xf7P,r\\xb0\\x80\\x84\\x94d\\x81\\x9e\\x0e{\\x0f\\x7f\\xce\\xb7R\\xf6a(\\xfa6\\x0f\\x04x\\x9e\\xfbD\\xd5V\\xf3M\\xb8\\xfb\\xbc\\xd8\\xc4\\x8b\\xb8\\x85q\\xc7\\x0c:\\x1c\\xf6\\xa6\\x9b\\x86PbJ\\x99\\xeb\\xbf\\x02j\\xd0k\\xdaLZ\\x8d\\xa4\\xaa\\xf1\\xbf\\x0e\\x07T~\\xeaGo\\xce\\xbbT\\xd4\\x95\\xa3\\x95\\xc5\\xc5\\xd1\\xb8\\xa4A#\\x0f\\x8ejlf.n\\xbc\\xa8\\xd9\\xb3\\x8e(H\\x1b\\xa2\\xba\\xca#\\xe64\\x8f\\xcb79\\xab~\\x89Hp8\\x04\\x82y\\xa9\\x18\\xf5\\xba\\x92\\x99\\x03\\x9a\\x96R\\x18x\\xd4/\\xcd+\\x1d\\x15\\xe6O-\\x99A\\xf4\\xd5\\x13b\\xcf0\\x93\\x85<\\xd3\\xa0)\\'WI\\xdeF\\x18\\x00qZ\\xadQ\\x93)\\xd9Zi\\x8b\\x1eW5\\xae\\x91\\x99qi\\x08\\x91\\x06\\xdf\\xc2\\xb5\\x94\\x99\\xaaF\\xd8\\xf2\\x901\\xda\\xb9\\xcdD\\xe4}\\xc0\\x8a\\xb2E\\xa2\\x8c\\x99\\t\\xc5\\x16!\\xeb`3\\x81I\\x8c\\x9d\\xcc\\x98\\xc2-\\t\\r\\x8b\\xe7i\\xcd1\\x03b]\\xbe(\\x02\\x12\\x8e@\\xa0C6P\\r\\xfb\\x8fJM\\x8d!\\xd9\\xa7\\x8e1\\x85\\xea\\x05JVU\\xd1\\xa9x\\xc6\\xcd\\xef\\xf4\\xb9\\x8cq\\x89&\\x8f\\xf7\\x88\\xbf\\xe6\\xc7j%\\x1b\\x8d \\x8b\\xa7\\x93\\x9f\\xe9\\xb3\\xc6\\xa5\\xa62\\xa9nwzq\\x8c\\x0e\\x83\\xe3\\xaf\\xeb\\\\M\\xfb:\\n\\xab\\xff\\x00\\x11\\'\\xf8\\xa3\\xdbZ\\x92\\x03a\\x03\\x9c\\x14\\xf5\\x0c\\x03\\xf2A\\xc7\\xe9\\x8fj\\xe4\\x9c\\xad\\xd2:#\\x0c[5MN\\xf3\\xef\\xd34\\x138+f\\xfb\\x93y\\xdd\\xba6\\xee~\\x87\\x1f#q\\xac\\xfc3U\\xb4i\\xf3\\xcb\\x15\\xe4\\xef+\\x11\\xe5!\\xf2\\xc1c\\xd7\\x03!A\\xfeu\\xaaN)\"\\x1b\\xbb`l\\xe0X\\xd8\\x96_/\\xce^I\\xe3*\\x0f\\x1f\\xa9\\xe8)\\xcaV\\tP)\\x10y\\x1b\\x0b\\x0f1\\x1fv\\x18\\xe3\\x9c\\xf6\\xfe\\xfaS[\\x06U_\\xcb\\xbaEc\\xb5\\x99\\xb2\\x0e3\\x9e\\x07_\\xadt\\xc5Q\\xcd\\'`lB\\xca-\\xa3`\\n\\xa8.21\\x93\\xc5Y\\x04\\xe3\\n$\\x96c\\x8c\\xb1\\xe3\\x8c\\xf1\\x8e\\xbc\\x7f\\xa5\\x00\\xc1C\\xb0\\xc5!a\\xb83\\x96PFs\\x8e\\x9f\\xeb\\xf1LB(\\xc0y\\x85\\xc9\\xc3\\x10\\xa0\\x01\\x93\\x9fe\\xf6\\xff\\x00zb\\t\\x0cA\\x1aH\\xdbo\\x98\\xc0\\x1d\\xdc\\x9d\\xa0\\x83\\xdb\\xae\\xee0>\\xb46\\x08\\xb0\\x86\\xda\\x1b1$s91\\xc6\\xf9r\\xc9\\xcb6yU\\x19\\xe7\\xf8s\\xcf\\xfa\\xd6m\\xd9\\xa4p](\\xca!m\\xab\\x85\\xc0\\xc08E9\\xc0\\x1e\\xfct\\xfaW<\\x91\\xbc_\\x807\\x11Ak\\t\\xc8\\xcd\\xc0\\xec\\xcb\\xbb\\xe7\\x07\\xfb\\xf7\\xa29\\x1c\\x99A\\xa9\\xa1y\\x16}\\xa0\\xed\\xe5\\x14\\x9e\\x18{\\x8e\\xfds\\xdb\\xdf\\xe9[\\xc5\\xe2\\x8cd\\xb3b\\xd3Z\\xc5\\'\\xaa5\\x91_\\x1c\\xab\\x1cs\\xd7\\xbf=*\\x93hM\\'\\x94o\\xdfc>3\\x93\\xc2\\xfe)\\x82+\\x99Bi\\xf7dE6\\xee\\x99\\xecN{\\xf3\\xd6\\xb5\\xe3\\x97VD\\x97eL\\xf6@\\xbbW\\x81@\\xc7#\\x8ekz0\\xb1+\\x98\\xcc\\x85O;A\\xaaN\\x843\\x90\\x9bTw\\xa4\\x00\\xa6C\\x1b\\xee\\xf7\\xa2\\xc0\\xb4\\xb4\\x98,<\\xf5\\xa9h\\xb4\\xc8]\\xdc\\x11\\x16\\xe5?\\x9d\\t\\t\\xb2\\xaf\\xcc%I\\xfcY\\xefWD\\x83\\xb7\\x85\\x96Fu\\xe7\\xe3\\xda\\x9b`\\x8cj0\\xf9\\xf0\\x15\\x1dh\\x8b\\xa6)+E%\\xad\\xac\\x89!G\\x07nz\\xd6\\xaeFj,\\xbc\\xb6\\x85R-\\xabX\\xb7f\\xa9R\\x1e\\x12\\x13\\xc1\\xa9\\xa1\\x82\\xc7\\xef3LA\\x87\\x1d)\\x01\\x90\\xdbO\\x14\\x01\\x868m\\xc6\\x80\\x06\\xc7q\\xc8\\xe6\\x98\\x19Q\\xc8\\xa0\\x0c\\xce\\x98\\x03\\x14\\x93\\x03+6\\x17\\x03\\x8a(\\x08\\x13\\x92I\\xa6\\x00\\xe5\\xdc\\xd8\\\\q@\\x8eS\\xe3\\xd8-\\xfc=\\xadD#\\x91aK\\xd0^\"G\\n\\xc0\\xfa\\x87\\xd0g5\\xc9\\xcf\\x04\\xb2tq6\\xcd\\x02]V\\xcaI\\x95RH\\xd9\\x92@\\xfe\\x8e\\x00\\xdb\\xc9$\\xfeC\\xe7\\xf5\\xaf=\\xc76v\\'\\x8a5\\xbb\\x8b\\x99\\x96\\xc7P\\xba*<\\xbb\\x92\\xca\\x0e0@\\xdc\\x08\\x1ct\\xfc?\\xad\\x11\\x8d\\xb2\\xa4\\xe9\\x15Q\\xc1$\\xb6\\xe8\\x1c2\\xc5\\x9d\\xecI\\xc8s\\xf2{w\\xe2\\xad\\xd2d,\\xa2\\xde[(cM\\xef&eU\\xca\\xe7\\x91\\x83\\xd3\\xe9\\xf4\\xac\\xd3\\xb3G\\x83[\\xd7\\x0c\\x90\\x87h\\x98\\xedb=>\\xff\\x00\\x97\\xb5tq\\xa4\\xd9\\x8f$\\x9aE\\x12I\\xbfs2\\xab\\x01\\x9c\\x00>?\\xaf\\xfbWM\\x1c\\xf7e\\x8c{c\\x9aW\\xc0\\xc2C\\x91\\x91\\xdb\\xbf\\xfc\\xd4\\xef\\x03$ d\\xb4X\\xc7\\xe2\\xc7\\xac\\xf7\\x00\\xf3\\x81\\xf3\\xfe\\xd4X\\x88\\xc8\\xa1Y\\x94\\x05\\t\\x10\\xf5\\xe7\\xb7\\x1d*\\x90\\x85%\\x01m\\xd6F\\x88o?\\xfai\\xc6\\x00\\xfa{\\xd3\\n\\x18\\x9a\\x0f\\xba\\x1b{\\xb2\\xd1\\xabB\\xaa\\xdbI\\xc7Q\\xc6~x\\xe9Sv4\\x12\\xd5.o. \\x04\\x80\\x88\\x0b\\xe0\\xa8!\\x17=\\x00\\xe9\\x92?ZO\\x08\\xa4lV\\x16\\xd0\\xbd\\xc3\\xca\\\\\\xa8RY\\x15\\xb2\\x03c\\x03\\x1c\\x91\\xd7\\xf3\\xc0\\xc7\\x1c\\xe0s\\xca\\xd9\\xbci\\x15\\x97\\x91\\x8b\\xe9RC$i\\x00!\\x8b\\xb1\\x19\\xce7\\x11\\x8c\\xe3=\\xb1\\xd7\\x80\\x05TUl\\x99;amb\\xfb\\xc2\\xc6\\xd0Eo\\x14Y#\\x91\\xc1RI\\xeb\\x8e\\xc1\\xb0\\x18v52\\x95\\x15\\x18\\xd9U48\\x9dwe\\xb6\\x05G\\xef\\x8c\\x93\\xc1\\xc7\\xb695JV\\x82\\xa9\\x8b$qy\\x91\\x89\\xa02E o\\xddG(F\\x0eA\\x00d\\x82:\\xe0\\xe3\\x1c\\x8e8\\xcekX\\xb39#\\xd3\\xbf`>\"\\x9f\\\\\\xf0\\xdcv\\x1a\\x85\\xd1\\x9a\\xefN\\xc4l\\xd2\\x1f[\\'\\xf0\\x93\\xef\\x8e\\x99\\xae\\xbe)\\xf6\\x89\\xcd\\xc9\\x1avvc\\x0cm\\x0f\\x00|S\\xb2h\\xaa\\xd4<\\xc8\\xa6\\x8bj\\x93\\x9e\\x05Z%\\x8d\\xb6\\x12\\x13$\\xfc`R\\x06k\\xe6\\xee\\xe6\\xea\\xeblGd9\\xeb\\xf1ZR\\x8a!6\\xd9r\\xf7(`\\xfb\\xb4~\\xa3\\xfcF\\xa2\\xb3f\\x97\\xe0\\x15\\xc2\\x18\\xe2P\\xbe\\x91\\xde\\x84!\\x8d9\\x0c\\xc3\\x11\\x8e=\\xe8\\x96\\x06\\xb2\\x19\\xad\\x18\\xcaCt\\x156\\x14a\\xad\\x91\\x01\\xdc94X\\x001\\x08\\xd4\\xb2\\x9e\\x94\\xc4B%=Z\\x80\\r\\xb4\\xb0\\xc8\\xe2\\x80&\\x1d\\x11\\x0e\\xea@&\\xf7\\x1f\\xbd\\xf8\\xaa\\xa1Y&f\\x94\\xe1z{\\xd2\\x18UC\\x1a\\xfdh\\x00\\x91\\x95\\x03\\x9e\\xb4\\x01\\xf4\\x8e\\x18\\x10\\x074\\xa8\\x00$L\\xcd\\x96<{S\\x10s\\n\\xe3\\xae)\\x0cR[\\x82%\\xf2\\x80\\xce;\\xd5P\\xaf\\xc1\\xcc\\xbe\\xd7,V\\xff\\x00\\\\\\xb1\\x8a\\xe13\\x0f\\xdd\\xc8V\\xcfB[\\x9a\\xe7\\xe5Vk\\x07H\\xe7r\\xf8SL\\x81\\x08\\x80\\xcb\\x0crd\\x12\\xa4\\x97n\\tc\\xfc\\x80\\xfa\\x9a\\xf3\\xf9\\x1dl\\xec\\x86tk\\xde%*\\xc2\\r>%\\xf2\\xf6\\r\\xa4\\xe7\\xa0\\xcf\\xe2?\\xca\\x88c#z\\xa2\\xba\\xd9L\\xb2-\\xa2\\x86G\\xdd\\x80[\\xb8\\x03\\x9e\\x9f\\x19\\xfdiK\\x0b\\xb0\\xe3\\x9c\\x13\\xd5\\x1dd\\xb7\\x05AC\\x08\\xc1\\xe4\\xe3\\x8fq\\xdb\\x8a\\x9e5\\x92\\xa6\\xe9\\x1a\\xb5\\xdd\\xd8}\\xe2C\\xc1l\\x0c\\xff\\x00C\\xc7\\xf7\\xcdvF4r\\xcaVWY\\xb8\\xfb\\xcc\\xca\\xad\\x85e\\'\\x81\\xd4w\\xc8\\xfe\\xfaV\\x8c\\x84\\\\\\xdaF\\xa6<\\xca0YP\\x10\\x0e\\xee\\xa7\\x93\\xf5\\xa8(r\\xe8\\x9f0\\xaa\\xe4\\x95\\xc1\\xdc:q\\xc0\\x07\\xdf4\\x900\\x171\\x02\\xabnB\\xae\\x07\\x99)\\x07\\x86#\\xb6\\x7f\\xbf\\x8av!O4\\xac\\xf9\\x91Wt\\x8f\\xb98\\xce1\\xde\\x98\\ri\\xb1}\\xee\\xcfu\\xca\\x85\\x888*\\x879 d\\x85\\x07\\xbfN\\x9fLT\\xb6R\\x0f\\xaaF\\xc6\\xcc\\xc6\"\\xc3\\x0cd\\x959|\\x8c\\x8c\\xf2{c\\xbf\\xbd\\x08\\x06\\xa0T\\x167\\xb6k$\\x93L\\xd1\\xa9\\x8f\\x0e\\x1c\\x8c\\x95\\x03\\x8e\\xb9# {T4Z`\\'\\xdb\\xf7\\x0bm\\x87\\xf71\\x13\\x90\\x17\\x1b\\xa4\\x1c\\x90\\x0e9\\x07\\xdb\\xe0\\xf6\\xc5=\\x05\\xdb,~\\xf35\\x9d\\x932I\"\\xfa\\x84j\\xa87\\x98\\xd4\\x8eNOl\\xee?\\x96\\x05d\\xd5\\xb3D\\xf0-,A\\x98\\xb2\\xa1.YR<.\\xe6\\x91\\x87B{\\xe0\\x91\\xcf8\\xe4{R\\xa1\\xd8\\x95\\xe5\\x99\\x08\\x1a\\x1bv\\x07\\x8e\\x0b\\x1d\\xe0\\xe4\\xe0\\x03\\xf2A\\xeb\\xd0\\n\\xb8\\xe3dK\\'A\\xfb\\x06\\xd6\\r\\x97\\x89b\\xb7\\x98\\x1f&\\xe5\\x0c\\x03qR\\xd1\\xb19\\x1c\\xf1\\x91\\x9e\\x0f\\xd4WO\\x04\\xaaU\\xec\\xcb\\x91\\\\l\\xf4\\xf2\\xcc\\xf6\\xec\\xab?\\xa4\\x1e\\x80\\x9a\\xea\\xde\\x8eb\\xcaE\\x13\\xc0\\x8c\\xa0nZ\\x9d1\\xec\\x14\\x89\\x15\\xcc\\x0e\\x92t\\xe8h\\xca`\\xd5\\x9a\\xbd\\xea\\xad\\xb4\\x84D\\xc4(8\\xc5m\\x17{2x-,\\x1a%\\x84\\x10=G\\xb9\\xa8n\\xd9\\xa2Cq\\xf9R\\xda\\xca%\\xc1~\\xc2\\x95\\x86\\xd1\\x1b9\\x05\\xbc>\\xa3\\xb7\\x1d\\xa8y\\x00\\xdf{\\x0c7)\\xc9\\xa5A`\\xe6\\xb8\\x83\\xc8\\x12O0\\x1f\\x00\\xd3\\xaf@\\xca\\xe5\\xd5\\x92R\\xd0\\xc7\\x03\\x9d\\xdd\\x1c\\x8e1E;\\x0f\\x05\\x8a\\xa8Rwu\\x14\\xac@\\xa4\\x9cn\\xda\\xa7\\x14\\xc0Z\\xe2N\\x80t\\xa6\\x84\\xc8:\\x86\\x00\\x91\\xc0\\xa3A\\xb1\\x98\\x19D}pi\\x0c\\x99\\x902\\xf2h\\x019\\'h\\xe4 \\x02E4\\x89d~\\xf6\\xd9\\xe0\\x1f\\xce\\x8a\\x1d\\x98\\x8e\\xf2L\\xfb\\xfd(\\x03\\xe9.d\\x99\\xb6&A\\xa1*\\x0b\\xb0\\x8bo\"E\\xe6\\x1eI\\xfdhl*\\xb2k\\xfe/\\xd2d\\xd4\\xac\\x04\\xea\\xad\\xe7\\xdbz\\x90\\xfcw\\xfeU2V\\x8a\\x8b9n\\xa3,\\x96\\xe8$\\x8e0\\x1czT\\x9eB\\xaf|\\x93\\xdf\\x1c\\xf1\\xf1^w,\\x1d\\x9d|r9\\xf5\\xc4\\x17.&\\xbc\\x92Eap\\xe5\\xc3\\x81\\x80\\x06\\xec\\x01\\x8e\\xdc\\n\\xcdc\\x06\\x8f9$v\\xc3v\\x1e\\x15m\\xfbO\\x96\\x0f\\xe9\\xfe\\x95/*\\x8a\\x8e\\x1d\\x94\\x97\\xfa\\x9c\\xa5A\\x958-\\x85\\xe7\\xdf\\xe9[q\\xf1\\xd1\\x94\\xe7e-\\xecK\\xf7i\\x0c\\x05\\x8c\\x91\\x8c\\xf0s\\x91\\xf1\\xf4\\xad\\xd1\\x89S\\xa6\\xc8\\xbf~P1\\xe5\\x9c\\xaeOA\\x9fzrX\\x12\\xd9}\\x07\\xa4\\xcb\\x13a0\\x01F<pN1\\xfd*<\\x16\\xc7\\xdbpS33\\x12X\\x01\\x80\\x0eO\\xf5\\xe3\\xaeh\\x10\\xb5\\xc17VR\\xb0P\\x19\\xd8\\xa8v=@\\xef\\xfa\\x7fZ4\\x0c\\xc4on\\xc7\\xef9FQ\\'\\x95\\x1b\\x11\\x9d\\xd88\\x19\\x1fA\\x9f\\xcb\\x14\\xe8,\\x03\\xb5\\xc5\\xd7\\x9f\\r\\xb1\\xdb\\x18!\\x14\\xec\\xea\\x7f\\xd3\\xb8\\xc0\\xa2\\xbc\\x85\\xf8\\x1f\\xb0\\xb8\\xdf\\x1d\\xc0\\xf3\\x1d]dX}X\\xdd *q\\xf1\\x8c\\x81\\xcfc\\x8a\\x1a\\xc8-\\x19\\xb7\\x8b\\xc9\\x96I\\x95\\x19g\\x9b\\xca}\\xa3\\xd2\\x04c;\\x8fL\\xfcg\\xe4\\xf7\\xc5&5\\x92\\xc2\\xd6\\xd5\\r\\x8d\\xe5\\x9d\\xbe\\xdc\\xc1\\x10u\\x9b\\xd3\\x90\\xa0~\\x10GNO\\xcf5\\x8c\\xa5y6\\x8a\\xa0\\xa5#\\x9ewG\\n\\xc9j\\x80\\x98\\xf61\\x12rN\\x01\\xea@\\x1b\\x8f@p\\r\\x00\\nu\\xb9p\\x92\\x16db\\x14\\xa4\\xdc\\xb61\\x829\\xed\\x8e\\x98\\x1e\\xe7\\x8e\\xa6\\xa4\\xa1\\x1b\\xd8\\x1d\\xec\\xcd\\xc5\\xbc\\xb3\\xdbO\\x14\\x98d\\xda@\\xf79\\xed\\xd8\\x1e\\xbfJq\\xb4\\xeb\\xc0\\x9d5c\\x1e\\x1a\\x9c\\xc7\\xab}\\xeaK_\\xbb\\x14\\xc7\\x93 \\xfd\\xe0F\\x04p:\\x1eG|\\x9c\\x1c{\\xe6\\xad\\xfe\\xb5L\\x94z\\xe3N\\xd6_T\\xd3\\xec\\xeen\"-# bOs\\x8e\\xb5\\xe8\\xc7*\\xd1\\xc5,0\\xeb{p\\xd2\\xb0/\\xe5\\xa8\\xfe\\x11UH\\x9baM\\xdb\\x88\\x82\\xe7h\\'\\xf3\\xa5C+.\\xe03^\\xab\\x16;\\x07Z\\xa4\\xe9Q-[\\xb2\\xc6Y\\xd1\\xa3\\x11\\xc4\\xb8U\\x1dk5\\x1av\\xcbn\\xf4\\n+\\xc1\\x13m\\x04\\xe6\\xaa\\xac@o/\\xa1\\xb0Sw\\xaa\\\\\\xc7\\x15\\xa7\\xbb\\xb6\\x00\\xa4\\xdaH\\x12\\xc9\\xad?\\xda_\\x85\\xbc\\xd8\\xd1uX\\x95em\\xa8\\xb89o\\x9f\\x81\\xf2i)\\xa2\\xba\\xb2\\xee\\xc5\\xed\\xf5I|\\xd8.Q\\xed\\x97\\xbcm\\x90kK\\xc6\\x08\\xea\\xef%\\x97\\x99\\x1eBD2O\\x02\\x92@\\x1e\\xe5\\xe6\\xce\\xd1\\xf8\\x8dB\\x19\\x9bh\\x98\\x90%\\xe0\\xf7\\xa6\\xc0gQ\\x92\\xd5B\\x01\\x80GZ\\x98\\xd8\\xdd\\t\\xf9\\x88S9\\xca\\xd5\\x08\\xf9\\xe7\\x8d\\xd3\\x0b\\xd4Q@/0\\x93`e<{P\\x01PJ#2I\\xb4(\\xed@\\x0b\\xc1+]O\\xb1S\\nO-T\\xe3D\\xa9[\\x1b\\xba\\x8d \\\\DF{\\xd2Y+G\\xd6\\x10\\x90\\xbel\\xf8\\xdb\\xda\\x86$\\x19\\xee\\xd0\\x9d\\xa8\\xad\\xb7\\xde\\x95\\x0e\\xc8]\\xee\\xf2=\\x1e\\xa2\\x7f\\x84P\\x81\\x9a\\'\\x8a|2\\xd7q=\\xd5\\xb2\\xae\\xf0\\x0b<g\\xa3\\x7f~\\xd5\\x9f\\'\\x1a\\x96\\x8a\\x84\\xe8\\xe5\\xde\\'Xm,\\'\\xf3\\x9fa#!BmU\\xf8\\x1f8\\xe2\\xb8g\\ngT%g<\\xb8\\xd5\\x0eRD\\x89\\xc4\\xd1\\xa6\\xd5e\\x04\\x86\\xc5\\n\\x03r\\xc6\\x05VT\\xd4\"C+0\\x9d}j;\\xe4|\\xfe\\x9f\\xca\\xb4\\xaa3\\xbb+\\'\\x17\\xf6\\xd2\\xb4\\xcd\\x0e\\xe5v\\xf5\\n\\xd1Q\\x05u\\xb0\\xf3/dp\\xb9\\x8d\\x86q\\x9cw\\xc7\\xe5\\xcd7\\xa0F\\xc9\\xa7\\x86\\x92|\\xa3\\x06\\x8c\\x8c\\xa9\\xda8<rA\\xed\\xd3\\xf9T\\x14[M\\n\\xf9R\\x89\\x0e\\x11\\x01Q\\xb4z\\xb9\\xea\\x07\\xb94\\x98\\x15F\\t\\xae\\xaf\\xca\\x17\\xdb\\x1ch\\x17j\\x83\\xb1A\\x1c\\x8c\\xf7n\\x99\\xec:\\xfcS\\xba\\r\\x8bJl\\xe0\\x1elQOt\\xf18\\x1b\\x81\\x00\\x04\\xf6\\x00q\\xd7\\xbf4\\x93ltM\\xee&\\x8a\\xfe\\xd9\\x08\\x8d#BK\\xb1\\xc8\\'\\x19 \\x10:v\\xcf\\xb9\\x1f\\x15v@G\\n\\xd2\\x84\\x91ZK6\\x91$\\x0b\\xf3\\x8e\\xe7\\x19\\xc9\\x07\\xa6*u\\x92\\x8b\\xa9c\\xfd\\xe8\\xbb@$1\\xe1I\\xea\\xbb\\x87\\xa9A\\'\\xbep\\x0e=\\xf3\\xf4\\xcd\\xba\\xc1\\xa2E\\x98R\\xf7v\\xa1&\\x85\\xae.$Q\\xe58 \\x1c\\x92][<7 \\x9c\\x83\\xc1=\\xeb\\x1d\\x1a z\\x9b\\x0f\\xf1\\x06\\x81\\x1e@ep]\\x89\\xda0\\xaa\\xdc\\x1cpyld\\x7f:\\x16\\x83\\xc8{\\xb8\\x02X*!ao\\x08et\\xec\\xc4\\x0f\\xcb#\\x9e\\xdd\\xcd\\x08\\x19J\\xe9*\\xdc\\x03\\x08T\\x98l\\xdc\\x01!x\\x04t\\xf6*:\\x8fq\\xcdZ\\xfb\\x13\\xfa+!\\xb9\\xba\\xb4\\xbe\\x12\\x80\\x8f\\x1exp76\\x0fPW\\xaf=sWI\\xaa%6\\x99\\xeaO\\xb3\\x8dJ\\xdfQ\\xf0\\x95\\x87\\xdd@\\xca)\\x0c\\x07\\xbe}\\xbb\\x7f\\xde\\xbb8eq9\\xf9UH\\xdcR\\xde(\\x892e\\x98\\x8f\\xc2+KfX\\x07\\x05\\xaf\\xef\\x81\\xb8\\xc6\\xce\\xa1;\\xd3\\xbfAF$\\x8dC\\xec\\x0b\\xc9?\\xa0\\xa2\\xc0\\x8e\\xa0m\\xec\\xad\\x8c\\xb3\\xc8\\xb1\\xa8\\xc6I8\\xf8\\xff\\x00ZV:9\\x07\\x8e\\xfe\\xd8\\xf4\\xfd#6\\x9a:-\\xd5\\xcc\\x84\\x85q\\x8d\\xaa\\xa0\\xe3?S\\x83\\x8f\\xd6\\xa1\\xcf\\xd0\\xd4N9\\xe3o\\x11k~(\\x91g\\xd4\\xef\\x1c@\\xa7)k\\x1eBD\\xa4\\xf6\\x1d\\xcf\\xc9\\xac\\x9c\\xad\\x97\\xd6\\x8d:\\xdfw\\x99\\xcb\\x05\\x1dT\\x9e\\t\\xf6#\\xe2\\x86\\xc6\\x8fQ\\xfe\\xce\\xd6\\x92\\'\\x86n$\\xbb,#\\x91\\xc1@A\\xc6>3\\xc7\\xe9[CB\\xe4\\xf4u6H\\xc3\\xbb\\xc4p\\xab\\xd3\\xebVd\\x16(\\xe4y\\x9ec\\x95Q\\xd0\\x9aA\\xb6B4\\x9e\\xe2]\\xcaN\\xdc\\xf2M=\\x0bf$\\x81\\xae\\xe4\\xda\\xa3\\xd0\\xa7\\x96\\xf7\\xa1:\\x07\\x9c\\x136.\\xd3yp\\x82#\\x1f\\x89\\x8fz;\\x05xD$\\xb4\\xdd/\\x97\\x10\\xe9\\xc1n\\xd4v\\x06\\xbd\\x19\\xbd\\x02\\x01\\x1c\\x0b\\xea~\\xe7\\xda\\x88\\xbb\\xc8<`\\x9aB$\\xdb\\x1e\\xe2O~i7Y\\n\"\\xeb\\x147q\\xc5\\x19\\xc2\\x7f\\x11\\xff\\x00J\\x13\\xb5`\\xf1\\x845-\\xb2O $\\xed\\x80u>\\xf4\\xae\\x86\\xd5\\x92f\\x86f\\xdb\\xbc%\\xbaq\\xf5\\xa3+ M\\xa1\\x8a}\\xbeW\\xa6\\x15\\xeex\\xcd\\x16\\xc2\\xbd\\x04\\x95#\\x8a-\\x90\\x02\\xd2\\x13\\xcb{R\\xb1\\xd08\\xa1\\x80g8v\\xefN\\xd8Q\\xcf\\xbc\\x7f\\xe0{o\\x10\\xda\\xce\\xca\\xa8&_\\xe1\\x1cdw\\xc6;\\xd6s\\x82\\x91Q\\x97S\\x89jZ$V\\x11Mj\\xb0\\x94h=%I\\xe4\\x1a\\xe3\\x92qgDZh\\xd2n4\\xf8e\\xbaI\\xa3\\x90\\x01\\xc1u\\xecG\\xb8\\xabR\\xc0\\x9a\\'<\\xeb\\x1a:\\xb6\\xdc\\xae:\\x1f\\x8e\\x86\\x9a \\xa3\\xb6\\xf2~\\xfb \\x89\\xb2\\x8e\\x98\\\\\\xff\\x00\\x0bn\\xe9ZP\\x8b-#tn\\xb1\\x9e60PO\\xf2?\\xdf\\xc5K\\x1a7;\\xab\\x7f/K\\x0f\\t;\\xcf\\x1c\\xfa\\xb0\\xc7\\xbf\\xcd)`\\x16MD,\\x97-:#\\x88,\\xe3P\\xa5\\xb22~\\x06{\\x93\\xdc\\xd2\\x18\\xccv\\xe9\\x1d\\x81\\xb7\\xb3\\x96E\\t\\xb8.\\xd1\\x97\\xe4\\x83\\x81\\xf5\\x1f\\x15-\\xe6\\xcaZ\\x13\\xba,\\xa5a\\x91\\xa5\\x95P0\\x0e\\xec\\x02\\x8e\\xf8\\xc68=\\t=r}\\xb1M\\x03\\x1c\\xd2\\x1c\\xc7\\x16\\xcc\\xa2\\xc6\\xe8Y\\xe7bAU\\xc6N\\t\\xe8H\\xe3\\xff\\x00\\xb7\\xc5\\x12\\xcb\\x08\\xa2\\xfa;p\\xb1\\xca\\xb7I\\'\\x94$\\xdc#\\xcb2~\\x1cs\\x8fc\\x86\\x1d\\xf9#\\x8c\\xd62f\\x91Cd\\xbc\\x90\\x10Q.Z?\\xde\\xc3\\x86%\\xd4\\xe0\\xb2)\\xfc\\x89\\xe3\\xb6H\\xac\\xdb\\xa3J($K\\xbb\\xddZ\\xe2R\\xf1\\xe5\\xc1\\xe1\\xb9\\x00\\xf4\\xc1\\xc7`\\x00\\x1fL{\\xd6\\x98Q%]\\x9blp4\\x9a=\\xa4q\\xca\\xb3\\xcc\\x01V*=[\\xc0\\x07q\\x1e\\xd9\\xeb\\xff\\x004\\xad7bj\\xb0k7\\xeaw^\\xb4\\xcap\\xa8\\xc9\\x0f\\xa7\\xd2\\x9c\\x9c\\x15S\\xc9\\x18\\xdcq\\xf4\\xcfCV\\xbc\\x13e\\x06\\xb0\\x96\\xf2$\\x86\\xda\\x19CF\\xd9Y\\x100\\xf8 \\xff\\x00\\x90\\x9e\\x06\\x0f\\x15\\xa4n\\xc9\\x91\\xd5\\xff\\x00g\\x9f\\x1bZ\\xdbj\\xa7K\\xb9\\x99\\xfc\\xfb\\xacE\\x17\\x9d\\x90\\xac\\xdd\\x87\\xb0<\\xe0c\\xae+^5\\xd6T\\xf4\\xc9\\x93\\xed\\x1b[G\\xa1\\x96\\xe1\\xed$r\"\\xf3es\\xd4\\xf4\\x15\\xd3Vs\\xdd\\x160\\x84Kw\\x96@\\xaf1\\x19\\xfc\\xea\\x1b\\xcd\\x15X\\xb3K\\xf1O\\x8e\\xb4O\\n\\xac_~\\x94K\\xa8O&\\xc1n\\x87,\\xb8\\x199\\xf6\\xec?1JO\\xc0$qo\\x17\\xf8\\xb7Q\\xf1=\\xfd\\xba\\xce\\n\\xda\\xcc\\x8d:C\\x19\\xc2\\xa0\\xc8 \\x9cw\\x00c\\xe7\\xae+\\x17+4Q\\xad\\x9c\\x87\\xc4\\x1a3\\xd9\\xea\\nbm\\xcf\\xb4I*\\xaa\\x90\\xb1\\xe7\\x90\\xa0\\x9eO\\x18\\xe7\\xdc\\xe2\\x9ax\\x15P\\xf6\\x9fp\\x97V\\xe6\\x17fs\\x9cm+\\x81\\x9f\\x9e\\xff\\x00\\x99\\xa4\\xcaY:\\x7f\\xd9\\x9f\\xd9)\\xd5\\xa6\\x1a\\x86\\xb7+[ijw\\x0e\\xe6_\\x80\\x08\\xebZF\\x17\\xb1I\\xa8\\x9e\\x89\\xd24K=2\\xc9V!\\x15\\xa5\\x8a\\x8c\"\\x03\\xda\\xb5\\xba\\xc22y\\xcb\\t-\\x9a\\xdd\\x1d\\xd1I\\xe5\\xdb\\x93\\x85l\\xf5\\xa2\\xc5A$\\xd4w\\xca\\x10\\xa6\\xd8G\\'\\xdc\\xd3\\xeb\\xe4V\\x1a\\xe2\\xf84\\x1f\\xb9\\x024\\xe9\\xf3IG\\xd8\\xef\\xd0\\xb7\\xdf\\t@\"!\\x00\\xeb\\xeei\\xd0\\xacj{\\x835\\xa0\\xf2\\xe5\\x11\\xfb\\xe3\\xadJY\\x1d\\xda\\x16\\x1ew\\x92\\x15\\x08\\x0b\\xef\\xdc\\xd5\\x08]9,\\x1d\\x80q\\xd4\\xf7\\xa6\\x07\\xceH*\"l\\x13\\xd8P\\x00\\xaf\\x15\\x86\\x03\\x9d\\x8a\\x07Z\\x10\\x98\\xdd\\xa5\\xd3y\\x016\\xefA\\xdc\\xd2h\\x13\\x06\\xa8\\xa6\\xe43\\x8d\\xd98\\x00t\\x14\\xfc\\x07\\x93\\xeb\\xc6\\xbb\\x17\\xd1\\xc7\\x14\\x80\\xc5\\x8c\\x90\\xa2\\x85T\\'v:\\xf7\\x12\\x98\\xf6\\xa8\\xc0\\xe8s\\xd6\\xa6\\x8b\\xb0-\\xe5\\x85\\xf59Op\\r1\\x1fB\\xaaY\\x88;Go\\x9a\\x18\\x1c\\xf3\\xed/\\xc3\\xc9%\\x95\\xd6\\xa7\\x06\\x15\\xa3\\x8c\\x99\\x17\\x1c\\xb6;\\xd6<\\xb0\\xec\\xac\\xd2\\x12\\xa7G\\x93Z\\xea\\xe0\\xc9\"\\xacO\\xe4\\xf9\\x85C\\xe0\\xe5s\\xdb\\xe2\\xb2\\xa5E\\xdeL\\xde[5\\xa9\\x0c\\xd7D\\x06\\xeaKd\\xfb\\xe0sM;\\x13+\\xe6\\x961#\\x9bc\\xd7\\x9f\\xa7\\xcf\\xc5Z\\x11q\\xa1\\xdeG=\\xec\\x0b\\xf8|\\xd6\\xd8T\\x9c\\xe1\\x8f\\x03?\\x1d*d\\x86\\x8e\\xbb\\x0f\\x87/\\xe0\\xd2\\xa67\\xb1\\xe1A\\xc8\\x18\\xfc \\x7f\\x7f\\xa5\\x12\\x83\\xa0RVr\\xdb\\xab[\\x8b\\x8b\\xb8\\xf4\\xdbW\\x11\\x08\\xb7<\\xcc8\\x1b\\x8f_\\xcf\\x15\\x0bVS\\x0f\\xf7k[(R\\x18f\\x92[\\x99w\\x00\\x91`\\xbc\\x9e\\xed\\xbb\\xeb\\xc6\\x0f\\xb7\\x1e\\xf4\\x9eA1\\xa9\\x05\\xa5\\xc5\\xbc\\x9et\\xe6)\\x07\\xa8\\xc5\\x1ao@\\x83\\xaa\\x93\\xf5#\\xbfc\\xf1Y\\xe5\\x1al<\\x08`\\xcb\\x0b\\xa8%\\x85\\x90J\\xac\\x8a\\x08\\xdcI^3\\xc1\\x03\\x8fa\\x9fsI\\xc8\\xa5\\x12\\xfa\\xd1\\x18Oo\\x14\\xa5d\\x85\\xa4\\x1b\\xa4\\x19\\xc2\\xb3($v\\x04d\\xf1\\x9fo\\xca\\xb0r\\xd9\\xaa\\x88i\\xe0\\xb8hmb\\x82GX\\xc9u\\x1e[`\\xa0\\xcf\\nz\\x821\\xb7\\x9e\\xb8\\xfa\\x9aI\\xd8\\xf4\\x02X\\x0c9*\\x8b\\xf3\\xcf\\xbd[\\xb2U\\x01\\xf0\\xed\\xf0\\x82\\xf6\\xe1\\'\\xf5\\x17\\x1bc#\\xa2\\x8erq\\x8ey\\xfex\\xaa\\x8a\\xc0\\xa5\\x91k\\x8b@\\xd7k-\\xd4b5\\xb5~\\x11\\xb3\\x89\\x18c g\\xdf\\x1f\\xd4\\xd6\\xab\\x08\\xc6\\xca[\\xa9g\\xd4\\x1ai\\xe02\\x13#~\\xf6\\\\\\x902\\xdc\\xfa\\xbd\\xc6I\\xf5w\\xc0\\xcd:\\xad\\x88\\xd6/\\x02\\xc2\\xea-\\xa5\\x13>\\t\\xde\\x99\\x04\\x0e:\\xf3[,\\xec\\xcd\\xfd\\x1d\\xab\\xec\\xfb\\xed\\xfd\\xec\\xb4\\xd8\\xf4\\xef\\x18\\xd9\\xdd\\xde\\xc9l\\x81R\\xfe\\xd7\\r#\\xa8\\xe9\\xe6\\xa9#$\\x0f\\xe2\\x07\\'\\xb8\\'\\x9a\\xd9O\\xd9-Yg\\xe2_\\xb7i.t\\xdb\\xd7\\xf0\\xae\\x9f,Q\\xacg\\x17w\\x80rN\\x14mE>\\xfe\\xe7\\x9e8\\xa8\\x94\\xc4\\xa2y\\xe6\\xf3V\\xbe\\xbe\\xd6$\\xbf\\xbe\\x9eIn\\xe4\\x90\\xc8\\xec\\xe7\\x9d\\xc7\\xfb\\xfeT\\xa8\\xad\\x1dGO\\xb9\\x1a\\x9d\\xbd\\x82y\\xbb\\x8cx\\x0e\\x880]\\x88\\x1bIo`\\x060}\\xeb\\x07\\xb3b\\xe6\\xc3I\\x1a\\xdc\\xbeQ\\xf3&\\xdd\\x90\\xaa\\xe7\\x0b\\xf2Go\\xa61\\x8fz\\x10Q\\xd0\\xfc\\x17\\xf6G\\xa6Y\\\\G\\x7f\\xaaE\\x03N\\x9e\\xa8\\xa2#\\x01\\x07l\\xfb\\xfd+\\xaa\\x10\\xac\\xb3\\x19N\\xb0\\x8e\\x92\\xd1n\\x84\\x1c\\x17H\\xf8\\x04\\x0fH\\x02\\xb52c\\x10@\\x97n\\xab<\\x85\\x97\\xaeOAF\\x83cEb2\\x05\\x8d\\xf3\\xb4\\xe0c\\xa0\\xa4\\x02h\\xca\\x8c\\xeaW?4\\xc4-r\\xac\\xcav5R\\x13!a\\x11\\x81\\x8bJw1\\xa7\\'b\\x8a\\xa0\\xedr\\xb2)\\x85\\x863\\xedJ\\xbc\\x8e\\xcc+<`&\\xe3\\xb4\\xf4\\xa2\\x93\\r\\x031\\xe6L\\x95$\\x8ab\\x0e\\xe7 G\\x1f\\x0e\\x06x\\xedHac\\x8fu\\xbef\\x05\\xd8s\\x8a\\x97\\xbc\\x02\\xd6O\\xa2\\xf3\\x04LB\\x80\\xa7\\xa0\\xa1\\x8c-\\xbd\\xb4\\x8a]\\x94\\xfa\\x88\\xa1\\xb0H\\xccO\\xe4\\x8d\\xe1r\\xfd)\\x003\\xe64\\xa3{a\\xdb\\xb0\\xe8)\\x81\\xf4\\xb6\\xa2\\x19}Le\\'\\x9a\\x14\\x85DRY\\xa1\\x98\\x9d\\x9e`<\\x01\\xd9h\\xc3A\\x9b4\\xaf\\xb6]u4\\x9d\\x02;f\\x9a4\\x9e\\xf8\\x90\\xc4\\x90\\x02F\\xbd\\x7fR@\\xfdk\\x1eYuT\\x8d`\\xad\\xdb8]\\x95\\xb6\\x9f&\\x93wsm\\x86\\x94\\xb1\\x9a|r\\x08\\xe8\\x08\\xaeWm\\x1b\\xad\\x9c\\xfbT\\xfb\\xbd\\xfd\\xe3a\\x89U\\x18\\xda?\\x86\\xb4\\x8d\\xa4D\\xb6R\\xc9\\x1f\\x93>\\xd8\\xf0\\xbc\\xf0\\xc7\\xf9V\\x84\\x9b\\x0f\\xd9\\xfd\\xab\\xdc\\xf8\\xa7K\\x8e0\\x84\\xcbr\\xa3.7.\\xe1\\xff\\x00q\\xd0\\xf5\\xcd0=\\xa0\\xdat7\\x16\\xf2Z\\xe5]\\xca\\x84>\\xc3\\x8c~\\x95\\xbbX\\xc9\\x8d\\xe4\\xf3/\\xda\\xb7\\x87\\xee\\xbc1\\xa9\\xdcG\\x11*\\xf7.\\xcb\\x13t\\x0e\\x1b\\x19\\xe7\\xe9\\x91\\\\\\x8e=]\\x1b\\xa7h\\xd3\\x16(\\xf4\\xd6\\x8e0D2\\x10\\xa2Y\\x9d\\x80\\xea99\\xeb\\xc7\\xc7~\\x94]\\x8fE\\xa4\\x9a\\xb6\\x9bl\\xd2\\xab\\xcb<\\xb1\\x97\\xc1\\x91\\x01BN\\x00\\xc9_\\x91\\x9e\\x87=\\xfb\\xd6.\\x12f\\xaaI\\x17\\x9au\\xd46\\xc5#1\\xbf\\xdd\\xe4vc\\xb8\\x88\\xcf\\xbeT1\\xe3\\x92:\\xf5\\xc9\\x1d+\\x9eQl\\xda2H\\xbf\\xb7\\xd3b\\x104\\xb1\\xbf\\x99gq/\\x9ar=\\xc8\\xe3\\xf2\\xf5\\x0c}+8\\xa7\\'E\\xc9\\xa4\\xac\\x18\\x91,\\x94\\x05\\xe4\\xb33\\x10\\xdd\\xf2\\x07\\x7f\\xca\\xba#\\x1e\\xa8\\xc9\\xc9\\xc9\\x94\\xd7w\\x06\\xe1Q\\x99\\xb8\\x91\\xf2q\\xc63\\xff\\x004\\x87B\\xb6Qy\\x97h\\x01!\\\\\\xed\\'<g\\xb8\\xff\\x00_\\xadZ\\x8d\\x90\\xe4m\\xbfh^\\x17\\x9a\\xc6\\xda+\\xa0\\x19\\xad\\x9f\\xcbi[ny\\x1c\\x12~?N\\t\\xae\\x89q\\xf50R\\xb3\\x9f\\xea+\\xfe#\\xaeGe\\x11\\xf2\\xedQ\\x02\\xb3\\xae\\x00\\xdaX\\xf5\\xcf\\x18\\xe39\\xf7\\xcdJ\\xd5\\x8f\\xe8\\xa5\\xd7\\xdcy\\xd1\\xd9Z\\xc4\\x89#p\\n\\xb9>\\x90N>\\x84\\x8c\\x1f\\xa1\\xedU\\x1fd\\xb2\\xa3U\\x81\\xed\\xc46\\xab\\x16\\xc7?\\x8b\\x8c\\x169\\xe8O~j\\xecF\\xe7\\xa7\\xdb\\xa4\\x1aE\\xba3\\xc6\\xab\\x121m\\xcc\\xa7\\x0cF0zry\\xc7\\\\\\xe4b\\xb2o&\\x95\\x82\\x9fQ\\xf0\\xa4\\x91\\x02\\xf13\\xcb\\x91\\x88\\x82\\xae\\xdc\\xe0\\x81\\x8e\\x99\\xc8\\x1d\\xba\\xe3\\x9ei\\xaeDOZ\\x0b\\xe1\\xd4\\xd4,\\xf5$\\x8aX\\xd3k6z)E>\\xf8\\x1d\\xbe\\x98\\xa1\\xa5-\\x15\\x16\\xd1\\xe9\\xbf\\x02\\xe8Q\\xc7\\xa6\\xc5w:G,\\xb2\\x00q\\x1f\\x11\\xfb\\xfeu\\xb7\\x1f\\x12Yfs\\xe4\\xf0\\x8e\\x87\\x14p\\xdcE\\x8b\\x941\\x1c\\x80\\xab\\x9e\\xd5\\xb3u\\xa3=\\xecv_\\xbb\\xd9\\xe5$\\'\\xc8?\\x85Gz\\x9bl\\x1e\\x06-\\xeem\\x12\\xcfj\\x94_jN\\xc7\\x8a(\\xf5\\xa9~\\xe7\\x0cs@\\xf9r\\x7f\\x08\\x1dMi\\x1c\\xe1\\x99\\xc9\\xd6PId\\x8a6o1\\x80\\xf6\\x02\\x91@v\\tF\\xe8\\xdf$\\xf4ZwD\\xd5\\x91\\x8e)\\xb7\\x92Sv;Qc\\xa3\\xe1\\x06\\xe6\\xe2\"\\x1f\\xe6\\x8b\\nCP\\xe9\\xd7(\\x16V\\xc1\\xe7\\xa1\\xa5\\xd90\\xa3\\x17&s0\\xca\\xaa\\x1a\\x10\\xc5\\xccm\\xb9\\x99I\\xdd\\xdd\\xa8\\x01\\x98\\x12B2\\xa4\\x9e\\xde\\xf9\\xa4\\x04\\xef \\x96$\\x05\\xb7/\\x1c\\x01B\\xc80zi\\x96Y\\x0f\\x9aJ\\xa8\\xe3\\x8e\\xa6\\xa9\\xa4\\x89M\\xb1\\x99\\x95\\x14\\x16\\xdd\\x85\\x1dy\\xa4U\\x98\\x86D/\\x922\\xa2\\x86\\x85vL\\xddB\\xd9\\x08\\xa0\\x11J\\x82\\xc8,\\x88\\xb1\\xb0\\x8c\\x0eNs@\\xce\\x15\\xf6\\xec\\xf0\\xdd\\xeb)o:\\xac\\x89\\x1d\\xba\\x8c7A\\x92Mr|\\x99T\\x91\\xd1\\xc2\\xad3\\x85\\xe9\\xb2-\\x8e\\xaf\\x1d\\xb9\\x91~\\xe9)1H\\x00a\\x85n8\\xe7\\x04\\x8c\\xd1\\x1f\\xd9\\nJ\\x98\\x96\\xaf\\xa4\\xddY\\xdf\\xdcGg\\x13,\\x08p\\x18pH\\xa6\\xa5k\"hEmn]\\xf6\\xcd\\xe8\\x18\\xce\\xe3\\xfd\\x7f\\x9f\\xf3\\xab\\xb1\\x1b\\x8f\\xd8\\xf5\\x9c\\xa7\\xed#BH\\x9d\\x18\\x89\\xb72\\xb7F\\x00\\x13\\x9f\\xaf\\xb0\\xf8\\xa7\\x1c\\xb4\\'\\xa3\\xd8.e,r\\x02\\xe7\\xae\\x07Z\\xe8\\xa3#\\\\\\xf1\\xc7\\x85\\xed<U\\xa7\\xc7m\\xa9\\x02\\xcd\\x13y\\x90\\xc8\\xbc\\x14lu\\xfe\\x94\\xa5\\x05$5&\\x99\\xe6o\\x14x^\\xe6\\xc7\\xc6\\xafi\\xa9[\\xb2\\xc7\\x14{\\xe3-\\xccr\\x80pNk\\x8eI\\xc1Q\\xd0\\x9a\\x96J\\x95\\x82\\xf3dKj\\x91\\xb4\\xec\\xa6Rs\\xb0\"\\xee$\\x0c\\x93\\xd7\\x8e0y\\x02\\xa1\\xb5\\xe4j\\xfc\\x05\\xb6K8\\xa1\\x8b\\xef\\xbb\\t\\xd9\\xe6\\x96p\\x1c\\x9c\\xfc\\xf5\\xfc\\xbe{T;\\x7f\\xc9\\xa4i\\x7fF\\xef\\xa0\\xdc\\xd9\\x8f\\x0f\\xdd\\x0b#\\x88\\xe2*N\\xd58\\xf5t\\xc0\\xe8+(\\xa9)d\\xb95X+\\xaf\\xb5\\x040H\\xc3\\xd6\\x152H<\\x13\\xd7\\x19\\xfe\\xfb\\xd58\\xd8\\x93\\xa2\\xaa\\xf9e\\xb5\\x8dq$Y\\x8d\\xb0\\xa5I\\xc3\\xa7M\\xcaO$e[?\\x1cUDRl\\x7f\\xc3!\\xdbR\\xb41@e\\x83\\xcd\\x0cQ[\\x05\\xf2q\\x8f\\xafLU\\xa9$\\xd2\\'\\xabg\\xaa.4\\xab-K\\xc3RA8M\\xf2\\'\\x02N6\\xb68\\xe0|\\xe2\\xbbZ\\xbc\\x1c\\xba\\xc9\\xc2<i\\xf6sqa\\xa8\\xc9>\\x9f\\x1f\\x9f\\x04\\xaa\\t\\xda\\x0e\\x17i\\xc8\\x03\\xdf\\xdc\\x8a\\xc6\\\\n%\\xc6I\\x9c\\xe6\\xf6\\xc8\\xdb\\xeb\\xb8X\\x98\\xcd<%#v8\\x11\\x9c\\xf7\\xef\\xf1\\xd4qP\\x9e\\n\\xac\\x99\\xf1\\x1f\\x87\\xd3P\\xf3.-d\\xd9,J\\x1d\\xd4d\\x85\\xc2\\x80x\\xees\\x8eG\\x1c\\xe7\\xde\\xa5N\\x86\\xe3y\\r\\xe1;\\xb3p#\\xb3\\xd4-\\xed\\xa3\\x9e\\x1fM\\xb4\\xf1\\xa8S\\x82:dp\\x7f?sJk\\xca..\\xf6n\\xdaw\\x86\\x19n7\\xc6\\x9f\\x8fk(\\xc1b\\x06x<w\\xeb\\x93\\xd7\\xebQw\\x82\\xa8\\xea>\\x15\\xfb1\\xb1\\xb4e\\xbf\\xb8\\xb7C7\\x07xr\\x06s\\x9c\\x8cc\\x9a\\xeb\\xe3\\x85e\\x98N^\\x11\\xd0\\xda\\xd2(\\n\\x81\\xe9\\x88\\xe0\\x92y5\\xb5\\x99\\x0b\\\\\\xab\\xcf!\\x92\\xdd\\xb0\\x83\\x80\\xc6\\x9a\\xfb\\x13\\xfa\\x0bu\\'\\x9b\\x1cQ\\xc4\\x038\\x1d_\\xa9\\xa1 y%*\\xc4\\x96\\xeb\\x19\\x03\\xccn\\xaf\\x8e\\x87\\xda\\x90\\x12m2\\x18c\\x17\\x12\\xb0\\xdc\\x07\\x00\\x9e\\xfe\\xf4v\\xf0:\\xf2SMr\\xd3\\xecH\\xd3?8\\xad\\x12\\xa2\\x1b\\xb2V\\xb6\\x92y\\x9b\\xdeR\\x0f`\\x0fJ\\x1b\\x12\\x8f\\xb2\\xc5\\x14F\\xd9\\xf3\\xce~\\xb5\\x05\\x87\\x0eA\\x07\\xcc\\x14\\x80#\\xdd\\xbb.\\xd30\\xc0\\xf6\\xa5C\\xb0\\x1er\\x87\\x04\\xb0c\\xf3LFL\\xc3\\x9c\\xa8\\x1f\\x14\\x01\\xf4R\\x84\\xfc\\x0b\\x8f\\xa1\\xa0\\t\\xcb;?U-\\xf54\\x007r\\xa4y`g\\x1c\\xd0\\x00]$s\\x96\\x00\\x83\\xda\\x9d\\x85\\x1fl\\x97p\\x1d\\x05\\x16\\x01\\xa5\\xb7E\\xe6\\x17?9\\xa5`\\x08@\\xd8>\\xacP\\x07\\x9e\\xfe\\xdb\\xae\\x05\\xbf\\x8a5\\x02d\\x04F\\xa8\\xa0g\\xa6\\x14~\\xb5\\xc7\\xcf\\x99\\xd1\\xd3\\xc4\\xea6pi.RK\\x82d.\\xb1\\xbb\\x83\\xbf\\xdds\\xc9\\x1f\\xf1Z\\xa5Fm\\x9bv\\xbc\\xc7O\\x869\\xee/\\xbe\\xf3\\x1c\\xf1\\xa4\\xb0`r\\xcaA\\xc1\\xfeX\\xfc\\xab6\\xbfjE\\'\\x8bf\\xa3\\xf7\\xd9\\xa6\\x92I\\x14\\x08\\xa2\\xe7v\\xd5\\xeb\\xf0j\\xea\\x89:\\x1f\\xec\\xf7gs7\\xdam\\x95\\xd4)\\xe7A\\x04rI3\\x0c~\\xe8\\x15\\xc6p~H\\x1c~\\xb5p\\xd8\\xa5\\xa3\\xd6N\\xfc\\x82rk\\xa0\\xc8\\x0c\\x92\\xb8\\x18\\x08H\\xedF\\x05\\x92\\xbbX\\xd1\\xac\\xb5{c\\x0e\\xa1l\\x93\\x02\\xa5rG+\\x9fc\\xda\\x94\\x92\\x92\\xa6R\\xb4p\\x1f\\x13xhx?Y\\xfb\\x90I\\'\\xb5\\x16\\xe2X\\x1d\\x94\\x1d\\xd88\\xc7\\'\\xa8\\xc9\\xe2\\xb89\\xe0\\xd1\\xd3\\xc5#\\x9ex\\x86\\x7f>\\xf2R\\x83\\xd3\\x9fFG*:\\x8c\\xfb\\x1eiq\\xaaC\\x9b\\xb6o\\x7fd\\x9a{k0\\xf8\\x82\\xc4F\\xf8{$\\x95O\\\\\\xba8$~y\"\\x9a\\x8fiW\\xd07Q\\xbf\\xb2\\xac-\\xce\\xa4\\xc7\\xeep\\x84\\xb4\\x81\\x8cl\\xcc?\\x11\\xc8\\xce>\\x98#\\xf3\\xacd\\xd4vi\\x04\\xe5\\x90W\\x9a\\\\O#\\xdd<\\xa4\\xc4\\'*\\x83\\x9c\\xba\\xe7\\x03\\x03\\xb6\\x06\\x7f\\\\\\xd4.J\\xc4K\\xe8\\x9eYk\\xe1kf\\x93U\\xb1\\x8e\\xde\\xfa\\x06B\\xd9\\xd8\\xe0\\r\\xa3=\\xc7\\x19\\xe9\\xb7\\xdb\\x9aqw%hmR\\xc1\\xe9\\xdd>\\xd9\\x12\\x08C\\x83\\xe9Q\\x90[v\\rz\\xeb\\x08\\xf3^Ya<\\xb1\\xc8\\x9b\\x0cjW\\x04c\\x1f\\x18\\xa5@j\\x9a\\xdf\\x82\\xf4]RQ$\\xd6\\xc8$P@e\\xe0\\x90NO\\xf3\\xa9|i\\x94\\xa4\\xd1\\xaf\\xc7\\xf6ai\\xbdX\\\\?\\x98\\x8f\\x95n\\x9e\\x93\\x8c\\x83\\x8e\\xf9\\x1d{\\xd6/\\x81\\x16\\xb9h\\x9d\\xaf\\xd9\\x1e\\x83\\xe6\\t\\xae<\\xc6\\x941l\\x83\\x8c\\xe7\\xa8>\\xe3\\xebN<U\\xb1\\xbeOF\\xfb\\xa5izn\\x99n\\xb1\\xc3\\x1a\\x1c\\x7f\\x16\\xda\\xd5A-\"\\x1c\\xdb\\xd8\\xfc\\x97Q\\x9d\\xb8\\'\\x03\\xa7\\xb0\\xaa\\xa2\\x00Kx\\x98%\\xc9l\\xfb\\xd0\\x90X\\x0b g\\x9flQ\\x84\\x89\\xb9.\\xc7\\x8ao\\x00\\x8b\\xdd;K\\xb5\\xfb\\xc7\\x9b\\xe6\\xab\\xcc\\x068=*\\x1c\\x9d\\x14\\x92\\xd9l\\xbaE\\xbb\\xa9\\xde\\x9b\\x89\\xeaj;\\x8f\\xaa t\\x1bBr\\xc1\\x8f~X\\x9a;\\x87Ts\\x85y\\x88\\xf4\\x90\\xb5\\xd2cAWv2\\xee\\xdf\\x95,\\x0c*K\\xb4\\xf0\\xb9>\\xe6\\x90\\xc3\\x99\\xb2=G\\x14\\x86HK\\x1e9\\xe6\\x90\\x05\\x8eH\\xbb\\x02O\\xd2\\x80\\x0c\\x9e\\xbev\\x9c\\xfd)\\x013\\n\\x9e\\x08\\xc5\\x00I`\\x07\\x81\\x9a\\x00\\x90\\xb5\\x19\\xe4\\x1a\\x00\\x98\\x83\\'\\x83\\xd3\\xe6\\x80&-FFI?\\x9d\\x00Ic\\x84\\x1c\\x12\\t\\xfa\\xd0\\x04\\xc4Q\\x16\\x1b\\x80\\xc7\\xc1\\xa4\\x07\\x92?h\\xf8L\\x1e:\\xd4U\\x98\\xac\\x122\\xcaCg%J\\x82\\x00\\xfc\\xeb\\x99\\xff\\x00\\xe4f\\xeb\\xf8G&]\\'P\\x95\\xac\\x82[\\x97{\\xdc\\xf9*\\xae\\tl\\x1er3\\xe9\\xeb\\xdf\\x1cs\\xd2\\xb4\\xa2,\\xe9\\x9e3\\xd0\\xe1\\x93\\xc3\\xbe\\r\\xb9\\x9c\\x06\\x94\\xe8\\xb1\\xfaA\\xeaC\\xb7_|\\x02\\x05O%\\xc5\\xaf\\xb2\\xa1\\x9b4;\\x85\\x89W\\xcap\\x0e\\t\\xc2/\\xa4\\x0f\\xd7\\xfa\\xd2@\\xce\\xb5\\xfb;\\xe9\\xb0\\x7f\\x8dKw\\x16T\\xc5\\x0b\\x10\\xea\\xb9\\x04\\x92\\x07_j\\xbe<\\xc8\\x99\\xff\\x00\\'\\xa1\\x84\\xa8\\x98\\xe75\\xd1FVH\\\\\\xa1\\xe3nM\\x14;\\x08\\xb2\\x82x\\x88\\xd2\\xa0\\xb3\\x9d\\xfd\\xb9E\\x1c\\x9e\\x17\\x82VG\\xde\\x93`*\\xa6\\xec\\x82\\xa79\\x03\\xaf\\xfd\\xeb\\x0e\\x7f\\xe4\\xd3\\x8bg\\x99o\\x19\\x99\\xc8\\xea\\xeaJ\\xb3\\x02q\\xee2}\\xfa\\xfe_J\\xc6&\\xac\\xee\\x1f\\xb3E\\x93\\x8b\\x9df\\xed\\xc0UH\\x92\\x00=\\xf2r~\\x9d\\rW\\x0ey\\x1f\\xd2\\x1f.8\\xd7\\xdb3\\xe3[\\x18\\xecu\\xbdR\\xce\\x08\\xc41\\xb3oO`\\x1b\\x9e?\\x9dq\\xfc\\xb5S6\\xf8\\xee\\xe2s\\xcdB5\\xb3\\xb7\\x9a\\x07g}\\xad\\xbf$\\xe3\\x19\\x04\\x7fSQ\\x07\\xdbF\\xb3U\\xb2\\xcb\\xc0\\xba|r\\xf8\\x8bGD\\x8ab\\xbfyQ\\xb0K\\xb9\\xc9\\xe9\\xd4\\x1fn\\xb5\\xac[sH\\xcd\\xa5\\xd5\\x9e\\xa2\\x8e\\xd2\\x7f0F\\x98q\\xd7\\x83\\xd3\\xe2\\xbd[<\\xea1,O\\x14\\xa5$S\\x9f\\x8av\\x14E\\x1b\\x9c\\xed\\x14\\x01\\xf6\\xff\\x00O\\x1dh\\x02!\\xc9^H#\\xa6(\\x02\\x1b\\x9c\\xbe\\xd4\\x198\\xc9\\xcfj`Cl\\x8c\\t*@\\xa0\\x0c\\x88\\xbc\\xc5\\x1b\\xff\\x00\\x05\\x17AD\\xc5\\xaa3e\\x98\\xb0^\\xdd\\x80\\xa3\\xb0\\xa8b\\xc9\"\\xb6F\\xdb+\\xa9\\'\\'\\x1cRn\\xc6\\x95\\x0fG\\xa9l\\xe4M9\\x1e\\xdb\\xaa\\\\P\\xec\\xfa]rR\\xe7cH1\\xdb4t\\x15\\x952\\xc1\\x04\\x08Y\\xc6[\\xb0\\x15\\xa2\\xc9-\\xd1\\x9bo2H<\\xb6\\xf4@O*:\\x9f\\xce\\x86\\x92\\x12l}\\xe1\\xb7H\\x80\\xf2\\x94\\x8cu=j\\x0b+\\xe6\\xb7\\xf5~\\xed\\x06O\\xbfj\\xa4&\\xc7\\xad\\xed\\xa1\\x89I\\x9cn\\x18\\xa9`FE\\x12>\\xd8\\x13d\\x7f\\xe7n\\xbf\\xa5:\\xf6\\x17z\\x08\\x13j\\xe01$w4\\x86MU\\xff\\x00\\xcd\\xcf\\xd2\\x8a\\x02E\\\\!.\\xf8\\x03\\xd8QH,\\xfa\\xd6?8\\xb3\\x92\\xcc\\xa3\\xdc\\xd0\\xf0$[C\\x14>P\\n\\tc\\xd8%C(R}.[\\x80v\\x97\\x89;\\xfa\\xa9\\xa9$*\\xb0\\xf6\\xfab\\xc2\\x9e\\xa2\\t\\xfaRr\\x1d\\r\\xfd\\xce4L\\x94\\xc9\\xc7Z\\x97!\\xd1\\xe3?\\xda?\\xcc\\xbb\\xfbQ\\xd4\\xad\\xa5\\x9e(m\\xdax\\xe2\\x0eIa\\x1a\\xaa($\\x81\\x93\\xc6k\\x14\\xaem\\x9a\\xbcE\\x1c\\xde\\xdd\\xe4\\x12+\\xfd\\xe5$H\\x01\\x9e!3\\x85v\\\\\\x80\\x062r\\xc7\\x1f\\x87=9\\xce\\rjA\\xe8/\\xb4\\xdf\\x0e\\xdci\\xdfd^\\x16\\xd5/c\\x8d\\r\\xad\\xbd\\xbcwK\\x1ac\\xc8YS\\x8c\\x7f\\xf1;F(\\xe4\\xfd\\xa2\\xbe\\x82\\x18l\\xf3\\xad\\xf4F\\t\\x99\\xa0\\x90O#\\xb0]\\xc4\\xe4`\\xff\\x00}j\\x10\\xd9\\xdd\\xbfg0\\x92\\xeaw\\xd6r\\x062%\\xa2\\xc8\\xcc\\xab\\x85L\\xbfO\\xcf#\\xe2\\xaf\\x8b\\r\\xb1O(\\xf4\\x0cvQ\\x90\\x15B\\xe4\\xfb\\xd6\\xd6gD$\\xb5\\x10\\x9f\\xe1\\'\\xe2\\x9faQ\\x90\\xaexP\\x00\\xf7\\xa0g8\\xfby\\xdb\\x07\\x85\\xac\\xd6Y\\x0f\\xef.\\t\\x03v?\\n\\x1ez\\xfd+\\x9b\\xe4\\xbf\\xd5\\x1aq\\x7fG\\x9b\\xaf\\xf2.\\xa4Y\\x19\\x84jr;\\x86\\xe8H\\x1e\\xe4\\x829\\xc7\\xb5a\\x1d\\x1b=\\x9d\\xf3\\xf6l\\xb5\\x11xWP\\x9dP\\xcd=\\xcd\\xc0D*s\\x9cs\\x92~\\xa6\\xb6\\xf8\\xea\\xe5\\'\\xfe\\x13\\xcf*\\x8cW\\xfak?i:\\xa8\\x97\\xc6\\x97\\xcc%\\x8cE\\x1b\\x18IF\\xe0\\x85\\x18\\xce{\\x9c\\x83\\\\\\x9f%\\xf6\\x93\\xa3o\\x8e\\xa9Y\\xcd|S~\\x97\\xd6\\xc9\\x14A\\x83\\x0f[8\\x1f\\'\\x82\\x7f\\xbejx8\\xdc]\\xb2\\xf9\\xa7j\\x8e\\x9f\\xfb3hF\\xf7[\\xbd\\xd6\\xa7/\"\\xd8\\xa7\\x93\\x11+\\x80g\\x90z\\x89>\\xea\\x9f\\xff\\x00\\x7f\\x15\\xdd\\xc3\\x0c\\xb9\\x1c\\xd3\\x95F\\xbd\\x9e\\x87\\x92\\xd4g\\x87d#\\xfc\\xa6\\xb79\\xc5\\xa4\\xb6$\\xf3#\\x13\\xed\\xde\\x98\\x101\\x1c\\xf3\\x81\\x8fq@\\x18\\xc0b\\x01\\x90n<a{\\xd3\\x03\"\\x00\\x8d\\xb7\\xa3t\\xcd 2#\\xda\\t\\\\\\x12;\\xd0\\x04|\\xb9\\x08\\xc60)\\x81#\\x01\\x03\\x921\\xd7\\xe9E\\x81\\x1e\\x01 t\\xe9@\\x11\\xc1#\\xd8P\\x07\\xcc\\xbb\\x7f\\x17\\xe9@\\x02\\x91\\x82\\xa8\\xc9\\x07<S\\x11\\x02\\xac]\\xb3\\x1c\\x8cw`\\x928\\x07\\xda\\x9d\\x8a\\x82\\xa9\\x98\\xb0`\\xbbc\\x1d\\xb1R1\\x81q\\x0b\\x80\\xac\\xcb\\xbb\\xd8rMH\\xc5_R\\xb4\\x88\\x94-3\\x95\\xcev\\xc4\\xc6\\xa9&\\xc9\\xb43\\xa6\\\\\\xc3v\\x8d,\\xe2kx\\xf3\\xb60\\xeb\\x82\\xe7\\xe9JV\\xb45Od\\xfc\\xd2\\xd7\\x0e\\xa8\\xad\\x85#%\\xbac\\xbd!\\xf9\\x08\\x92\\x02\\xab\\xb1w\\x93\\xc9|\\x8d\\xbdh\\xb0\\x18\\x8cG\\xe5\\xefi\\xe3\\x04\\x92\\x06\\xdf\\xe1\\xfa\\xd2\\xec\\x14+<\\x91>\\x02\\xdc\\xc4\\xe4\\xe3*}8\\xff\\x00z\\xa4\\xd8\\xb1\\xa1\\xbb)\\x9da\\xd8\\x9b\\x0f|\\x81\\xc7=>\\x9c\\xd4\\xb1\\xa01\\xf8\\x8d!\\x960=LHV]\\x9d\\xfb\\x8e)U\\x8e\\xcb\\xd8u\\xb8\\xe4\\x95 XCH\\xe3!U\\xf9#\\xdf\\x9a\\x8e\\xa3\\xb0\\xb1\\xea6\\x8f#$\\x85\\xd1\\x87@P\\x9f\\xcb\\x8e\\xf4S\\x0b%.\\xa3n\\xa3\\x85w\\x8b\\xbb\\x81\\xc0\\x1f\\x9dKLvy;\\xf6\\xa1\\xf0\\xed\\x8ax\\xa2\\xd3\\xc46\\xd3\\xcc\\xdau\\xfb\\x81v\\xb1\\x80LR\\x81\\x83\\x8c\\xf1\\xea\\x00\\x1eN84\\xab\\xab\\xb7\\xe4\\xbb\\xec\\xb0Q\\xfd\\x91x:\\x7f\\x1e\\xf8\\xd2\\xda\\xfbT\\xb5\\x8e\\xdf\\xc2\\xb6EE\\xce\\xe3\\x88\\xd8\\')\\x12\\xb1\\x19\\x91\\x99\\x86X\\xfb\\x13\\xc8\\xf4\\x8a\\xd3/$h\\xf5_\\x8f,l\\xbcO\\xe0\\xbdsK\\x96\\xe2=\\xb7\\x96\\xb2*\\xb7\\\\\\x107\\x02\\x07\\xc1ZM`\\x13\\xc9\\xe0{\\xfbo\\xbb96\\xcb\\xb1P\\xa9`\\x17\\xf1\\x13\\xf5<\\x81Y\\xc5\\xd9mQ\\xda\\xbfe\\xe9L\\xba\\x9f\\x88U\\x1c\\xbc\\xe6\\x0b\\x7fJ\\x0c(\\x1b\\xdb\\x8c~\\x95\\xac\\x08\\x91\\xe80\"\\x8f\\x99\\xee\\x15W\\x1c\\x82\\xe0\\x0c\\xd6\\x96\\x88%l\\xd6\\xec\\xdb\\xa1\\x95%\\x1f\\xf46\\xea\\x13O@4d\\x8a\"\\x16F\\n\\xe7\\xb3q@\\x1et\\xfd\\xabu\\xa5\\xb6\\xbd\\xd1- ;\\xa6\\x92\\xd9\\xa49\\xe8\\xaa_\\x8f\\xd7\\x15\\x87\"\\xed$i\\x07G\\t\\x8fP\\x96Efp#g\\x18\\xdc\\x7f\\x88{\\x0f|\\x90\\x7f\\xb1Q\\xd6\\x8b\\xb3\\xd2~\\x0e\\xf1\\nx_\\xec\\xae\\xd94\\xe6\\x8c\\xdf\\xdd\\x92\"\\xcf!\\x13h\\xdf\\'\\x1f\\'\\x8c\\xf7\\xfaV\\\\\\\\\\x8e1\\x97\\xbb5\\xe6\\x8fg\\x15\\xf4r}J9\\xf5;\\xe3\\x0e\\x9f\\x1c\\xb7\\x17\\x8a\\x18\\xa4\\x11\\x90\\xd2J\\xc1K\\x1c/\\x04\\x9c\\x02p98<V\\t9K\\xfd5\\xc4bk\\x1a=\\xbd\\xde\\xbd\\xaa\\xdbX\\xd8\\xc2^\\xeey\\x16(\\xe3\\nybp\\x0e>;\\xe7\\xd8\\xd7TcXF\\x17\\xd9\\xdb=\\x95\\xe0\\x0f\\x0e[x7\\xc3\\x96\\xdaU\\x96\\xf9\\x04y\\x92Y\\x9cz\\xa5\\x95\\xbf\\x13\\xe3\\xb7\\xc7\\xc0\\x15\\xd8\\x92J\\x8eyJ\\xd9\\xb6\\xa2\\x93\\x0e\\xfc\\x81\\xbb\\xf8\\x8fj\\x04,\\xc0nb\\xbf\\xd6\\x98\\x88/\\x94w\\x02\\xea\\xcd\\x8e\\x9e\\xd4X\\x12\\xb7\\x89e\\x95\\x96\\r\\xa4\\xa8\\xc9\\xe4\\x0f\\xe7C`\\x91\\x89\\xa2x\\xe5\\xc4\\x8aT\\x8e\\x99\\x14&\\x01\\x00\\x1bB\\xa0\\x18\\xef\\xceh\\x03\\r\\x12\\xb6\\x0f%\\xcfV\\xcd\\x00\\x0eh\\xc3(S\\x85\\x03\\xdb\\xa9\\xa1\\x00\\xb8\\xb6`\\xe4\\xee-\\x1f<\\x0e*\\x80\\x1bZ\\xee\\xceY\\xb3\\xee\\x1c\\xf1@\\x89\\x9br\\xc25>\\x90\\xa3\\xb0\\xff\\x00Z\\x00\\xc40$-&Hb\\xe3\\x1e\\xaeH\\xf8\\x03\\xb5\\r\\xd8#d\\x9a\\xcc(|\\x06\\x1b\\x878\\xe8G\\xcdb\\x99e\\x1f\\xdd\\xe1P\\x12@C\\x96\\xe4\\x13\\x95Q\\xda\\xb4\\xa2l\\x92\\xe9\\xd0\\x80\\xc65\\x8a6\\x90r\\xc0\\x90\\xd8\\xa5\\x90\\xc1\\xf5\\xf5\\x80\\xf2\\x82\\x18\\xba\\x90D\\x8d\\xd4\\x7f\\xb5$\\xd8\\xdaT/v\\xd7\\x1ep\\x0evl\\x03\\xd4S\\xe3\\xaf~\\xd4\\xd0\\x0b\\xc8\\xfedG\\xce\\x966\\x0cq\\xebb\\n\\x8aH@-n,\\xac$YbC\\xe8\\xe3\\x8c\\xba\\xfd@5M9`X\\x8eC\\xda\\xce\\xda\\xa4\\xe5\\xf0\\xc1Y\\x8e\\xe9B\\x8e>\\x83\\xb7\\xd6\\x8e\\xbdPv\\xb0\\xba\\xa5\\x94i\\x0cq\\xcd\\x1a\\x9c\\x92\\xcd*\\x83\\x9cg\\xa3\\x1aI\\xbb\\x1bV\\x84\\xd3d@-\\xab\\xa4j\\x0e\\xef*2\\xdb\\x0f\\xd7\\xe6\\x86\\xefaU\\xa1\\xe93 \\xc4\\x0c\\xb1\\xe0\\x83\\xd0\\x05c\\xeesK[\\x19?\\xbc4E\\xcf\\x9e\\xef&9e\\xc2\\xf1\\xec(\\xab\\x00)q!\\x9f\\xd4\\xf2\\xede\\'+\\x93\\xb7\\x1d\\xbf\\xe2\\x93@gk\\xdc#\"\\x97d$)\\x0eI\\x1f<\\naD\\xb5\\x1bK\\x16\\x1b\\'\\x10\\xdc\\xc20\\x02\\xcf\\x06\\xee\\x9d8\\xc7\\xbdM\\xb7\\xe0z\\x03\\x7f#\\x8b/%\\xe7[k|zC\\x10\\x14\\x9e\\xe0\\x02*\\xd6]\\x92\\xf0P\\xeb\\xfe,\\xd3\\xb4-\\x1e\\xea\\xe5\\xf5Kc{\\xf7WX-\\xdd\\xc0\\x92V*@\\x01z\\x8c\\x9a\\xcerIS\\x1cs\\xa3\\xc8>\"I#vh\\x8eF6\\x92s\\xdb\\xbe:t\\x1f\\x15\\x8c\\rdt\\xcf\\xd9zt\\xb7\\xf1N\\xb3o<\\x03|\\xfaz\\xcc\\x19\\xfb\\xec\\x90\\x7f#\\x90y\\xf6\\x15\\xa4^i\\x13%\\x8b=\\x05=\\xccR\\x16Ft{\\x86 *\\xec\\xc1c\\xec\\t\\x15\\xad/&w\\xe8\\xb8\\xd2\\xe1\\x82$I.\\x19\\x83\\x16\\xcb!\\n\\x14/v\\x00rNz\\x9a\\x86\\xd2\\xfeJ\\xff\\x00MK\\xc6\\x9e;\\xb1\\xf0LG\\xce\\xb8\\x8aw\\xba2<(T\\x19\\x1dG\\x05\\x8b\\x1c\\x04\\\\\\xf1\\xdf\\xe2\\x89\\xc9%\\x95\\x90I\\xf8g\\x91\\xbe\\xd4<Ku\\xe3\\x0f\\x14M\\xac\\xce\\x98\\x88\\xa2\\xc1\\x1e\\xcc\\x94E\\\\\\x80\\xa0\\xff\\x00y\\xeb\\xde\\xa1[\\xcb.\\xabF\\xb1\\x07\\xa09\\xe78\\xc6(`vO\\x0f]L\\x9e\\x1a\\xb2\\x82\\xfe6\\x82{xY\\x0cn\\x08d\\xf5g,1\\x91\\x9e+\\x87\\x97\\xf5m#\\xae?\\xb5?\\xa3E\\xf1E\\xdcoy\\x1a[\\xc8\\x04\\xab\\xfb\\xc6\\x91Tn\\x0f\\xdb\\x0c\\x0f\\x04\\xf1\\xf4\\xc7\\xcdi\\xc3\\x16\\xb2\\xcc\\xf9d\\x9b\\xa4w\\x1f\\xd9s\\xc2\\xea\\x16\\x7f\\x18j\\xab>\\xc9\\x0c\\x96\\xbaxe\\xc8\\x94\\xff\\x00\\xee\\xcc\\t\\xe7\\xfe\\x9c\\xfb\\xee\\xf9\\xae\\xb8\\xc5\\xec\\xc5\\xca\\x95{;\\xf2\\xdfZ\\x071nx\\xed\\x82\\xf0\\xa8\\x06\\\\\\xfc\\x9e\\xe6\\xad\\xd9\\x9e\\t\\xee\\x82[\\x8fE\\xd4V\\xf1\"\\xf0f!\\x9b\\x9f\\xfaz~}h\\xc8`\\xfaD\\xb4\\xb8\\xb6[}6h.\\xa5F\\xf5H\\xeb\\x84\\x1c\\xe4\\xee?\\xedE\\xb5\\x96\\x18xA\\x97M\\x8c\\xbb\\x07\\x9a\\xd2(\\x14d\\xc7\\x00\\x04\\x93\\xfe\\x94~@\\xea/g\\xa6\\xb4\\xe5\\xe6\\t3\\xc3\\xff\\x00\\xb5\\xb5W\\'\\xdf\\xa9\\xa6\\xe7X\\x05\\x1f$\\xef\\xac\\xa6\\xb5\\x8a70\\x99\\\\\\xe4,i\\x86n\\x9f4)&&\\x9a\\x12[K\\xfb\\xbc\\x19-\\xe6\\x8b\\x03\\xab\\x00\\xbbG\\xd6\\xab\\xb2AM\\x91Ho\\xd4\\xc7\\x1cp\\x96\\xcf\\x02DVe\\x18\\xfe\\xfa\\xd1h)\\x91U\\x9d%qs\\xbc4x-\\xb9v\\x01\\x9e\\xc3\\xde\\x8bU\\x80\\xa0\\xae.<\\xaf:\\x18I\\x8cq\\xea\\x18\\x00\\xfc\\x93E\\xad0\\xa6%-\\xd5\\xf4L[\\xfc2Y\\x11p7\\xef\\x006\\x7f\\xcb\\xcf?\\x95Z\\xeb\\xec\\x86\\xe4\\xbc\\x06\\xd2\\xae\\x1fT\\x96h\\x1e\\xd6\\xe2\\xd1\\xd3\\x19Y\\x94\\xa38=\\xc6q\\x81JK\\xaelj\\xde\\xd1\\xb1[\\xd8\\xc6\\x9bAX\\xe3\\x18\\xc0\\xc1\\x1c\\xd6nE\\xd1U{\\xa8O1\"!\\xb3\\xd8\\x1ej\\x92Kbe$\\xd6\\x92\\xbb\\x97\\x9e\\xe1\\xb1\\x8ex\\xc5j\\xa4\\x96\\x91\\x9f_lv\\xde\\xfe\\x08\\x89\\x11\\x9d\\xc0\\xe0s\\xcf\\x03\\xe4\\xd48\\xb6;Hv-A\\x1c\\x94\\x8a\\'h\\xcf\\xf9\\x8esS\\xd5\\xa2\\xaclj\\xad\\x8d\\x8di\\x1e@\\xc1\\xcbt\\xa5\\xd4v\\'3\\xa4\\x8c\\xbf\\xf9t\\x05z\\x1c\\xf3\\xfa\\xd3HF\\x16\\x08K\\x166\\xf1\\xa9=\\x87J`XY=\\xba\\xba\\xac\\xab\\xb1~:f\\xa5\\xd8\\xd1v\\x90+\\xa0*\\xca\\xcb\\xdb\\xbdeeQIy\\xe1\\xd8\\x8b\\x12\\x89\\x90z\\x00q\\x8f\\xf7\\xabR\\x13E{hRD\\xaa\\x02\\xe0\\x93\\xdb\\x9f\\xf8\\xa6\\x9a\\x15\\x00\\xfb\\x84\\xf1\\xe4b\\xdd\\xe3\\xdeK;\\xe5\\x1dG\\xb0\\x1c\\x83\\xcf\\xc51\\x00\\xd5\\xec/\\xad\\xec\\xfc\\xfd6x\\xee\\x9d\\x082\\xc5\\xb1\\xb7\\x85\\x1f\\x89\\x90\\x0f\\xc4q\\xdb\\x19\\xef\\xcfJ\"\\xd3t\\xc6\\xd3\\xac\\x1a\\xec\\xba\\x9d\\xf5\\xec\\xee4b\\xf7\\xd0\\xa0\\x1eds[\\xf9d|\\x13\\x80\\x7fJ\\xd1A/\\xef\\x06nM\\xff\\x00#\\xcd\\x7f\\xaaMd\\x99\\xb5\\xb7\\xb2\\xbb\\x052VI\\x1c\\x95\\xcf \\x82\\x0e\\xdc\\x0c{\\xd4\\xf4\\x8a{\\xb4U\\xc9\\xac\\x81\\xd4,\\xb5\\xcdKG\\xb9\\x8b\\xefz\\\\WR+,r:\\xc8\\xc5\\t\\x07\\xd5\\xc2\\xf5\\x19\\xf6\\xf9\\xeb\\x8a\\x99%_\\xa8\\xd5\\xf99d\\xdfb\\xfa\\xd3a\\xd2\\xff\\x00OiA\\xdc\\xad\\xfb\\xd3\\xfa\\xfas\\\\\\xff\\x00\\x8aW\\x86\\x8d\\xd4\\xe2V\\xea_a\\xde,\\xb9\\xb8\\x05u\\x1d\\x16\\x1bwb\\xec\\x1cNN3\\xd7\\xff\\x00O\\xb8\\xcf\\x19\\xff\\x00zq\\xe2\\xad\\xb19\\xaf\\x06\\xe7\\xf6q\\xf6Oq\\xe1]b\\xf7S\\xbf\\xd4\\xe1\\xb9\\xba\\x9a\\x1f\\xbb\\xc6#]\\x88\\x91\\xe4\\x1eA$\\xee\\xe0\\x01\\x8e\\x00\\xf7\\xab\\x8cTE)v:TPI\\x0cAb\\xfb\\xbb\\xa1l\\x92\\xd2\\x12\\xcd\\x8f|\\xff\\x00\\xa5\\x14M\\x98Wh\\x1ey\\xb6\\xdb\\xac\\x8f\\x80_%\\x8a\\x8e\\xc0\\x7f\\xc5:ag7\\xfbY\\xfb4\\xff\\x00\\xc7\\x17\\x967\\xc3UK;\\x98`\\xf2QQ<\\xc5oV\\xe1\\xb8u\\x18$\\xfeTu\\xb0L\\xfb\\xc0\\xbfe\\xb3\\xe8\\xf3^\\xc7wu\\x05\\xf6\\x91vcY\\xac\\xd7N\\x11\\xc2YP\\xae\\x06\\xf9\\x19}Y\\x198\\xcf\\x03\\x04d\\xd2\\xeb\\x8d\\x8e\\xf3cP}\\x8exN\\xd8\\x19 \\xd0\\x18\\xcc\\xbeg\\xef\\xa4\\xb8v\\x11\\x86]\\xbc\\x068\\x1bz\\xa9\\xec\\xdc\\xfcT\\xb8\\xfd\\x8f\\xb7\\xd1\\xaf\\xeb\\x9fcz%\\xe4\\xd2\\xc9\\x16\\xb7\\xaa\\xdbM*\\xed+\\x1e\\xc9\\xd4c\\x83\\x9e\\x14\\xf21\\x92[$\\xe5\\x89\\xc9\\xa3\\xf1!\\xfeB\\xdf\\xc1\\x7ff\\xfe\\x16\\xf0\\xfe\\x8b-\\x8e\\xa3\\xa0Yx\\x82\\xe1\\xdd\\x99\\xaf\\xee\\xad\\xb6H\\xca\\xdd\\x06\\xdd\\xc7f=\\xd4\\xfc\\xf0j\\x9c_\\x81w\\xf4nv\\xb2Ge\\xa7\\xdb\\xd8X\\xe9\\xa2\\x1bHa\\x10E\\x14\\x93\\x92\\xb1\\xa0\\xe1@\\x18\\xe2\\x8f\\xd8N\\x98\\xe2\\\\/\\x97\\x14q\\xc6\\x90\\xc8\\xa0\\x07$\\xb3o\\xc7R}\\xb3M9y\\x13\\xa3>k\\xa3\\xc9\\xf7i\\xd1\\xc4\\x8d\\xb7\\x13\\x068^\\xb9\\'?\\xd3\\xf5\\xa7\\x96,#\\xef5\\xde\\xee\"\\xec6\\x81\\xb3j\\x80\\x10\\x7f\\xd5\\x8f\\xe5\\xfe\\xf4dx\\x1a\\xb77\\x11\\xa9y.R\\xd5f\\x05I\\x8a I\\xf6\\xf8#\\x1f\\x98\\xa5\\x90\\xa0r\\xcfu\\x0c\\xce\\x82\\xeeic\\xdb\\x80\\xbb\\x19\\x00\\xf6\\x18\\xcf\\x1fZu~\\x04)$a\\xafA\\xb9Y\\xa5y=L\\xce\\xcd\\xe9\\xc0\\x18\\xe4\\x1fnq\\x8f\\x8f\\x9a\\xa5u\\x814\\x8be\\xb9\\xbckUB\\xdb\\xd0\\xae\\xdd\\xfef\\xc6E\\x1d\\x06:\\x13\\xf5\\xe6\\xa2\\xb2S`g\\xb9\\xb8\\x10\\x01\\x1c\\xd7\\x80\\xa0\\x1e\\x8f<\\xe0\\xfc~x\\xa7B\\x01\\xf7\\xedM\\xa6\\xcc\\x16N^B7\\xca\\xd3z8\\xf7\\xceO<r)\\xa8\\xfba\\xfe\\x17q\\xdb\\xdf\\xde\\xa1h\\xf7\\xf4\\x01E\\xcc\\xbb\\x82\\xf02v\\x82A\\xefS\\x84:\\x16\\xba\\xd3\\x96w\\x88Oz\\xd0\\xbd\\xb3\\xe5p\\xaa\\x01\\xf9\\xcf8\\x1d\\xf1\\xf9U&,l9\\xb8/*Es,W\\xd6\\xd1\\xe5\\x83\\xc6\\x99+\\xc7\\\\u\\xcf\\xf2\\xe6\\x95yA~\\xc0_\\x98\\xe5\\x90\\x98\\x10\\x898\\t\\x1a\\xa9]\\xca?\\x8b\\xda\\x9a\\xb5\\xb10\\x93\\x8b\\x86B!\\x8c.z\\x93\\xc95j\\xbc\\x88\\xa9\\xbc\\xb0\\xbb\\x9f&WX\\xd4\\xf5\\xc9\\xcekH\\xca(\\x97\\x16\\xc4\\xd6\\xc4G(\\x13L$A\\xd1\\x10Uw\\xbd\\x13\\xd2\\x8b[Ye\\nBF\\x14\\x1e\\x06{\\n\\xcd\\x94\\x86!\\x8a^I9\\'\\xe2\\x93\\x1a\\x19\\x8e\\t\\x0f$\\xf3\\xf4\\xa9\\x18U\\xb4\\x7f\\xae}\\xe8\\xb0$m&\\xed\\x81J\\xc6\\x16\\x18\\xee \\xc9\\x8d\\x8a\\x9f\\x83I\\xd3\\x01\\xd8u&\\x1e\\x8b\\xa5#\\xfe\\xa5\\xa8\\xeb\\xe8\\xab\\x1b\\xcd\\xbc\\xfc\\xa9\\x0fF@\\x18\\xb7\\x88d\\xed\\xe0\\x9f\\x8ei\\xd8\\x81\\xbcp\\x05,\\xeb\\x81\\xee\\x1b\\x14\\x01Y5\\xc5\\xb9\\xfd\\xcc\\x0f( \\xf2@\\xce>\\xb5]X\\xacN\\xe5c\\xf5<\\x91\\x9b\\x80\\x07\\xab\\x0f\\x81\\x8f\\xa7ZhA\"\\xf3\\x1a\\xd5c\\xb4\\xb5\\x8b\\xcb$\\x90\\x8a8\\x1f<\\xd1\\xfe\\x8c\\x11\\xb3\\x984\\x82H\\xd5$\\x7fPf\\x18\\x0b\\xf1\\x81\\xfdh\\xc0d\\x15\\x8d\\x9d\\xe5\\xcd\\xc4\\x8a\\xcd\\xe8\\x1c.\\xe5!s\\x9fpzb\\x87I\\x02\\xb0\\x8da,\\x11\\x97\\xb8\\x81V@\\xe4\\xb2\\xab\\xee]\\xbf\\x19\\xe6\\x95\\xaf\\x00\\r%\\xb7\\xf3JE\\x14\\xd6\\xf7\\x18\\xc9\\x980\\xe9\\xfe^\\x9f\\xca\\x9b\\x8b\\x15\\xa0\\x13\\xd9\\xc9t\\xc0,\\x92F\\xf8\\xc6T\\xff\\x00\\xbeqB\\xc0\\xf6\\x17\\xeep\\x8b\\xb6\\x9a[iX\\xb0\\n\\xe1\\xa4\\xdd\\x9e\\x088\\x1d\\xba\\xf3\\xde\\x8bt\\x14\\x1d\\xaf\\xa6@\"\\xb7\\x8d\\xa2\\xb6\\x04\\r\\x80\\x00p;g\\xfd\\xbfZ]o,,\\x95\\xd5\\xcc\\x13@C@\\xe4\\x16\\xe8\\xe47\\x18\\xfe\\xfd\\xe9uv;+\\x8d\\x9c\\xcf*\\xcb\\x04E`\\x04\\x16\\x8cF\\x187\\xff\\x00oj\\xa5\\xf6,\\x92\\x9e\\xc7v\\x1b\\xc9\\x82,\\x93\\x95y\\xf7\\x11\\xf5\\xa2\\xc0X\\xdb\\xc1\\xe6\\xba/\\xad\\x82\\xf2|\\xdc\\x8f\\xccc\\xfdi\\x81(l\\xcb\\x17!r\\xb1\\x8c\\xef\\x08ph\\x00\\t4Q<\\xbc\\x8c\\x8f\\xc5\\xecO\\xd2\\x9d1Y=\\xe1\\x81\\xc4bbGD\\x03?\\xcc\\xd1@\\x1bD\\xddre\\xf3 kX\\xa2\\xfc*H$\\x92;`\\xe0R\\x9cR\\x1cX\\xeb\\x07q\\x94|\\xb0\\x18\\x00\\xae\\x07L\\xe0\\x9aUC\\xb3\\x11\\x16a\\x87\\x85Y\\xf1\\x80Y\\xf1\\xdb\\xb6:QB\\xb1\\x98\\xed\\xe3VS P\\x8a\\xa4\\x85U\\x04~y<\\xd012!\\xfb\\xda\\xc7k*\\xc9t\\xdc*\\xbe@\\xce3\\x83\\xef\\xc74\\xe9\\x8b\\xce\\t\\xa9\\x8a,\\x9b\\xa0B\\xa9\\xdaDH0\\x0f\\xb7\\x1f_\\xe7J\\x9f\\x81\\xd8\\xe3\\xb5\\x82\\x8d\\x869\\xd7\\xfc\\xc0\\x85J\\x9ac\\xb4W\\xdf$W\\n\\xab\\x14R*\\'*\\xb2K\\xc8>\\xf5QM\\x12\\xf2\\',W\\xd2:\\x98\\'\\x86%U\\x01Z1\\x82\\x08\\xcf>\\xe4\\xf3U\\x8f\"\\xc8\\xac\\xf6\\x9a\\xa4\\xef\"\\xcb{1\\x8f\\xf1\\x18ZC\\xb0\\xfb\\xee\\x1d\\x0f\\xbf\\xb54\\xe2\\xbc\\x12\\xe2\\xce\\x85\\x1cK\\x81\\xc5cf\\x87\\xd2\\xdbF\\xeaw(?\\x95\\x162\\x9em>\\x14\\x94\\xed\\x18\\xcf\\xc5Z\\x93\\x13TN;T\\xe2\\x8b\\x10\\xd4v\\xe9\\x9aV4\\x86c\\x85E+\\n\\x0c\\xb1(\\xa40\\xab\\x18\\xa4\\x07\\xc6\\x15\\xefE\\x807\\xb6\\x8d\\xd4\\x86\\x03\\xda\\x8b\\x02\\xae\\xe2#i(h\\\\\\x83Uv&\\x0b\\xcf\\x95\\xc9Wv?C\\x8at\\x84\\xc1\\xbe\\x0e\\\\\\xee\\'\\xf0\\x9c\\xb6sN\\xc4C\\xcaEpH\\xdc\\xa7\\x8d\\xbd\\x06}\\xe9\\xd8\\x10\\xb8o+\\x08\\x00\\xc3\\x02O\\x14,\\x89\\xb1X59\\x9a\\xfdcOFx\\xc8\\xa6\\xe2\\xaa\\xc1H~Y\\xe5<4\\x84\\x8e\\x9c\\xfe\\x954Q\\x19$\\x96\\xdc\\xb4k)\\xda9\\xc2\\xf0)Ry\\x01\\x0b\\x99\\x89!\\x9bs\\x1e\\xa3-\\xc0=j\\x92B#n\\x8dt\\xca\\x19\\xca\\x0cg\\xd2)\\xbc\\x00Yn\\x16;\\x91n\\xa8s\\x807\\xee\\xe6\\x95^B\\xcbT\\x84\\xe2P\\xee[f\\xd2;pj\\n\\xa2:\\x84\\x11\\x8b\\x06\\x95\\x14\\x06\\xdb\\x91\\x9ey\\xf7\\xa2/ \\xc4\\xac,\\xb7\\xdc}\\xd9\\xa5b\\xd8,d#\\x9e=\\xbd\\xaa\\xdb\\xac\\x89\"\\xea-&&\\x88H\\xee\\xec\\xcc1\\x93Y9\\x17\\xd4\\xae\\x97I\\x8e/0\\xac\\x8d\\x858\\x00\\x01V\\xa4K@$\\x11F\\x15\\x1a=\\xc5F\\xe2\\xd9\\xc6i\\xd8\\x84\\xee\\x9f{,j\\x88\\xa8\\xe3\\xaf%\\x81\\'\\xaeI\\xc7\\xf2\\xa6\\x90\\x80#\\xf9r4\\x88\\xa9\\xbb\\xa0\\xc8\\xc8\\x18\\xf6\\xfa\\xd5\\x01_\\xa9]\\xbc\\n\\xc7lfIH\\x1b\\x82\\x81\\xb4{q\\xfdj\\xa3\\x14\\xc9n\\x8b8\\x965X#H\\x91U\\x88S\\x81\\xcf\\xa7\\xbe}\\xeb6\\xf2Z\\xca\\x1b\\xb9\\xb81.\\xd4E\\xe9\\x9c\\x9f\\x81I\\x05\\x82\\xb0g\\xb8F,\\xfbH?\\xc2(n\\x83c)\\x12\\xf9\\xc82\\xf9\\xdf\\x8c\\x83\\xf1J\\xc6\\x1d\\xe1\\x8d#\\x0c\\x81\\x81Rps\\xcf\\xe4{P\\xa4\\xc2\\x85\\xbc\\x80\\xb7\\x08\\xfb\\x89c\\x90j\\xaf\\xc0\\xab\\xc8;\\xe8\\x92\\r\\xcd\\xcbyxb3\\xf8\\x87\\xb7\\xd2\\x84\\xc4\\xf1\\x91\\x8b\\x04k\\xed1oCyI\\xce!\\x000\\x18>\\xe6\\x94\\x9fWCK\\x16\\x0e\\xd9\\xcb\\x8f5\\xb9\\'\\x04\\xe6\\x9b\\x04\\x168\\xd6\\xe2W\\x07 \\x10{\\xe6\\x96\\x90\\x8f\\xff\\xd9'"
            ]
          },
          "metadata": {
            "tags": []
          },
          "execution_count": 45
        }
      ]
    },
    {
      "cell_type": "code",
      "metadata": {
        "id": "d-YBtq-pIN8y",
        "outputId": "129bc64d-204f-4008-ce72-c2507843df0a",
        "colab": {
          "base_uri": "https://localhost:8080/",
          "height": 157
        }
      },
      "source": [
        "str(image_example(image_string, label))"
      ],
      "execution_count": 46,
      "outputs": [
        {
          "output_type": "execute_result",
          "data": {
            "application/vnd.google.colaboratory.intrinsic+json": {
              "type": "string"
            },
            "text/plain": [
              "'features {\\n  feature {\\n    key: \"depth\"\\n    value {\\n      int64_list {\\n        value: 3\\n      }\\n    }\\n  }\\n  feature {\\n    key: \"height\"\\n    value {\\n      int64_list {\\n        value: 213\\n      }\\n    }\\n  }\\n  feature {\\n    key: \"image_raw\"\\n    value {\\n      bytes_list {\\n        value: \"\\\\377\\\\330\\\\377\\\\340\\\\000\\\\020JFIF\\\\000\\\\001\\\\001\\\\001\\\\000H\\\\000H\\\\000\\\\000\\\\377\\\\333\\\\000C\\\\000\\\\006\\\\004\\\\005\\\\006\\\\005\\\\004\\\\006\\\\006\\\\005\\\\006\\\\007\\\\007\\\\006\\\\010\\\\n\\\\020\\\\n\\\\n\\\\t\\\\t\\\\n\\\\024\\\\016\\\\017\\\\014\\\\020\\\\027\\\\024\\\\030\\\\030\\\\027\\\\024\\\\026\\\\026\\\\032\\\\035%\\\\037\\\\032\\\\033#\\\\034\\\\026\\\\026 , #&\\\\\\')*)\\\\031\\\\037-0-(0%()(\\\\377\\\\333\\\\000C\\\\001\\\\007\\\\007\\\\007\\\\n\\\\010\\\\n\\\\023\\\\n\\\\n\\\\023(\\\\032\\\\026\\\\032((((((((((((((((((((((((((((((((((((((((((((((((((\\\\377\\\\300\\\\000\\\\021\\\\010\\\\000\\\\325\\\\001@\\\\003\\\\001\\\\021\\\\000\\\\002\\\\021\\\\001\\\\003\\\\021\\\\001\\\\377\\\\304\\\\000\\\\034\\\\000\\\\000\\\\002\\\\002\\\\003\\\\001\\\\001\\\\000\\\\000\\\\000\\\\000\\\\000\\\\000\\\\000\\\\000\\\\000\\\\000\\\\003\\\\004\\\\002\\\\005\\\\001\\\\006\\\\007\\\\010\\\\000\\\\377\\\\304\\\\000?\\\\020\\\\000\\\\002\\\\001\\\\003\\\\003\\\\002\\\\005\\\\001\\\\005\\\\006\\\\005\\\\002\\\\006\\\\003\\\\000\\\\000\\\\001\\\\002\\\\003\\\\000\\\\004\\\\021\\\\005\\\\022!1A\\\\006\\\\023\\\\\"Qaq\\\\007\\\\0242\\\\201\\\\221\\\\010#B\\\\241\\\\261\\\\360\\\\025R\\\\301\\\\321\\\\361b\\\\341\\\\026$3Cr\\\\2024S\\\\262\\\\377\\\\304\\\\000\\\\032\\\\001\\\\000\\\\003\\\\001\\\\001\\\\001\\\\001\\\\000\\\\000\\\\000\\\\000\\\\000\\\\000\\\\000\\\\000\\\\000\\\\000\\\\000\\\\001\\\\002\\\\003\\\\004\\\\005\\\\006\\\\377\\\\304\\\\000\\\\\\'\\\\021\\\\000\\\\002\\\\002\\\\002\\\\002\\\\002\\\\002\\\\003\\\\001\\\\001\\\\000\\\\003\\\\000\\\\000\\\\000\\\\000\\\\000\\\\001\\\\002\\\\021!1\\\\003\\\\022AQ\\\\004a\\\\023\\\\\"2q#3\\\\201\\\\261\\\\377\\\\332\\\\000\\\\014\\\\003\\\\001\\\\000\\\\002\\\\021\\\\003\\\\021\\\\000?\\\\000\\\\355,\\\\270\\\\351]G9\\\\025M\\\\306\\\\200\\\\010\\\\000QH`\\\\346\\\\220t\\\\246\\\\220\\\\230\\\\262\\\\372\\\\232\\\\230\\\\211\\\\343\\\\\\'\\\\024\\\\000h\\\\227\\\\035)\\\\r\\\\014\\\\007\\\\n9\\\\245C\\\\027\\\\232\\\\347\\\\004\\\\201M!6W\\\\313)f\\\\253H\\\\213>\\\\013\\\\273\\\\2550\\\\010\\\\221w\\\\251\\\\261\\\\320U\\\\210\\\\036\\\\264\\\\254tg\\\\035\\\\205\\\\000\\\\025\\\\027\\\\002\\\\220\\\\004\\\\010\\\\177*,t\\\\0228\\\\200\\\\346\\\\223cH3\\\\220\\\\027\\\\035\\\\351\\\\014\\\\200 \\\\034\\\\236h\\\\021\\\\t\\\\\\\\\\\\221\\\\354=\\\\250H\\\\030\\\\214\\\\210\\\\255\\\\317AVK\\\\021\\\\271\\\\375\\\\331\\\\312w\\\\253Y%\\\\340\\\\024\\\\021\\\\357r\\\\317M\\\\261$5\\\\002\\\\341\\\\210^\\\\225,\\\\244?\\\\016\\\\024f\\\\241\\\\224\\\\203\\\\226\\\\334\\\\265%l\\\\257\\\\231\\\\331d\\\\370\\\\255\\\\022!\\\\230\\\\004\\\\267&\\\\201\\\\004Q\\\\221\\\\355Hd\\\\\\\\\\\\205\\\\030\\\\316M\\\\000S_\\\\241\\\\221\\\\370\\\\025\\\\254L\\\\332\\\\\\'g\\\\016\\\\016$\\\\024\\\\244\\\\306\\\\220\\\\324\\\\266\\\\321\\\\236\\\\202\\\\2451\\\\365*\\\\256\\\\241\\\\n\\\\306\\\\264L\\\\206\\\\204\\\\202\\\\203(\\\\252\\\\022Ad\\\\220\\\\250\\\\300\\\\242\\\\200\\\\214Cs\\\\214\\\\322c6[1\\\\373\\\\265\\\\n:VR5C\\\\033\\\\275Dg\\\\245H\\\\304\\\\265IW\\\\312\\\\300\\\\353W\\\\005\\\\2239\\\\262\\\\354\\\\200:\\\\326F\\\\304\\\\013\\\\0054\\\\010\\\\204\\\\217\\\\3051\\\\nI\\\\311\\\\252B\\\\t\\\\022\\\\340\\\\322`\\\\202\\\\220)\\\\014\\\\370>\\\\007Z\\\\000\\\\004\\\\223\\\\021\\\\220\\\\rU\\\\n\\\\305\\\\330\\\\226\\\\346\\\\230\\\\214\\\\244t6\\\\001\\\\322?\\\\214R\\\\261\\\\320tN:T\\\\214\\\\316\\\\312\\\\000\\\\211\\\\030a\\\\212b\\\\030\\\\215:f\\\\245\\\\262\\\\220\\\\306\\\\320\\\\026\\\\220\\\\301\\\\023\\\\203@\\\\031 \\\\260\\\\342\\\\200$\\\\027\\\\003\\\\232\\\\000\\\\004\\\\344\\\\016\\\\264\\\\320\\\\231]3\\\\022}5h\\\\206\\\\rT?\\\\342\\\\344\\\\323\\\\n&\\\\321\\\\002\\\\234R\\\\260\\\\242)\\\\2258\\\\246\\\\301\\\\016G\\\\302\\\\363\\\\326\\\\244\\\\242\\\\001\\\\310n\\\\274P\\\\000.$\\\\006\\\\251\\\\\"Y(\\\\2108\\\\315&4Jc\\\\216\\\\027\\\\212\\\\020\\\\330\\\\253\\\\253\\\\034\\\\220j\\\\221\\\\0007e\\\\260i\\\\200\\\\315\\\\262\\\\207$\\\\021R\\\\306\\\\206\\\\304ca\\\\036\\\\3256U\\\\024\\\\232\\\\222\\\\035\\\\344\\\\001Z\\\\300\\\\312E$\\\\342D\\\\233 \\\\032\\\\262S\\\\\\'\\\\234\\\\214\\\\232aa\\\\255\\\\206\\\\346\\\\030\\\\251cF\\\\311k H@\\\\357X\\\\264j\\\\211J@\\\\365\\\\003\\\\311\\\\244\\\\201\\\\210^Y\\\\3159\\\\312\\\\251\\\\301\\\\025jI\\\\020\\\\342\\\\331\\\\2601\\\\346\\\\2625\\\\005#`S\\\\006\\\\005\\\\230\\\\232b>\\\\013\\\\232\\\\004\\\\024\\\\020\\\\242\\\\220\\\\301\\\\264\\\\202\\\\235\\\\000\\\\006r\\\\335)\\\\210\\\\300B\\\\324X\\\\250CY\\\\325b\\\\322\\\\345\\\\266\\\\200\\\\304f\\\\236pYP8L(\\\\3439?<b\\\\262\\\\344\\\\345P\\\\3735\\\\207\\\\037b\\\\313M\\\\271\\\\206\\\\366\\\\001,\\\\r\\\\307FV\\\\352\\\\247\\\\330\\\\321\\\\016H\\\\362+B\\\\224\\\\034\\\\0351\\\\355\\\\253\\\\356*\\\\254TKr(\\\\374B\\\\200\\\\\"f\\\\213\\\\037\\\\210P\\\\000\\\\036\\\\352 p\\\\r<\\\\206\\\\204o|Icc\\\\\\'\\\\227!\\\\221\\\\334~1\\\\032\\\\202\\\\023\\\\352I\\\\037\\\\240\\\\311\\\\254y9\\\\241\\\\306\\\\352O&\\\\260\\\\342\\\\224\\\\225\\\\242\\\\303\\\\357\\\\352T\\\\020w\\\\0022\\\\010\\\\356+Z3\\\\\"oT\\\\236\\\\224P\\\\006K\\\\306\\\\340*\\\\322\\\\0316\\\\225\\\\344>\\\\201\\\\322\\\\200\\\\023\\\\231\\\\235\\\\233\\\\025H\\\\226}\\\\034\\\\\\'\\\\275\\\\026\\\\024\\\\021`\\\\002\\\\225\\\\215#>Z/,x\\\\243 \\\\001\\\\344\\\\215Ni\\\\323\\\\014\\\\0307\\\\036\\\\223\\\\264\\\\022\\\\007\\\\260\\\\242\\\\202\\\\321(\\\\242\\\\236q\\\\220\\\\230\\\\007\\\\336\\\\213\\\\241U\\\\223{#\\\\030%\\\\316i\\\\366\\\\261u#e\\\\017\\\\234\\\\341;\\\\223C`\\\\221~\\\\232\\\\n\\\\264|\\\\365\\\\254\\\\273\\\\227\\\\324\\\\207\\\\376\\\\034\\\\335\\\\237V\\\\005\\\\037\\\\220]\\\\000I\\\\341l\\\\034\\\\253\\\\237\\\\326\\\\232\\\\346\\\\027\\\\343\\\\026}!\\\\3552Kf\\\\253\\\\275\\\\207Z3\\\\035\\\\233\\\\270\\\\312\\\\203\\\\212,t\\\\002\\\\347F\\\\221\\\\324\\\\310\\\\017?4\\\\327%\\\\022\\\\340k\\\\367vL\\\\t\\\\014\\\\000\\\\\"\\\\266S3q\\\\020\\\\216\\\\334\\\\264\\\\301\\\\000\\\\3175NX\\\\022\\\\216M\\\\236-*8\\\\342C\\\\267\\\\325\\\\212\\\\301\\\\315\\\\233tH*Y\\\\347\\\\322\\\\243\\\\024\\\\254(z\\\\333JH\\\\360\\\\316K\\\\037\\\\232\\\\227!\\\\2446\\\\0225S\\\\200\\\\005!\\\\2259\\\\311\\\\353VI\\\\007\\\\300\\\\352h\\\\006\\\\017*;\\\\323\\\\025\\\\0213\\\\001\\\\322\\\\200 \\\\222\\\\211\\\\033\\\\232L\\\\021\\\\364\\\\312\\\\002\\\\345\\\\0174&6\\\\205[\\\\317#\\\\3229\\\\252\\\\262hb!\\\\\"\\\\257\\\\253\\\\255\\\\\"\\\\221\\\\243x\\\\301\\\\330x\\\\221%\\\\230\\\\376\\\\352\\\\030\\\\321\\\\177\\\\026\\\\002\\\\203\\\\236s\\\\\\\\|\\\\257\\\\376\\\\225\\\\364t\\\\301\\\\177\\\\316\\\\327\\\\260\\\\272~\\\\245%\\\\205\\\\334\\\\217\\\\036%\\\\211\\\\206N\\\\3269\\\\332\\\\007\\\\\\'\\\\24628\\\\357\\\\315d\\\\356\\\\017\\\\264vR\\\\251.\\\\2626h/\\\\205\\\\324),2\\\\226F\\\\031\\\\006\\\\273\\\\370\\\\247\\\\036X\\\\366\\\\211\\\\3138\\\\270>\\\\254.\\\\347\\\\177\\\\342&\\\\264\\\\244E\\\\262A8\\\\3474\\\\200\\\\247\\\\325\\\\265E\\\\201\\\\276\\\\355fC\\\\334\\\\267V^B\\\\017\\\\177\\\\357\\\\247\\\\326\\\\271\\\\276G\\\\310\\\\351\\\\372C\\\\372\\\\377\\\\000\\\\341\\\\277\\\\017\\\\017o\\\\332Z(\\\\257\\\\343_\\\\360IK&fb0\\\\t\\\\344g\\\\276:\\\\342\\\\270\\\\253\\\\026\\\\316\\\\244\\\\377\\\\000b\\\\377\\\\000\\\\303\\\\237x\\\\270\\\\321lKg\\\\002=\\\\271?\\\\007\\\\037\\\\351^\\\\217\\\\306w\\\\304\\\\254\\\\343\\\\371\\\\n\\\\271ZE\\\\364\\\\021\\\\204$\\\\023\\\\270\\\\326\\\\254\\\\3111\\\\250\\\\\\\\\\\\002\\\\024\\\\216MKE&Z[F\\\\2123\\\\236MC(\\\\214\\\\226\\\\241\\\\211+E\\\\205\\\\n\\\\270\\\\330H\\\\352j\\\\205DN\\\\343\\\\320\\\\034\\\\373P\\\\000g\\\\265\\\\232O\\\\201M4\\\\204\\\\321Xm\\\\246\\\\232\\\\350F\\\\237\\\\204\\\\036Mii+#6m\\\\032m\\\\214B-\\\\205r{\\\\223XJF\\\\251\\\\r\\\\274i\\\\022q\\\\320R\\\\273\\\\031]s\\\\033N\\\\001\\\\\\\\\\\\342\\\\251:%\\\\2531\\\\246\\\\333\\\\230\\\\257\\\\320\\\\036\\\\224\\\\344\\\\355\\\\004VM\\\\3210Tb\\\\271\\\\331\\\\2512\\\\005!\\\\221lP\\\\005&\\\\255\\\\033H\\\\340/J\\\\322&l\\\\206~\\\\357l\\\\t\\\\035\\\\005=\\\\261\\\\350\\\\246\\\\276\\\\324\\\\333\\\\004\\\\\\'\\\\025\\\\254`e)\\\\032\\\\315\\\\354\\\\355#\\\\234\\\\234\\\\346\\\\266Q\\\\243;\\\\263:r\\\\003r\\\\247\\\\330\\\\322\\\\226\\\\212\\\\216\\\\315\\\\342\\\\030D\\\\261\\\\250\\\\035q\\\\\\\\\\\\315\\\\321\\\\265\\\\n\\\\272\\\\210e\\\\347\\\\003\\\\024\\\\300h\\\\312<\\\\274\\\\216\\\\224\\\\250\\\\n\\\\273\\\\353\\\\344\\\\210`r\\\\337\\\\025j-\\\\222\\\\344\\\\221Y\\\\206\\\\377\\\\0005:\\\\002\\\\005[<\\\\261\\\\240,\\\\306\\\\321\\\\236\\\\244\\\\323\\\\021\\\\366\\\\320?\\\\204\\\\232,D\\\\302\\\\023\\\\333\\\\024\\\\254(\\\\220LP2\\\\\\\\P\\\\007\\\\307\\\\216M\\\\000i\\\\2764\\\\267[\\\\233\\\\357*2\\\\014\\\\215j\\\\036El\\\\000\\\\312\\\\034\\\\250\\\\301?\\\\304\\\\017j\\\\342\\\\371MG\\\\222-\\\\372;>?\\\\355\\\\306\\\\321\\\\250\\\\303|_O\\\\204,\\\\314]_j+\\\\266X\\\\363\\\\214p9\\\\317Ls\\\\355Q6\\\\t\\\\024\\\\037\\\\342\\\\227\\\\360\\\\351\\\\363ZEq\\\\3671\\\\035\\\\321d\\\\232)\\\\n\\\\252\\\\246\\\\342\\\\031y\\\\353\\\\364\\\\354q\\\\\\\\\\\\312R\\\\343}\\\\240\\\\315iMSF\\\\270u\\\\377\\\\000\\\\023\\\\332\\\\265\\\\254\\\\226\\\\036&\\\\276\\\\232\\\\336l\\\\254,_$\\\\216\\\\300\\\\344`\\\\034\\\\0223\\\\360MuG\\\\236^^Le\\\\306\\\\213\\\\373Mw\\\\305z\\\\204\\\\211\\\\036\\\\267\\\\255\\\\315\\\\344,\\\\344J\\\\226j\\\\210\\\\346%\\\\301a\\\\271@9\\\\311\\\\nH\\\\3503\\\\365\\\\251\\\\344\\\\371\\\\222J\\\\2428\\\\360-\\\\263m\\\\320%I\\\\340\\\\271\\\\272\\\\211\\\\312\\\\241\\\\220\\\\005X\\\\307\\\\n\\\\200`\\\\016\\\\204~G\\\\025\\\\311\\\\307\\\\\\'y:\\\\245\\\\025I\\\\\"\\\\343T\\\\235\\\\232<,XuB\\\\301N\\\\000\\\\013\\\\324\\\\261\\\\307\\\\353\\\\201\\\\326\\\\264\\\\224\\\\325d\\\\\\\\|y7]*\\\\004\\\\266\\\\320\\\\264\\\\344\\\\211\\\\231\\\\223\\\\356\\\\310\\\\301\\\\230`\\\\266FrGl\\\\346\\\\275^\\\\005\\\\326\\\\t\\\\036g3\\\\3559?\\\\2636\\\\362\\\\2178\\\\356?\\\\235l\\\\326\\\\014\\\\226\\\\302+\\\\027\\\\270\\\\036_ u4\\\\274\\\\007\\\\222\\\\342\\\\000\\\\\\\\\\\\212\\\\206h\\\\213(#\\\\302\\\\020\\\\335\\\\352\\\\031H\\\\210\\\\263]\\\\344\\\\221\\\\223E\\\\212\\\\211\\\\210\\\\023xP\\\\006h\\\\261\\\\321\\\\033\\\\364\\\\t\\\\031U\\\\374X\\\\242,L\\\\255\\\\262\\\\214\\\\\"1#\\\\324MSbH\\\\260\\\\205\\\\304\\\\026\\\\354\\\\304\\\\362j^G\\\\242\\\\255n\\\\332{\\\\275\\\\231\\\\364U\\\\325\\\\\"n\\\\331s\\\\204\\\\021\\\\355A\\\\223PY+;<J%\\\\223\\\\257\\\\265\\\\\\'/\\\\000\\\\221y\\\\017N+6Z\\\\013\\\\234u\\\\2442\\\\022\\\\021\\\\260\\\\320\\\\005L\\\\304\\\\344\\\\226\\\\253D\\\\013_\\\\2172\\\\334\\\\201W\\\\0341KF\\\\241v\\\\033\\\\314*A\\\\025\\\\320\\\\231\\\\203Ed\\\\310w\\\\020kD\\\\3111n\\\\3469\\\\005L\\\\212\\\\211\\\\271\\\\350W\\\\241\\\\220d\\\\364\\\\256i\\\\243x\\\\260z\\\\272M+\\\\231!\\\\\\\\\\\\255\\\\021\\\\300\\\\244\\\\\"\\\\367\\\\322-\\\\271\\\\210\\\\251\\\\017V\\\\243d\\\\266!\\\\\"\\\\205Q$\\\\215\\\\226\\\\255\\\\021\\\\r\\\\014C\\\\024\\\\227\\\\004\\\\224\\\\034Vm\\\\321h\\\\222\\\\330\\\\312\\\\315\\\\202h\\\\260h\\\\265\\\\265\\\\322\\\\225T\\\\026\\\\344\\\\3249\\\\025C\\\\006\\\\316$\\\\352\\\\242\\\\225\\\\201Q~\\\\300I\\\\2620*\\\\322%\\\\272%i\\\\017\\\\377\\\\000\\\\262\\\\206\\\\010a-Q\\\\344\\\\317jC%s\\\\004j\\\\230\\\\003\\\\232C4?\\\\265Fm+\\\\302\\\\362^*)_\\\\301\\\\270\\\\256J\\\\223\\\\2229\\\\375k\\\\227\\\\345\\\\361\\\\271\\\\365~\\\\216\\\\237\\\\213\\\\310\\\\270\\\\3338\\\\216\\\\215q\\\\017\\\\335\\\\005\\\\334\\\\266\\\\376d\\\\322\\\\026\\\\001\\\\317\\\\001S\\\\270\\\\0318\\\\\\'<\\\\201\\\\305D\\\\265A~K\\\\233\\\\200\\\\232\\\\214S\\\\231\\\\0222\\\\004F\\\\t|\\\\306c\\\\352 \\\\225\\\\003\\\\216\\\\247\\\\030\\\\343\\\\222W>\\\\365\\\\204\\\\221\\\\244^J\\\\335&\\\\336]?P\\\\320\\\\364\\\\323\\\\032\\\\\\'\\\\335\\\\344{\\\\031\\\\220\\\\037\\\\335\\\\t\\\\320\\\\357\\\\3347t\\\\014\\\\215\\\\223\\\\234\\\\362\\\\276\\\\304TI\\\\335\\\\262\\\\222\\\\322.<?o\\\\036\\\\373\\\\355A-\\\\021\\\\022\\\\372\\\\341\\\\356\\\\355\\\\374\\\\303\\\\312D\\\\352\\\\010c\\\\236\\\\214y8\\\\035\\\\210\\\\254\\\\336\\\\177\\\\364i\\\\376\\\\033\\\\206\\\\234\\\\320\\\\315i\\\\025\\\\245\\\\315\\\\273-\\\\2437\\\\230R\\\\006\\\\333\\\\220zp?\\\\027\\\\267\\\\345P\\\\2352\\\\264\\\\260k\\\\263M$Z\\\\371\\\\323\\\\241o[JWf1\\\\225\\\\\\'\\\\203\\\\3601\\\\323\\\\332\\\\255\\\\256\\\\310\\\\323\\\\362t\\\\312;5\\\\374\\\\213\\\\014q\\\\302\\\\237\\\\373h\\\\023\\\\256z\\\\014W\\\\275\\\\307\\\\032I3\\\\303\\\\234\\\\255\\\\225@\\\\273I\\\\205\\\\\\'&\\\\2662/\\\\254`\\\\021D7\\\\016Mc\\\\\\'f\\\\261T[Z \\\\353P\\\\312C\\\\305\\\\200^\\\\265%\\\\030\\\\232\\\\345!\\\\204\\\\226#4\\\\000\\\\226\\\\233z\\\\222\\\\3347\\\\230\\\\330#\\\\2459!&XN\\\\242l\\\\355\\\\365RCd\\\\037O\\\\013\\\\026\\\\345\\\\353G`\\\\242\\\\232\\\\350\\\\310ABH\\\\025h\\\\226\\\\002\\\\3156L\\\\030\\\\216)\\\\267`\\\\221\\\\261\\\\333M\\\\016\\\\001\\\\030\\\\254\\\\235\\\\226\\\\2509\\\\224\\\\037Rv\\\\2441\\\\273)\\\\325\\\\3063\\\\315KCC2\\\\266\\\\0004\\\\206\\\\310;zy<P\\\\\"\\\\247Q\\\\231U\\\\225W\\\\361V\\\\221D\\\\262(\\\\245\\\\300\\\\317<S`!\\\\250Y\\\\304y\\\\340\\\\032\\\\250\\\\311\\\\222\\\\342\\\\215gP\\\\2065c\\\\206\\\\034V\\\\361\\\\221\\\\224\\\\221T\\\\010\\\\334s\\\\322\\\\255\\\\222\\\\213\\\\275\\\\t\\\\035\\\\361\\\\311\\\\013YN\\\\215`m\\\\350?t\\\\020\\\\216+\\\\006hW_Y#\\\\202B\\\\376uI\\\\222\\\\321\\\\254\\\\337\\\\3338\\\\r\\\\206\\\\317\\\\260\\\\255\\\\342\\\\354\\\\306I\\\\227\\\\272n\\\\321l\\\\252\\\\275qX\\\\313f\\\\261\\\\321e\\\\0149\\\\301\\\\305Kc\\\\241\\\\360\\\\270\\\\210\\\\340T\\\\331Bs\\\\214\\\\2414\\\\320\\\\215u\\\\310\\\\373\\\\321-\\\\320V\\\\253Foc\\\\261\\\\r\\\\343\\\\323\\\\322\\\\245\\\\224\\\\231ci\\\\017\\\\247\\\\232\\\\226\\\\306\\\\205n\\\\2273\\\\005\\\\307zh\\\\031\\\\316\\\\276\\\\336\\\\346d\\\\360Lp)>T\\\\267q\\\\254\\\\330#\\\\005@\\\\\\'i\\\\357\\\\202B\\\\364\\\\254\\\\371_\\\\352_\\\\032\\\\311\\\\303\\\\254\\\\256b\\\\267\\\\264\\\\216\\\\352ft\\\\267\\\\215v\\\\314`]\\\\356\\\\2708U\\\\000t>\\\\337Z\\\\345n\\\\360\\\\315\\\\222\\\\362m63\\\\351\\\\227B\\\\r\\\\\"u\\\\324\\\\254\\\\247[\\\\330n\\\\207\\\\336\\\\342\\\\t\\\\0332\\\\222\\\\004{\\\\224\\\\235\\\\245\\\\217\\\\003=H\\\\307^\\\\234\\\\352\\\\337\\\\362j\\\\351,\\\\371#\\\\251h\\\\360k\\\\372\\\\224wn\\\\205U\\\\345\\\\225\\\\256b$\\\\214\\\\3461\\\\031\\\\335\\\\216\\\\230\\\\003\\\\257Z\\\\316M\\\\301\\\\264\\\\315\\\\025IZ6\\\\317\\\\021\\\\351\\\\353o\\\\367\\\\013\\\\200\\\\336\\\\\\\\\\\\017`\\\\366\\\\361@\\\\261\\\\031\\\\031\\\\362\\\\312\\\\003*\\\\016J\\\\250\\\\004\\\\014\\\\340g\\\\025\\\\222\\\\344Q\\\\314\\\\212\\\\352\\\\336\\\\021_\\\\245\\\\311\\\\022+Z\\\\301%\\\\312\\\\335[\\\\310\\\\253=\\\\235\\\\304-\\\\013\\\\205\\\\177\\\\302\\\\3000\\\\345Olw\\\\244\\\\3745\\\\246R\\\\315\\\\231\\\\325\\\\320\\\\256\\\\2513mCul\\\\177s \\\\345\\\\324\\\\014\\\\266>A$\\\\360jc\\\\310\\\\342\\\\321N\\\\t\\\\243y\\\\322\\\\365\\\\025\\\\325\\\\354\\\\341\\\\272\\\\215\\\\201\\\\363\\\\024\\\\026\\\\301\\\\034\\\\036\\\\377\\\\000\\\\316\\\\276\\\\232\\\\023RV\\\\217\\\\016qqt]\\\\351\\\\326Y\\\\235Y\\\\201\\\\002\\\\234\\\\247\\\\201F%\\\\255\\\\353\\\\305m\\\\030vu\\\\nzs\\\\326\\\\262\\\\263Z+d\\\\361V\\\\225e\\\\034\\\\255w\\\\250ZC\\\\034X\\\\334\\\\322J\\\\000\\\\035\\\\35164\\\\231\\\\317\\\\374G\\\\366\\\\365\\\\341\\\\373\\\\\"\\\\321h\\\\261\\\\\\\\j\\\\367#\\\\200#\\\\033#\\\\037%\\\\217o\\\\240<T9\\\\244R\\\\203f\\\\235\\\\253}\\\\276^\\\\311\\\\377\\\\000\\\\341\\\\350{\\\\320\\\\034\\\\t\\\\032C\\\\207=\\\\310\\\\003\\\\240\\\\316x\\\\353K\\\\362\\\\217\\\\361\\\\224K\\\\366\\\\351\\\\256\\\\254\\\\333\\\\277\\\\301\\\\355\\\\004`r\\\\004\\\\215\\\\223\\\\236\\\\337_~(\\\\374\\\\254:#a\\\\320\\\\277ik\\\\2336\\\\003Q\\\\360\\\\332\\\\315\\\\037\\\\361<7$\\\\037\\\\240\\\\005\\\\177\\\\236hs\\\\260QGD\\\\260\\\\375\\\\244<\\\\017w\\\\032\\\\245\\\\340\\\\325,d*\\\\013\\\\027\\\\265\\\\336\\\\200\\\\236\\\\300\\\\203\\\\237\\\\314\\\\201I1\\\\365F\\\\371\\\\240\\\\353:?\\\\210\\\\340[\\\\255\\\\036\\\\366\\\\013\\\\313g<<N\\\\017?N\\\\265\\\\245\\\\340\\\\207\\\\032,\\\\306\\\\234\\\\255!\\\\301\\\\364\\\\322\\\\261Q9,\\\\242\\\\267M\\\\345\\\\260(V\\\\302\\\\250\\\\214\\\\023\\\\253HD\\\\177\\\\207\\\\035i\\\\270\\\\202a\\\\354e\\\\0171\\\\t\\\\305&\\\\206\\\\231m\\\\\"\\\\201\\\\037^j\\\\n\\\\004\\\\300\\\\224\\\\\\'4\\\\301\\\\224\\\\273\\\\032K\\\\303\\\\232\\\\323H\\\\217#\\\\356R\\\\010\\\\211$g\\\\025;\\\\033\\\\301\\\\247j\\\\26772L\\\\333w\\\\005\\\\256\\\\210EQ\\\\204\\\\244\\\\315z\\\\356V\\\\334C\\\\022\\\\017\\\\315n\\\\242\\\\214\\\\354\\\\205\\\\204O4\\\\207\\\\251QR\\\\360Trn\\\\232\\\\r\\\\276\\\\322\\\\243\\\\336\\\\260\\\\2337\\\\21269#\\\\330\\\\001\\\\366\\\\254l\\\\260\\\\027\\\\004\\\\030\\\\216\\\\0054&k^O\\\\237t\\\\373\\\\370T\\\\255n\\\\221\\\\235X-.\\\\343l\\\\330=(\\\\222\\\\024Y\\\\262E2\\\\261\\\\001k*4\\\\262\\\\305W\\\\323\\\\317J\\\\221\\\\225\\\\367\\\\274\\\\002\\\\007J\\\\244&k\\\\323@\\\\306bH\\\\342\\\\264O\\\\006md\\\\262\\\\265\\\\217dC5-\\\\224\\\\220\\\\355\\\\254\\\\352\\\\006;\\\\324\\\\264Rg\\\\327\\\\261\\\\000\\\\236e\\\\t\\\\2039\\\\177\\\\332\\\\235\\\\274\\\\232\\\\257\\\\206/\\\\242\\\\206@\\\\222\\\\240\\\\022\\\\306H\\\\312\\\\356S\\\\236G\\\\265T\\\\343pb\\\\204\\\\252G\\\\034\\\\360\\\\375\\\\265\\\\236\\\\217\\\\005\\\\306\\\\235\\\\253D\\\\322i\\\\272\\\\224F\\\\t\\\\356\\\\021\\\\200drC\\\\007S\\\\331\\\\201\\\\nF\\\\177\\\\313\\\\371W\\\\233\\\\310\\\\233\\\\312\\\\331\\\\331\\\\006\\\\274\\\\203\\\\361\\\\366\\\\235\\\\253\\\\r*\\\\013\\\\366\\\\325\\\\264[\\\\250L\\\\350\\\\255qj\\\\222,\\\\3636Cnd#j\\\\221\\\\216pH\\\\311\\\\342\\\\262\\\\340P\\\\214\\\\235]\\\\227\\\\311\\\\332I^\\\\215\\\\303\\\\3037\\\\026\\\\367s^]\\\\220R)\\\\256\\\\032Gbx\\\\311<\\\\257\\\\344z\\\\366\\\\254\\\\376O*\\\\354i\\\\303\\\\306\\\\350gYMkY\\\\361\\\\227\\\\210\\\\256\\\\255--\\\\257\\\\264]\\\\220X\\\\2542\\\\335\\\\255\\\\273\\\\306!\\\\007i\\\\214\\\\277\\\\244\\\\202\\\\314\\\\344\\\\256G,\\\\rc\\\\\\'\\\\016H\\\\245t\\\\321n.\\\\037i\\\\207\\\\232\\\\322K\\\\313K\\\\337\\\\361\\\\370\\\\242\\\\232\\\\357Sx\\\\221!\\\\206}\\\\351o\\\\034`\\\\355Q  \\\\274\\\\214Y\\\\213\\\\021\\\\351\\\\340\\\\014\\\\322iF*)\\\\330E\\\\276\\\\327\\\\241Y\\\\3743\\\\177\\\\241\\\\351n\\\\006\\\\244\\\\251\\\\246\\\\004i\\\\324;\\\\0234}w&\\\\377\\\\000\\\\362\\\\374\\\\3434\\\\357\\\\263M\\\\241\\\\345`\\\\342:\\\\177\\\\214\\\\365=7V{\\\\315:}\\\\261D\\\\010\\\\212)\\\\016S?\\\\346\\\\307\\\\275z\\\\260n\\\\t#\\\\212iI\\\\266^O\\\\366\\\\231\\\\343\\\\013\\\\310\\\\000}D\\\\306\\\\247\\\\007)\\\\030U\\\\035\\\\272\\\\373u\\\\246\\\\371_\\\\261(*\\\\321S\\\\250\\\\353z\\\\326\\\\240\\\\253q}\\\\250\\\\336M\\\\274c\\\\231HUO\\\\240\\\\340\\\\036\\\\237\\\\312\\\\247\\\\3626\\\\3667\\\\004j\\\\267\\\\277\\\\277\\\\230+9\\\\220\\\\261\\\\306\\\\347bI$\\\\365\\\\377\\\\000\\\\275h\\\\231\\\\235\\\\0261\\\\021\\\\004\\\\006\\\\326 C\\\\020N\\\\340O\\\\037?\\\\337\\\\275d\\\\362\\\\354\\\\321`-\\\\314\\\\271X\\\\241M\\\\301\\\\200\\\\300\\\\013\\\\324\\\\016\\\\377\\\\000\\\\326\\\\232@\\\\337\\\\241i\\\\342[I\\\\002\\\\236v\\\\214\\\\267\\\\253$\\\\037l\\\\323\\\\273\\\\026\\\\206\\\\014Q\\\\274;\\\\244\\\\001\\\\027\\\\034\\\\014\\\\362jm\\\\242\\\\2511!b\\\\276Iq\\\\224\\\\\\\\\\\\365c\\\\311\\\\025}\\\\310\\\\3505\\\\243\\\\335j\\\\376\\\\032\\\\277]GC\\\\274\\\\270\\\\263\\\\272N\\\\217\\\\0362F9\\\\312\\\\234\\\\202>\\\\242\\\\232\\\\344L\\\\034$\\\\216\\\\365\\\\366Q\\\\373A[\\\\\"\\\\213?\\\\036Mr\\\\223\\\\036\\\\026\\\\373f\\\\344$\\\\377\\\\000\\\\230(\\\\310\\\\03785\\\\257b)3\\\\272\\\\275\\\\364Z\\\\315\\\\224Wv\\\\0271Og&\\\\031$\\\\215\\\\262\\\\256>\\\\017z\\\\3264\\\\214\\\\244\\\\237\\\\221\\\\305)\\\\367m\\\\260\\\\214694\\\\274\\\\207\\\\200iq\\\\367`\\\\2419n\\\\364\\\\352\\\\303E\\\\210\\\\274a\\\\026\\\\351\\\\017\\\\345S\\\\324\\\\2533\\\\035\\\\347\\\\232\\\\247o4u\\\\013\\\\027\\\\232S\\\\030,\\\\027\\\\232i\\\\022V\\\\315+\\\\35423\\\\223\\\\361W@\\\\301+\\\\tx#\\\\325\\\\364\\\\247\\\\241l\\\\245\\\\325tY\\\\234\\\\227\\\\204\\\\362{V\\\\221\\\\344\\\\366e.7\\\\340\\\\006\\\\217cy\\\\001q\\\\\"\\\\000\\\\271\\\\242rLpM\\\\033E\\\\224\\\\236I\\\\016x\\\\332:V/&\\\\251\\\\216\\\\256\\\\242eB1\\\\232\\\\236\\\\243\\\\261[\\\\215C\\\\313\\\\215\\\\213\\\\340\\\\n\\\\245\\\\033\\\\023tVi\\\\327^u\\\\311g\\\\030\\\\\\\\\\\\364\\\\253q\\\\244L]\\\\201\\\\373\\\\271P\\\\0353\\\\232,\\\\232-4\\\\271\\\\031@g\\\\316~j$\\\\212\\\\213.\\\\305\\\\342\\\\224\\\\301\\\\340\\\\326}M,\\\\004\\\\233d\\\\3478\\\\024\\\\364!y\\\\325|\\\\242\\\\000\\\\346\\\\250@\\\\013\\\\021o\\\\214z\\\\250\\\\021\\\\2351\\\\03092w4H\\\\021c\\\\251\\\\020m\\\\016=\\\\252\\\\026\\\\313z4;\\\\244Y7\\\\244\\\\203*\\\\331\\\\004\\\\021]5h\\\\303G(\\\\3617\\\\205\\\\346\\\\260\\\\275\\\\201\\\\r\\\\352C\\\\243H\\\\371\\\\330S\\\\007\\\\035v\\\\026\\\\372\\\\364\\\\310\\\\256\\\\016^.\\\\262\\\\372:\\\\341\\\\311\\\\331}\\\\211]xie\\\\324?\\\\303\\\\301\\\\270h\\\\234y\\\\221M&=9\\\\347\\\\247\\\\307\\\\034\\\\342\\\\263|t\\\\351\\\\025\\\\337\\\\026\\\\312\\\\r.}J\\\\301\\\\027\\\\303\\\\237q\\\\225u\\\\204\\\\230\\\\301\\\\344c\\\\016\\\\304\\\\214\\\\206\\\\301\\\\352\\\\247\\\\256\\\\354\\\\364\\\\256.o\\\\217|\\\\231=\\\\016.T\\\\270{\\\\331\\\\332m\\\\374\\\\037%\\\\225\\\\274:}\\\\344\\\\217%\\\\324\\\\221 \\\\231\\\\225K(\\\\220\\\\250\\\\033\\\\213|c\\\\036\\\\307\\\\025\\\\316\\\\270\\\\345\\\\007\\\\324R\\\\344S]\\\\200\\\\352\\\\372\\\\016\\\\245\\\\242\\\\\\\\\\\\307&\\\\231}g,\\\\241v\\\\277\\\\336ca\\\\275\\\\261\\\\311@\\\\271\\\\376C&\\\\256\\\\\\\\}H\\\\214\\\\323\\\\3324o\\\\265]x\\\\351\\\\232\\\\023\\\\253N\\\\247Q\\\\2363\\\\024k\\\\020*\\\\023=H\\\\317O\\\\317\\\\336\\\\253\\\\212\\\\027$\\\\023\\\\226\\\\016\\\\017\\\\014^}\\\\304\\\\021N\\\\025\\\\244o\\\\304\\\\371\\\\301?\\\\374\\\\276\\\\177\\\\237\\\\025\\\\334\\\\345\\\\206\\\\316e\\\\035#d\\\\324 U\\\\202\\\\030P\\\\220\\\\271U\\\\311\\\\0041\\\\377\\\\000\\\\216k\\\\236.\\\\335\\\\235\\\\022X\\\\003\\\\256F\\\\246\\\\335`\\\\207\\\\205\\\\300\\\\014A\\\\301\\\\000\\\\014\\\\376y\\\\030\\\\253\\\\343y\\\\\"k\\\\006\\\\252\\\\025B\\\\307#\\\\023\\\\235\\\\306F\\\\030\\\\374 q\\\\217\\\\223]G1d\\\\262\\\\261\\\\267\\\\014\\\\253\\\\265I\\\\034\\\\3678\\\\366\\\\377\\\\000\\\\265J\\\\216F\\\\330;\\\\\"\\\\\"\\\\230\\\\027\\\\031\\\\221\\\\206\\\\346?\\\\364\\\\373U1!\\\\303\\\\\"\\\\274\\\\036g\\\\226\\\\244\\\\260\\\\0001\\\\\\\\\\\\340\\\\003\\\\355\\\\357R\\\\220\\\\354\\\\034\\\\260\\\\306\\\\366\\\\342IL\\\\204\\\\021\\\\270\\\\236\\\\324\\\\274\\\\320\\\\374Y\\\\031%UU\\\\333\\\\030\\\\334\\\\010\\\\316\\\\007\\\\364\\\\245\\\\325\\\\262\\\\224\\\\222\\\\033\\\\200}\\\\352\\\\000\\\\305O=0\\\\244\\\\326m\\\\3654\\\\256\\\\310\\\\251\\\\324,\\\\225\\\\016\\\\3542\\\\221\\\\320\\\\343 \\\\376u\\\\254y,\\\\312\\\\\\\\tl\\\\237g\\\\337h:\\\\367\\\\202\\\\356\\\\207\\\\334\\\\256d\\\\222\\\\304\\\\267\\\\357\\\\254\\\\335\\\\201I\\\\007\\\\307\\\\034\\\\036\\\\235+U.\\\\272\\\\\"\\\\273a\\\\236\\\\277\\\\360W\\\\2134\\\\237\\\\024x}5\\\\035\\\\032\\\\345&\\\\000\\\\0014c!\\\\241|r\\\\254\\\\010\\\\343\\\\375kt\\\\324\\\\264e(\\\\270\\\\354~\\\\336O6g`sV\\\\325\\\\\"\\\\026C\\\\266\\\\371\\\\234\\\\003\\\\322\\\\220\\\\313\\\\213\\\\010\\\\225\\\\\" \\\\216qQ&R*\\\\356\\\\2573raA\\\\232\\\\264\\\\260M\\\\231[p\\\\370-\\\\372QaA\\\\241\\\\267\\\\001\\\\317\\\\024\\\\233\\\\000\\\\306 \\\\001\\\\315+\\\\035\\\\013\\\\303\\\\033>N8\\\\006\\\\235\\\\201\\\\233\\\\270T\\\\306q\\\\303b\\\\204\\\\304SE9\\\\204\\\\262\\\\177\\\\025]Y)\\\\211\\\\352\\\\227@\\\\306T\\\\237VzU\\\\3029&l\\\\026\\\\230\\\\305F\\\\363\\\\320ULQ6\\\\370\\\\354TF\\\\245\\\\205sv5\\\\242.\\\\212\\\\252v\\\\200\\\\000\\\\240\\\\004\\\\336R\\\\331\\\\003\\\\250\\\\252\\\\02187\\\\273\\\\014\\\\347\\\\024\\\\230\\\\017\\\\274XL\\\\322\\\\261\\\\200A\\\\271\\\\360q\\\\212`\\\\026B\\\\221\\\\256GZ@$\\\\363\\\\263d7\\\\341\\\\252\\\\240\\\\021KT\\\\232\\\\343%x\\\\025WH\\\\212\\\\266X\\\\317\\\\244\\\\333\\\\335Y\\\\2742\\\\306\\\\0326\\\\034\\\\251\\\\367\\\\355Y\\\\266ZG2\\\\325\\\\364\\\\223\\\\341\\\\353\\\\225\\\\202W-\\\\t\\\\\\'\\\\312pI`;\\\\222O\\\\311\\\\351\\\\361Y\\\\177&\\\\233\\\\022\\\\323\\\\264\\\\305:\\\\374\\\\032\\\\335\\\\276\\\\254\\\\303P\\\\202\\\\335\\\\255\\\\320H\\\\212G\\\\226[v\\\\017~\\\\2775\\\\234\\\\251\\\\344\\\\245f\\\\353\\\\026\\\\273\\\\025\\\\322fb\\\\217r\\\\237\\\\213`8\\\\343\\\\256\\\\t\\\\353\\\\357\\\\212\\\\347\\\\222\\\\215\\\\331\\\\252n\\\\250\\\\325|S\\\\342\\\\013}?\\\\315\\\\226gQu\\\\300\\\\216C\\\\312\\\\266\\\\356\\\\234{c\\\\333\\\\237\\\\322\\\\271f\\\\325\\\\235\\\\020N\\\\216\\\\025\\\\343{\\\\231u=P\\\\233\\\\363\\\\266PwJ\\\\204\\\\360\\\\240\\\\016\\\\010=\\\\306:U\\\\361\\\\343#\\\\2325\\\\313xe\\\\270\\\\277\\\\363\\\\\"\\\\214\\\\345\\\\216J\\\\343\\\\267c\\\\216\\\\365\\\\254\\\\235G&qV\\\\307\\\\257\\\\244Y\\\\002\\\\215\\\\373\\\\020L\\\\025I9\\\\007\\\\347\\\\363\\\\346\\\\263\\\\212.L\\\\016\\\\255/\\\\356\\\\256\\\\021O\\\\341\\\\034\\\\263s\\\\270\\\\236\\\\177\\\\276\\\\325\\\\254\\\\021\\\\234\\\\336\\\\n\\\\033\\\\333m\\\\266\\\\221\\\\250U%\\\\266\\\\252m>\\\\335Et&s\\\\264\\\\034)[\\\\253x\\\\200\\\\003j\\\\344\\\\340pi\\\\200\\\\013\\\\210\\\\212<\\\\322\\\\016\\\\000\\\\\\\\\\\\005\\\\351\\\\217\\\\367\\\\372\\\\320\\\\007\\\\314\\\\034A\\\\034a\\\\211f\\\\000\\\\261\\\\310$\\\\017l~\\\\2374\\\\010\\\\027\\\\337\\\\034\\\\211\\\\\"a\\\\225\\\\030\\\\n\\\\247\\\\371\\\\177?\\\\351Ey\\\\013,,QDr\\\\231\\\\316\\\\320\\\\247k0=Op>=\\\\361\\\\375*95\\\\203N5\\\\354\\\\275\\\\322\\\\341_\\\\271\\\\t\\\\245B\\\\211\\\\277h\\\\\\\\\\\\021\\\\307N\\\\277\\\\353\\\\375+\\\\222wgTj\\\\212\\\\375Q\\\\230\\\\\\\\4\\\\031\\\\004\\\\023\\\\223\\\\223\\\\337\\\\353ZA\\\\342\\\\310\\\\226pk\\\\367P,r\\\\260\\\\200\\\\204\\\\224d\\\\201\\\\236\\\\016{\\\\017\\\\177\\\\316\\\\267R\\\\366a(\\\\3726\\\\017\\\\004x\\\\236\\\\373D\\\\325V\\\\363M\\\\270\\\\373\\\\274\\\\330\\\\304\\\\213\\\\270\\\\205q\\\\307\\\\014:\\\\034\\\\366\\\\246\\\\233\\\\206PbJ\\\\231\\\\353\\\\277\\\\002j\\\\320k\\\\332LZ\\\\215\\\\244\\\\252\\\\361\\\\277\\\\016\\\\007T~\\\\352Go\\\\316\\\\273T\\\\324\\\\225\\\\243\\\\225\\\\305\\\\305\\\\321\\\\270\\\\244A#\\\\017\\\\216jlf.n\\\\274\\\\250\\\\331\\\\263\\\\216(H\\\\033\\\\242\\\\272\\\\312#\\\\3464\\\\217\\\\31379\\\\253~\\\\211Hp8\\\\004\\\\202y\\\\251\\\\030\\\\365\\\\272\\\\222\\\\231\\\\003\\\\232\\\\226R\\\\030x\\\\324/\\\\315+\\\\035\\\\025\\\\346O-\\\\231A\\\\364\\\\325\\\\023b\\\\3170\\\\223\\\\205<\\\\323\\\\240)\\\\\\'WI\\\\336F\\\\030\\\\000qZ\\\\255Q\\\\223)\\\\331Zi\\\\213\\\\036W5\\\\256\\\\221\\\\231qi\\\\010\\\\221\\\\006\\\\337\\\\302\\\\265\\\\224\\\\231\\\\252F\\\\330\\\\362\\\\2201\\\\332\\\\271\\\\315D\\\\344}\\\\300\\\\212\\\\262E\\\\242\\\\214\\\\231\\\\t\\\\305\\\\026!\\\\353`3\\\\201I\\\\214\\\\235\\\\314\\\\230\\\\302-\\\\t\\\\r\\\\213\\\\347i\\\\3151\\\\003b]\\\\276(\\\\002\\\\022\\\\216@\\\\240C6P\\\\r\\\\373\\\\217JM\\\\215!\\\\331\\\\247\\\\2161\\\\205\\\\352\\\\005JVU\\\\321\\\\251x\\\\306\\\\315\\\\357\\\\364\\\\271\\\\214q\\\\211&\\\\217\\\\367\\\\210\\\\277\\\\346\\\\307j%\\\\033\\\\215 \\\\213\\\\247\\\\223\\\\237\\\\351\\\\263\\\\306\\\\245\\\\2462\\\\251nwzq\\\\214\\\\016\\\\203\\\\343\\\\257\\\\353\\\\\\\\M\\\\373:\\\\n\\\\253\\\\377\\\\000\\\\021\\\\\\'\\\\370\\\\243\\\\333Z\\\\222\\\\003a\\\\003\\\\234\\\\024\\\\365\\\\014\\\\003\\\\362A\\\\307\\\\351\\\\217j\\\\344\\\\234\\\\255\\\\322:#\\\\014[5MN\\\\363\\\\357\\\\3234\\\\0238+f\\\\373\\\\223y\\\\335\\\\2726\\\\356~\\\\207\\\\037#q\\\\254\\\\3743U\\\\264i\\\\363\\\\313\\\\025\\\\344\\\\357+\\\\021\\\\345!\\\\362\\\\301c\\\\327\\\\003!A\\\\376u\\\\252N)\\\\\"\\\\033\\\\273`l\\\\340X\\\\330\\\\226_/\\\\316^I\\\\343*\\\\017\\\\037\\\\251\\\\350)\\\\312V\\\\tP)\\\\020y\\\\033\\\\013\\\\0171\\\\037v\\\\030\\\\343\\\\234\\\\366\\\\376\\\\372S[\\\\006U_\\\\313\\\\272Ec\\\\265\\\\231\\\\262\\\\0163\\\\236\\\\007_\\\\255t\\\\305Q\\\\315\\\\\\'`lB\\\\312-\\\\243`\\\\n\\\\250.21\\\\223\\\\305Y\\\\004\\\\343\\\\n$\\\\226c\\\\214\\\\261\\\\343\\\\214\\\\361\\\\216\\\\274\\\\177\\\\245\\\\000\\\\301C\\\\260\\\\305!a\\\\2703\\\\226PFs\\\\216\\\\237\\\\353\\\\361LB(\\\\300y\\\\205\\\\311\\\\303\\\\020\\\\240\\\\001\\\\223\\\\237e\\\\366\\\\377\\\\000zb\\\\t\\\\014A\\\\032H\\\\333o\\\\230\\\\300\\\\035\\\\334\\\\235\\\\240\\\\203\\\\333\\\\256\\\\3560>\\\\2646\\\\010\\\\260\\\\206\\\\332\\\\0331$s91\\\\306\\\\371r\\\\311\\\\3136yU\\\\031\\\\347\\\\370s\\\\317\\\\372\\\\326m\\\\331\\\\244p](\\\\312!m\\\\253\\\\205\\\\300\\\\3008E9\\\\300\\\\036\\\\374t\\\\372W<\\\\221\\\\274_\\\\2007\\\\021Ak\\\\t\\\\310\\\\315\\\\300\\\\354\\\\313\\\\273\\\\347\\\\007\\\\373\\\\367\\\\2429\\\\034\\\\231A\\\\251\\\\241y\\\\026}\\\\240\\\\355\\\\345\\\\024\\\\236\\\\030{\\\\216\\\\375s\\\\333\\\\337\\\\351[\\\\305\\\\342\\\\214d\\\\263b\\\\323Z\\\\305\\\\\\'\\\\2525\\\\221_\\\\034\\\\253\\\\034s\\\\327\\\\277=*\\\\223hM\\\\\\'\\\\224o\\\\337c>3\\\\223\\\\302\\\\376)\\\\202+\\\\231Bi\\\\367dE6\\\\356\\\\231\\\\354N{\\\\363\\\\326\\\\265\\\\343\\\\227VD\\\\227eL\\\\366@\\\\273W\\\\201@\\\\307#\\\\216kz0\\\\261+\\\\230\\\\314\\\\205O;A\\\\252N\\\\2043\\\\220\\\\233Tw\\\\244\\\\000\\\\246C\\\\033\\\\356\\\\367\\\\242\\\\300\\\\264\\\\264\\\\230,<\\\\365\\\\251h\\\\264\\\\310]\\\\334\\\\021\\\\026\\\\345?\\\\235\\\\t\\\\t\\\\262\\\\257\\\\314%I\\\\374Y\\\\357WD\\\\203\\\\267\\\\205\\\\226Fu\\\\347\\\\343\\\\332\\\\233`\\\\214j0\\\\371\\\\360\\\\025\\\\035h\\\\213\\\\246)+E%\\\\255\\\\254\\\\211!G\\\\007nz\\\\326\\\\256Fj,\\\\274\\\\266\\\\205R-\\\\253X\\\\267f\\\\251R\\\\036\\\\022\\\\023\\\\301\\\\251\\\\241\\\\202\\\\307\\\\3573LA\\\\207\\\\035)\\\\001\\\\220\\\\333O\\\\024\\\\001\\\\2068m\\\\306\\\\200\\\\006\\\\307q\\\\310\\\\346\\\\230\\\\031Q\\\\310\\\\240\\\\014\\\\316\\\\230\\\\003\\\\024\\\\223\\\\003+6\\\\027\\\\003\\\\212(\\\\010\\\\023\\\\222I\\\\246\\\\000\\\\345\\\\334\\\\330\\\\\\\\q@\\\\216S\\\\343\\\\330-\\\\374=\\\\255D#\\\\221aK\\\\320^\\\\\"G\\\\n\\\\300\\\\372\\\\207\\\\320g5\\\\311\\\\317\\\\004\\\\262tq6\\\\315\\\\002]V\\\\312I\\\\225RH\\\\331\\\\222@\\\\376\\\\216\\\\000\\\\333\\\\311$\\\\376C\\\\347\\\\365\\\\257=\\\\3076v\\\\\\'\\\\2125\\\\273\\\\213\\\\231\\\\226\\\\307P\\\\272*<\\\\273\\\\222\\\\312\\\\0160@\\\\334\\\\010\\\\034t\\\\374?\\\\255\\\\021\\\\215\\\\262\\\\244\\\\351\\\\025Q\\\\301$\\\\266\\\\350\\\\0342\\\\305\\\\235\\\\354I\\\\310s\\\\362{w\\\\342\\\\255\\\\322d,\\\\242\\\\336[(cM\\\\357&eU\\\\312\\\\347\\\\221\\\\203\\\\323\\\\351\\\\364\\\\254\\\\323\\\\263G\\\\203[\\\\327\\\\014\\\\220\\\\207h\\\\230\\\\355b=>\\\\377\\\\000\\\\227\\\\265tq\\\\244\\\\331\\\\217$\\\\232E\\\\022I\\\\277s2\\\\253\\\\001\\\\234\\\\000>?\\\\257\\\\373WM\\\\034\\\\367e\\\\214{c\\\\232W\\\\300\\\\302C\\\\221\\\\221\\\\333\\\\277\\\\374\\\\324\\\\357\\\\003$ d\\\\264X\\\\307\\\\342\\\\307\\\\254\\\\367\\\\000\\\\363\\\\201\\\\363\\\\376\\\\324X\\\\210\\\\310\\\\241Y\\\\224\\\\005\\\\t\\\\020\\\\365\\\\347\\\\267\\\\035*\\\\220\\\\205%\\\\001m\\\\326F\\\\210o?\\\\372i\\\\306\\\\000\\\\372{\\\\323\\\\n\\\\030\\\\232\\\\017\\\\272\\\\033{\\\\262\\\\321\\\\253B\\\\252\\\\333I\\\\307Q\\\\306~x\\\\351Sv4\\\\022\\\\325.o. \\\\004\\\\200\\\\210\\\\013\\\\340\\\\250!\\\\027=\\\\000\\\\351\\\\222?ZO\\\\010\\\\244lV\\\\026\\\\320\\\\275\\\\303\\\\312\\\\\\\\\\\\250RY\\\\025\\\\262\\\\003c\\\\003\\\\034\\\\221\\\\327\\\\363\\\\300\\\\307\\\\034\\\\340s\\\\312\\\\331\\\\274i\\\\025\\\\227\\\\221\\\\213\\\\351RC$i\\\\000!\\\\213\\\\261\\\\031\\\\3167\\\\021\\\\214\\\\343=\\\\261\\\\327\\\\200\\\\005TUl\\\\231;amb\\\\373\\\\302\\\\306\\\\320Eo\\\\024Y#\\\\221\\\\301RI\\\\353\\\\216\\\\301\\\\260\\\\030v52\\\\225\\\\025\\\\030\\\\331U48\\\\235we\\\\266\\\\005G\\\\357\\\\214\\\\223\\\\301\\\\307\\\\26695JV\\\\202\\\\251\\\\213$qy\\\\221\\\\211\\\\2402E o\\\\335G(F\\\\016A\\\\000d\\\\202:\\\\340\\\\343\\\\034\\\\2168\\\\316kX\\\\2639#\\\\323\\\\277`>\\\\\"\\\\237\\\\\\\\\\\\360\\\\334v\\\\032\\\\205\\\\321\\\\232\\\\357N\\\\304l\\\\322\\\\037[\\\\\\'\\\\360\\\\223\\\\357\\\\216\\\\231\\\\256\\\\276)\\\\366\\\\211\\\\315\\\\311\\\\032vvc\\\\014m\\\\017\\\\000|S\\\\262h\\\\252\\\\324<\\\\310\\\\246\\\\213j\\\\223\\\\236\\\\005Z%\\\\215\\\\266\\\\022\\\\023$\\\\374`R\\\\006k\\\\346\\\\356\\\\346\\\\352\\\\353lGd9\\\\353\\\\361ZR\\\\212!6\\\\331r\\\\367(`\\\\373\\\\264~\\\\243\\\\374F\\\\242\\\\263f\\\\227\\\\340\\\\025\\\\302\\\\030\\\\342P\\\\276\\\\221\\\\336\\\\204!\\\\2159\\\\014\\\\303\\\\021\\\\216=\\\\350\\\\226\\\\006\\\\262\\\\031\\\\255\\\\030\\\\312Ct\\\\0256\\\\024a\\\\255\\\\221\\\\001\\\\33494X\\\\0001\\\\010\\\\324\\\\262\\\\236\\\\224\\\\304B%=Z\\\\200\\\\r\\\\264\\\\260\\\\310\\\\342\\\\200&\\\\035\\\\021\\\\016\\\\352@&\\\\367\\\\037\\\\275\\\\370\\\\252\\\\241Y&f\\\\224\\\\341z{\\\\322\\\\030UC\\\\032\\\\375h\\\\000\\\\221\\\\225\\\\003\\\\236\\\\264\\\\001\\\\364\\\\216\\\\030\\\\020\\\\0074\\\\250\\\\000$L\\\\315\\\\226<{S\\\\020s\\\\n\\\\343\\\\256)\\\\014R[\\\\202%\\\\362\\\\200\\\\316;\\\\325P\\\\257\\\\301\\\\314\\\\276\\\\327,V\\\\377\\\\000\\\\\\\\\\\\261\\\\212\\\\3413\\\\017\\\\335\\\\310V\\\\317B[\\\\232\\\\347\\\\345Vk\\\\007H\\\\347r\\\\370SL\\\\201\\\\010\\\\200\\\\313\\\\014rd\\\\022\\\\244\\\\227n\\\\tc\\\\374\\\\200\\\\372\\\\232\\\\363\\\\371\\\\035l\\\\354\\\\206tk\\\\336%*\\\\302\\\\r>%\\\\362\\\\366\\\\r\\\\244\\\\347\\\\240\\\\317\\\\342?\\\\312\\\\210c#z\\\\242\\\\272\\\\331L\\\\262-\\\\242\\\\206G\\\\335\\\\200[\\\\270\\\\003\\\\236\\\\237\\\\031\\\\375iK\\\\013\\\\260\\\\343\\\\234\\\\023\\\\325\\\\035d\\\\267\\\\005AC\\\\010\\\\301\\\\344\\\\343\\\\217q\\\\333\\\\212\\\\2365\\\\222\\\\246\\\\351\\\\032\\\\265\\\\335\\\\330}\\\\342C\\\\301l\\\\014\\\\377\\\\000C\\\\307\\\\367\\\\315vF4r\\\\312VWY\\\\270\\\\373\\\\314\\\\312\\\\255\\\\205e\\\\\\'\\\\201\\\\324w\\\\310\\\\376\\\\372V\\\\214\\\\204\\\\\\\\\\\\332F\\\\246<\\\\3120YP\\\\020\\\\016\\\\356\\\\247\\\\223\\\\365\\\\250(r\\\\350\\\\2370\\\\252\\\\344\\\\225\\\\301\\\\334:q\\\\300\\\\007\\\\3374\\\\2200\\\\0271\\\\002\\\\253nB\\\\256\\\\007\\\\231)\\\\007\\\\206#\\\\266\\\\177\\\\277\\\\212v!O4\\\\254\\\\371\\\\221Wt\\\\217\\\\2718\\\\3161\\\\336\\\\230\\\\ri\\\\261}\\\\356\\\\317u\\\\312\\\\205\\\\2108*\\\\2079 d\\\\205\\\\007\\\\277N\\\\237LT\\\\266R\\\\017\\\\252F\\\\306\\\\314\\\\306\\\\\"\\\\303\\\\014d\\\\2259|\\\\214\\\\214\\\\362{c\\\\277\\\\275\\\\010\\\\006\\\\240T\\\\0267\\\\266k$\\\\223L\\\\321\\\\251\\\\217\\\\016\\\\034\\\\214\\\\225\\\\003\\\\216\\\\271# {T4Z`\\\\\\'\\\\333\\\\367\\\\013m\\\\207\\\\3671\\\\023\\\\220\\\\027\\\\033\\\\244\\\\034\\\\220\\\\0169\\\\007\\\\333\\\\340\\\\366\\\\305=\\\\005\\\\333,~\\\\3635\\\\235\\\\2232I\\\\\"\\\\372\\\\204j\\\\2507\\\\230\\\\324\\\\216NOl\\\\356?\\\\226\\\\005d\\\\325\\\\263D\\\\360-,A\\\\230\\\\262\\\\241.YR<.\\\\346\\\\221\\\\207B{\\\\340\\\\221\\\\3178\\\\344{R\\\\241\\\\330\\\\225\\\\345\\\\231\\\\010\\\\032\\\\033v\\\\007\\\\216\\\\013\\\\035\\\\340\\\\344\\\\340\\\\003\\\\362A\\\\353\\\\320\\\\n\\\\270\\\\343dK\\\\\\'A\\\\373\\\\006\\\\326\\\\r\\\\227\\\\211b\\\\267\\\\230\\\\037&\\\\345\\\\014\\\\003qR\\\\321\\\\2619\\\\034\\\\361\\\\221\\\\236\\\\017\\\\324WO\\\\004\\\\252U\\\\354\\\\313\\\\221\\\\\\\\l\\\\364\\\\362\\\\314\\\\366\\\\354\\\\253?\\\\244\\\\036\\\\200\\\\232\\\\352\\\\336\\\\216b\\\\312E\\\\023\\\\300\\\\214\\\\240nZ\\\\2351\\\\354\\\\024\\\\211\\\\025\\\\314\\\\016\\\\222t\\\\350h\\\\312`\\\\325\\\\232\\\\275\\\\352\\\\255\\\\264\\\\204D\\\\304(8\\\\305m\\\\027{2x-,\\\\032%\\\\204\\\\020=G\\\\271\\\\250n\\\\331\\\\242Cq\\\\371R\\\\332\\\\312%\\\\301~\\\\302\\\\225\\\\206\\\\321\\\\0339\\\\005\\\\274>\\\\243\\\\267\\\\035\\\\250y\\\\000\\\\337{\\\\0147)\\\\311\\\\245A`\\\\346\\\\270\\\\203\\\\310\\\\022O0\\\\037\\\\000\\\\323\\\\257@\\\\312\\\\345\\\\325\\\\222R\\\\320\\\\307\\\\003\\\\235\\\\335\\\\034\\\\2161E;\\\\017\\\\005\\\\212\\\\250Rwu\\\\024\\\\254@\\\\244\\\\234n\\\\332\\\\247\\\\024\\\\300Z\\\\342N\\\\200t\\\\246\\\\204\\\\310:\\\\206\\\\000\\\\221\\\\300\\\\243A\\\\261\\\\230\\\\031D}pi\\\\014\\\\231\\\\2202\\\\362h\\\\0019\\\\\\'h\\\\344 \\\\002E4\\\\211d~\\\\366\\\\331\\\\340\\\\037\\\\316\\\\212\\\\035\\\\230\\\\216\\\\362L\\\\373\\\\375(\\\\003\\\\351.d\\\\231\\\\266&A\\\\241*\\\\013\\\\260\\\\213o\\\\\"E\\\\346\\\\036I\\\\375hl*\\\\262k\\\\376/\\\\322d\\\\324\\\\254\\\\004\\\\352\\\\255\\\\347\\\\333z\\\\220\\\\374w\\\\376U2V\\\\212\\\\2139n\\\\243,\\\\226\\\\350$\\\\2160\\\\034zT\\\\236B\\\\257|\\\\223\\\\337\\\\034\\\\361\\\\361^w,\\\\035\\\\235|r9\\\\365\\\\304\\\\027.&\\\\274\\\\222Eap\\\\345\\\\303\\\\201\\\\200\\\\006\\\\354\\\\001\\\\216\\\\334\\\\n\\\\315c\\\\006\\\\2179$v\\\\303v\\\\036\\\\025m\\\\373O\\\\226\\\\017\\\\351\\\\376\\\\225/*\\\\212\\\\216\\\\035\\\\224\\\\227\\\\372\\\\234\\\\245A\\\\2258-\\\\205\\\\347\\\\337\\\\351[q\\\\361\\\\321\\\\224\\\\347e-\\\\354K\\\\367i\\\\014\\\\005\\\\214\\\\221\\\\214\\\\360s\\\\221\\\\361\\\\364\\\\255\\\\321\\\\211S\\\\246\\\\310\\\\277~P1\\\\345\\\\234\\\\256OA\\\\237zrX\\\\022\\\\331}\\\\007\\\\244\\\\313\\\\023a0\\\\001F<pN1\\\\375*<\\\\026\\\\307\\\\333pS33\\\\022X\\\\001\\\\200\\\\016O\\\\365\\\\343\\\\256h\\\\020\\\\265\\\\3017VR\\\\260P\\\\031\\\\330\\\\250v=@\\\\357\\\\372\\\\177Z4\\\\014\\\\304on\\\\307\\\\3579FQ\\\\\\'\\\\225\\\\033\\\\021\\\\235\\\\3308\\\\031\\\\037A\\\\237\\\\313\\\\024\\\\350,\\\\003\\\\265\\\\305\\\\327\\\\237\\\\r\\\\261\\\\333\\\\030!\\\\024\\\\354\\\\352\\\\177\\\\323\\\\270\\\\300\\\\242\\\\274\\\\205\\\\370\\\\037\\\\260\\\\270\\\\337\\\\035\\\\300\\\\363\\\\035]dX}X\\\\335 *q\\\\361\\\\214\\\\201\\\\317c\\\\212\\\\032\\\\310-\\\\031\\\\267\\\\213\\\\311\\\\226I\\\\225\\\\031g\\\\233\\\\312}\\\\243\\\\322\\\\004c;\\\\217L\\\\374g\\\\344\\\\367\\\\305&5\\\\222\\\\302\\\\326\\\\325\\\\r\\\\215\\\\345\\\\235\\\\276\\\\334\\\\301\\\\020u\\\\233\\\\323\\\\220\\\\240~\\\\020GNO\\\\3175\\\\214\\\\245y6\\\\212\\\\240\\\\245#\\\\236wG\\\\n\\\\311j\\\\200\\\\230\\\\3661\\\\022rN\\\\001\\\\352@\\\\033\\\\217@p\\\\r\\\\000\\\\nu\\\\271p\\\\222\\\\026db\\\\024\\\\244\\\\334\\\\2661\\\\2029\\\\355\\\\216\\\\230\\\\036\\\\347\\\\216\\\\246\\\\244\\\\241\\\\033\\\\330\\\\035\\\\354\\\\315\\\\305\\\\274\\\\263\\\\333O\\\\024\\\\230d\\\\332@\\\\3679\\\\355\\\\330\\\\036\\\\277Jq\\\\264\\\\353\\\\300\\\\2355c\\\\036\\\\032\\\\234\\\\307\\\\253}\\\\352K_\\\\273\\\\024\\\\307\\\\223 \\\\375\\\\340F\\\\004p:\\\\036G|\\\\234\\\\034{\\\\346\\\\255\\\\376\\\\265L\\\\224z\\\\343N\\\\326_T\\\\323\\\\354\\\\356n\\\\\"-# bOs\\\\216\\\\265\\\\350\\\\307*\\\\321\\\\305,0\\\\353{p\\\\322\\\\260/\\\\345\\\\250\\\\376\\\\021UH\\\\233aM\\\\333\\\\210\\\\202\\\\347h\\\\\\'\\\\363\\\\245C+.\\\\3403^\\\\253\\\\026;\\\\007Z\\\\244\\\\351Q-[\\\\262\\\\306Y\\\\321\\\\243\\\\021\\\\304\\\\270U\\\\035k5\\\\032v\\\\313n\\\\364\\\\n+\\\\301\\\\023m\\\\004\\\\346\\\\252\\\\254@o/\\\\241\\\\260Sw\\\\252\\\\\\\\\\\\307\\\\025\\\\247\\\\273\\\\266\\\\000\\\\244\\\\332H\\\\022\\\\311\\\\255?\\\\332_\\\\205\\\\274\\\\330\\\\321uX\\\\225em\\\\250\\\\2709o\\\\237\\\\201\\\\362i)\\\\242\\\\272\\\\262\\\\356\\\\305\\\\355\\\\365I|\\\\330.Q\\\\355\\\\227\\\\274m\\\\220kK\\\\306\\\\010\\\\352\\\\357%\\\\227\\\\231\\\\036BD2O\\\\002\\\\222@\\\\036\\\\345\\\\346\\\\316\\\\321\\\\370\\\\215B\\\\031\\\\233h\\\\230\\\\220%\\\\340\\\\367\\\\246\\\\300gQ\\\\222\\\\325B\\\\001\\\\200GZ\\\\230\\\\330\\\\335\\\\t\\\\371\\\\210S9\\\\312\\\\325\\\\010\\\\371\\\\347\\\\215\\\\323\\\\013\\\\324Q@/0\\\\223`e<{P\\\\001PJ#2I\\\\264(\\\\355@\\\\013\\\\301+]O\\\\261S\\\\nO-T\\\\343D\\\\251[\\\\033\\\\272\\\\215 \\\\\\\\DF{\\\\322Y+G\\\\326\\\\020\\\\220\\\\276l\\\\370\\\\333\\\\332\\\\206$\\\\031\\\\356\\\\320\\\\235\\\\250\\\\255\\\\267\\\\336\\\\225\\\\016\\\\310]\\\\356\\\\362=\\\\036\\\\242\\\\177\\\\204P\\\\201\\\\232\\\\\\'\\\\212|2\\\\327q=\\\\325\\\\262\\\\256\\\\360\\\\013<g\\\\243\\\\177~\\\\325\\\\237\\\\\\'\\\\032\\\\226\\\\212\\\\204\\\\350\\\\345\\\\336\\\\\\'Xm,\\\\\\'\\\\363\\\\237a#!BmU\\\\370\\\\0378\\\\342\\\\270g\\\\ngT%g<\\\\270\\\\325\\\\016RD\\\\211\\\\304\\\\321\\\\246\\\\325e\\\\004\\\\206\\\\305\\\\n\\\\003r\\\\306\\\\005VT\\\\324\\\\\"C+0\\\\235}j;\\\\344|\\\\376\\\\237\\\\312\\\\264\\\\2523\\\\273+\\\\\\'\\\\027\\\\366\\\\322\\\\264\\\\315\\\\016\\\\345v\\\\365\\\\n\\\\321Q\\\\005u\\\\260\\\\363/dp\\\\271\\\\215\\\\206q\\\\234w\\\\307\\\\345\\\\3157\\\\240F\\\\311\\\\247\\\\206\\\\222|\\\\243\\\\006\\\\214\\\\214\\\\251\\\\3328<rA\\\\355\\\\323\\\\371T\\\\024[M\\\\n\\\\371R\\\\211\\\\016\\\\021\\\\001Q\\\\264z\\\\271\\\\352\\\\007\\\\2714\\\\230\\\\025F\\\\t\\\\256\\\\257\\\\312\\\\027\\\\333\\\\034h\\\\027j\\\\203\\\\261A\\\\034\\\\214\\\\367n\\\\231\\\\354:\\\\374S\\\\272\\\\r\\\\213Jl\\\\340\\\\036lQOt\\\\3618\\\\033\\\\201\\\\000\\\\004\\\\366\\\\000q\\\\327\\\\2774\\\\223ltM\\\\356&\\\\212\\\\376\\\\331\\\\010\\\\215#BK\\\\261\\\\310\\\\\\'\\\\031 \\\\020:v\\\\317\\\\271\\\\037\\\\025v@G\\\\n\\\\322\\\\204\\\\221ZK6\\\\221$\\\\013\\\\363\\\\216\\\\347\\\\031\\\\311\\\\007\\\\246*u\\\\222\\\\213\\\\251c\\\\375\\\\350\\\\273@$1\\\\341I\\\\352\\\\273\\\\207\\\\251A\\\\\\'\\\\276p\\\\016=\\\\363\\\\364\\\\315\\\\272\\\\301\\\\242E\\\\230R\\\\367v\\\\241&\\\\205\\\\256.$Q\\\\3458 \\\\034\\\\222][<7 \\\\234\\\\203\\\\301=\\\\353\\\\035\\\\032 z\\\\233\\\\017\\\\361\\\\006\\\\201\\\\036@ep]\\\\211\\\\3320\\\\252\\\\334\\\\034pyld\\\\177:\\\\026\\\\203\\\\310{\\\\270\\\\002X*!ao\\\\010et\\\\354\\\\304\\\\017\\\\313#\\\\236\\\\335\\\\315\\\\010\\\\031J\\\\351*\\\\334\\\\003\\\\010T\\\\230l\\\\334\\\\001!x\\\\004t\\\\366*:\\\\217q\\\\315Z\\\\373\\\\023\\\\372+!\\\\271\\\\272\\\\264\\\\276\\\\022\\\\200\\\\217\\\\036xp76\\\\017PW\\\\257=sWI\\\\252%6\\\\231\\\\352O\\\\263\\\\215J\\\\337Q\\\\360\\\\225\\\\207\\\\335@\\\\312)\\\\014\\\\007\\\\276}\\\\273\\\\177\\\\336\\\\2738eq9\\\\371UH\\\\334R\\\\336(\\\\2112e\\\\230\\\\217\\\\302+KfX\\\\007\\\\005\\\\257\\\\357\\\\201\\\\270\\\\306\\\\316\\\\241;\\\\323\\\\277AF$\\\\215C\\\\354\\\\013\\\\311?\\\\240\\\\242\\\\300\\\\216\\\\240m\\\\354\\\\255\\\\214\\\\263\\\\310\\\\261\\\\250\\\\306I8\\\\370\\\\377\\\\000ZV:9\\\\007\\\\216\\\\376\\\\330\\\\364\\\\375#6\\\\232:-\\\\325\\\\314\\\\204\\\\205q\\\\215\\\\252\\\\240\\\\343?S\\\\203\\\\217\\\\326\\\\241\\\\317\\\\320\\\\324N9\\\\343o\\\\021k~(\\\\221g\\\\324\\\\357\\\\034@\\\\247)k\\\\036BD\\\\244\\\\366\\\\035\\\\317\\\\311\\\\254\\\\234\\\\255\\\\227\\\\326\\\\215:\\\\337w\\\\231\\\\313\\\\005\\\\035T\\\\236\\\\t\\\\366#\\\\342\\\\206\\\\306\\\\217Q\\\\376\\\\316\\\\326\\\\222\\\\\\'\\\\206n$\\\\273,#\\\\221\\\\301@A\\\\306>3\\\\307\\\\351[CB\\\\344\\\\364u6H\\\\303\\\\273\\\\304p\\\\253\\\\323\\\\353Vd\\\\026(\\\\344y\\\\236c\\\\225Q\\\\320\\\\232A\\\\266B4\\\\236\\\\342]\\\\312N\\\\334\\\\362M=\\\\013f$\\\\201\\\\256\\\\344\\\\332\\\\243\\\\320\\\\247\\\\226\\\\367\\\\241:\\\\007\\\\234\\\\0236.\\\\323yp\\\\202#\\\\037\\\\211\\\\217z;\\\\005xD$\\\\264\\\\335/\\\\227\\\\020\\\\351\\\\301n\\\\324v\\\\006\\\\275\\\\031\\\\275\\\\002\\\\001\\\\034\\\\013\\\\352~\\\\347\\\\332\\\\210\\\\273\\\\310<`\\\\232B$\\\\333\\\\036\\\\342O~i7Y\\\\n\\\\\"\\\\353\\\\0247q\\\\305\\\\031\\\\302\\\\177\\\\021\\\\377\\\\000J\\\\023\\\\265`\\\\361\\\\2045-\\\\262O $\\\\355\\\\200u>\\\\364\\\\256\\\\206\\\\325\\\\222f\\\\206f\\\\333\\\\274%\\\\272q\\\\365\\\\243+ M\\\\241\\\\212}\\\\276W\\\\246\\\\025\\\\356x\\\\315\\\\026\\\\302\\\\275\\\\004\\\\225#\\\\212-\\\\220\\\\002\\\\322\\\\023\\\\313{R\\\\261\\\\3208\\\\241\\\\200g8v\\\\357N\\\\330Q\\\\317\\\\274\\\\177\\\\340{o\\\\020\\\\332\\\\316\\\\312\\\\250&_\\\\341\\\\034dw\\\\306;\\\\326s\\\\202\\\\221Q\\\\227S\\\\211jZ$V\\\\021Mj\\\\260\\\\224h=%I\\\\344\\\\032\\\\343\\\\222qgDZh\\\\322n4\\\\370e\\\\272I\\\\243\\\\220\\\\001\\\\301u\\\\354G\\\\270\\\\253R\\\\300\\\\232\\\\\\'<\\\\353\\\\032:\\\\266\\\\334\\\\256:\\\\037\\\\216\\\\206\\\\232 \\\\243\\\\266\\\\362~\\\\373 \\\\211\\\\262\\\\216\\\\230\\\\\\\\\\\\377\\\\000\\\\013n\\\\351ZP\\\\213-#tn\\\\261\\\\23660PO\\\\362?\\\\337\\\\305K\\\\0327;\\\\253\\\\177/K\\\\017\\\\t;\\\\317\\\\034\\\\372\\\\260\\\\307\\\\277\\\\315)`\\\\026MD,\\\\227-:#\\\\210,\\\\343P\\\\245\\\\2622~\\\\006{\\\\223\\\\334\\\\322\\\\030\\\\314v\\\\351\\\\035\\\\201\\\\267\\\\263\\\\226E\\\\t\\\\270.\\\\321\\\\227\\\\344\\\\203\\\\201\\\\365\\\\037\\\\025-\\\\346\\\\312Z\\\\023\\\\272,\\\\245a\\\\221\\\\245\\\\225P0\\\\016\\\\354\\\\002\\\\216\\\\370\\\\3068=\\\\t=r}\\\\261M\\\\003\\\\034\\\\322\\\\034\\\\307\\\\026\\\\314\\\\242\\\\306\\\\350Y\\\\347bAU\\\\306N\\\\t\\\\350H\\\\343\\\\377\\\\000\\\\267\\\\305\\\\022\\\\313\\\\010\\\\242\\\\372;p\\\\261\\\\312\\\\267I\\\\\\'\\\\224$\\\\334#\\\\3132~\\\\034s\\\\217c\\\\206\\\\035\\\\371#\\\\214\\\\3262f\\\\221Cd\\\\274\\\\220\\\\020Q.Z?\\\\336\\\\303\\\\206%\\\\324\\\\340\\\\262)\\\\374\\\\211\\\\343\\\\266H\\\\254\\\\333\\\\243J($K\\\\273\\\\335Z\\\\342R\\\\361\\\\345\\\\301\\\\341\\\\271\\\\000\\\\364\\\\301\\\\307`\\\\000\\\\037L{\\\\326\\\\230Q%]\\\\233lp4\\\\232=\\\\244q\\\\312\\\\263\\\\314\\\\001V*=[\\\\300\\\\007q\\\\036\\\\331\\\\353\\\\377\\\\0004\\\\2557bj\\\\260k7\\\\352w^\\\\264\\\\312p\\\\250\\\\311\\\\017\\\\247\\\\322\\\\234\\\\234\\\\025S\\\\311\\\\030\\\\334q\\\\364\\\\317CV\\\\274\\\\023e\\\\006\\\\260\\\\226\\\\362$\\\\206\\\\332\\\\031CF\\\\331Y\\\\0200\\\\370 \\\\377\\\\000\\\\220\\\\236\\\\006\\\\017\\\\025\\\\244n\\\\311\\\\221\\\\325\\\\377\\\\000g\\\\237\\\\033Z\\\\333j\\\\247K\\\\271\\\\231\\\\374\\\\373\\\\254E\\\\027\\\\235\\\\220\\\\254\\\\335\\\\207\\\\260<\\\\340c\\\\256+^5\\\\326T\\\\364\\\\311\\\\223\\\\355\\\\033[G\\\\241\\\\226\\\\341\\\\355$r\\\\\"\\\\363es\\\\324\\\\364\\\\025\\\\323Vs\\\\335\\\\0260\\\\204Kw\\\\226@\\\\2571\\\\031\\\\374\\\\352\\\\033\\\\315\\\\025X\\\\263K\\\\361O\\\\216\\\\264O\\\\n\\\\254_~\\\\224K\\\\250O&\\\\301n\\\\207,\\\\270\\\\0319\\\\366\\\\354?1JO\\\\300$qo\\\\027\\\\370\\\\267Q\\\\361=\\\\375\\\\272\\\\316\\\\n\\\\332\\\\314\\\\215:C\\\\031\\\\302\\\\240\\\\310 \\\\234w\\\\000c\\\\347\\\\256+\\\\027+4Q\\\\255\\\\234\\\\207\\\\304\\\\0323\\\\331\\\\352\\\\nbm\\\\317\\\\264I*\\\\252\\\\220\\\\261\\\\347\\\\220\\\\240\\\\236O\\\\030\\\\347\\\\334\\\\342\\\\232x\\\\025P\\\\366\\\\237p\\\\227V\\\\346\\\\027fs\\\\234m+\\\\201\\\\237\\\\236\\\\377\\\\000\\\\231\\\\244\\\\312Y:\\\\177\\\\331\\\\237\\\\331)\\\\325\\\\246\\\\032\\\\206\\\\267+[ijw\\\\016\\\\346_\\\\200\\\\010\\\\353ZF\\\\027\\\\261I\\\\250\\\\236\\\\211\\\\3224K=2\\\\311V!\\\\025\\\\245\\\\212\\\\214\\\\\"\\\\003\\\\332\\\\265\\\\272\\\\3022y\\\\313\\\\t-\\\\232\\\\335\\\\035\\\\321I\\\\345\\\\333\\\\223\\\\205l\\\\365\\\\242\\\\305A$\\\\324w\\\\312\\\\020\\\\246\\\\330G\\\\\\'\\\\334\\\\323\\\\353\\\\344V\\\\032\\\\342\\\\3704\\\\037\\\\271\\\\0024\\\\351\\\\363IG\\\\330\\\\357\\\\320\\\\267\\\\337\\\\t@\\\\\"!\\\\000\\\\353\\\\356i\\\\320\\\\254j{\\\\2035\\\\240\\\\362\\\\345\\\\021\\\\373\\\\343\\\\255JY\\\\035\\\\332\\\\026\\\\036w\\\\222\\\\025\\\\010\\\\013\\\\357\\\\334\\\\325\\\\010]9,\\\\035\\\\200q\\\\324\\\\367\\\\246\\\\007\\\\316H*\\\\\"l\\\\023\\\\330P\\\\000\\\\257\\\\025\\\\206\\\\003\\\\235\\\\212\\\\007Z\\\\020\\\\230\\\\335\\\\245\\\\323y\\\\0016\\\\357A\\\\334\\\\322h\\\\023\\\\006\\\\250\\\\246\\\\3443\\\\215\\\\3318\\\\000t\\\\024\\\\374\\\\007\\\\223\\\\353\\\\306\\\\273\\\\027\\\\321\\\\307\\\\024\\\\200\\\\305\\\\214\\\\220\\\\242\\\\205T\\\\\\'v:\\\\367\\\\022\\\\230\\\\366\\\\250\\\\300\\\\350s\\\\326\\\\246\\\\213\\\\260-\\\\345\\\\205\\\\3659Op\\\\r1\\\\037B\\\\252Y\\\\210;Go\\\\232\\\\030\\\\034\\\\363\\\\355/\\\\303\\\\311%\\\\225\\\\326\\\\247\\\\006\\\\025\\\\243\\\\214\\\\231\\\\027\\\\034\\\\266;\\\\326<\\\\260\\\\354\\\\254\\\\322\\\\022\\\\247G\\\\223Z\\\\352\\\\340\\\\311\\\\\"\\\\254O\\\\344\\\\371\\\\205C\\\\340\\\\345s\\\\333\\\\342\\\\262\\\\245E\\\\336L\\\\336[5\\\\251\\\\014\\\\327D\\\\006\\\\352Kd\\\\373\\\\340sM;\\\\023+\\\\346\\\\2261#\\\\233c\\\\327\\\\237\\\\247\\\\317\\\\305Z\\\\021q\\\\241\\\\336G=\\\\354\\\\013\\\\370|\\\\326\\\\330T\\\\234\\\\341\\\\217\\\\003?\\\\035*d\\\\206\\\\216\\\\273\\\\017\\\\207/\\\\340\\\\322\\\\2467\\\\261\\\\341A\\\\310\\\\030\\\\374 \\\\177\\\\177\\\\245\\\\022\\\\203\\\\240RVr\\\\333\\\\253[\\\\213\\\\213\\\\270\\\\364\\\\333W\\\\021\\\\010\\\\267<\\\\3148\\\\033\\\\217_\\\\317\\\\025\\\\013VS\\\\017\\\\367k[(R\\\\030f\\\\222[\\\\231w\\\\000\\\\221`\\\\274\\\\236\\\\355\\\\273\\\\353\\\\306\\\\017\\\\267\\\\036\\\\364\\\\236A1\\\\251\\\\005\\\\245\\\\305\\\\274\\\\236t\\\\346)\\\\007\\\\250\\\\305\\\\032o@\\\\203\\\\252\\\\223\\\\365#\\\\277c\\\\361Y\\\\345\\\\032l<\\\\010`\\\\313\\\\013\\\\250%\\\\205\\\\220J\\\\254\\\\212\\\\010\\\\334I^3\\\\301\\\\003\\\\217a\\\\237sI\\\\310\\\\245\\\\022\\\\372\\\\321\\\\030Oo\\\\024\\\\245d\\\\205\\\\244\\\\033\\\\244\\\\031\\\\302\\\\263($v\\\\004d\\\\361\\\\237o\\\\312\\\\260r\\\\331\\\\252\\\\210i\\\\340\\\\270hmb\\\\202GX\\\\311u\\\\036[`\\\\240\\\\317\\\\nz\\\\2021\\\\267\\\\236\\\\270\\\\372\\\\232I\\\\330\\\\364\\\\002X\\\\0149*\\\\213\\\\363\\\\317\\\\275[\\\\262U\\\\001\\\\360\\\\355\\\\360\\\\202\\\\366\\\\341\\\\\\'\\\\365\\\\027\\\\033c#\\\\242\\\\216rq\\\\216y\\\\376x\\\\252\\\\212\\\\300\\\\245\\\\221k\\\\213@\\\\327k-\\\\324b5\\\\265~\\\\021\\\\263\\\\211\\\\030c g\\\\337\\\\037\\\\324\\\\326\\\\253\\\\010\\\\306\\\\312[\\\\251g\\\\324\\\\032i\\\\3402\\\\023#~\\\\366\\\\\\\\\\\\2202\\\\334\\\\372\\\\275\\\\306I\\\\365w\\\\300\\\\315:\\\\255\\\\210\\\\326/\\\\002\\\\302\\\\352-\\\\245\\\\023>\\\\t\\\\336\\\\231\\\\004\\\\016:\\\\363[,\\\\354\\\\315\\\\375\\\\035\\\\253\\\\354\\\\373\\\\355\\\\375\\\\354\\\\264\\\\330\\\\364\\\\357\\\\030\\\\331\\\\335\\\\336\\\\311l\\\\201R\\\\376\\\\327\\\\r#\\\\250\\\\351\\\\346\\\\251#$\\\\017\\\\342\\\\007\\\\\\'\\\\270\\\\\\'\\\\232\\\\331O\\\\331-Yg\\\\342_\\\\267i.t\\\\333\\\\327\\\\360\\\\256\\\\237,Q\\\\254g\\\\027w\\\\200rN\\\\024mE>\\\\376\\\\347\\\\2368\\\\250\\\\224\\\\304\\\\242y\\\\346\\\\363V\\\\276\\\\276\\\\326$\\\\277\\\\276\\\\236In\\\\344\\\\220\\\\310\\\\354\\\\347\\\\235\\\\307\\\\373\\\\376T\\\\250\\\\255\\\\035GO\\\\271\\\\032\\\\235\\\\275\\\\202y\\\\273\\\\214x\\\\016\\\\2100]\\\\210\\\\033Io`\\\\0060}\\\\353\\\\007\\\\263b\\\\346\\\\303I\\\\032\\\\334\\\\276Q\\\\363&\\\\335\\\\220\\\\252\\\\347\\\\013\\\\362Go\\\\2461\\\\217z\\\\020Q\\\\320\\\\374\\\\027\\\\366G\\\\246Y\\\\\\\\G\\\\177\\\\252E\\\\003N\\\\236\\\\250\\\\242#\\\\001\\\\007l\\\\373\\\\375+\\\\252\\\\020\\\\254\\\\263\\\\031N\\\\260\\\\216\\\\222\\\\321n\\\\204\\\\034\\\\027H\\\\370\\\\004\\\\017H\\\\002\\\\2652c\\\\020@\\\\227n\\\\253<\\\\205\\\\227\\\\256OAF\\\\203cEb2\\\\005\\\\215\\\\363\\\\264\\\\340c\\\\240\\\\244\\\\002h\\\\312\\\\214\\\\352W?4\\\\304-r\\\\254\\\\312v5R\\\\023!a\\\\021\\\\201\\\\213Jw1\\\\247\\\\\\'b\\\\212\\\\240\\\\355r\\\\262)\\\\205\\\\2063\\\\355J\\\\274\\\\216\\\\314+<`&\\\\343\\\\264\\\\364\\\\242\\\\223\\\\r\\\\0031\\\\346L\\\\225$\\\\212b\\\\016\\\\347 G\\\\037\\\\016\\\\006x\\\\355Hac\\\\217u\\\\276f\\\\005\\\\330s\\\\212\\\\227\\\\274\\\\002\\\\326O\\\\242\\\\363\\\\004LB\\\\200\\\\247\\\\240\\\\241\\\\214-\\\\275\\\\264\\\\212]\\\\224\\\\372\\\\210\\\\241\\\\260H\\\\314O\\\\344\\\\215\\\\341r\\\\375)\\\\0003\\\\3464\\\\243{a\\\\333\\\\260\\\\350)\\\\201\\\\364\\\\266\\\\242\\\\031}Le\\\\\\'\\\\232\\\\024\\\\205DRY\\\\241\\\\230\\\\235\\\\236`<\\\\001\\\\331h\\\\303A\\\\2334\\\\257\\\\266]u4\\\\235\\\\002;f\\\\2324\\\\236\\\\370\\\\220\\\\304\\\\220\\\\002F\\\\275\\\\177R@\\\\375k\\\\036YuT\\\\215`\\\\255\\\\3338]\\\\225\\\\266\\\\237&\\\\223wsm\\\\206\\\\224\\\\261\\\\232|r\\\\010\\\\350\\\\010\\\\256Wm\\\\033\\\\255\\\\234\\\\373T\\\\373\\\\275\\\\375\\\\343a\\\\211U\\\\030\\\\332?\\\\206\\\\264\\\\215\\\\244D\\\\266R\\\\311\\\\037\\\\223>\\\\330\\\\360\\\\274\\\\360\\\\307\\\\371V\\\\204\\\\233\\\\017\\\\331\\\\375\\\\253\\\\334\\\\370\\\\247K\\\\2160\\\\204\\\\313r\\\\243.7.\\\\341\\\\377\\\\000q\\\\320\\\\365\\\\3150=\\\\240\\\\332t7\\\\026\\\\362Z\\\\345]\\\\312\\\\204>\\\\303\\\\214~\\\\225\\\\273X\\\\311\\\\215\\\\344\\\\363/\\\\332\\\\267\\\\207\\\\356\\\\2741\\\\251\\\\334G\\\\021*\\\\367.\\\\313\\\\023t\\\\016\\\\033\\\\031\\\\347\\\\351\\\\221\\\\\\\\\\\\216=]\\\\033\\\\247h\\\\323\\\\026(\\\\364\\\\326\\\\2160D2\\\\020\\\\242Y\\\\235\\\\200\\\\35299\\\\353\\\\307\\\\307~\\\\224]\\\\217E\\\\244\\\\232\\\\266\\\\233l\\\\322\\\\253\\\\313<\\\\261\\\\227\\\\301\\\\221\\\\001BN\\\\000\\\\311_\\\\221\\\\236\\\\207=\\\\373\\\\326.\\\\022f\\\\252I\\\\027\\\\232u\\\\3246\\\\305#1\\\\277\\\\335\\\\344vc\\\\270\\\\210\\\\317\\\\276T1\\\\343\\\\222:\\\\365\\\\311\\\\035+\\\\236Ql\\\\3322H\\\\277\\\\267\\\\323b\\\\0204\\\\261\\\\277\\\\231gq/\\\\232r=\\\\310\\\\343\\\\362\\\\365\\\\014}+8\\\\247\\\\\\'E\\\\311\\\\244\\\\254\\\\030\\\\221,\\\\224\\\\005\\\\344\\\\2633\\\\020\\\\335\\\\362\\\\007\\\\177\\\\312\\\\272#\\\\036\\\\250\\\\311\\\\311\\\\311\\\\224\\\\327w\\\\006\\\\341Q\\\\231\\\\270\\\\221\\\\362q\\\\3063\\\\377\\\\0004\\\\207B\\\\266Qy\\\\227h\\\\001!\\\\\\\\\\\\355\\\\\\'<g\\\\270\\\\377\\\\000_\\\\255Z\\\\215\\\\220\\\\344m\\\\277h^\\\\027\\\\232\\\\306\\\\332+\\\\240\\\\031\\\\255\\\\237\\\\313i[ny\\\\034\\\\022~?N\\\\t\\\\256\\\\211q\\\\3650R\\\\263\\\\237\\\\352+\\\\376#\\\\256Ge\\\\021\\\\362\\\\355Q\\\\002\\\\263\\\\256\\\\000\\\\332X\\\\365\\\\317\\\\030\\\\3439\\\\367\\\\315J\\\\325\\\\217\\\\350\\\\245\\\\327\\\\334y\\\\321\\\\331Z\\\\304\\\\211#p\\\\n\\\\271>\\\\220N>\\\\204\\\\214\\\\037\\\\241\\\\355U\\\\037d\\\\262\\\\243U\\\\201\\\\355\\\\3046\\\\253\\\\026\\\\307?\\\\213\\\\214\\\\0269\\\\350O~j\\\\354F\\\\347\\\\247\\\\333\\\\244\\\\032E\\\\2723\\\\306\\\\253\\\\0221m\\\\314\\\\247\\\\014F0zry\\\\307\\\\\\\\\\\\344b\\\\262o&\\\\225\\\\202\\\\237Q\\\\360\\\\244\\\\221\\\\002\\\\3613\\\\313\\\\221\\\\210\\\\202\\\\256\\\\334\\\\340\\\\201\\\\216\\\\231\\\\310\\\\035\\\\272\\\\343\\\\236i\\\\256DOZ\\\\013\\\\341\\\\324\\\\324,\\\\365$\\\\212X\\\\323k6z)E>\\\\370\\\\035\\\\276\\\\230\\\\241\\\\245-\\\\025\\\\026\\\\321\\\\351\\\\277\\\\002\\\\350Q\\\\307\\\\246\\\\305w:G,\\\\262\\\\000q\\\\037\\\\021\\\\373\\\\376u\\\\267\\\\037\\\\022Yfs\\\\344\\\\360\\\\216\\\\207\\\\024p\\\\334E\\\\213\\\\2241\\\\034\\\\200\\\\253\\\\236\\\\325\\\\263u\\\\243=\\\\354v_\\\\273\\\\331\\\\345$\\\\\\'\\\\310?\\\\205Gz\\\\233l\\\\036\\\\006-\\\\356m\\\\022\\\\317j\\\\224_jN\\\\307\\\\212(\\\\365\\\\251~\\\\347\\\\014s@\\\\371r\\\\177\\\\010\\\\035Mi\\\\034\\\\341\\\\231\\\\311\\\\326PId\\\\2126o1\\\\200\\\\366\\\\002\\\\221@v\\\\tF\\\\350\\\\337$\\\\364ZwD\\\\325\\\\221\\\\216)\\\\267\\\\222Sv;Qc\\\\243\\\\341\\\\006\\\\346\\\\342\\\\\"\\\\037\\\\346\\\\213\\\\nCP\\\\351\\\\327(\\\\026V\\\\301\\\\347\\\\241\\\\245\\\\3310\\\\243\\\\027&s0\\\\312\\\\252\\\\032\\\\020\\\\305\\\\314m\\\\271\\\\231I\\\\335\\\\335\\\\250\\\\001\\\\230\\\\022B2\\\\244\\\\236\\\\336\\\\371\\\\244\\\\004\\\\357 \\\\226$\\\\005\\\\267/\\\\034\\\\001B\\\\3100zi\\\\226Y\\\\017\\\\232J\\\\250\\\\343\\\\216\\\\246\\\\251\\\\244\\\\211M\\\\261\\\\231\\\\225\\\\024\\\\026\\\\335\\\\205\\\\035y\\\\244U\\\\230\\\\206D/\\\\2222\\\\242\\\\206\\\\205vL\\\\335B\\\\331\\\\010\\\\240\\\\021J\\\\202\\\\310,\\\\210\\\\261\\\\260\\\\214\\\\016Ns@\\\\316\\\\025\\\\366\\\\354\\\\360\\\\335\\\\353)o:\\\\254\\\\211\\\\035\\\\272\\\\2147A\\\\222Mr|\\\\231T\\\\221\\\\321\\\\302\\\\2553\\\\205\\\\351\\\\262-\\\\216\\\\257\\\\035\\\\271\\\\221~\\\\351)1H\\\\000a\\\\205n8\\\\347\\\\004\\\\214\\\\321\\\\037\\\\331\\\\nJ\\\\230\\\\226\\\\257\\\\244\\\\335Y\\\\337\\\\334Gg\\\\023,\\\\010p\\\\030pH\\\\246\\\\245k\\\\\"hEmn]\\\\366\\\\315\\\\350\\\\030\\\\316\\\\343\\\\375\\\\177\\\\237\\\\363\\\\253\\\\261\\\\033\\\\217\\\\330\\\\365\\\\234\\\\247\\\\355#BH\\\\235\\\\030\\\\211\\\\2672\\\\267F\\\\000\\\\023\\\\237\\\\257\\\\260\\\\370\\\\247\\\\034\\\\264\\\\\\'\\\\243\\\\330.e,r\\\\002\\\\347\\\\256\\\\007Z\\\\350\\\\243#\\\\\\\\\\\\361\\\\307\\\\205\\\\355<U\\\\247\\\\307m\\\\251\\\\002\\\\315\\\\023y\\\\220\\\\310\\\\274\\\\024lu\\\\376\\\\224\\\\245\\\\005$5&\\\\231\\\\346o\\\\024x^\\\\346\\\\307\\\\306\\\\257i\\\\251[\\\\262\\\\307\\\\024{\\\\343-\\\\314r\\\\200pNk\\\\216I\\\\301Q\\\\320\\\\232\\\\226J\\\\225\\\\202\\\\363dKj\\\\221\\\\264\\\\354\\\\246Rs\\\\260\\\\\"\\\\356$\\\\014\\\\223\\\\327\\\\2160y\\\\002\\\\241\\\\265\\\\344j\\\\374\\\\005\\\\266K8\\\\241\\\\213\\\\357\\\\273\\\\t\\\\331\\\\346\\\\226p\\\\034\\\\234\\\\374\\\\365\\\\374\\\\276{T;\\\\177\\\\311\\\\244i\\\\177F\\\\357\\\\240\\\\334\\\\331\\\\217\\\\017\\\\335\\\\013#\\\\210\\\\342*N\\\\3258\\\\365t\\\\300\\\\350+(\\\\251)d\\\\2715X+\\\\257\\\\265\\\\0040H\\\\303\\\\326\\\\0252H<\\\\023\\\\327\\\\031\\\\376\\\\373\\\\3258\\\\330\\\\223\\\\242\\\\252\\\\371e\\\\265\\\\215q$Y\\\\215\\\\260\\\\245I\\\\303\\\\247M\\\\312O$e[?\\\\034UDRl\\\\177\\\\303!\\\\333R\\\\2641@e\\\\203\\\\315\\\\014Q[\\\\005\\\\362q\\\\217\\\\257LU\\\\251$\\\\322\\\\\\'\\\\253g\\\\252.4\\\\253-K\\\\303RA8M\\\\362\\\\\\'\\\\002N6\\\\2668\\\\340|\\\\342\\\\273Z\\\\274\\\\034\\\\272\\\\311\\\\302<i\\\\366sqa\\\\250\\\\311>\\\\237\\\\037\\\\237\\\\004\\\\252\\\\t\\\\332\\\\016\\\\027i\\\\310\\\\003\\\\337\\\\334\\\\212\\\\306\\\\\\\\n%\\\\306I\\\\234\\\\346\\\\366\\\\310\\\\333\\\\353\\\\270X\\\\230\\\\315<%#v8\\\\021\\\\234\\\\367\\\\357\\\\361\\\\324qP\\\\236\\\\n\\\\254\\\\231\\\\361\\\\037\\\\207\\\\323P\\\\363.-d\\\\331,J\\\\035\\\\324d\\\\205\\\\302\\\\200x\\\\356s\\\\216G\\\\034\\\\347\\\\336\\\\245N\\\\206\\\\343y\\\\r\\\\341;\\\\263p#\\\\263\\\\324-\\\\355\\\\243\\\\236\\\\037M\\\\264\\\\361\\\\250S\\\\202:dp\\\\177?sJk\\\\312..\\\\366n\\\\332w\\\\206\\\\031n7\\\\306\\\\237\\\\217k(\\\\301b\\\\006x<w\\\\353\\\\223\\\\327\\\\353Qw\\\\202\\\\250\\\\352>\\\\025\\\\3731\\\\261\\\\264e\\\\277\\\\270\\\\267C7\\\\007xr\\\\006s\\\\234\\\\214c\\\\232\\\\353\\\\343\\\\205e\\\\230N^\\\\021\\\\320\\\\332\\\\322(\\\\n\\\\201\\\\351\\\\210\\\\340\\\\222y5\\\\265\\\\231\\\\013\\\\\\\\\\\\253\\\\317!\\\\222\\\\335\\\\260\\\\203\\\\200\\\\306\\\\232\\\\373\\\\023\\\\372\\\\013u\\\\\\'\\\\233\\\\034Q\\\\304\\\\0038\\\\035_\\\\251\\\\241 y%*\\\\304\\\\226\\\\353\\\\031\\\\003\\\\314n\\\\257\\\\216\\\\207\\\\332\\\\220\\\\022m2\\\\030c\\\\027\\\\022\\\\260\\\\334\\\\007\\\\000\\\\236\\\\376\\\\364v\\\\360:\\\\362SMr\\\\323\\\\354H\\\\323?8\\\\255\\\\022\\\\242\\\\033\\\\262V\\\\266\\\\222y\\\\233\\\\336R\\\\017`\\\\017J\\\\033\\\\022\\\\217\\\\262\\\\305\\\\024F\\\\331\\\\363\\\\316~\\\\265\\\\005\\\\207\\\\016A\\\\007\\\\314\\\\024\\\\200#\\\\335\\\\273.\\\\3230\\\\300\\\\366\\\\245C\\\\260\\\\036r\\\\207\\\\004\\\\260c\\\\363LFL\\\\303\\\\234\\\\250\\\\037\\\\024\\\\001\\\\364R\\\\204\\\\374\\\\013\\\\217\\\\241\\\\240\\\\t\\\\313;?U-\\\\3654\\\\0007r\\\\244y`g\\\\034\\\\320\\\\000]$s\\\\226\\\\000\\\\203\\\\332\\\\235\\\\205\\\\037l\\\\227p\\\\035\\\\005\\\\026\\\\001\\\\245\\\\267E\\\\346\\\\027?9\\\\245`\\\\010@\\\\330>\\\\254P\\\\007\\\\236\\\\376\\\\333\\\\256\\\\005\\\\277\\\\2125\\\\002d\\\\004F\\\\250\\\\240g\\\\246\\\\024~\\\\265\\\\307\\\\317\\\\231\\\\321\\\\323\\\\304\\\\3526pi.RK\\\\202d.\\\\261\\\\273\\\\203\\\\277\\\\335s\\\\311\\\\037\\\\361Z\\\\245Fm\\\\233v\\\\274\\\\307O\\\\2069\\\\356/\\\\276\\\\363\\\\034\\\\361\\\\244\\\\260`r\\\\312A\\\\301\\\\376X\\\\374\\\\2536\\\\277jE\\\\\\'\\\\213f\\\\243\\\\367\\\\331\\\\246\\\\222I\\\\024\\\\010\\\\242\\\\347v\\\\325\\\\353\\\\360j\\\\352\\\\211:\\\\037\\\\354\\\\367gs7\\\\332m\\\\225\\\\324)\\\\347A\\\\004rI3\\\\014~\\\\350\\\\025\\\\306p~H\\\\034~\\\\265p\\\\330\\\\245\\\\243\\\\326N\\\\374\\\\202rk\\\\240\\\\310\\\\014\\\\222\\\\270\\\\030\\\\010H\\\\355F\\\\005\\\\222\\\\273X\\\\321\\\\254\\\\265{c\\\\016\\\\241l\\\\223\\\\002\\\\245rG+\\\\237c\\\\332\\\\224\\\\222\\\\222\\\\246R\\\\264p\\\\037\\\\023xhx?Y\\\\373\\\\220I\\\\\\'\\\\265\\\\026\\\\342X\\\\035\\\\224\\\\035\\\\3308\\\\307\\\\\\'\\\\250\\\\311\\\\342\\\\2709\\\\340\\\\321\\\\323\\\\305#\\\\236x\\\\206\\\\177>\\\\362R\\\\203\\\\323\\\\237FG*:\\\\214\\\\373\\\\036iq\\\\252C\\\\233\\\\266o\\\\177d\\\\232{k0\\\\370\\\\202\\\\304F\\\\370{$\\\\225O\\\\\\\\\\\\2728$~y\\\\\"\\\\232\\\\217iW\\\\3207Q\\\\277\\\\262\\\\254-\\\\316\\\\244\\\\307\\\\356p\\\\204\\\\264\\\\201\\\\214l\\\\314?\\\\021\\\\310\\\\316>\\\\230#\\\\363\\\\254d\\\\324vi\\\\004\\\\345\\\\220W\\\\232\\\\\\\\O#\\\\335<\\\\244\\\\304\\\\\\'*\\\\203\\\\234\\\\272\\\\347\\\\003\\\\003\\\\266\\\\006\\\\177\\\\\\\\\\\\324.J\\\\304K\\\\350\\\\236Yk\\\\341kf\\\\223U\\\\261\\\\216\\\\336\\\\372\\\\006B\\\\331\\\\330\\\\340\\\\r\\\\243=\\\\307\\\\031\\\\351\\\\267\\\\333\\\\232qw%hmR\\\\301\\\\351\\\\335>\\\\331\\\\022\\\\010C\\\\203\\\\351Q\\\\220[v\\\\rz\\\\353\\\\010\\\\363^Ya<\\\\261\\\\310\\\\233\\\\014jW\\\\004c\\\\037\\\\030\\\\245@j\\\\232\\\\337\\\\202\\\\364]RQ$\\\\326\\\\310$P@e\\\\340\\\\220NO\\\\363\\\\251|i\\\\224\\\\244\\\\321\\\\257\\\\307\\\\366ai\\\\275X\\\\\\\\?\\\\230\\\\217\\\\225n\\\\236\\\\223\\\\214\\\\203\\\\216\\\\371\\\\035{\\\\326/\\\\201\\\\026\\\\271h\\\\235\\\\257\\\\331\\\\036\\\\203\\\\346\\\\t\\\\256<\\\\306\\\\2241l\\\\203\\\\214\\\\347\\\\250>\\\\343\\\\353N<U\\\\261\\\\276OF\\\\373\\\\245izn\\\\231n\\\\261\\\\303\\\\032\\\\034\\\\177\\\\026\\\\332\\\\325A-\\\\\"\\\\034\\\\333\\\\330\\\\374\\\\227Q\\\\235\\\\270\\\\\\'\\\\003\\\\247\\\\260\\\\252\\\\242\\\\000Kx\\\\230%\\\\311l\\\\373\\\\320\\\\220X\\\\013 g\\\\237lQ\\\\204\\\\211\\\\271.\\\\307\\\\212o\\\\000\\\\213\\\\335;K\\\\265\\\\373\\\\307\\\\233\\\\346\\\\253\\\\314\\\\0068=*\\\\034\\\\235\\\\024\\\\222\\\\331l\\\\272E\\\\273\\\\251\\\\336\\\\233\\\\211\\\\352j;\\\\217\\\\252 t\\\\033Br\\\\301\\\\217~X\\\\232;\\\\207Ts\\\\205y\\\\210\\\\364\\\\220\\\\265\\\\322cAWv2\\\\356\\\\337\\\\225,\\\\014*K\\\\264\\\\360\\\\271>\\\\346\\\\220\\\\303\\\\231\\\\262=G\\\\024\\\\206HK\\\\0369\\\\346\\\\220\\\\005\\\\216H\\\\273\\\\002O\\\\322\\\\200\\\\014\\\\236\\\\276v\\\\234\\\\375)\\\\0013\\\\n\\\\236\\\\010\\\\305\\\\000I`\\\\007\\\\201\\\\232\\\\000\\\\220\\\\265\\\\031\\\\344\\\\032\\\\000\\\\230\\\\203\\\\\\'\\\\203\\\\323\\\\346\\\\200&-FFI?\\\\235\\\\000Ic\\\\204\\\\034\\\\022\\\\t\\\\372\\\\320\\\\004\\\\304Q\\\\026\\\\033\\\\200\\\\307\\\\301\\\\244\\\\007\\\\222?h\\\\370L\\\\036:\\\\324U\\\\230\\\\254\\\\0222\\\\312Cg%J\\\\202\\\\000\\\\374\\\\353\\\\231\\\\377\\\\000\\\\344f\\\\353\\\\370G&]\\\\\\'P\\\\225\\\\254\\\\202[\\\\227{\\\\334\\\\371*\\\\256\\\\tl\\\\036r3\\\\351\\\\353\\\\337\\\\034s\\\\322\\\\264\\\\242,\\\\351\\\\2363\\\\320\\\\341\\\\223\\\\303\\\\276\\\\r\\\\271\\\\234\\\\006\\\\224\\\\350\\\\261\\\\372A\\\\352C\\\\267_|\\\\002\\\\005O%\\\\305\\\\257\\\\262\\\\241\\\\2334;\\\\205\\\\211W\\\\312p\\\\016\\\\t\\\\302/\\\\244\\\\017\\\\327\\\\372\\\\322@\\\\316\\\\265\\\\373;\\\\351\\\\260\\\\177\\\\215Kw\\\\026T\\\\305\\\\013\\\\020\\\\352\\\\271\\\\004\\\\222\\\\007_j\\\\276<\\\\310\\\\231\\\\377\\\\000\\\\\\'\\\\241\\\\204\\\\250\\\\230\\\\3475\\\\321FVH\\\\\\\\\\\\241\\\\343nM\\\\024;\\\\010\\\\262\\\\202x\\\\210\\\\322\\\\240\\\\263\\\\235\\\\375\\\\271E\\\\034\\\\236\\\\027\\\\202VG\\\\336\\\\223`*\\\\246\\\\354\\\\202\\\\2479\\\\003\\\\257\\\\375\\\\353\\\\016\\\\177\\\\344\\\\323\\\\213g\\\\231o\\\\031\\\\231\\\\310\\\\352\\\\352J\\\\263\\\\002q\\\\3562}\\\\372\\\\376_J\\\\306&\\\\254\\\\356\\\\037\\\\263E\\\\223\\\\213\\\\235f\\\\355\\\\300UH\\\\222\\\\000=\\\\362r~\\\\235\\\\rW\\\\016y\\\\037\\\\322\\\\037.8\\\\327\\\\3333\\\\343[\\\\030\\\\354u\\\\275R\\\\316\\\\010\\\\3041\\\\263oO`\\\\033\\\\236?\\\\235q\\\\374\\\\265S6\\\\370\\\\356\\\\342s\\\\315B5\\\\263\\\\267\\\\232\\\\007g}\\\\255\\\\277$\\\\343\\\\031\\\\004\\\\177SQ\\\\007\\\\333F\\\\263U\\\\262\\\\313\\\\300\\\\272|r\\\\370\\\\213GD\\\\212b\\\\277yQ\\\\260K\\\\271\\\\311\\\\351\\\\324\\\\037n\\\\265\\\\254[sH\\\\315\\\\245\\\\325\\\\236\\\\242\\\\216\\\\322\\\\1770F\\\\230q\\\\327\\\\203\\\\323\\\\342\\\\275[<\\\\3521,O\\\\024\\\\245$S\\\\237\\\\212v\\\\024E\\\\033\\\\234\\\\355\\\\024\\\\001\\\\366\\\\377\\\\000O\\\\035h\\\\002!\\\\311^H#\\\\246(\\\\002\\\\033\\\\234\\\\276\\\\324\\\\0318\\\\311\\\\317j`Cl\\\\214\\\\t*@\\\\240\\\\014\\\\210\\\\274\\\\305\\\\033\\\\377\\\\000\\\\005\\\\027AD\\\\305\\\\2523e\\\\230\\\\260^\\\\335\\\\200\\\\243\\\\260\\\\250b\\\\311\\\\\"\\\\266F\\\\333+\\\\251\\\\\\'\\\\\\'\\\\034Rn\\\\306\\\\225\\\\017G\\\\251l\\\\344M9\\\\036\\\\333\\\\252\\\\\\\\P\\\\354\\\\372]rR\\\\347cH1\\\\3334t\\\\025\\\\2252\\\\301\\\\004\\\\010Y\\\\306[\\\\260\\\\025\\\\242\\\\311-\\\\321\\\\233o2H<\\\\266\\\\364@O*:\\\\237\\\\316\\\\206\\\\222\\\\022l}\\\\341\\\\267H\\\\200\\\\362\\\\224\\\\214u=j\\\\013+\\\\346\\\\267\\\\365~\\\\355\\\\006O\\\\277j\\\\244&\\\\307\\\\255\\\\355\\\\241\\\\211I\\\\234n\\\\030\\\\251`FE\\\\022>\\\\330\\\\023d\\\\177\\\\347n\\\\277\\\\245:\\\\366\\\\027z\\\\010\\\\023j\\\\3401$w4\\\\206MU\\\\377\\\\000\\\\315\\\\317\\\\322\\\\212\\\\002E\\\\\\\\!.\\\\370\\\\003\\\\330QH,\\\\372\\\\326?8\\\\263\\\\222\\\\314\\\\243\\\\334\\\\320\\\\360$[C\\\\024>P\\\\n\\\\tc\\\\330%C(R}.[\\\\200v\\\\227\\\\211;\\\\372\\\\251\\\\251$*\\\\260\\\\366\\\\372b\\\\302\\\\236\\\\242\\\\t\\\\372Rr\\\\035\\\\r\\\\375\\\\3164L\\\\224\\\\311\\\\307Z\\\\227!\\\\321\\\\343?\\\\332?\\\\314\\\\273\\\\373Q\\\\324\\\\255\\\\245\\\\236(m\\\\332x\\\\342\\\\016Ia\\\\032\\\\252($\\\\201\\\\223\\\\306k\\\\024\\\\256m\\\\232\\\\274E\\\\034\\\\336\\\\335\\\\344\\\\022+\\\\375\\\\345$H\\\\001\\\\236!3\\\\205v\\\\\\\\\\\\200\\\\0062r\\\\307\\\\037\\\\207=9\\\\316\\\\rjA\\\\350/\\\\264\\\\337\\\\016\\\\334i\\\\337d^\\\\026\\\\325/c\\\\215\\\\r\\\\255\\\\275\\\\274wK\\\\032c\\\\310YS\\\\214\\\\177\\\\361;F(\\\\344\\\\375\\\\242\\\\276\\\\202\\\\030l\\\\363\\\\255\\\\364F\\\\t\\\\231\\\\240\\\\220O#\\\\260]\\\\304\\\\344`\\\\377\\\\000}j\\\\020\\\\331\\\\335\\\\277g0\\\\222\\\\352w\\\\326r\\\\0062%\\\\242\\\\310\\\\314\\\\253\\\\205L\\\\277O\\\\317#\\\\342\\\\257\\\\213\\\\r\\\\261O(\\\\364\\\\014vQ\\\\220\\\\025B\\\\344\\\\373\\\\326\\\\326gD$\\\\265\\\\020\\\\237\\\\341\\\\\\'\\\\342\\\\237aQ\\\\220\\\\256xP\\\\000\\\\367\\\\240g8\\\\373y\\\\333\\\\007\\\\205\\\\254\\\\326Y\\\\017\\\\357.\\\\t\\\\003v?\\\\n\\\\036z\\\\375+\\\\233\\\\344\\\\277\\\\325\\\\032q\\\\177G\\\\233\\\\257\\\\362.\\\\244Y\\\\031\\\\204jr;\\\\206\\\\350H\\\\036\\\\344\\\\2029\\\\307\\\\265a\\\\035\\\\033=\\\\235\\\\363\\\\366l\\\\265\\\\021xWP\\\\235P\\\\315=\\\\315\\\\300D*s\\\\234s\\\\222~\\\\246\\\\266\\\\370\\\\352\\\\345\\\\\\'\\\\376\\\\023\\\\317*\\\\214W\\\\372k?i:\\\\250\\\\227\\\\306\\\\227\\\\314%\\\\214E\\\\033\\\\030IF\\\\340\\\\205\\\\030\\\\316{\\\\234\\\\203\\\\\\\\\\\\237%\\\\366\\\\223\\\\243o\\\\216\\\\251Y\\\\315|S~\\\\227\\\\326\\\\311\\\\024A\\\\203\\\\017[8\\\\037\\\\\\'\\\\202\\\\177\\\\276jx8\\\\334]\\\\262\\\\371\\\\247j\\\\216\\\\237\\\\3733hF\\\\367[\\\\275\\\\326\\\\247/\\\\\"\\\\330\\\\247\\\\223\\\\021+\\\\200g\\\\220z\\\\211>\\\\352\\\\237\\\\377\\\\000\\\\177\\\\025\\\\335\\\\303\\\\014\\\\271\\\\034\\\\323\\\\225F\\\\275\\\\236\\\\207\\\\222\\\\324g\\\\207d#\\\\374\\\\246\\\\2679\\\\305\\\\244\\\\266$\\\\363#\\\\023\\\\355\\\\336\\\\230\\\\0201\\\\034\\\\363\\\\201\\\\217q@\\\\030\\\\300b\\\\001\\\\220n<a{\\\\323\\\\003\\\\\"\\\\000\\\\215\\\\267\\\\243t\\\\315 2#\\\\332\\\\t\\\\\\\\\\\\022;\\\\320\\\\004|\\\\271\\\\010\\\\3060)\\\\201#\\\\001\\\\003\\\\2221\\\\327\\\\351E\\\\201\\\\036\\\\001 t\\\\351@\\\\021\\\\301#\\\\330P\\\\007\\\\314\\\\273\\\\177\\\\027\\\\351@\\\\002\\\\221\\\\202\\\\250\\\\311\\\\007<S\\\\021\\\\002\\\\254]\\\\263\\\\034\\\\214w`\\\\2228\\\\007\\\\332\\\\235\\\\212\\\\202\\\\251\\\\230\\\\260`\\\\273c\\\\035\\\\261R1\\\\201q\\\\013\\\\200\\\\254\\\\313\\\\273\\\\330rMH\\\\305_R\\\\264\\\\210\\\\224-3\\\\225\\\\316v\\\\304\\\\306\\\\251&\\\\311\\\\2643\\\\246\\\\\\\\\\\\303v\\\\215,\\\\342kx\\\\363\\\\2660\\\\353\\\\202\\\\347\\\\351JV\\\\2645Od\\\\374\\\\322\\\\327\\\\016\\\\250\\\\255\\\\205#%\\\\272c\\\\275!\\\\371\\\\010\\\\222\\\\002\\\\253\\\\261w\\\\223\\\\311|\\\\215\\\\275h\\\\260\\\\030\\\\214G\\\\345\\\\357i\\\\343\\\\004\\\\222\\\\006\\\\337\\\\341\\\\372\\\\322\\\\354\\\\024+<\\\\221>\\\\002\\\\334\\\\304\\\\344\\\\343*}8\\\\377\\\\000z\\\\244\\\\330\\\\261\\\\241\\\\273)\\\\235a\\\\330\\\\233\\\\017|\\\\201\\\\307=>\\\\234\\\\324\\\\261\\\\2401\\\\370\\\\215!\\\\2260=LHV]\\\\235\\\\373\\\\216)U\\\\216\\\\313\\\\330u\\\\270\\\\344\\\\225 XCH\\\\343!U\\\\371#\\\\337\\\\232\\\\216\\\\243\\\\260\\\\261\\\\3526\\\\217#$\\\\205\\\\321\\\\207@P\\\\237\\\\313\\\\216\\\\364S\\\\013%.\\\\243n\\\\243\\\\205w\\\\213\\\\273\\\\201\\\\300\\\\037\\\\235KLvy;\\\\366\\\\241\\\\360\\\\355\\\\212x\\\\242\\\\323\\\\3046\\\\323\\\\314\\\\332u\\\\373\\\\201v\\\\261\\\\200LR\\\\201\\\\203\\\\214\\\\361\\\\352\\\\000\\\\036N84\\\\253\\\\253\\\\267\\\\344\\\\273\\\\354\\\\260Q\\\\375\\\\221x:\\\\177\\\\036\\\\370\\\\322\\\\332\\\\373T\\\\265\\\\216\\\\337\\\\302\\\\266EE\\\\316\\\\343\\\\210\\\\330\\\\\\')\\\\022\\\\261\\\\031\\\\221\\\\231\\\\206X\\\\373\\\\023\\\\310\\\\364\\\\212\\\\323/$h\\\\365_\\\\217,l\\\\274O\\\\340\\\\275sK\\\\226\\\\342=\\\\267\\\\226\\\\262*\\\\267\\\\\\\\\\\\0207\\\\002\\\\007\\\\301ZM`\\\\023\\\\311\\\\340{\\\\373o\\\\27396\\\\313\\\\261P\\\\251`\\\\027\\\\361\\\\023\\\\365<\\\\201Y\\\\305\\\\331mQ\\\\332\\\\277e\\\\351L\\\\272\\\\237\\\\210U\\\\034\\\\274\\\\346\\\\013\\\\177J\\\\014(\\\\033\\\\333\\\\214~\\\\225\\\\254\\\\010\\\\221\\\\3500\\\\\"\\\\217\\\\231\\\\356\\\\025W\\\\034\\\\202\\\\340\\\\014\\\\326\\\\226\\\\210%l\\\\326\\\\354\\\\333\\\\241\\\\225%\\\\037\\\\3646\\\\352\\\\023O@4d\\\\212\\\\\"\\\\026F\\\\n\\\\347\\\\263q@\\\\036t\\\\375\\\\253u\\\\245\\\\266\\\\275\\\\321- ;\\\\246\\\\222\\\\331\\\\2449\\\\350\\\\252_\\\\217\\\\327\\\\025\\\\207\\\\\"\\\\355$i\\\\007G\\\\t\\\\217P\\\\226Efp#g\\\\030\\\\334\\\\177\\\\210{\\\\017|\\\\220\\\\177\\\\261Q\\\\326\\\\213\\\\263\\\\322~\\\\016\\\\361\\\\nx_\\\\354\\\\256\\\\3314\\\\346\\\\214\\\\337\\\\335\\\\222\\\\\"\\\\317!\\\\023h\\\\337\\\\\\'\\\\037\\\\\\'\\\\214\\\\367\\\\372V\\\\\\\\\\\\\\\\\\\\2161\\\\227\\\\2735\\\\346\\\\217g\\\\025\\\\364r}J9\\\\365;\\\\343\\\\016\\\\237\\\\034\\\\267\\\\027\\\\212\\\\030\\\\244\\\\021\\\\220\\\\322J\\\\301K\\\\034/\\\\004\\\\234\\\\002p98<V\\\\t9K\\\\3755\\\\304bk\\\\032=\\\\275\\\\336\\\\275\\\\252\\\\333X\\\\330\\\\302^\\\\356y\\\\026(\\\\343\\\\nybp\\\\016>;\\\\347\\\\330\\\\327TcXF\\\\027\\\\331\\\\333=\\\\225\\\\340\\\\017\\\\016[x7\\\\303\\\\226\\\\332U\\\\226\\\\371\\\\004y\\\\222Y\\\\234z\\\\245\\\\225\\\\277\\\\023\\\\343\\\\267\\\\307\\\\300\\\\025\\\\330\\\\222J\\\\216yJ\\\\331\\\\266\\\\242\\\\223\\\\016\\\\374\\\\201\\\\273\\\\370\\\\217j\\\\004,\\\\300nb\\\\277\\\\326\\\\230\\\\210/\\\\224w\\\\002\\\\352\\\\315\\\\216\\\\236\\\\324X\\\\022\\\\267\\\\211e\\\\225\\\\226\\\\r\\\\244\\\\250\\\\311\\\\344\\\\017\\\\347C`\\\\221\\\\211\\\\242x\\\\345\\\\304\\\\212T\\\\216\\\\231\\\\024&\\\\001\\\\000\\\\033B\\\\240\\\\030\\\\357\\\\316h\\\\003\\\\r\\\\022\\\\266\\\\017%\\\\317V\\\\315\\\\000\\\\016h\\\\303(S\\\\205\\\\003\\\\333\\\\251\\\\241\\\\000\\\\270\\\\266`\\\\344\\\\356-\\\\037<\\\\016*\\\\200\\\\033Z\\\\356\\\\316Y\\\\263\\\\356\\\\034\\\\361@\\\\211\\\\233r\\\\3025>\\\\220\\\\243\\\\260\\\\377\\\\000Z\\\\000\\\\3040$-&Hb\\\\343\\\\036\\\\256H\\\\370\\\\003\\\\265\\\\r\\\\330#d\\\\232\\\\314(|\\\\006\\\\033\\\\2078\\\\350G\\\\315b\\\\231e\\\\037\\\\335\\\\341P\\\\022@C\\\\226\\\\344\\\\023\\\\225Q\\\\332\\\\264\\\\242l\\\\222\\\\351\\\\320\\\\200\\\\3065\\\\2126\\\\220r\\\\300\\\\220\\\\330\\\\245\\\\220\\\\301\\\\365\\\\365\\\\200\\\\362\\\\202\\\\030\\\\272\\\\220D\\\\215\\\\324\\\\177\\\\265$\\\\330\\\\332T/v\\\\327\\\\036p\\\\016vl\\\\003\\\\324S\\\\343\\\\257~\\\\324\\\\320\\\\013\\\\310\\\\376dG\\\\316\\\\2266\\\\014q\\\\353b\\\\n\\\\212H@-n,\\\\254$YbC\\\\350\\\\343\\\\214\\\\272\\\\375@5M9`X\\\\216C\\\\332\\\\316\\\\332\\\\244\\\\345\\\\360\\\\301Y\\\\216\\\\351B\\\\216>\\\\203\\\\267\\\\326\\\\216\\\\275Pv\\\\260\\\\272\\\\245\\\\224i\\\\014q\\\\315\\\\032\\\\234\\\\222\\\\315*\\\\203\\\\234g\\\\243\\\\032I\\\\273\\\\033V\\\\204\\\\323d@-\\\\253\\\\244j\\\\016\\\\357*2\\\\333\\\\017\\\\327\\\\346\\\\206\\\\357aU\\\\241\\\\3513 \\\\304\\\\014\\\\261\\\\340\\\\203\\\\320\\\\005c\\\\356sK[\\\\031?\\\\2744E\\\\317\\\\236\\\\357&9e\\\\302\\\\361\\\\354(\\\\253\\\\000)q!\\\\237\\\\324\\\\362\\\\355e\\\\\\'+\\\\223\\\\267\\\\035\\\\277\\\\342\\\\223@gk\\\\334#\\\\\"\\\\227d$)\\\\016I\\\\037<\\\\naD\\\\265\\\\033K\\\\026\\\\033\\\\\\'\\\\020\\\\334\\\\3020\\\\002\\\\317\\\\006\\\\356\\\\2358\\\\307\\\\275M\\\\267\\\\340z\\\\003\\\\177#\\\\213/%\\\\347[k|zC\\\\020\\\\024\\\\236\\\\340\\\\002*\\\\326]\\\\222\\\\360P\\\\353\\\\376,\\\\323\\\\264-\\\\036\\\\352\\\\345\\\\365Kc{\\\\367WX-\\\\335\\\\300\\\\222V*@\\\\001z\\\\214\\\\232\\\\316rIS\\\\034s\\\\243\\\\310>\\\\\"I#vh\\\\216F6\\\\222s\\\\333\\\\276:t\\\\037\\\\025\\\\214\\\\rdt\\\\317\\\\331zt\\\\267\\\\361N\\\\263o<\\\\003|\\\\372z\\\\314\\\\031\\\\373\\\\354\\\\220\\\\177#\\\\220y\\\\366\\\\025\\\\244^i\\\\023%\\\\213=\\\\005=\\\\314R\\\\026Ft{\\\\206 *\\\\354\\\\301c\\\\354\\\\t\\\\025\\\\255/&w\\\\350\\\\270\\\\322\\\\341\\\\202$I.\\\\031\\\\203\\\\026\\\\313!\\\\n\\\\024/v\\\\000rNz\\\\232\\\\206\\\\322\\\\376J\\\\377\\\\000MK\\\\306\\\\236;\\\\261\\\\360LG\\\\316\\\\270\\\\212w\\\\2722<(T\\\\031\\\\035G\\\\005\\\\213\\\\034\\\\004\\\\\\\\\\\\361\\\\337\\\\342\\\\211\\\\311%\\\\225\\\\220I\\\\370g\\\\221\\\\276\\\\324<Ku\\\\343\\\\017\\\\024M\\\\254\\\\316\\\\230\\\\210\\\\242\\\\301\\\\036\\\\314\\\\224E\\\\\\\\\\\\200\\\\240\\\\377\\\\000y\\\\353\\\\336\\\\241[\\\\313.\\\\253F\\\\261\\\\007\\\\2409\\\\3478\\\\306(`vO\\\\017]L\\\\236\\\\032\\\\262\\\\202\\\\3766\\\\202{xY\\\\014n\\\\010d\\\\365g,1\\\\221\\\\236+\\\\207\\\\227\\\\365m#\\\\256?\\\\265?\\\\243E\\\\361E\\\\334oy\\\\032[\\\\310\\\\004\\\\253\\\\373\\\\306\\\\221Tn\\\\017\\\\333\\\\014\\\\017\\\\004\\\\361\\\\364\\\\307\\\\315i\\\\303\\\\026\\\\262\\\\314\\\\371d\\\\233\\\\244w\\\\037\\\\331s\\\\302\\\\352\\\\026\\\\177\\\\030j\\\\253>\\\\311\\\\014\\\\226\\\\272xe\\\\310\\\\224\\\\377\\\\000\\\\356\\\\314\\\\t\\\\347\\\\376\\\\234\\\\373\\\\356\\\\371\\\\256\\\\270\\\\305\\\\354\\\\305\\\\312\\\\225{;\\\\362\\\\337Z\\\\0071nx\\\\355\\\\202\\\\360\\\\250\\\\006\\\\\\\\\\\\374\\\\236\\\\346\\\\255\\\\331\\\\236\\\\t\\\\356\\\\202[\\\\217E\\\\324V\\\\361\\\\\"\\\\360f!\\\\233\\\\237\\\\372z~}h\\\\310`\\\\372D\\\\264\\\\270\\\\266[}6h.\\\\245F\\\\365H\\\\353\\\\204\\\\034\\\\344\\\\356?\\\\355E\\\\265\\\\226\\\\030xA\\\\227M\\\\214\\\\273\\\\007\\\\232\\\\322(\\\\024d\\\\307\\\\000\\\\004\\\\223\\\\376\\\\224~@\\\\352/g\\\\246\\\\264\\\\345\\\\346\\\\t3\\\\303\\\\377\\\\000\\\\265\\\\265W\\\\\\'\\\\337\\\\251\\\\246\\\\347X\\\\005\\\\037$\\\\357\\\\254\\\\246\\\\265\\\\21270\\\\231\\\\\\\\\\\\344,i\\\\206n\\\\2374)&&\\\\232\\\\022[K\\\\373\\\\274\\\\031-\\\\346\\\\213\\\\003\\\\253\\\\000\\\\273G\\\\326\\\\253\\\\262AM\\\\221Ho\\\\324\\\\307\\\\034p\\\\226\\\\317\\\\002DVe\\\\030\\\\376\\\\372\\\\321h)\\\\221U\\\\235%qs\\\\2744x-\\\\271v\\\\001\\\\236\\\\303\\\\336\\\\213U\\\\200\\\\240\\\\256.<\\\\257:\\\\030I\\\\214q\\\\352\\\\030\\\\000\\\\374\\\\223E\\\\2550\\\\246%-\\\\325\\\\364L[\\\\3742Y\\\\021p7\\\\357\\\\0006\\\\177\\\\313\\\\317?\\\\225Z\\\\353\\\\354\\\\206\\\\344\\\\274\\\\006\\\\322\\\\256\\\\037T\\\\226h\\\\036\\\\326\\\\342\\\\321\\\\323\\\\031Y\\\\224\\\\2438=\\\\306q\\\\201JK\\\\256lj\\\\336\\\\321\\\\261[\\\\330\\\\306\\\\233AX\\\\343\\\\030\\\\300\\\\301\\\\034\\\\326nE\\\\321U{\\\\250O1\\\\\"!\\\\263\\\\330\\\\036j\\\\222Kbe$\\\\326\\\\222\\\\273\\\\227\\\\236\\\\341\\\\261\\\\216x\\\\305j\\\\244\\\\226\\\\221\\\\237_lv\\\\336\\\\376\\\\010\\\\211\\\\021\\\\235\\\\300\\\\340s\\\\317\\\\003\\\\344\\\\3248\\\\266;Hv-A\\\\034\\\\224\\\\212\\\\\\'h\\\\317\\\\371\\\\216sS\\\\325\\\\242\\\\254lj\\\\255\\\\215\\\\215i\\\\036@\\\\301\\\\313t\\\\245\\\\324v\\\\\\'3\\\\244\\\\214\\\\277\\\\371t\\\\005z\\\\034\\\\363\\\\372\\\\323HF\\\\026\\\\010K\\\\0266\\\\361\\\\251=\\\\207J`XY=\\\\272\\\\272\\\\254\\\\253\\\\261~:f\\\\245\\\\330\\\\321v\\\\220+\\\\240*\\\\312\\\\313\\\\333\\\\275eeQIy\\\\341\\\\330\\\\213\\\\022\\\\211\\\\220z\\\\000q\\\\217\\\\367\\\\253R\\\\023E{hRD\\\\252\\\\002\\\\340\\\\223\\\\333\\\\237\\\\370\\\\246\\\\232\\\\025\\\\000\\\\373\\\\204\\\\361\\\\344b\\\\335\\\\343\\\\336K;\\\\345\\\\035G\\\\260\\\\034\\\\203\\\\317\\\\3051\\\\000\\\\325\\\\354/\\\\255\\\\354\\\\374\\\\3756x\\\\356\\\\235\\\\0102\\\\305\\\\261\\\\267\\\\205\\\\037\\\\211\\\\220\\\\017\\\\304q\\\\333\\\\031\\\\357\\\\317J\\\\\"\\\\323t\\\\306\\\\323\\\\254\\\\032\\\\354\\\\272\\\\235\\\\365\\\\354\\\\3564b\\\\367\\\\320\\\\240\\\\036ds[\\\\371d|\\\\023\\\\200\\\\177J\\\\321A/\\\\357\\\\006nM\\\\377\\\\000#\\\\315\\\\177\\\\252Md\\\\231\\\\265\\\\267\\\\262\\\\273\\\\0052VI\\\\034\\\\225\\\\317 \\\\202\\\\016\\\\334\\\\014{\\\\324\\\\364\\\\212{\\\\264U\\\\311\\\\254\\\\201\\\\324,\\\\265\\\\315KG\\\\271\\\\213\\\\357z\\\\\\\\WR+,r:\\\\310\\\\305\\\\t\\\\007\\\\325\\\\302\\\\365\\\\031\\\\366\\\\371\\\\353\\\\212\\\\231%_\\\\250\\\\325\\\\3719d\\\\337b\\\\372\\\\323a\\\\322\\\\377\\\\000OiA\\\\334\\\\255\\\\373\\\\323\\\\372\\\\372s\\\\\\\\\\\\377\\\\000\\\\212W\\\\206\\\\215\\\\324\\\\342V\\\\352_a\\\\336,\\\\271\\\\270\\\\005u\\\\035\\\\026\\\\033wb\\\\354\\\\034NN3\\\\327\\\\377\\\\000O\\\\270\\\\317\\\\031\\\\377\\\\000zq\\\\342\\\\255\\\\2619\\\\257\\\\006\\\\347\\\\366q\\\\366Oq\\\\341]b\\\\367S\\\\277\\\\324\\\\341\\\\271\\\\272\\\\232\\\\037\\\\273\\\\306#]\\\\210\\\\221\\\\344\\\\036A$\\\\356\\\\340\\\\001\\\\216\\\\000\\\\367\\\\253\\\\214TE)v:TPI\\\\014Ab\\\\373\\\\273\\\\241l\\\\222\\\\322\\\\022\\\\315\\\\217|\\\\377\\\\000\\\\245\\\\024M\\\\230Wh\\\\036y\\\\266\\\\333\\\\254\\\\217\\\\200_%\\\\212\\\\216\\\\300\\\\177\\\\305:ag7\\\\373Y\\\\3734\\\\377\\\\000\\\\307\\\\027\\\\2267\\\\303UK;\\\\230`\\\\362QQ<\\\\305oV\\\\341\\\\270u\\\\030$\\\\376Tu\\\\260L\\\\373\\\\300\\\\277e\\\\263\\\\350\\\\363^\\\\307wu\\\\005\\\\366\\\\221vcY\\\\254\\\\327N\\\\021\\\\302YP\\\\256\\\\006\\\\371\\\\031}Y\\\\0318\\\\317\\\\003\\\\004d\\\\322\\\\353\\\\215\\\\216\\\\363cP}\\\\216xN\\\\330\\\\031 \\\\320\\\\030\\\\314\\\\276g\\\\357\\\\244\\\\270v\\\\021\\\\206]\\\\274\\\\0068\\\\033z\\\\251\\\\354\\\\334\\\\374T\\\\270\\\\375\\\\217\\\\267\\\\321\\\\257\\\\353\\\\237cz%\\\\344\\\\322\\\\311\\\\026\\\\267\\\\252\\\\333M*\\\\355+\\\\036\\\\311\\\\324c\\\\203\\\\236\\\\024\\\\3621\\\\222[$\\\\345\\\\211\\\\311\\\\243\\\\361!\\\\376B\\\\337\\\\301\\\\177f\\\\376\\\\026\\\\360\\\\376\\\\213-\\\\216\\\\243\\\\240Yx\\\\202\\\\341\\\\335\\\\231\\\\257\\\\356\\\\255\\\\266H\\\\312\\\\335\\\\006\\\\335\\\\307f=\\\\324\\\\374\\\\360j\\\\234_\\\\201w\\\\364nv\\\\262Ge\\\\247\\\\333\\\\330X\\\\351\\\\242\\\\033Ha\\\\020E\\\\024\\\\223\\\\222\\\\261\\\\240\\\\341@\\\\030\\\\342\\\\217\\\\330N\\\\230\\\\342\\\\\\\\/\\\\227\\\\024q\\\\306\\\\220\\\\310\\\\240\\\\007$\\\\263o\\\\307R}\\\\263M9y\\\\023\\\\243>k\\\\243\\\\311\\\\367i\\\\321\\\\304\\\\215\\\\267\\\\023\\\\0068^\\\\271\\\\\\'?\\\\323\\\\365\\\\247\\\\226,#\\\\3575\\\\336\\\\356\\\\\"\\\\3546\\\\201\\\\263j\\\\200\\\\020\\\\177\\\\325\\\\217\\\\345\\\\376\\\\364dx\\\\032\\\\2677\\\\021\\\\251y.R\\\\325f\\\\005I\\\\212 I\\\\366\\\\370#\\\\037\\\\230\\\\245\\\\220\\\\240r\\\\317u\\\\014\\\\316\\\\202\\\\356ic\\\\333\\\\200\\\\273\\\\031\\\\000\\\\366\\\\030\\\\317\\\\037Zu~\\\\004)$a\\\\257A\\\\271Y\\\\245y=L\\\\316\\\\315\\\\351\\\\300\\\\030\\\\344\\\\037nq\\\\217\\\\217\\\\232\\\\245u\\\\2014\\\\213e\\\\271\\\\274kUB\\\\333\\\\320\\\\256\\\\335\\\\376f\\\\306E\\\\035\\\\006:\\\\023\\\\365\\\\346\\\\242\\\\262S`g\\\\271\\\\270\\\\020\\\\001\\\\034\\\\327\\\\200\\\\240\\\\036\\\\217<\\\\340\\\\374~x\\\\247B\\\\001\\\\367\\\\355M\\\\246\\\\314\\\\026N^B7\\\\312\\\\323z8\\\\367\\\\316O<r)\\\\250\\\\373a\\\\376\\\\027q\\\\333\\\\337\\\\336\\\\241h\\\\367\\\\364\\\\001E\\\\314\\\\273\\\\202\\\\3602v\\\\202A\\\\357S\\\\204:\\\\026\\\\272\\\\323\\\\226w\\\\210Oz\\\\320\\\\275\\\\263\\\\345p\\\\252\\\\001\\\\371\\\\3178\\\\035\\\\361\\\\371U&,l9\\\\270/*Es,W\\\\326\\\\321\\\\345\\\\203\\\\306\\\\231+\\\\307\\\\\\\\u\\\\317\\\\362\\\\346\\\\225yA~\\\\300_\\\\230\\\\345\\\\220\\\\230\\\\020\\\\2118\\\\t\\\\032\\\\251]\\\\312?\\\\213\\\\332\\\\232\\\\265\\\\2610\\\\223\\\\213\\\\206B!\\\\214.z\\\\223\\\\3115j\\\\274\\\\210\\\\251\\\\274\\\\260\\\\273\\\\237&WX\\\\324\\\\365\\\\311\\\\316kH\\\\312(\\\\227\\\\026\\\\304\\\\326\\\\304G(\\\\023L$A\\\\321\\\\020Uw\\\\275\\\\023\\\\322\\\\213[Ye\\\\nBF\\\\024\\\\036\\\\006{\\\\n\\\\315\\\\224\\\\206!\\\\212^I9\\\\\\'\\\\342\\\\223\\\\032\\\\031\\\\216\\\\t\\\\017$\\\\363\\\\364\\\\251\\\\030U\\\\264\\\\177\\\\256}\\\\350\\\\260$m&\\\\355\\\\201J\\\\306\\\\026\\\\030\\\\356 \\\\311\\\\215\\\\212\\\\237\\\\203I\\\\323\\\\001\\\\330u&\\\\036\\\\213\\\\245#\\\\376\\\\245\\\\250\\\\353\\\\350\\\\253\\\\033\\\\315\\\\274\\\\374\\\\251\\\\017F@\\\\030\\\\267\\\\210d\\\\355\\\\340\\\\237\\\\216i\\\\330\\\\201\\\\274p\\\\005,\\\\353\\\\201\\\\356\\\\033\\\\024\\\\001Y5\\\\305\\\\271\\\\375\\\\314\\\\017( \\\\362@\\\\316>\\\\265]X\\\\254N\\\\345c\\\\365<\\\\221\\\\233\\\\200\\\\007\\\\253\\\\017\\\\201\\\\217\\\\247ZhA\\\\\"\\\\363\\\\032\\\\325c\\\\264\\\\265\\\\213\\\\313$\\\\220\\\\2128\\\\037<\\\\321\\\\376\\\\214\\\\021\\\\263\\\\2304\\\\202H\\\\325$\\\\177Pf\\\\030\\\\013\\\\361\\\\201\\\\375h\\\\300d\\\\025\\\\215\\\\235\\\\345\\\\315\\\\304\\\\212\\\\315\\\\350\\\\034.\\\\345!s\\\\237pzb\\\\207I\\\\002\\\\260\\\\215a,\\\\021\\\\227\\\\270\\\\201V@\\\\344\\\\262\\\\253\\\\356]\\\\277\\\\031\\\\346\\\\225\\\\257\\\\000\\\\r%\\\\267\\\\363JE\\\\024\\\\326\\\\367\\\\030\\\\311\\\\2300\\\\351\\\\376^\\\\237\\\\312\\\\233\\\\213\\\\025\\\\240\\\\023\\\\331\\\\311t\\\\300,\\\\222F\\\\370\\\\306T\\\\377\\\\000\\\\276qB\\\\300\\\\366\\\\027\\\\356p\\\\213\\\\266\\\\232[iX\\\\260\\\\n\\\\341\\\\244\\\\335\\\\236\\\\0108\\\\035\\\\272\\\\363\\\\336\\\\213t\\\\024\\\\035\\\\257\\\\246@\\\\\"\\\\267\\\\215\\\\242\\\\266\\\\004\\\\r\\\\200\\\\000p;g\\\\375\\\\277Z]o,,\\\\225\\\\325\\\\314\\\\023@C@\\\\344\\\\026\\\\350\\\\3447\\\\030\\\\376\\\\375\\\\351uv;+\\\\215\\\\234\\\\317*\\\\313\\\\004E`\\\\004\\\\026\\\\214F\\\\0307\\\\377\\\\000oj\\\\245\\\\366,\\\\222\\\\236\\\\307v\\\\033\\\\311\\\\202,\\\\223\\\\225y\\\\367\\\\021\\\\365\\\\242\\\\300X\\\\333\\\\301\\\\346\\\\272/\\\\255\\\\202\\\\362|\\\\334\\\\217\\\\314c\\\\375i\\\\201(l\\\\313\\\\027!r\\\\261\\\\214\\\\357\\\\010ph\\\\000\\\\t4Q<\\\\274\\\\214\\\\217\\\\305\\\\354O\\\\322\\\\2351Y=\\\\341\\\\201\\\\304bbGD\\\\003?\\\\314\\\\321@\\\\033D\\\\335re\\\\363 kX\\\\242\\\\374*H$\\\\222;`\\\\340R\\\\234R\\\\034X\\\\353\\\\007q\\\\224|\\\\260\\\\030\\\\000\\\\256\\\\007L\\\\340\\\\232UC\\\\263\\\\021\\\\026a\\\\207\\\\205Y\\\\361\\\\200Y\\\\361\\\\333\\\\266:QB\\\\261\\\\230\\\\355\\\\343VS P\\\\212\\\\244\\\\205U\\\\004~y<\\\\32012!\\\\373\\\\332\\\\307k*\\\\311t\\\\334*\\\\276@\\\\3163\\\\203\\\\357\\\\3074\\\\351\\\\213\\\\316\\\\t\\\\251\\\\212,\\\\233\\\\240B\\\\251\\\\332DH0\\\\017\\\\267\\\\037_\\\\347J\\\\237\\\\201\\\\330\\\\343\\\\265\\\\202\\\\215\\\\2069\\\\327\\\\374\\\\300\\\\205J\\\\232c\\\\264W\\\\337$W\\\\n\\\\253\\\\024R*\\\\\\'*\\\\262K\\\\310>\\\\365QM\\\\022\\\\362\\\\\\',W\\\\322:\\\\230\\\\\\'\\\\206%U\\\\001Z1\\\\202\\\\010\\\\317>\\\\344\\\\363U\\\\217\\\\\"\\\\310\\\\254\\\\366\\\\232\\\\244\\\\357\\\\\"\\\\313{1\\\\217\\\\361\\\\030ZC\\\\260\\\\373\\\\356\\\\035\\\\017\\\\277\\\\2654\\\\342\\\\274\\\\022\\\\342\\\\316\\\\205\\\\034K\\\\201\\\\305cf\\\\207\\\\322\\\\333F\\\\352w(?\\\\225\\\\0262\\\\236m>\\\\024\\\\224\\\\355\\\\030\\\\317\\\\305Z\\\\223\\\\023TN;T\\\\342\\\\213\\\\020\\\\324v\\\\351\\\\232V4\\\\206c\\\\205E+\\\\n\\\\014\\\\261(\\\\2440\\\\253\\\\030\\\\244\\\\007\\\\306\\\\025\\\\357E\\\\2007\\\\266\\\\215\\\\324\\\\206\\\\003\\\\332\\\\213\\\\002\\\\256\\\\342#i(h\\\\\\\\\\\\203Uv&\\\\013\\\\317\\\\225\\\\311Wv?C\\\\212t\\\\204\\\\301\\\\276\\\\016\\\\\\\\\\\\356\\\\\\'\\\\360\\\\234\\\\266sN\\\\304C\\\\312EpH\\\\334\\\\247\\\\215\\\\275\\\\006}\\\\351\\\\330\\\\020\\\\270o+\\\\010\\\\000\\\\303\\\\002O\\\\024,\\\\211\\\\261X59\\\\232\\\\375cOFx\\\\310\\\\246\\\\342\\\\252\\\\301H~Y\\\\345<4\\\\204\\\\216\\\\234\\\\376\\\\2254Q\\\\031$\\\\226\\\\334\\\\264k)\\\\3329\\\\302\\\\360)Ry\\\\001\\\\013\\\\231\\\\211!\\\\233s\\\\036\\\\243-\\\\300=j\\\\222B#n\\\\215t\\\\312\\\\031\\\\312\\\\014g\\\\322)\\\\274\\\\000Yn\\\\026;\\\\221n\\\\250s\\\\2007\\\\356\\\\346\\\\225^B\\\\313T\\\\204\\\\342P\\\\356[f\\\\322;pj\\\\n\\\\242:\\\\204\\\\021\\\\213\\\\006\\\\225\\\\024\\\\006\\\\333\\\\221\\\\236y\\\\367\\\\242/ \\\\304\\\\254,\\\\267\\\\334}\\\\331\\\\245b\\\\330,d#\\\\236=\\\\275\\\\252\\\\333\\\\254\\\\211\\\\\"\\\\352-&&\\\\210H\\\\356\\\\354\\\\3141\\\\223Y9\\\\027\\\\324\\\\256\\\\227I\\\\216/0\\\\254\\\\215\\\\2058\\\\000\\\\001V\\\\244K@$\\\\021F\\\\025\\\\032=\\\\305F\\\\342\\\\331\\\\306i\\\\330\\\\204\\\\356\\\\237{,j\\\\210\\\\250\\\\343\\\\257%\\\\201\\\\\\'\\\\256I\\\\307\\\\362\\\\246\\\\220\\\\200#\\\\371r4\\\\210\\\\251\\\\273\\\\240\\\\310\\\\310\\\\030\\\\366\\\\372\\\\325\\\\001_\\\\251]\\\\274\\\\n\\\\307lfIH\\\\033\\\\202\\\\201\\\\264{q\\\\375j\\\\243\\\\024\\\\311n\\\\2138\\\\2265X#H\\\\221U\\\\210S\\\\201\\\\317\\\\247\\\\276}\\\\3536\\\\362Z\\\\312\\\\033\\\\271\\\\2701.\\\\324E\\\\351\\\\234\\\\237\\\\201I\\\\005\\\\202\\\\260g\\\\270F,\\\\373H?\\\\302(n\\\\203c)\\\\022\\\\371\\\\3102\\\\371\\\\337\\\\214\\\\203\\\\361J\\\\306\\\\035\\\\341\\\\215#\\\\014\\\\201\\\\201Rps\\\\317\\\\344{P\\\\244\\\\302\\\\205\\\\274\\\\200\\\\267\\\\010\\\\373\\\\211c\\\\220j\\\\257\\\\300\\\\253\\\\310;\\\\350\\\\222\\\\r\\\\315\\\\313yxb3\\\\370\\\\207\\\\267\\\\322\\\\204\\\\304\\\\361\\\\221\\\\213\\\\004k\\\\3551oCyI\\\\316!\\\\0000\\\\030>\\\\346\\\\224\\\\237WCK\\\\026\\\\016\\\\331\\\\313\\\\2175\\\\271\\\\\\'\\\\004\\\\346\\\\233\\\\004\\\\0268\\\\326\\\\342W\\\\007 \\\\020{\\\\346\\\\226\\\\220\\\\217\\\\377\\\\331\"\\n      }\\n    }\\n  }\\n  feature {\\n    key: \"label\"\\n    value {\\n      int64_list {\\n        value: 0\\n      }\\n    }\\n  }\\n  feature {\\n    key: \"width\"\\n    value {\\n      int64_list {\\n        value: 320\\n      }\\n    }\\n  }\\n}\\n'"
            ]
          },
          "metadata": {
            "tags": []
          },
          "execution_count": 46
        }
      ]
    },
    {
      "cell_type": "markdown",
      "metadata": {
        "id": "2G_o3O9MN0Qx"
      },
      "source": [
        "Notice that all of the features are now stored in the `tf.train.Example` message. Next, functionalize the code above and write the example messages to a file named `images.tfrecords`:"
      ]
    },
    {
      "cell_type": "code",
      "metadata": {
        "id": "qcw06lQCOCZU"
      },
      "source": [
        "# Write the raw image files to `images.tfrecords`.\n",
        "# First, process the two images into `tf.train.Example` messages.\n",
        "# Then, write to a `.tfrecords` file.\n",
        "record_file = 'images.tfrecords'\n",
        "with tf.io.TFRecordWriter(record_file) as writer:\n",
        "  for filename, label in image_labels.items():\n",
        "    image_string = open(filename, 'rb').read()\n",
        "    tf_example = image_example(image_string, label)\n",
        "    writer.write(tf_example.SerializeToString())"
      ],
      "execution_count": 47,
      "outputs": []
    },
    {
      "cell_type": "code",
      "metadata": {
        "id": "yJrTe6tHPCfs",
        "outputId": "b93eebe0-4fce-4428-b7b4-57077cc3c00f",
        "colab": {
          "base_uri": "https://localhost:8080/"
        }
      },
      "source": [
        "!du -sh {record_file}"
      ],
      "execution_count": 48,
      "outputs": [
        {
          "output_type": "stream",
          "text": [
            "36K\timages.tfrecords\n"
          ],
          "name": "stdout"
        }
      ]
    },
    {
      "cell_type": "markdown",
      "metadata": {
        "id": "jJSsCkZLPH6K"
      },
      "source": [
        "### Read the TFRecord file\n",
        "\n",
        "You now have the file—`images.tfrecords`—and can now iterate over the records in it to read back what you wrote. Given that in this example you will only reproduce the image, the only feature you will need is the raw image string. Extract it using the getters described above, namely `example.features.feature['image_raw'].bytes_list.value[0]`. You can also use the labels to determine which record is the cat and which one is the bridge:"
      ]
    },
    {
      "cell_type": "code",
      "metadata": {
        "id": "M6Cnfd3cTKHN",
        "outputId": "d651f008-8bbc-4928-8b96-327ea3baa676",
        "colab": {
          "base_uri": "https://localhost:8080/"
        }
      },
      "source": [
        "raw_image_dataset = tf.data.TFRecordDataset('images.tfrecords')\n",
        "\n",
        "# Create a dictionary describing the features.\n",
        "image_feature_description = {\n",
        "    'height': tf.io.FixedLenFeature([], tf.int64),\n",
        "    'width': tf.io.FixedLenFeature([], tf.int64),\n",
        "    'depth': tf.io.FixedLenFeature([], tf.int64),\n",
        "    'label': tf.io.FixedLenFeature([], tf.int64),\n",
        "    'image_raw': tf.io.FixedLenFeature([], tf.string),\n",
        "}\n",
        "\n",
        "def _parse_image_function(example_proto):\n",
        "  # Parse the input tf.train.Example proto using the dictionary above.\n",
        "  return tf.io.parse_single_example(example_proto, image_feature_description)\n",
        "\n",
        "parsed_image_dataset = raw_image_dataset.map(_parse_image_function)\n",
        "parsed_image_dataset"
      ],
      "execution_count": 49,
      "outputs": [
        {
          "output_type": "execute_result",
          "data": {
            "text/plain": [
              "<MapDataset shapes: {depth: (), height: (), image_raw: (), label: (), width: ()}, types: {depth: tf.int64, height: tf.int64, image_raw: tf.string, label: tf.int64, width: tf.int64}>"
            ]
          },
          "metadata": {
            "tags": []
          },
          "execution_count": 49
        }
      ]
    },
    {
      "cell_type": "markdown",
      "metadata": {
        "id": "0PEEFPk4NEg1"
      },
      "source": [
        "Recover the images from the TFRecord file:"
      ]
    },
    {
      "cell_type": "code",
      "metadata": {
        "id": "yZf8jOyEIjSF",
        "outputId": "e772d315-8825-495d-a977-37731c6541a6",
        "colab": {
          "base_uri": "https://localhost:8080/",
          "height": 469
        }
      },
      "source": [
        "for image_features in parsed_image_dataset:\n",
        "  image_raw = image_features['image_raw'].numpy()\n",
        "  display.display(display.Image(data=image_raw))"
      ],
      "execution_count": 50,
      "outputs": [
        {
          "output_type": "display_data",
          "data": {
            "image/jpeg": "[encoded data removed]",
            "text/plain": [
              "<IPython.core.display.Image object>"
            ]
          },
          "metadata": {
            "tags": []
          }
        },
        {
          "output_type": "display_data",
          "data": {
            "image/jpeg": "[encoded data removed]",
            "text/plain": [
              "<IPython.core.display.Image object>"
            ]
          },
          "metadata": {
            "tags": []
          }
        }
      ]
    },
    {
      "cell_type": "code",
      "metadata": {
        "id": "fr_nGUQ0R-Gf"
      },
      "source": [
        ""
      ],
      "execution_count": null,
      "outputs": []
    }
  ]
}