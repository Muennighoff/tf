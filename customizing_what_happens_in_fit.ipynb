{
  "nbformat": 4,
  "nbformat_minor": 0,
  "metadata": {
    "colab": {
      "name": "customizing_what_happens_in_fit.ipynb",
      "provenance": [],
      "collapsed_sections": [],
      "toc_visible": true
    },
    "kernelspec": {
      "display_name": "Python 3",
      "name": "python3"
    },
    "accelerator": "GPU"
  },
  "cells": [
    {
      "cell_type": "markdown",
      "metadata": {
        "id": "b518b04cbfe0"
      },
      "source": [
        "##### Copyright 2020 The TensorFlow Authors."
      ]
    },
    {
      "cell_type": "code",
      "metadata": {
        "cellView": "form",
        "id": "906e07f6e562"
      },
      "source": [
        "#@title Licensed under the Apache License, Version 2.0 (the \"License\");\n",
        "# you may not use this file except in compliance with the License.\n",
        "# You may obtain a copy of the License at\n",
        "#\n",
        "# https://www.apache.org/licenses/LICENSE-2.0\n",
        "#\n",
        "# Unless required by applicable law or agreed to in writing, software\n",
        "# distributed under the License is distributed on an \"AS IS\" BASIS,\n",
        "# WITHOUT WARRANTIES OR CONDITIONS OF ANY KIND, either express or implied.\n",
        "# See the License for the specific language governing permissions and\n",
        "# limitations under the License."
      ],
      "execution_count": null,
      "outputs": []
    },
    {
      "cell_type": "markdown",
      "metadata": {
        "id": "a5620ee4049e"
      },
      "source": [
        "# Customize what happens in Model.fit"
      ]
    },
    {
      "cell_type": "markdown",
      "metadata": {
        "id": "0a56ffedf331"
      },
      "source": [
        "<table class=\"tfo-notebook-buttons\" align=\"left\">\n",
        "  <td>\n",
        "    <a target=\"_blank\" href=\"https://www.tensorflow.org/guide/keras/customizing_what_happens_in_fit\"><img src=\"https://www.tensorflow.org/images/tf_logo_32px.png\" />View on TensorFlow.org</a>\n",
        "  </td>\n",
        "  <td>\n",
        "    <a target=\"_blank\" href=\"https://colab.research.google.com/github/tensorflow/docs/blob/snapshot-keras/site/en/guide/keras/customizing_what_happens_in_fit.ipynb\"><img src=\"https://www.tensorflow.org/images/colab_logo_32px.png\" />Run in Google Colab</a>\n",
        "  </td>\n",
        "  <td>\n",
        "    <a target=\"_blank\" href=\"https://github.com/keras-team/keras-io/blob/master/guides/customizing_what_happens_in_fit.py\"><img src=\"https://www.tensorflow.org/images/GitHub-Mark-32px.png\" />View source on GitHub</a>\n",
        "  </td>\n",
        "  <td>\n",
        "    <a href=\"https://storage.googleapis.com/tensorflow_docs/docs/site/en/guide/keras/customizing_what_happens_in_fit.ipynb\"><img src=\"https://www.tensorflow.org/images/download_logo_32px.png\" />Download notebook</a>\n",
        "  </td>\n",
        "</table>"
      ]
    },
    {
      "cell_type": "markdown",
      "metadata": {
        "id": "7ebb4e65ef9b"
      },
      "source": [
        "## Introduction\n",
        "\n",
        "When you're doing supervised learning, you can use `fit()` and everything works\n",
        "smoothly.\n",
        "\n",
        "When you need to write your own training loop from scratch, you can use the\n",
        "`GradientTape` and take control of every little detail.\n",
        "\n",
        "But what if you need a custom training algorithm, but you still want to benefit from\n",
        "the convenient features of `fit()`, such as callbacks, built-in distribution support,\n",
        "or step fusing?\n",
        "\n",
        "A core principle of Keras is **progressive disclosure of complexity**. You should\n",
        "always be able to get into lower-level workflows in a gradual way. You shouldn't fall\n",
        "off a cliff if the high-level functionality doesn't exactly match your use case. You\n",
        "should be able to gain more control over the small details while retaining a\n",
        "commensurate amount of high-level convenience.\n",
        "\n",
        "When you need to customize what `fit()` does, you should **override the training step\n",
        "function of the `Model` class**. This is the function that is called by `fit()` for\n",
        "every batch of data. You will then be able to call `fit()` as usual -- and it will be\n",
        "running your own learning algorithm.\n",
        "\n",
        "Note that this pattern does not prevent you from building models with the Functional\n",
        "API. You can do this whether you're building `Sequential` models, Functional API\n",
        "models, or subclassed models.\n",
        "\n",
        "Let's see how that works."
      ]
    },
    {
      "cell_type": "markdown",
      "metadata": {
        "id": "2849e371b9b6"
      },
      "source": [
        "## Setup\n",
        "Requires TensorFlow 2.2 or later."
      ]
    },
    {
      "cell_type": "code",
      "metadata": {
        "id": "4dadb6688663"
      },
      "source": [
        "import tensorflow as tf\n",
        "from tensorflow import keras"
      ],
      "execution_count": 3,
      "outputs": []
    },
    {
      "cell_type": "markdown",
      "metadata": {
        "id": "9022333acaa7"
      },
      "source": [
        "## A first simple example\n",
        "\n",
        "Let's start from a simple example:\n",
        "\n",
        "- We create a new class that subclasses `keras.Model`.\n",
        "- We just override the method `train_step(self, data)`.\n",
        "- We return a dictionary mapping metric names (including the loss) to their current\n",
        "value.\n",
        "\n",
        "The input argument `data` is what gets passed to fit as training data:\n",
        "\n",
        "- If you pass Numpy arrays, by calling `fit(x, y, ...)`, then `data` will be the tuple\n",
        "`(x, y)`\n",
        "- If you pass a `tf.data.Dataset`, by calling `fit(dataset, ...)`, then `data` will be\n",
        "what gets yielded by `dataset` at each batch.\n",
        "\n",
        "In the body of the `train_step` method, we implement a regular training update,\n",
        "similar to what you are already familiar with. Importantly, **we compute the loss via\n",
        "`self.compiled_loss`**, which wraps the loss(es) function(s) that were passed to\n",
        "`compile()`.\n",
        "\n",
        "Similarly, we call `self.compiled_metrics.update_state(y, y_pred)` to update the state\n",
        "of the metrics that were passed in `compile()`, and we query results from\n",
        "`self.metrics` at the end to retrieve their current value."
      ]
    },
    {
      "cell_type": "code",
      "metadata": {
        "id": "060c8bf4150d"
      },
      "source": [
        "class CustomModel(keras.Model):\n",
        "    def train_step(self, data):\n",
        "        # Unpack the data. Its structure depends on your model and\n",
        "        # on what you pass to `fit()`.\n",
        "        x, y = data # Or what gets yielded by the tf dataset at each step\n",
        "\n",
        "        with tf.GradientTape() as tape:\n",
        "            y_pred = self(x, training=True)  # Forward pass\n",
        "            # Compute the loss value\n",
        "            # (the loss function is configured in `compile()`)\n",
        "            loss = self.compiled_loss(y, y_pred, regularization_losses=self.losses)\n",
        "\n",
        "        # Compute gradients\n",
        "        trainable_vars = self.trainable_variables\n",
        "        gradients = tape.gradient(loss, trainable_vars)\n",
        "        # Update weights\n",
        "        self.optimizer.apply_gradients(zip(gradients, trainable_vars))\n",
        "        # Update metrics (includes the metric that tracks the loss)\n",
        "        self.compiled_metrics.update_state(y, y_pred)\n",
        "        # Return a dict mapping metric names to current value\n",
        "        return {m.name: m.result() for m in self.metrics}\n"
      ],
      "execution_count": 3,
      "outputs": []
    },
    {
      "cell_type": "markdown",
      "metadata": {
        "id": "c9d2cc7a7014"
      },
      "source": [
        "Let's try this out:"
      ]
    },
    {
      "cell_type": "code",
      "metadata": {
        "id": "5e6bd7b554f6",
        "outputId": "518b8e36-140d-4c60-ab42-e9997f381361",
        "colab": {
          "base_uri": "https://localhost:8080/"
        }
      },
      "source": [
        "import numpy as np\n",
        "\n",
        "# Construct and compile an instance of CustomModel\n",
        "inputs = keras.Input(shape=(32,))\n",
        "outputs = keras.layers.Dense(1)(inputs)\n",
        "model = CustomModel(inputs, outputs)\n",
        "model.compile(optimizer=\"adam\", loss=\"mse\", metrics=[\"mae\"])\n",
        "\n",
        "# Just use `fit` as usual\n",
        "x = np.random.random((1000, 32))\n",
        "y = np.random.random((1000, 1))\n",
        "model.fit(x, y, epochs=3)"
      ],
      "execution_count": 4,
      "outputs": [
        {
          "output_type": "stream",
          "text": [
            "Epoch 1/3\n",
            "32/32 [==============================] - 1s 978us/step - loss: 0.9499 - mae: 0.8344\n",
            "Epoch 2/3\n",
            "32/32 [==============================] - 0s 813us/step - loss: 0.4329 - mae: 0.5310\n",
            "Epoch 3/3\n",
            "32/32 [==============================] - 0s 1ms/step - loss: 0.2646 - mae: 0.4167\n"
          ],
          "name": "stdout"
        },
        {
          "output_type": "execute_result",
          "data": {
            "text/plain": [
              "<tensorflow.python.keras.callbacks.History at 0x7fc57ba2e1d0>"
            ]
          },
          "metadata": {
            "tags": []
          },
          "execution_count": 4
        }
      ]
    },
    {
      "cell_type": "markdown",
      "metadata": {
        "id": "9c096e07c2f5"
      },
      "source": [
        "## Going lower-level\n",
        "\n",
        "Naturally, you could just skip passing a loss function in `compile()`, and instead do\n",
        "everything *manually* in `train_step`. Likewise for metrics.\n",
        "\n",
        "Here's a lower-level\n",
        "example, that only uses `compile()` to configure the optimizer:\n",
        "\n",
        "- We start by creating `Metric` instances to track our loss and a MAE score.\n",
        "- We implement a custom `train_step()` that updates the state of these metrics\n",
        "(by calling `update_state()` on them), then query them (via `result()`) to return their current average value,\n",
        "to be displayed by the progress bar and to be pass to any callback.\n",
        "- Note that we would need to call `reset_states()` on our metrics between each epoch! Otherwise\n",
        "calling `result()` would return an average since the start of training, whereas we usually work\n",
        "with per-epoch averages. Thankfully, the framework can do that for us: just list any metric\n",
        "you want to reset in the `metrics` property of the model. The model will call `reset_states()`\n",
        "on any object listed here at the begining of each `fit()` epoch or at the begining of a call to\n",
        "`evaluate()`."
      ]
    },
    {
      "cell_type": "code",
      "metadata": {
        "id": "2308abf5fe7d",
        "outputId": "8444c4a5-79ae-4298-cc20-e8c0bbcb62f0",
        "colab": {
          "base_uri": "https://localhost:8080/"
        }
      },
      "source": [
        "loss_tracker = keras.metrics.Mean(name=\"loss\")\n",
        "mae_metric = keras.metrics.MeanAbsoluteError(name=\"mae\")\n",
        "\n",
        "### OPTION B) & C) For Loss\n",
        "loss_object = keras.losses.mean_squared_error\n",
        "loss_object = keras.losses.MeanSquaredError()\n",
        "\n",
        "class CustomModel(keras.Model):\n",
        "    def train_step(self, data):\n",
        "        x, y = data\n",
        "\n",
        "        with tf.GradientTape() as tape:\n",
        "            y_pred = self(x, training=True)  # Forward pass\n",
        "\n",
        "            # Compute our own loss\n",
        "            ### OPTION A) For Loss\n",
        "            #loss = keras.losses.mean_squared_error(y, y_pred) # > We still use something from losses here\n",
        "\n",
        "            ### OPTION B) & C) For Loss\n",
        "            loss = loss_object(y, y_pred)\n",
        "\n",
        "        # Compute gradients\n",
        "        trainable_vars = self.trainable_variables\n",
        "        gradients = tape.gradient(loss, trainable_vars)\n",
        "\n",
        "        # Update weights\n",
        "        self.optimizer.apply_gradients(zip(gradients, trainable_vars))\n",
        "\n",
        "        # Compute our own metrics\n",
        "        loss_tracker.update_state(loss)\n",
        "        mae_metric.update_state(y, y_pred)\n",
        "        return {\"loss\": loss_tracker.result(), \"mae\": mae_metric.result()}\n",
        "\n",
        "    @property\n",
        "    def metrics(self):\n",
        "        # We list our `Metric` objects here so that `reset_states()` can be\n",
        "        # called automatically at the start of each epoch\n",
        "        # or at the start of `evaluate()`.\n",
        "        # If you don't implement this property, you have to call\n",
        "        # `reset_states()` yourself at the time of your choosing.\n",
        "        return [loss_tracker, mae_metric]\n",
        "\n",
        "\n",
        "# Construct an instance of CustomModel\n",
        "inputs = keras.Input(shape=(32,))\n",
        "outputs = keras.layers.Dense(1)(inputs)\n",
        "model = CustomModel(inputs, outputs)\n",
        "\n",
        "# We don't passs a loss or metrics here.\n",
        "model.compile(optimizer=\"adam\")\n",
        "\n",
        "# Just use `fit` as usual -- you can use callbacks, etc.\n",
        "x = np.random.random((1000, 32))\n",
        "y = np.random.random((1000, 1))\n",
        "model.fit(x, y, epochs=5)\n"
      ],
      "execution_count": 15,
      "outputs": [
        {
          "output_type": "stream",
          "text": [
            "Epoch 1/5\n",
            "32/32 [==============================] - 0s 1ms/step - loss: 0.3776 - mae: 0.4943\n",
            "Epoch 2/5\n",
            "32/32 [==============================] - 0s 1ms/step - loss: 0.2733 - mae: 0.4227\n",
            "Epoch 3/5\n",
            "32/32 [==============================] - 0s 1ms/step - loss: 0.2655 - mae: 0.4155\n",
            "Epoch 4/5\n",
            "32/32 [==============================] - 0s 1ms/step - loss: 0.2591 - mae: 0.4096\n",
            "Epoch 5/5\n",
            "32/32 [==============================] - 0s 871us/step - loss: 0.2492 - mae: 0.4022\n"
          ],
          "name": "stdout"
        },
        {
          "output_type": "execute_result",
          "data": {
            "text/plain": [
              "<tensorflow.python.keras.callbacks.History at 0x7fc57155b5c0>"
            ]
          },
          "metadata": {
            "tags": []
          },
          "execution_count": 15
        }
      ]
    },
    {
      "cell_type": "code",
      "metadata": {
        "id": "P9uXMl3fcsbc",
        "outputId": "469a5787-0682-4931-d6da-d4817da64434",
        "colab": {
          "base_uri": "https://localhost:8080/"
        }
      },
      "source": [
        "loss_tracker = keras.metrics.Mean(name=\"loss\")\r\n",
        "mae_metric = keras.metrics.MeanAbsoluteError(name=\"mae\")\r\n",
        "\r\n",
        "\r\n",
        "class CustomModel(keras.Model):\r\n",
        "    def train_step(self, data):\r\n",
        "        x, y = data\r\n",
        "\r\n",
        "        with tf.GradientTape() as tape:\r\n",
        "            y_pred = self(x, training=True)  # Forward pass\r\n",
        "            # Compute our own loss\r\n",
        "            loss = keras.losses.mean_squared_error(y, y_pred)\r\n",
        "            \r\n",
        "        # Compute gradients\r\n",
        "        trainable_vars = self.trainable_variables\r\n",
        "        gradients = tape.gradient(loss, trainable_vars)\r\n",
        "\r\n",
        "        # Update weights\r\n",
        "        self.optimizer.apply_gradients(zip(gradients, trainable_vars))\r\n",
        "\r\n",
        "        # Compute our own metrics\r\n",
        "        #loss_tracker.update_state(loss)\r\n",
        "        mae_metric.update_state(y, y_pred)\r\n",
        "\r\n",
        "        # If we don't use the mean ontop of the loss we probably just report the loss of the last sample\r\n",
        "\r\n",
        "        return {\"loss\": loss, \"mae\": mae_metric.result()}\r\n",
        "\r\n",
        "    @property\r\n",
        "    def metrics(self):\r\n",
        "        # We list our `Metric` objects here so that `reset_states()` can be\r\n",
        "        # called automatically at the start of each epoch\r\n",
        "        # or at the start of `evaluate()`.\r\n",
        "        # If you don't implement this property, you have to call\r\n",
        "        # `reset_states()` yourself at the time of your choosing.\r\n",
        "        return [loss_tracker, mae_metric]\r\n",
        "\r\n",
        "\r\n",
        "# Construct an instance of CustomModel\r\n",
        "inputs = keras.Input(shape=(32,))\r\n",
        "outputs = keras.layers.Dense(1)(inputs)\r\n",
        "model = CustomModel(inputs, outputs)\r\n",
        "\r\n",
        "# We don't passs a loss or metrics here.\r\n",
        "model.compile(optimizer=\"adam\")\r\n",
        "\r\n",
        "# Just use `fit` as usual -- you can use callbacks, etc.\r\n",
        "x = np.random.random((1000, 32))\r\n",
        "y = np.random.random((1000, 1))\r\n",
        "model.fit(x, y, epochs=5)\r\n"
      ],
      "execution_count": 14,
      "outputs": [
        {
          "output_type": "stream",
          "text": [
            "Epoch 1/5\n",
            "32/32 [==============================] - 0s 1ms/step - loss: 0.2225 - mae: 0.5366\n",
            "Epoch 2/5\n",
            "32/32 [==============================] - 0s 1ms/step - loss: 0.2512 - mae: 0.4367\n",
            "Epoch 3/5\n",
            "32/32 [==============================] - 0s 1ms/step - loss: 0.3592 - mae: 0.4298\n",
            "Epoch 4/5\n",
            "32/32 [==============================] - 0s 1ms/step - loss: 0.4405 - mae: 0.4229\n",
            "Epoch 5/5\n",
            "32/32 [==============================] - 0s 1ms/step - loss: 0.1698 - mae: 0.4169\n"
          ],
          "name": "stdout"
        },
        {
          "output_type": "execute_result",
          "data": {
            "text/plain": [
              "<tensorflow.python.keras.callbacks.History at 0x7fc571dd37b8>"
            ]
          },
          "metadata": {
            "tags": []
          },
          "execution_count": 14
        }
      ]
    },
    {
      "cell_type": "markdown",
      "metadata": {
        "id": "f451e382c6a8"
      },
      "source": [
        "## Supporting `sample_weight` & `class_weight`\n",
        "\n",
        "You may have noticed that our first basic example didn't make any mention of sample\n",
        "weighting. If you want to support the `fit()` arguments `sample_weight` and\n",
        "`class_weight`, you'd simply do the following:\n",
        "\n",
        "- Unpack `sample_weight` from the `data` argument\n",
        "- Pass it to `compiled_loss` & `compiled_metrics` (of course, you could also just apply\n",
        "it manually if you don't rely on `compile()` for losses & metrics)\n",
        "- That's it. That's the list."
      ]
    },
    {
      "cell_type": "code",
      "metadata": {
        "id": "5401fb151fcb",
        "outputId": "d9bbf59d-5998-498b-b7de-778f405cb13c",
        "colab": {
          "base_uri": "https://localhost:8080/"
        }
      },
      "source": [
        "class CustomModel(keras.Model):\n",
        "    def train_step(self, data):\n",
        "        # Unpack the data. Its structure depends on your model and\n",
        "        # on what you pass to `fit()`.\n",
        "        if len(data) == 3:\n",
        "            x, y, sample_weight = data\n",
        "        else:\n",
        "            x, y = data\n",
        "\n",
        "        with tf.GradientTape() as tape:\n",
        "            y_pred = self(x, training=True)  # Forward pass\n",
        "            # Compute the loss value.\n",
        "            # The loss function is configured in `compile()`.\n",
        "            loss = self.compiled_loss(\n",
        "                y,\n",
        "                y_pred,\n",
        "                sample_weight=sample_weight,\n",
        "                regularization_losses=self.losses,\n",
        "            )\n",
        "\n",
        "        # Compute gradients\n",
        "        trainable_vars = self.trainable_variables\n",
        "        gradients = tape.gradient(loss, trainable_vars)\n",
        "\n",
        "        # Update weights\n",
        "        self.optimizer.apply_gradients(zip(gradients, trainable_vars))\n",
        "\n",
        "        # Update the metrics.\n",
        "        # Metrics are configured in `compile()`.\n",
        "        self.compiled_metrics.update_state(y, y_pred, sample_weight=sample_weight)\n",
        "\n",
        "        # Return a dict mapping metric names to current value.\n",
        "        # Note that it will include the loss (tracked in self.metrics).\n",
        "        return {m.name: m.result() for m in self.metrics}\n",
        "\n",
        "\n",
        "# Construct and compile an instance of CustomModel\n",
        "inputs = keras.Input(shape=(32,))\n",
        "outputs = keras.layers.Dense(1)(inputs)\n",
        "model = CustomModel(inputs, outputs)\n",
        "model.compile(optimizer=\"adam\", loss=\"mse\", metrics=[\"mae\"])\n",
        "\n",
        "# You can now use sample_weight argument\n",
        "x = np.random.random((1000, 32))\n",
        "y = np.random.random((1000, 1))\n",
        "sw = np.random.random((1000, 1))\n",
        "model.fit(x, y, sample_weight=sw, epochs=3)"
      ],
      "execution_count": 16,
      "outputs": [
        {
          "output_type": "stream",
          "text": [
            "Epoch 1/3\n",
            "32/32 [==============================] - 0s 932us/step - loss: 0.6753 - mae: 1.0404\n",
            "Epoch 2/3\n",
            "32/32 [==============================] - 0s 1ms/step - loss: 0.2803 - mae: 0.6246\n",
            "Epoch 3/3\n",
            "32/32 [==============================] - 0s 1ms/step - loss: 0.1226 - mae: 0.4088\n"
          ],
          "name": "stdout"
        },
        {
          "output_type": "execute_result",
          "data": {
            "text/plain": [
              "<tensorflow.python.keras.callbacks.History at 0x7fc5714aa780>"
            ]
          },
          "metadata": {
            "tags": []
          },
          "execution_count": 16
        }
      ]
    },
    {
      "cell_type": "markdown",
      "metadata": {
        "id": "03000c5590db"
      },
      "source": [
        "## Providing your own evaluation step\n",
        "\n",
        "What if you want to do the same for calls to `model.evaluate()`? Then you would\n",
        "override `test_step` in exactly the same way. Here's what it looks like:"
      ]
    },
    {
      "cell_type": "code",
      "metadata": {
        "id": "999edb22c50e",
        "outputId": "f83663e6-5c20-4695-d8d5-ed3e5e6a882f",
        "colab": {
          "base_uri": "https://localhost:8080/"
        }
      },
      "source": [
        "class CustomModel(keras.Model):\n",
        "    def test_step(self, data):\n",
        "        # Unpack the data\n",
        "        x, y = data\n",
        "        # Compute predictions\n",
        "        y_pred = self(x, training=False)\n",
        "        # Updates the metrics tracking the loss\n",
        "        self.compiled_loss(y, y_pred, regularization_losses=self.losses)\n",
        "        # Update the metrics.\n",
        "        self.compiled_metrics.update_state(y, y_pred)\n",
        "        # Return a dict mapping metric names to current value.\n",
        "        # Note that it will include the loss (tracked in self.metrics).\n",
        "        return {m.name: m.result() for m in self.metrics}\n",
        "\n",
        "\n",
        "# Construct an instance of CustomModel\n",
        "inputs = keras.Input(shape=(32,))\n",
        "outputs = keras.layers.Dense(1)(inputs)\n",
        "model = CustomModel(inputs, outputs)\n",
        "model.compile(loss=\"mse\", metrics=[\"mae\"])\n",
        "\n",
        "# Evaluate with our custom test_step\n",
        "x = np.random.random((1000, 32))\n",
        "y = np.random.random((1000, 1))\n",
        "model.evaluate(x, y)"
      ],
      "execution_count": 17,
      "outputs": [
        {
          "output_type": "stream",
          "text": [
            "32/32 [==============================] - 0s 1ms/step - loss: 0.6075 - mae: 0.6606\n"
          ],
          "name": "stdout"
        },
        {
          "output_type": "execute_result",
          "data": {
            "text/plain": [
              "[0.623630166053772, 0.6730056405067444]"
            ]
          },
          "metadata": {
            "tags": []
          },
          "execution_count": 17
        }
      ]
    },
    {
      "cell_type": "markdown",
      "metadata": {
        "id": "9e6a662e6588"
      },
      "source": [
        "## Wrapping up: an end-to-end GAN example\n",
        "\n",
        "Let's walk through an end-to-end example that leverages everything you just learned.\n",
        "\n",
        "Let's consider:\n",
        "\n",
        "- A generator network meant to generate 28x28x1 images.\n",
        "- A discriminator network meant to classify 28x28x1 images into two classes (\"fake\" and\n",
        "\"real\").\n",
        "- One optimizer for each.\n",
        "- A loss function to train the discriminator.\n"
      ]
    },
    {
      "cell_type": "code",
      "metadata": {
        "id": "6748db01dc7c"
      },
      "source": [
        "from tensorflow.keras import layers\n",
        "\n",
        "# Create the discriminator\n",
        "discriminator = keras.Sequential(\n",
        "    [\n",
        "        keras.Input(shape=(28, 28, 1)),\n",
        "        layers.Conv2D(64, (3, 3), strides=(2, 2), padding=\"same\"),\n",
        "        layers.LeakyReLU(alpha=0.2),\n",
        "        layers.Conv2D(128, (3, 3), strides=(2, 2), padding=\"same\"),\n",
        "        layers.LeakyReLU(alpha=0.2),\n",
        "        layers.GlobalMaxPooling2D(),\n",
        "        layers.Dense(1),\n",
        "    ],\n",
        "    name=\"discriminator\",\n",
        ")\n",
        "\n",
        "# Create the generator\n",
        "latent_dim = 128\n",
        "generator = keras.Sequential(\n",
        "    [\n",
        "        keras.Input(shape=(latent_dim,)),\n",
        "        # We want to generate 128 coefficients to reshape into a 7x7x128 map\n",
        "        layers.Dense(7 * 7 * 128),\n",
        "        layers.LeakyReLU(alpha=0.2),\n",
        "        layers.Reshape((7, 7, 128)),\n",
        "        layers.Conv2DTranspose(128, (4, 4), strides=(2, 2), padding=\"same\"),\n",
        "        layers.LeakyReLU(alpha=0.2),\n",
        "        layers.Conv2DTranspose(128, (4, 4), strides=(2, 2), padding=\"same\"),\n",
        "        layers.LeakyReLU(alpha=0.2),\n",
        "        layers.Conv2D(1, (7, 7), padding=\"same\", activation=\"sigmoid\"),\n",
        "    ],\n",
        "    name=\"generator\",\n",
        ")"
      ],
      "execution_count": 4,
      "outputs": []
    },
    {
      "cell_type": "markdown",
      "metadata": {
        "id": "801e8dd0c92a"
      },
      "source": [
        "Here's a feature-complete GAN class, overriding `compile()` to use its own signature,\n",
        "and implementing the entire GAN algorithm in 17 lines in `train_step`:"
      ]
    },
    {
      "cell_type": "code",
      "metadata": {
        "id": "bc3fb4111393"
      },
      "source": [
        "class GAN(keras.Model):\n",
        "    def __init__(self, discriminator, generator, latent_dim):\n",
        "        super(GAN, self).__init__()\n",
        "        self.discriminator = discriminator\n",
        "        self.generator = generator\n",
        "        self.latent_dim = latent_dim\n",
        "\n",
        "    def compile(self, d_optimizer, g_optimizer, loss_fn):\n",
        "        ### >>> Own compile since two optimizers\n",
        "        super(GAN, self).compile()\n",
        "        self.d_optimizer = d_optimizer\n",
        "        self.g_optimizer = g_optimizer\n",
        "        self.loss_fn = loss_fn\n",
        "\n",
        "    def train_step(self, real_images):\n",
        "        ### >>> Looking a lot more like beautiful PyTorch Code now! Quite similar to my Face GAN\n",
        "        if isinstance(real_images, tuple):\n",
        "            real_images = real_images[0]\n",
        "        # Sample random points in the latent space\n",
        "        batch_size = tf.shape(real_images)[0]\n",
        "        random_latent_vectors = tf.random.normal(shape=(batch_size, self.latent_dim))\n",
        "\n",
        "        # Decode them to fake images\n",
        "        generated_images = self.generator(random_latent_vectors)\n",
        "\n",
        "        # Combine them with real images\n",
        "        combined_images = tf.concat([generated_images, real_images], axis=0)\n",
        "\n",
        "        # Assemble labels discriminating real from fake images\n",
        "        labels = tf.concat(\n",
        "            [tf.ones((batch_size, 1)), tf.zeros((batch_size, 1))], axis=0\n",
        "        )\n",
        "        ### >>> Generated images get label of one; Real get label of zero\n",
        "\n",
        "        # Add random noise to the labels - important trick!\n",
        "        labels += 0.05 * tf.random.uniform(tf.shape(labels))\n",
        "\n",
        "        # Train the discriminator\n",
        "        with tf.GradientTape() as tape:\n",
        "            predictions = self.discriminator(combined_images)\n",
        "            d_loss = self.loss_fn(labels, predictions)\n",
        "        grads = tape.gradient(d_loss, self.discriminator.trainable_weights) # Calculates gradients! No need for taping anymore\n",
        "        self.d_optimizer.apply_gradients(\n",
        "            zip(grads, self.discriminator.trainable_weights)\n",
        "        )\n",
        "\n",
        "        # Sample random points in the latent space\n",
        "        random_latent_vectors = tf.random.normal(shape=(batch_size, self.latent_dim))\n",
        "\n",
        "        # Assemble labels that say \"all real images\"\n",
        "        misleading_labels = tf.zeros((batch_size, 1))\n",
        "\n",
        "        # Train the generator (note that we should *not* update the weights\n",
        "        # of the discriminator)!\n",
        "        with tf.GradientTape() as tape:\n",
        "            predictions = self.discriminator(self.generator(random_latent_vectors))\n",
        "            g_loss = self.loss_fn(misleading_labels, predictions)    ### >>> I.e. we want the predictions to match the misleading labels\n",
        "                                                                     ### Hence the discriminator being fooled and thinking they are real\n",
        "        grads = tape.gradient(g_loss, self.generator.trainable_weights)\n",
        "        self.g_optimizer.apply_gradients(zip(grads, self.generator.trainable_weights))\n",
        "        return {\"d_loss\": d_loss, \"g_loss\": g_loss}\n",
        "\n",
        "    def generate(self):\n",
        "        random_latent_vectors = tf.random.normal(shape=(batch_size, self.latent_dim))\n",
        "        y = self.generator(random_latent_vectors)\n",
        "        return y\n",
        "        \n",
        "\n",
        "\n"
      ],
      "execution_count": 5,
      "outputs": []
    },
    {
      "cell_type": "markdown",
      "metadata": {
        "id": "095c499a6149"
      },
      "source": [
        "Let's test-drive it:"
      ]
    },
    {
      "cell_type": "code",
      "metadata": {
        "id": "46832f2077ac",
        "outputId": "36d7d862-3c31-48ff-bc2a-e47b7618ee27",
        "colab": {
          "base_uri": "https://localhost:8080/"
        }
      },
      "source": [
        "# Prepare the dataset. We use both the training & test MNIST digits.\n",
        "batch_size = 64\n",
        "(x_train, _), (x_test, _) = keras.datasets.mnist.load_data()\n",
        "all_digits = np.concatenate([x_train, x_test]) # >>> As we do not need a test dataset for GANs\n",
        "all_digits = all_digits.astype(\"float32\") / 255.0\n",
        "all_digits = np.reshape(all_digits, (-1, 28, 28, 1))\n",
        "dataset = tf.data.Dataset.from_tensor_slices(all_digits)\n",
        "dataset = dataset.shuffle(buffer_size=1024).batch(batch_size)\n",
        "\n",
        "gan = GAN(discriminator=discriminator, generator=generator, latent_dim=latent_dim)\n",
        "gan.compile(\n",
        "    d_optimizer=keras.optimizers.Adam(learning_rate=0.0003),\n",
        "    g_optimizer=keras.optimizers.Adam(learning_rate=0.0003),\n",
        "    loss_fn=keras.losses.BinaryCrossentropy(from_logits=True),\n",
        ")\n",
        "\n",
        "# To limit the execution time, we only train on 100 batches. You can train on\n",
        "# the entire dataset. You will need about 20 epochs to get nice results.\n",
        "#gan.fit(dataset.take(100), epochs=1)\n",
        "gan.fit(dataset, epochs=20)"
      ],
      "execution_count": 8,
      "outputs": [
        {
          "output_type": "stream",
          "text": [
            "Epoch 1/20\n",
            "1094/1094 [==============================] - 34s 24ms/step - d_loss: 0.4873 - g_loss: 1.2677\n",
            "Epoch 2/20\n",
            "1094/1094 [==============================] - 27s 25ms/step - d_loss: 0.2283 - g_loss: 3.0202\n",
            "Epoch 3/20\n",
            "1094/1094 [==============================] - 28s 25ms/step - d_loss: 0.6273 - g_loss: 1.0579\n",
            "Epoch 4/20\n",
            "1094/1094 [==============================] - 28s 25ms/step - d_loss: 0.6611 - g_loss: 0.9043\n",
            "Epoch 5/20\n",
            "1094/1094 [==============================] - 27s 25ms/step - d_loss: 0.6509 - g_loss: 0.9120\n",
            "Epoch 6/20\n",
            "1094/1094 [==============================] - 28s 25ms/step - d_loss: 0.6254 - g_loss: 0.9631\n",
            "Epoch 7/20\n",
            "1094/1094 [==============================] - 28s 25ms/step - d_loss: 0.5927 - g_loss: 1.0198\n",
            "Epoch 8/20\n",
            "1094/1094 [==============================] - 28s 25ms/step - d_loss: 0.5781 - g_loss: 1.0509\n",
            "Epoch 9/20\n",
            "1094/1094 [==============================] - 28s 25ms/step - d_loss: 0.5624 - g_loss: 1.0739\n",
            "Epoch 10/20\n",
            "1094/1094 [==============================] - 28s 25ms/step - d_loss: 0.5554 - g_loss: 1.0864\n",
            "Epoch 11/20\n",
            "1094/1094 [==============================] - 27s 25ms/step - d_loss: 0.5526 - g_loss: 1.0922\n",
            "Epoch 12/20\n",
            "1094/1094 [==============================] - 27s 25ms/step - d_loss: 0.5533 - g_loss: 1.1068\n",
            "Epoch 13/20\n",
            "1094/1094 [==============================] - 27s 25ms/step - d_loss: 0.5601 - g_loss: 1.0761\n",
            "Epoch 14/20\n",
            "1094/1094 [==============================] - 27s 25ms/step - d_loss: 0.5717 - g_loss: 1.0604\n",
            "Epoch 15/20\n",
            "1094/1094 [==============================] - 27s 25ms/step - d_loss: 0.5813 - g_loss: 1.0454\n",
            "Epoch 16/20\n",
            "1094/1094 [==============================] - 27s 25ms/step - d_loss: 0.5919 - g_loss: 1.0263\n",
            "Epoch 17/20\n",
            "1094/1094 [==============================] - 27s 25ms/step - d_loss: 0.5997 - g_loss: 1.0093\n",
            "Epoch 18/20\n",
            "1094/1094 [==============================] - 27s 25ms/step - d_loss: 0.6063 - g_loss: 0.9994\n",
            "Epoch 19/20\n",
            "1094/1094 [==============================] - 27s 25ms/step - d_loss: 0.6101 - g_loss: 0.9898\n",
            "Epoch 20/20\n",
            "1094/1094 [==============================] - 27s 25ms/step - d_loss: 0.6136 - g_loss: 0.9779\n"
          ],
          "name": "stdout"
        },
        {
          "output_type": "execute_result",
          "data": {
            "text/plain": [
              "<tensorflow.python.keras.callbacks.History at 0x7f989e4b8f98>"
            ]
          },
          "metadata": {
            "tags": []
          },
          "execution_count": 8
        }
      ]
    },
    {
      "cell_type": "code",
      "metadata": {
        "id": "GF79b1ivhy6-",
        "outputId": "bee94b45-443f-4211-f17f-a3483ac8e9f7",
        "colab": {
          "base_uri": "https://localhost:8080/"
        }
      },
      "source": [
        "random_latent_vectors = tf.random.normal(shape=(1, latent_dim))\r\n",
        "img = gan.generator(random_latent_vectors)\r\n",
        "print(img.shape)"
      ],
      "execution_count": 9,
      "outputs": [
        {
          "output_type": "stream",
          "text": [
            "(1, 28, 28, 1)\n"
          ],
          "name": "stdout"
        }
      ]
    },
    {
      "cell_type": "code",
      "metadata": {
        "id": "da9cLy4mizme",
        "outputId": "dd110b04-0894-44b2-84a2-ceb0d5cf9d48",
        "colab": {
          "base_uri": "https://localhost:8080/"
        }
      },
      "source": [
        "img = np.reshape(img, newshape=(28, 28))\r\n",
        "print(img.shape)"
      ],
      "execution_count": 10,
      "outputs": [
        {
          "output_type": "stream",
          "text": [
            "(28, 28)\n"
          ],
          "name": "stdout"
        }
      ]
    },
    {
      "cell_type": "code",
      "metadata": {
        "id": "3sNUpk7GjVQ_",
        "outputId": "f3ffeea0-d1c9-4bf1-a466-0de9370bf48a",
        "colab": {
          "base_uri": "https://localhost:8080/",
          "height": 283
        }
      },
      "source": [
        "import matplotlib.pyplot as plt\r\n",
        "plt.imshow(img, cmap='gray_r')"
      ],
      "execution_count": 11,
      "outputs": [
        {
          "output_type": "execute_result",
          "data": {
            "text/plain": [
              "<matplotlib.image.AxesImage at 0x7f984217b5c0>"
            ]
          },
          "metadata": {
            "tags": []
          },
          "execution_count": 11
        },
        {
          "output_type": "display_data",
          "data": {
            "image/png": "[encoded data removed]",
            "text/plain": [
              "<Figure size 432x288 with 1 Axes>"
            ]
          },
          "metadata": {
            "tags": [],
            "needs_background": "light"
          }
        }
      ]
    },
    {
      "cell_type": "markdown",
      "metadata": {
        "id": "2ed211016c96"
      },
      "source": [
        "The ideas behind deep learning are simple, so why should their implementation be painful?"
      ]
    }
  ]
}