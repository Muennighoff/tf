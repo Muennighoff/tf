{
  "nbformat": 4,
  "nbformat_minor": 0,
  "metadata": {
    "colab": {
      "name": "distributed_training.ipynb",
      "provenance": [],
      "collapsed_sections": [
        "Tce3stUlHN0L"
      ],
      "toc_visible": true
    },
    "kernelspec": {
      "display_name": "Python 3",
      "name": "python3"
    },
    "accelerator": "TPU"
  },
  "cells": [
    {
      "cell_type": "markdown",
      "metadata": {
        "id": "Tce3stUlHN0L"
      },
      "source": [
        "##### Copyright 2018 The TensorFlow Authors.\n"
      ]
    },
    {
      "cell_type": "code",
      "metadata": {
        "cellView": "form",
        "id": "tuOe1ymfHZPu"
      },
      "source": [
        "#@title Licensed under the Apache License, Version 2.0 (the \"License\");\n",
        "# you may not use this file except in compliance with the License.\n",
        "# You may obtain a copy of the License at\n",
        "#\n",
        "# https://www.apache.org/licenses/LICENSE-2.0\n",
        "#\n",
        "# Unless required by applicable law or agreed to in writing, software\n",
        "# distributed under the License is distributed on an \"AS IS\" BASIS,\n",
        "# WITHOUT WARRANTIES OR CONDITIONS OF ANY KIND, either express or implied.\n",
        "# See the License for the specific language governing permissions and\n",
        "# limitations under the License."
      ],
      "execution_count": 2,
      "outputs": []
    },
    {
      "cell_type": "markdown",
      "metadata": {
        "id": "MfBg1C5NB3X0"
      },
      "source": [
        "# Distributed training with TensorFlow"
      ]
    },
    {
      "cell_type": "markdown",
      "metadata": {
        "id": "r6P32iYYV27b"
      },
      "source": [
        "<table class=\"tfo-notebook-buttons\" align=\"left\">\n",
        "  <td>\n",
        "    <a target=\"_blank\" href=\"https://www.tensorflow.org/guide/distributed_training\"><img src=\"https://www.tensorflow.org/images/tf_logo_32px.png\" />View on TensorFlow.org</a>\n",
        "  </td>\n",
        "  <td>\n",
        "    <a target=\"_blank\" href=\"https://colab.research.google.com/github/tensorflow/docs/blob/master/site/en/guide/distributed_training.ipynb\"><img src=\"https://www.tensorflow.org/images/colab_logo_32px.png\" />Run in Google Colab</a>\n",
        "  </td>\n",
        "  <td>\n",
        "    <a target=\"_blank\" href=\"https://github.com/tensorflow/docs/blob/master/site/en/guide/distributed_training.ipynb\"><img src=\"https://www.tensorflow.org/images/GitHub-Mark-32px.png\" />View source on GitHub</a>\n",
        "  </td>\n",
        "  <td>\n",
        "    <a href=\"https://storage.googleapis.com/tensorflow_docs/docs/site/en/guide/distributed_training.ipynb\"><img src=\"https://www.tensorflow.org/images/download_logo_32px.png\" />Download notebook</a>\n",
        "  </td>\n",
        "</table>"
      ]
    },
    {
      "cell_type": "markdown",
      "metadata": {
        "id": "xHxb-dlhMIzW"
      },
      "source": [
        "## Overview\n",
        "\n",
        "`tf.distribute.Strategy` is a TensorFlow API to distribute training \n",
        "across multiple GPUs, multiple machines or TPUs. Using this API, you can distribute your existing models and training code with minimal code changes.\n",
        "\n",
        "`tf.distribute.Strategy` has been designed with these key goals in mind:\n",
        "\n",
        "* Easy to use and support multiple user segments, including researchers, ML engineers, etc.\n",
        "* Provide good performance out of the box.\n",
        "* Easy switching between strategies.\n",
        "\n",
        "`tf.distribute.Strategy` can be used with a high-level API like [Keras](https://www.tensorflow.org/guide/keras), and can also be used to distribute custom training loops (and, in general, any computation using TensorFlow).\n",
        "\n",
        "In TensorFlow 2.x, you can execute your programs eagerly, or in a graph using [`tf.function`](function.ipynb). `tf.distribute.Strategy` intends to support both these modes of execution, but works best with `tf.function`. Eager mode is only recommended for debugging purpose and not supported for `TPUStrategy`. Although training is the focus of this guide, this API can also be used for distributing evaluation and prediction on different platforms.\n",
        "\n",
        "*> Better with static comp. graphs*\n",
        "\n",
        "You can use `tf.distribute.Strategy` with very few changes to your code, because we have changed the underlying components of TensorFlow to become strategy-aware. This includes variables, layers, models, optimizers, metrics, summaries, and checkpoints.\n",
        "\n",
        "In this guide, we explain various types of strategies and how you can use them in different situations. To learn how to debug performance issues, see the [Optimize TensorFlow GPU Performance](gpu_performance_analysis.md) guide.\n",
        "\n",
        "Note: For a deeper understanding of the concepts, please watch [this deep-dive presentation](https://youtu.be/jKV53r9-H14). This is especially recommended if you plan to write your own training loop.\n"
      ]
    },
    {
      "cell_type": "code",
      "metadata": {
        "id": "EVOZFbNgXghB"
      },
      "source": [
        "# Import TensorFlow\n",
        "import tensorflow as tf"
      ],
      "execution_count": 3,
      "outputs": []
    },
    {
      "cell_type": "markdown",
      "metadata": {
        "id": "eQ1QESxxEbCh"
      },
      "source": [
        "## Types of strategies\n",
        "`tf.distribute.Strategy` intends to cover a number of use cases along different axes. Some of these combinations are currently supported and others will be added in the future. Some of these axes are:\n",
        "\n",
        "* *Synchronous vs asynchronous training:* These are two common ways of distributing training with data parallelism. In sync training, all workers train over different slices of input data in sync, and aggregating gradients at each step. In async training, all workers are independently training over the input data and updating variables asynchronously. Typically sync training is supported via all-reduce and async through parameter server architecture.\n",
        "* *Hardware platform:* You may want to scale your training onto multiple GPUs on one machine, or multiple machines in a network (with 0 or more GPUs each), or on Cloud TPUs.\n",
        "\n",
        "In order to support these use cases, there are six strategies available. The next section explains which of these are supported in which scenarios in TF. Here is a quick overview:\n",
        "\n",
        "| Training API          \t| MirroredStrategy  \t| TPUStrategy         \t| MultiWorkerMirroredStrategy     \t| CentralStorageStrategy          \t| ParameterServerStrategy  \t|\n",
        "|:-----------------------\t|:-------------------\t|:---------------------\t|:---------------------------------\t|:---------------------------------\t|:--------------------------\t|\n",
        "| **Keras API**             \t| Supported         \t|  Supported \t| Experimental support \t| Experimental support \t| Supported planned post 2.3 \t|\n",
        "| **Custom training loop**  \t| Supported \t| Supported   \t| Experimental support            \t| Experimental support           \t| Supported planned post 2.3         \t|\n",
        "| **Estimator API**         \t| Limited Support         \t| Not supported           \t| Limited Support                       \t| Limited Support                       \t| Limited Support                \t|\n",
        "\n",
        "Note: [Experimental support](https://www.tensorflow.org/guide/versions#what_is_not_covered) means the APIs are not covered by any compatibilities guarantees.\n",
        "\n",
        "Note: Estimator support is limited. Basic training and evaluation are experimental, and advanced features—such as scaffold—are not implemented. We recommend using Keras or custom training loops if a use case is not covered."
      ]
    },
    {
      "cell_type": "markdown",
      "metadata": {
        "id": "swAo-DKrmTAr"
      },
      "source": [
        "Estimator & Keras - both high level abstractions.\r\n",
        "\r\n",
        "![image.png](data:image/png;base64,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)"
      ]
    },
    {
      "cell_type": "markdown",
      "metadata": {
        "id": "DoQKKK8dtfg6"
      },
      "source": [
        "### MirroredStrategy\n",
        "`tf.distribute.MirroredStrategy` supports synchronous distributed training on multiple GPUs on one machine. It creates one replica per GPU device. Each variable in the model is mirrored across all the replicas. Together, these variables form a single conceptual variable called `MirroredVariable`. These variables are kept in sync with each other by applying identical updates.\n",
        "\n",
        "Efficient all-reduce algorithms are used to communicate the variable updates across the devices.\n",
        "All-reduce aggregates tensors across all the devices by adding them up, and makes them available on each device.\n",
        "It’s a fused algorithm that is very efficient and can reduce the overhead of synchronization significantly. There are many all-reduce algorithms and implementations available, depending on the type of communication available between devices. By default, it uses NVIDIA NCCL as the all-reduce implementation. You can choose from a few other options, or write your own.\n",
        "\n",
        "Here is the simplest way of creating `MirroredStrategy`:\n"
      ]
    },
    {
      "cell_type": "code",
      "metadata": {
        "id": "9Z4FMAY9ADxK",
        "outputId": "e252b4fd-b4d7-4b86-f398-1e851b2e945f",
        "colab": {
          "base_uri": "https://localhost:8080/"
        }
      },
      "source": [
        "mirrored_strategy = tf.distribute.MirroredStrategy()"
      ],
      "execution_count": 4,
      "outputs": [
        {
          "output_type": "stream",
          "text": [
            "WARNING:tensorflow:There are non-GPU devices in `tf.distribute.Strategy`, not using nccl allreduce.\n",
            "INFO:tensorflow:Using MirroredStrategy with devices ('/job:localhost/replica:0/task:0/device:CPU:0',)\n"
          ],
          "name": "stdout"
        }
      ]
    },
    {
      "cell_type": "markdown",
      "metadata": {
        "id": "wldY4aFCAH4r"
      },
      "source": [
        "This will create a `MirroredStrategy` instance which will use all the GPUs that are visible to TensorFlow, and use NCCL as the cross device communication.\n",
        "\n",
        "If you wish to use only some of the GPUs on your machine, you can do so like this:"
      ]
    },
    {
      "cell_type": "code",
      "metadata": {
        "id": "nbGleskCACv_",
        "outputId": "61bd4d27-c30f-483a-aec7-8f5f8fe59541",
        "colab": {
          "base_uri": "https://localhost:8080/"
        }
      },
      "source": [
        "mirrored_strategy = tf.distribute.MirroredStrategy(devices=[\"/gpu:0\", \"/gpu:1\"])"
      ],
      "execution_count": 5,
      "outputs": [
        {
          "output_type": "stream",
          "text": [
            "WARNING:tensorflow:Some requested devices in `tf.distribute.Strategy` are not visible to TensorFlow: /job:localhost/replica:0/task:0/device:GPU:0,/job:localhost/replica:0/task:0/device:GPU:1\n",
            "INFO:tensorflow:Using MirroredStrategy with devices ('/job:localhost/replica:0/task:0/device:GPU:0', '/job:localhost/replica:0/task:0/device:GPU:1')\n"
          ],
          "name": "stdout"
        }
      ]
    },
    {
      "cell_type": "markdown",
      "metadata": {
        "id": "8-KDnrJLAhav"
      },
      "source": [
        "If you wish to override the cross device communication, you can do so using the `cross_device_ops` argument by supplying an instance of `tf.distribute.CrossDeviceOps`. Currently,  `tf.distribute.HierarchicalCopyAllReduce` and `tf.distribute.ReductionToOneDevice` are two options other than `tf.distribute.NcclAllReduce` which is the default."
      ]
    },
    {
      "cell_type": "code",
      "metadata": {
        "id": "6-xIOIpgBItn",
        "outputId": "f16029bc-c36d-4631-d5a1-766b687ccf1e",
        "colab": {
          "base_uri": "https://localhost:8080/"
        }
      },
      "source": [
        "mirrored_strategy = tf.distribute.MirroredStrategy(\n",
        "    cross_device_ops=tf.distribute.HierarchicalCopyAllReduce())"
      ],
      "execution_count": 6,
      "outputs": [
        {
          "output_type": "stream",
          "text": [
            "INFO:tensorflow:Using MirroredStrategy with devices ('/job:localhost/replica:0/task:0/device:CPU:0',)\n"
          ],
          "name": "stdout"
        }
      ]
    },
    {
      "cell_type": "markdown",
      "metadata": {
        "id": "kPEBCMzsGaO5"
      },
      "source": [
        "### TPUStrategy\n",
        "`tf.distribute.TPUStrategy` lets you run your TensorFlow training on Tensor Processing Units (TPUs). TPUs are Google's specialized ASICs designed to dramatically accelerate machine learning workloads. They are available on Google Colab, the [TensorFlow Research Cloud](https://www.tensorflow.org/tfrc) and [Cloud TPU](https://cloud.google.com/tpu).\n",
        "\n",
        "In terms of distributed training architecture, `TPUStrategy` is the same `MirroredStrategy` - it implements synchronous distributed training. TPUs provide their own implementation of efficient all-reduce and other collective operations across multiple TPU cores, which are used in `TPUStrategy`.\n",
        "\n",
        "Here is how you would instantiate `TPUStrategy`:\n",
        "\n",
        "Note: To run this code in Colab, you should select TPU as the Colab runtime. See [TensorFlow TPU Guide](https://www.tensorflow.org/guide/tpu).\n",
        "\n",
        "```\n",
        "cluster_resolver = tf.distribute.cluster_resolver.TPUClusterResolver(\n",
        "    tpu=tpu_address)\n",
        "tf.config.experimental_connect_to_cluster(cluster_resolver)\n",
        "tf.tpu.experimental.initialize_tpu_system(cluster_resolver)\n",
        "tpu_strategy = tf.distribute.TPUStrategy(cluster_resolver)\n",
        "```\n",
        "\n",
        "\n",
        "The `TPUClusterResolver` instance helps locate the TPUs. In Colab, you don't need to specify any arguments to it.\n",
        "\n",
        "If you want to use this for Cloud TPUs:\n",
        "- You must specify the name of your TPU resource in the `tpu` argument.\n",
        "- You must initialize the tpu system explicitly at the *start* of the program. This is required before TPUs can be used for computation. Initializing the tpu system also wipes out the TPU memory, so it's important to complete this step first in order to avoid losing state."
      ]
    },
    {
      "cell_type": "markdown",
      "metadata": {
        "id": "8Xc3gyo0Bejd"
      },
      "source": [
        "### MultiWorkerMirroredStrategy\n",
        "\n",
        "`tf.distribute.MultiWorkerMirroredStrategy` is very similar to `MirroredStrategy`. It implements synchronous distributed training across multiple workers, each with potentially multiple GPUs. Similar to `tf.distribute.MirroredStrategy`, it creates copies of all variables in the model on each device across all workers.\n",
        "\n",
        "Here is the simplest way of creating `MultiWorkerMirroredStrategy`:"
      ]
    },
    {
      "cell_type": "code",
      "metadata": {
        "id": "m3a_6ebbEjre",
        "outputId": "8f7bfdeb-8377-4641-b436-3d963a55b889",
        "colab": {
          "base_uri": "https://localhost:8080/"
        }
      },
      "source": [
        "strategy = tf.distribute.MultiWorkerMirroredStrategy()"
      ],
      "execution_count": 7,
      "outputs": [
        {
          "output_type": "stream",
          "text": [
            "WARNING:tensorflow:Collective ops is not configured at program startup. Some performance features may not be enabled.\n",
            "INFO:tensorflow:Using MirroredStrategy with devices ('/device:CPU:0',)\n",
            "INFO:tensorflow:Single-worker MultiWorkerMirroredStrategy with local_devices = ('/device:CPU:0',), communication = CommunicationImplementation.AUTO\n"
          ],
          "name": "stdout"
        }
      ]
    },
    {
      "cell_type": "markdown",
      "metadata": {
        "id": "bt94JBvhEr4s"
      },
      "source": [
        "`MultiWorkerMirroredStrategy` has two implementations for cross-device communications.  `CommunicationImplementation.RING` is RPC-based and supports both CPU and GPU.  `CommunicationImplementation.NCCL` uses [Nvidia's NCCL](https://developer.nvidia.com/nccl) and provides the state of art performance on GPU, but it doesn't support CPU.  `CollectiveCommunication.AUTO` defers the choice to Tensorflow.   You can specify them in the following way:\n"
      ]
    },
    {
      "cell_type": "code",
      "metadata": {
        "id": "QGX_QAEtFQSv",
        "outputId": "cd4c7d9c-009e-479e-9310-ac222313bbed",
        "colab": {
          "base_uri": "https://localhost:8080/"
        }
      },
      "source": [
        "communication_options = tf.distribute.experimental.CommunicationOptions(\n",
        "    implementation=tf.distribute.experimental.CommunicationImplementation.NCCL)\n",
        "strategy = tf.distribute.MultiWorkerMirroredStrategy(\n",
        "    communication_options=communication_options)"
      ],
      "execution_count": 8,
      "outputs": [
        {
          "output_type": "stream",
          "text": [
            "WARNING:tensorflow:Collective ops is not configured at program startup. Some performance features may not be enabled.\n",
            "INFO:tensorflow:Using MirroredStrategy with devices ('/device:CPU:0',)\n",
            "WARNING:tensorflow:Enabled NCCL communication but no GPUs detected/specified.\n",
            "INFO:tensorflow:Single-worker MultiWorkerMirroredStrategy with local_devices = ('/device:CPU:0',), communication = CommunicationImplementation.NCCL\n"
          ],
          "name": "stdout"
        }
      ]
    },
    {
      "cell_type": "markdown",
      "metadata": {
        "id": "0JiImlw3F77E"
      },
      "source": [
        "One of the key differences to get multi worker training going, as compared to multi-GPU training, is the multi-worker setup. The `TF_CONFIG` environment variable is the standard way in TensorFlow to specify the cluster configuration to each worker that is part of the cluster. Learn more about [setting up TF_CONFIG](#TF_CONFIG)."
      ]
    },
    {
      "cell_type": "markdown",
      "metadata": {
        "id": "3ZLBhaP9NUNr"
      },
      "source": [
        "### ParameterServerStrategy\n",
        "Parameter server training is a common data-parallel method to scale up model training on multiple machines. A parameter server training cluster consists of workers and parameter servers. Variables are created on parameter servers and they are read and updated by workers in each step. Please see the [parameter server training tutorial](../tutorials/distribute/parameter_server_training.ipynb) for details.\n",
        "\n",
        "TensorFlow 2 parameter server training uses a central-coordinator based architecture via the `tf.distribute.experimental.coordinator.ClusterCoordinator` class. \n",
        "\n",
        "In this implementation the `worker` and `parameter server` tasks run `tf.distribute.Server`s that listen for tasks from the coordinator. The coordinator creates resources, dispatches training tasks, writes checkpoints, and deals with task failures.\n",
        "\n",
        "In the programming running on the coordinator, you will use a `ParameterServerStrategy` object to define a training step and use a `ClusterCoordinator` to dispatch training steps to remote workers. Here is the simplest way to create them:\n",
        "\n",
        "```Python\n",
        "strategy = tf.distribute.experimental.ParameterServerStrategy(\n",
        "    tf.distribute.cluster_resolver.TFConfigClusterResolver(),\n",
        "    variable_partitioner=variable_partitioner)\n",
        "coordinator = tf.distribute.experimental.coordinator.ClusterCoordinator(\n",
        "    strategy)\n",
        "```\n",
        "\n",
        "Note you will need to configure TF_CONFIG environment variable if you use `TFConfigClusterResolver`. It is similar to  [TF_CONFIG](#TF_CONFIG) in `MultiWorkerMirroredStrategy` but has additional caveats.\n",
        "\n",
        "In TF 1, `ParameterServerStrategy` is available only with estimator via `tf.compat.v1.distribute.experimental.ParameterServerStrategy` symbol."
      ]
    },
    {
      "cell_type": "markdown",
      "metadata": {
        "id": "E20tG21LFfv1"
      },
      "source": [
        "Note: This strategy is [`experimental`](https://www.tensorflow.org/guide/versions#what_is_not_covered) as it is currently under active development."
      ]
    },
    {
      "cell_type": "markdown",
      "metadata": {
        "id": "45H0Wa8WKI8z"
      },
      "source": [
        "### CentralStorageStrategy\n",
        "`tf.distribute.experimental.CentralStorageStrategy` does synchronous training as well. Variables are not mirrored, instead they are placed on the CPU and operations are replicated across all local GPUs. If there is only one GPU, all variables and operations will be placed on that GPU.\n",
        "\n",
        "Create an instance of `CentralStorageStrategy` by:\n"
      ]
    },
    {
      "cell_type": "code",
      "metadata": {
        "id": "rtjZOyaoMWrP",
        "outputId": "c5392520-d4cc-416c-a0c2-2d41fdb4e821",
        "colab": {
          "base_uri": "https://localhost:8080/"
        }
      },
      "source": [
        "central_storage_strategy = tf.distribute.experimental.CentralStorageStrategy()"
      ],
      "execution_count": 9,
      "outputs": [
        {
          "output_type": "stream",
          "text": [
            "INFO:tensorflow:ParameterServerStrategy (CentralStorageStrategy if you are using a single machine) with compute_devices = ['/job:localhost/replica:0/task:0/device:CPU:0'], variable_device = '/job:localhost/replica:0/task:0/device:CPU:0'\n"
          ],
          "name": "stdout"
        }
      ]
    },
    {
      "cell_type": "markdown",
      "metadata": {
        "id": "KY1nJHNkMl7b"
      },
      "source": [
        "This will create a `CentralStorageStrategy` instance which will use all visible GPUs and CPU. Update to variables on replicas will be aggregated before being applied to variables."
      ]
    },
    {
      "cell_type": "markdown",
      "metadata": {
        "id": "aAFycYUiNCUb"
      },
      "source": [
        "Note: This strategy is [`experimental`](https://www.tensorflow.org/guide/versions#what_is_not_covered) as it is currently a work in progress. "
      ]
    },
    {
      "cell_type": "markdown",
      "metadata": {
        "id": "t2XUdmIxKljq"
      },
      "source": [
        "### Other strategies\n",
        "\n",
        "In addition to the above strategies, there are two other strategies which might be useful for prototyping and debugging when using `tf.distribute` APIs."
      ]
    },
    {
      "cell_type": "markdown",
      "metadata": {
        "id": "UD5I1beTpc7a"
      },
      "source": [
        "#### Default Strategy\n",
        "\n",
        "Default strategy is a distribution strategy which is present when no explicit distribution strategy is in scope. It implements the `tf.distribute.Strategy` interface but is a pass-through and provides no actual distribution. For instance, `strategy.run(fn)` will simply call `fn`. Code written using this strategy should behave exactly as code written without any strategy. You can think of it as a \"no-op\" strategy.\n",
        "\n",
        "Default strategy is a singleton - and one cannot create more instances of it. It can be obtained using `tf.distribute.get_strategy()` outside any explicit strategy's scope (the same API that can be used to get the current strategy inside an explicit strategy's scope). "
      ]
    },
    {
      "cell_type": "code",
      "metadata": {
        "id": "ibHleFOOmPn9"
      },
      "source": [
        "default_strategy = tf.distribute.get_strategy()"
      ],
      "execution_count": 10,
      "outputs": []
    },
    {
      "cell_type": "markdown",
      "metadata": {
        "id": "EkxPl_5ImLzc"
      },
      "source": [
        "This strategy serves two main purposes:\n",
        "\n",
        "* It allows writing distribution aware library code unconditionally. For example, in `tf.optimizer`s can use `tf.distribute.get_strategy()` and use that strategy for reducing gradients - it will always return a strategy object on which we can call the reduce API.\n"
      ]
    },
    {
      "cell_type": "code",
      "metadata": {
        "id": "WECeRzUdT6bU",
        "outputId": "82094921-6f6d-4352-a564-ce8ed4a608e6",
        "colab": {
          "base_uri": "https://localhost:8080/"
        }
      },
      "source": [
        "# In optimizer or other library code\n",
        "# Get currently active strategy\n",
        "strategy = tf.distribute.get_strategy()\n",
        "strategy.reduce(\"SUM\", 1., axis=None)  # reduce some values"
      ],
      "execution_count": 12,
      "outputs": [
        {
          "output_type": "execute_result",
          "data": {
            "text/plain": [
              "1.0"
            ]
          },
          "metadata": {
            "tags": []
          },
          "execution_count": 12
        }
      ]
    },
    {
      "cell_type": "markdown",
      "metadata": {
        "id": "JURbH-pUT51B"
      },
      "source": [
        "* Similar to library code, it can be used to write end users' programs to work with and without distribution strategy, without requiring conditional logic. A sample code snippet illustrating this:"
      ]
    },
    {
      "cell_type": "code",
      "metadata": {
        "id": "O4Vmae5jmSE6",
        "outputId": "1b69599b-bc66-4235-cff8-0e167525ef89",
        "colab": {
          "base_uri": "https://localhost:8080/"
        }
      },
      "source": [
        "if tf.config.list_physical_devices('gpu'):\n",
        "  strategy = tf.distribute.MirroredStrategy()\n",
        "else:  # use default strategy\n",
        "  strategy = tf.distribute.get_strategy() \n",
        "\n",
        "with strategy.scope():\n",
        "  # do something interesting\n",
        "  print(tf.Variable(1.))"
      ],
      "execution_count": 13,
      "outputs": [
        {
          "output_type": "stream",
          "text": [
            "<tf.Variable 'Variable:0' shape=() dtype=float32, numpy=1.0>\n"
          ],
          "name": "stdout"
        }
      ]
    },
    {
      "cell_type": "markdown",
      "metadata": {
        "id": "kTzsqN4lmJ0d"
      },
      "source": [
        "#### OneDeviceStrategy\n",
        "`tf.distribute.OneDeviceStrategy` is a strategy to place all variables and computation on a single specified device. \n",
        "\n",
        "```\n",
        "strategy = tf.distribute.OneDeviceStrategy(device=\"/gpu:0\")\n",
        "```\n",
        "\n",
        "This strategy is distinct from the default strategy in a number of ways. In default strategy, the variable placement logic remains unchanged when compared to running TensorFlow without any distribution strategy. But when using `OneDeviceStrategy`, all variables created in its scope are explicitly placed on the specified device. Moreover, any functions called via `OneDeviceStrategy.run` will also be placed on the specified device. \n",
        "\n",
        "Input distributed through this strategy will be prefetched to the specified device. In default strategy, there is no input distribution.\n",
        "\n",
        "Similar to the default strategy, this strategy could also be used to test your code before switching to other strategies which actually distribute to multiple devices/machines. This will exercise the distribution strategy machinery somewhat more than default strategy, but not to the full extent as using `MirroredStrategy` or `TPUStrategy` etc. If you want code that behaves as if no strategy, then use default strategy."
      ]
    },
    {
      "cell_type": "markdown",
      "metadata": {
        "id": "hQv1lm9UPDFy"
      },
      "source": [
        "So far you've seen the different strategies available and how you can instantiate them. The next few sections show the different ways in which you can use them to distribute your training. "
      ]
    },
    {
      "cell_type": "markdown",
      "metadata": {
        "id": "_mcuy3UhPcen"
      },
      "source": [
        "## Using `tf.distribute.Strategy` with `tf.keras.Model.fit`\n",
        "\n",
        "`tf.distribute.Strategy` is integrated into `tf.keras` which is TensorFlow's implementation of the\n",
        "[Keras API specification](https://keras.io). `tf.keras`  is a high-level API to build and train models. By integrating into `tf.keras` backend, we've made it seamless for you to distribute your training written in the Keras training framework using `model.fit`.\n",
        "\n",
        "Here's what you need to change in your code:\n",
        "\n",
        "1. Create an instance of the appropriate `tf.distribute.Strategy`.\n",
        "2. Move the creation of Keras model, optimizer and metrics inside `strategy.scope`.\n",
        "\n",
        "We support all types of Keras models - sequential, functional and subclassed.\n",
        "\n",
        "Here is a snippet of code to do this for a very simple Keras model with one dense layer:"
      ]
    },
    {
      "cell_type": "code",
      "metadata": {
        "id": "gbbcpzRnPZ6V",
        "outputId": "e754db91-ad36-480f-a1e4-ab02f997e983",
        "colab": {
          "base_uri": "https://localhost:8080/"
        }
      },
      "source": [
        "mirrored_strategy = tf.distribute.MirroredStrategy()\n",
        "\n",
        "with mirrored_strategy.scope():\n",
        "  model = tf.keras.Sequential([tf.keras.layers.Dense(1, input_shape=(1,))])\n",
        "\n",
        "model.compile(loss='mse', optimizer='sgd')"
      ],
      "execution_count": 14,
      "outputs": [
        {
          "output_type": "stream",
          "text": [
            "WARNING:tensorflow:There are non-GPU devices in `tf.distribute.Strategy`, not using nccl allreduce.\n",
            "INFO:tensorflow:Using MirroredStrategy with devices ('/job:localhost/replica:0/task:0/device:CPU:0',)\n"
          ],
          "name": "stdout"
        }
      ]
    },
    {
      "cell_type": "markdown",
      "metadata": {
        "id": "773EOxCRVlTg"
      },
      "source": [
        "This example usees `MirroredStrategy` so you can run this on a machine with multiple GPUs. `strategy.scope()` indicates to Keras which strategy to use to distribute the training. Creating models/optimizers/metrics inside this scope allows us to create distributed variables instead of regular variables. Once this is set up, you can fit your model like you would normally. `MirroredStrategy` takes care of replicating the model's training on the available GPUs, aggregating gradients, and more."
      ]
    },
    {
      "cell_type": "code",
      "metadata": {
        "id": "ZMmxEFRTEjH5",
        "outputId": "0be5634e-6c38-4781-efcb-c918b862bdae",
        "colab": {
          "base_uri": "https://localhost:8080/"
        }
      },
      "source": [
        "dataset = tf.data.Dataset.from_tensors(([1.], [1.])).repeat(100).batch(10)\n",
        "model.fit(dataset, epochs=2)\n",
        "model.evaluate(dataset)"
      ],
      "execution_count": 15,
      "outputs": [
        {
          "output_type": "stream",
          "text": [
            "Epoch 1/2\n",
            "10/10 [==============================] - 3s 2ms/step - loss: 2.8478\n",
            "Epoch 2/2\n",
            "10/10 [==============================] - 0s 2ms/step - loss: 1.2587\n",
            "10/10 [==============================] - 1s 2ms/step - loss: 0.6674\n"
          ],
          "name": "stdout"
        },
        {
          "output_type": "execute_result",
          "data": {
            "text/plain": [
              "0.6673867106437683"
            ]
          },
          "metadata": {
            "tags": []
          },
          "execution_count": 15
        }
      ]
    },
    {
      "cell_type": "markdown",
      "metadata": {
        "id": "nofTLwyXWHK8"
      },
      "source": [
        "Here a `tf.data.Dataset` provides the training and eval input. You can also use numpy arrays:"
      ]
    },
    {
      "cell_type": "code",
      "metadata": {
        "id": "Lqgd9SdxW5OW",
        "outputId": "f1f091ff-0bf7-4299-e64e-331ede552ec4",
        "colab": {
          "base_uri": "https://localhost:8080/"
        }
      },
      "source": [
        "import numpy as np\n",
        "inputs, targets = np.ones((100, 1)), np.ones((100, 1))\n",
        "model.fit(inputs, targets, epochs=2, batch_size=10)"
      ],
      "execution_count": 16,
      "outputs": [
        {
          "output_type": "stream",
          "text": [
            "Epoch 1/2\n",
            "10/10 [==============================] - 1s 2ms/step - loss: 0.4750\n",
            "Epoch 2/2\n",
            "10/10 [==============================] - 0s 2ms/step - loss: 0.2100\n"
          ],
          "name": "stdout"
        },
        {
          "output_type": "execute_result",
          "data": {
            "text/plain": [
              "<tensorflow.python.keras.callbacks.History at 0x7f9e4e756128>"
            ]
          },
          "metadata": {
            "tags": []
          },
          "execution_count": 16
        }
      ]
    },
    {
      "cell_type": "markdown",
      "metadata": {
        "id": "IKqaj7QwX0Zb"
      },
      "source": [
        "In both cases (dataset or numpy), each batch of the given input is divided equally among the multiple replicas. For instance, if using `MirroredStrategy` with 2 GPUs, each batch of size 10 will get divided among the 2 GPUs, with each receiving 5 input examples in each step. Each epoch will then train faster as you add more GPUs. Typically, you would want to increase your batch size as you add more accelerators so as to make effective use of the extra computing power. You will also need to re-tune your learning rate, depending on the model. You can use `strategy.num_replicas_in_sync` to get the number of replicas."
      ]
    },
    {
      "cell_type": "code",
      "metadata": {
        "id": "quNNTytWdGBf"
      },
      "source": [
        "# Compute global batch size using number of replicas.\n",
        "BATCH_SIZE_PER_REPLICA = 5\n",
        "global_batch_size = (BATCH_SIZE_PER_REPLICA *\n",
        "                     mirrored_strategy.num_replicas_in_sync)\n",
        "dataset = tf.data.Dataset.from_tensors(([1.], [1.])).repeat(100)\n",
        "dataset = dataset.batch(global_batch_size)\n",
        "\n",
        "LEARNING_RATES_BY_BATCH_SIZE = {5: 0.1, 10: 0.15}\n",
        "learning_rate = LEARNING_RATES_BY_BATCH_SIZE[global_batch_size]"
      ],
      "execution_count": null,
      "outputs": []
    },
    {
      "cell_type": "markdown",
      "metadata": {
        "id": "z1Muy0gDZwO5"
      },
      "source": [
        "### What's supported now?\n",
        "\n",
        "\n",
        "| Training API \t| MirroredStrategy  \t| TPUStrategy         \t| MultiWorkerMirroredStrategy     \t| ParameterServerStrategy          \t| CentralStorageStrategy \t|\n",
        "|----------------\t|---------------------\t|-----------------------\t|-----------------------------------\t|-----------------------------------\t|---------------------------\t|\n",
        "| Keras APIs   \t| Supported \t| Supported \t| Experimental support \t| Experimental support \t| Experimental support   \t|\n",
        "\n",
        "### Examples and Tutorials\n",
        "\n",
        "Here is a list of tutorials and examples that illustrate the above integration end to end with Keras:\n",
        "\n",
        "1. [Tutorial](https://www.tensorflow.org/tutorials/distribute/keras) to train MNIST with `MirroredStrategy`.\n",
        "2. [Tutorial](https://www.tensorflow.org/tutorials/distribute/multi_worker_with_keras) to train MNIST using `MultiWorkerMirroredStrategy`.\n",
        "3. [Guide](https://www.tensorflow.org/guide/tpu#train_a_model_using_keras_high_level_apis) on training MNIST using `TPUStrategy`.\n",
        "4. [Tutorial](https://www.tensorflow.org/tutorials/distribute/parameter_server_training) for parameter server training in TensorFlow 2 with `ParameterServerStrategy`.\n",
        "5. TensorFlow Model Garden [repository](https://github.com/tensorflow/models/tree/master/official) containing collections of state-of-the-art models implemented using various strategies."
      ]
    },
    {
      "cell_type": "markdown",
      "metadata": {
        "id": "IlYVC0goepdk"
      },
      "source": [
        "## Using `tf.distribute.Strategy` with custom training loops\n",
        "As you've seen, using `tf.distribute.Strategy` with Keras `model.fit` requires changing only a couple lines of your code. With a little more effort, you can also use `tf.distribute.Strategy` with custom training loops.\n",
        "\n",
        "If you need more flexibility and control over your training loops than is possible with Estimator or Keras, you can write custom training loops. For instance, when using a GAN, you may want to take a different number of generator or discriminator steps each round. Similarly, the high level frameworks are not very suitable for Reinforcement Learning training.\n",
        "\n",
        "The `tf.distribute.Strategy` classes provide a core set of methods through to support custom training loops. Using these may require minor restructuring of the code initially, but once that is done, you should be able to switch between GPUs, TPUs, and multiple machines simply by changing the strategy instance.\n",
        "\n",
        "Here we will show a brief snippet illustrating this use case for a simple training example using the same Keras model as before.\n"
      ]
    },
    {
      "cell_type": "markdown",
      "metadata": {
        "id": "XNHvSY32nVBi"
      },
      "source": [
        "First, create the model and optimizer inside the strategy's scope. This ensures that any variables created with the model and optimizer are mirrored variables."
      ]
    },
    {
      "cell_type": "code",
      "metadata": {
        "id": "W-3Bn-CaiPKD"
      },
      "source": [
        "with mirrored_strategy.scope():\n",
        "  model = tf.keras.Sequential([tf.keras.layers.Dense(1, input_shape=(1,))])\n",
        "  optimizer = tf.keras.optimizers.SGD()"
      ],
      "execution_count": null,
      "outputs": []
    },
    {
      "cell_type": "markdown",
      "metadata": {
        "id": "mYkAyPeYnlXk"
      },
      "source": [
        "Next, create the input dataset and call `tf.distribute.Strategy.experimental_distribute_dataset` to distribute the dataset based on the strategy."
      ]
    },
    {
      "cell_type": "code",
      "metadata": {
        "id": "94BkvkLInkKd"
      },
      "source": [
        "dataset = tf.data.Dataset.from_tensors(([1.], [1.])).repeat(100).batch(\n",
        "    global_batch_size)\n",
        "dist_dataset = mirrored_strategy.experimental_distribute_dataset(dataset)"
      ],
      "execution_count": null,
      "outputs": []
    },
    {
      "cell_type": "markdown",
      "metadata": {
        "id": "grzmTlSvn2j8"
      },
      "source": [
        "Then, define one step of the training. Use `tf.GradientTape` to compute gradients and optimizer to apply those gradients to update our model's variables. To distribute this training step, put it in a function `train_step` and pass it to `tf.distrbute.Strategy.run` along with the dataset inputs you got from the `dist_dataset` created before:"
      ]
    },
    {
      "cell_type": "code",
      "metadata": {
        "id": "NJxL5YrVniDe"
      },
      "source": [
        "loss_object = tf.keras.losses.BinaryCrossentropy(\n",
        "  from_logits=True,\n",
        "  reduction=tf.keras.losses.Reduction.NONE)\n",
        "\n",
        "def compute_loss(labels, predictions):\n",
        "  per_example_loss = loss_object(labels, predictions)\n",
        "  return tf.nn.compute_average_loss(per_example_loss, global_batch_size=global_batch_size)\n",
        "\n",
        "def train_step(inputs):\n",
        "  features, labels = inputs\n",
        "\n",
        "  with tf.GradientTape() as tape:\n",
        "    predictions = model(features, training=True)\n",
        "    loss = compute_loss(labels, predictions)\n",
        "\n",
        "  gradients = tape.gradient(loss, model.trainable_variables)\n",
        "  optimizer.apply_gradients(zip(gradients, model.trainable_variables))\n",
        "  return loss\n",
        "\n",
        "@tf.function\n",
        "def distributed_train_step(dist_inputs):\n",
        "  per_replica_losses = mirrored_strategy.run(train_step, args=(dist_inputs,))\n",
        "  return mirrored_strategy.reduce(tf.distribute.ReduceOp.SUM, per_replica_losses,\n",
        "                         axis=None)"
      ],
      "execution_count": null,
      "outputs": []
    },
    {
      "cell_type": "markdown",
      "metadata": {
        "id": "yRL5u_NLoTvq"
      },
      "source": [
        "A few other things to note in the code above:\n",
        "\n",
        "1. It used `tf.nn.compute_average_loss` to compute the loss. `tf.nn.compute_average_loss` sums the per example loss and divide the sum by the global_batch_size. This is important because later after the gradients are calculated on each replica, they are aggregated across the replicas by **summing** them.\n",
        "2. It used the `tf.distribute.Strategy.reduce` API to aggregate the results returned by `tf.distribute.Strategy.run`. `tf.distribute.Strategy.run` returns results from each local replica in the strategy, and there are multiple ways to consume this result. You can `reduce` them to get an aggregated value. You can also do `tf.distribute.Strategy.experimental_local_results` to get the list of values contained in the result, one per local replica.\n",
        "3. When `apply_gradients` is called within a distribution strategy scope, its behavior is modified. Specifically, before applying gradients on each parallel instance during synchronous training, it performs a sum-over-all-replicas of the gradients.\n"
      ]
    },
    {
      "cell_type": "markdown",
      "metadata": {
        "id": "o9k_6-6vpQ-P"
      },
      "source": [
        "Finally, once you have defined the training step, we can iterate over `dist_dataset` and run the training in a loop:"
      ]
    },
    {
      "cell_type": "code",
      "metadata": {
        "id": "Egq9eufToRf6"
      },
      "source": [
        "for dist_inputs in dist_dataset:\n",
        "  print(distributed_train_step(dist_inputs))"
      ],
      "execution_count": null,
      "outputs": []
    },
    {
      "cell_type": "markdown",
      "metadata": {
        "id": "jK8eQXF_q1Zs"
      },
      "source": [
        "In the example above, you iterated over the `dist_dataset` to provide input to your training. We also provide the  `tf.distribute.Strategy.make_experimental_numpy_dataset` to support numpy inputs. You can use this API to create a dataset before calling `tf.distribute.Strategy.experimental_distribute_dataset`.\n",
        "\n",
        "Another way of iterating over your data is to explicitly use iterators. You may want to do this when you want to run for a given number of steps as opposed to iterating over the entire dataset.\n",
        "The above iteration would now be modified to first create an iterator and then explicitly call `next` on it to get the input data.\n"
      ]
    },
    {
      "cell_type": "code",
      "metadata": {
        "id": "e5BEvR0-LJAc"
      },
      "source": [
        "iterator = iter(dist_dataset)\n",
        "for _ in range(10):\n",
        "  print(distributed_train_step(next(iterator)))"
      ],
      "execution_count": null,
      "outputs": []
    },
    {
      "cell_type": "markdown",
      "metadata": {
        "id": "vDJO8mnypqBA"
      },
      "source": [
        "This covers the simplest case of using `tf.distribute.Strategy` API to distribute custom training loops."
      ]
    },
    {
      "cell_type": "markdown",
      "metadata": {
        "id": "BZjNwCt1qBdw"
      },
      "source": [
        "### What's supported now?\n",
        "\n",
        "| Training API          \t| MirroredStrategy  \t| TPUStrategy       \t| MultiWorkerMirroredStrategy \t| ParameterServerStrategy \t| CentralStorageStrategy \t| \n",
        "|:-----------------------\t|:-------------------\t|:-------------------\t|:-----------------------------\t|:------------------------\t|:-------------------------\t|\n",
        "| Custom Training Loop  \t|  Supported \t| Supported \t| Experimental support   \t| Experimental support \t| Experimental support        \t|\n",
        "\n",
        "### Examples and Tutorials\n",
        "Here are some examples for using distribution strategy with custom training loops:\n",
        "\n",
        "1. [Tutorial](https://www.tensorflow.org/tutorials/distribute/custom_training) to train MNIST using `MirroredStrategy`.\n",
        "2. [Guide](https://www.tensorflow.org/guide/tpu#train_a_model_using_custom_training_loop) on training MNIST using `TPUStrategy`.\n",
        "3. TensorFlow Model Garden [repository](https://github.com/tensorflow/models/tree/master/official) containing collections of state-of-the-art models implemented using various strategies.\n"
      ]
    },
    {
      "cell_type": "markdown",
      "metadata": {
        "id": "Xk0JdsTHyUnE"
      },
      "source": [
        "## Other topics\n",
        "\n",
        "This section covers some topics that are relevant to multiple use cases."
      ]
    },
    {
      "cell_type": "markdown",
      "metadata": {
        "id": "hvZOgb_yw7l9"
      },
      "source": [
        ""
      ]
    },
    {
      "cell_type": "markdown",
      "metadata": {
        "id": "cP6BUIBtudRk"
      },
      "source": [
        "<a name=\"TF_CONFIG\"></a>\n",
        "### Setting up TF\\_CONFIG environment variable\n",
        "\n",
        "For multi-worker training, as mentioned before, you need to set `TF_CONFIG` environment variable for each\n",
        "binary running in your cluster. The `TF_CONFIG` environment variable is a JSON string which specifies what\n",
        "tasks constitute a cluster, their addresses and each task's role in the cluster.  The\n",
        "[tensorflow/ecosystem](https://github.com/tensorflow/ecosystem) repo provides a Kubernetes template in which sets\n",
        "`TF_CONFIG` for your training tasks.\n",
        "\n",
        "There are two components of TF_CONFIG: cluster and task. cluster provides information about the training cluster, which is a dict consisting of different types of jobs such as worker. In multi-worker training, there is usually one worker that takes on a little more responsibility like saving checkpoint and writing summary file for TensorBoard in addition to what a regular worker does. Such worker is referred to as the 'chief' worker, and it is customary that the worker with index 0 is appointed as the chief worker (in fact this is how tf.distribute.Strategy is implemented). task on the other hand provides information of the current task. The first component cluster is the same for all workers, and the second component task is different on each worker and specifies the type and index of that worker.\n",
        "\n",
        "One example of `TF_CONFIG` is:\n",
        "```\n",
        "os.environ[\"TF_CONFIG\"] = json.dumps({\n",
        "    \"cluster\": {\n",
        "        \"worker\": [\"host1:port\", \"host2:port\", \"host3:port\"],\n",
        "        \"ps\": [\"host4:port\", \"host5:port\"]\n",
        "    },\n",
        "   \"task\": {\"type\": \"worker\", \"index\": 1}\n",
        "})\n",
        "```\n"
      ]
    },
    {
      "cell_type": "markdown",
      "metadata": {
        "id": "fezd3aF8wj9r"
      },
      "source": [
        "This `TF_CONFIG` specifies that there are three workers and two ps tasks in the\n",
        "cluster along with their hosts and ports. The \"task\" part specifies that the\n",
        "role of the current task in the cluster, worker 1 (the second worker). Valid roles in a cluster is\n",
        "\"chief\", \"worker\", \"ps\" and \"evaluator\". There should be no \"ps\" job except when using `tf.distribute.experimental.ParameterServerStrategy`."
      ]
    },
    {
      "cell_type": "markdown",
      "metadata": {
        "id": "GXIbqSW-sFVg"
      },
      "source": [
        "## What's next?\n",
        "\n",
        "`tf.distribute.Strategy` is actively under development. Try it out and provide and your feedback using [GitHub issues](https://github.com/tensorflow/tensorflow/issues/new)."
      ]
    }
  ]
}